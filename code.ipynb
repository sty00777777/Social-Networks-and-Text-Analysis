{
 "cells": [
  {
   "cell_type": "code",
   "execution_count": 1,
   "metadata": {},
   "outputs": [],
   "source": [
    "import networkx as nx\n",
    "import matplotlib.pyplot as plt\n",
    "import pandas as pd\n",
    "from itertools import combinations\n",
    "from collections import Counter\n",
    "import plotly.graph_objects as go\n",
    "from plotly.subplots import make_subplots\n",
    "import seaborn as sns\n",
    "plt.rcParams['font.sans-serif'] = ['SimHei']  # 用来正常显示中文标签\n",
    "plt.rcParams['axes.unicode_minus'] = False  #"
   ]
  },
  {
   "cell_type": "code",
   "execution_count": 2,
   "metadata": {},
   "outputs": [],
   "source": [
    "# 导入数据\n",
    "edge_df = pd.read_csv('data/the-marvel-universe-social-network/edges.csv') # Edges\n",
    "hero_net_df = pd.read_csv('data/the-marvel-universe-social-network/hero-network.csv') # Hero\n",
    "node_df = pd.read_csv('data/the-marvel-universe-social-network/nodes.csv') # Nodes"
   ]
  },
  {
   "cell_type": "code",
   "execution_count": 3,
   "metadata": {},
   "outputs": [
    {
     "name": "stdout",
     "output_type": "stream",
     "text": [
      "漫画卷数 12651\n",
      "人物数量 6439\n"
     ]
    }
   ],
   "source": [
    "# 探索漫画卷数和人物数量\n",
    "print('漫画卷数',len(node_df[node_df['type'] == 'comic']))\n",
    "print('人物数量',len(node_df[node_df['type'] == 'hero']))"
   ]
  },
  {
   "cell_type": "code",
   "execution_count": 4,
   "metadata": {},
   "outputs": [
    {
     "data": {
      "text/html": [
       "<div>\n",
       "<style scoped>\n",
       "    .dataframe tbody tr th:only-of-type {\n",
       "        vertical-align: middle;\n",
       "    }\n",
       "\n",
       "    .dataframe tbody tr th {\n",
       "        vertical-align: top;\n",
       "    }\n",
       "\n",
       "    .dataframe thead th {\n",
       "        text-align: right;\n",
       "    }\n",
       "</style>\n",
       "<table border=\"1\" class=\"dataframe\">\n",
       "  <thead>\n",
       "    <tr style=\"text-align: right;\">\n",
       "      <th></th>\n",
       "      <th>hero</th>\n",
       "      <th>comic</th>\n",
       "    </tr>\n",
       "  </thead>\n",
       "  <tbody>\n",
       "    <tr>\n",
       "      <th>0</th>\n",
       "      <td>24-HOUR MAN/EMMANUEL</td>\n",
       "      <td>AA2 35</td>\n",
       "    </tr>\n",
       "    <tr>\n",
       "      <th>1</th>\n",
       "      <td>3-D MAN/CHARLES CHAN</td>\n",
       "      <td>AVF 4</td>\n",
       "    </tr>\n",
       "    <tr>\n",
       "      <th>2</th>\n",
       "      <td>3-D MAN/CHARLES CHAN</td>\n",
       "      <td>AVF 5</td>\n",
       "    </tr>\n",
       "    <tr>\n",
       "      <th>3</th>\n",
       "      <td>3-D MAN/CHARLES CHAN</td>\n",
       "      <td>COC 1</td>\n",
       "    </tr>\n",
       "    <tr>\n",
       "      <th>4</th>\n",
       "      <td>3-D MAN/CHARLES CHAN</td>\n",
       "      <td>H2 251</td>\n",
       "    </tr>\n",
       "  </tbody>\n",
       "</table>\n",
       "</div>"
      ],
      "text/plain": [
       "                   hero   comic\n",
       "0  24-HOUR MAN/EMMANUEL  AA2 35\n",
       "1  3-D MAN/CHARLES CHAN   AVF 4\n",
       "2  3-D MAN/CHARLES CHAN   AVF 5\n",
       "3  3-D MAN/CHARLES CHAN   COC 1\n",
       "4  3-D MAN/CHARLES CHAN  H2 251"
      ]
     },
     "metadata": {},
     "output_type": "display_data"
    },
    {
     "data": {
      "text/html": [
       "<div>\n",
       "<style scoped>\n",
       "    .dataframe tbody tr th:only-of-type {\n",
       "        vertical-align: middle;\n",
       "    }\n",
       "\n",
       "    .dataframe tbody tr th {\n",
       "        vertical-align: top;\n",
       "    }\n",
       "\n",
       "    .dataframe thead th {\n",
       "        text-align: right;\n",
       "    }\n",
       "</style>\n",
       "<table border=\"1\" class=\"dataframe\">\n",
       "  <thead>\n",
       "    <tr style=\"text-align: right;\">\n",
       "      <th></th>\n",
       "      <th>hero1</th>\n",
       "      <th>hero2</th>\n",
       "    </tr>\n",
       "  </thead>\n",
       "  <tbody>\n",
       "    <tr>\n",
       "      <th>0</th>\n",
       "      <td>LITTLE, ABNER</td>\n",
       "      <td>PRINCESS ZANDA</td>\n",
       "    </tr>\n",
       "    <tr>\n",
       "      <th>1</th>\n",
       "      <td>LITTLE, ABNER</td>\n",
       "      <td>BLACK PANTHER/T'CHAL</td>\n",
       "    </tr>\n",
       "    <tr>\n",
       "      <th>2</th>\n",
       "      <td>BLACK PANTHER/T'CHAL</td>\n",
       "      <td>PRINCESS ZANDA</td>\n",
       "    </tr>\n",
       "    <tr>\n",
       "      <th>3</th>\n",
       "      <td>LITTLE, ABNER</td>\n",
       "      <td>PRINCESS ZANDA</td>\n",
       "    </tr>\n",
       "    <tr>\n",
       "      <th>4</th>\n",
       "      <td>LITTLE, ABNER</td>\n",
       "      <td>BLACK PANTHER/T'CHAL</td>\n",
       "    </tr>\n",
       "  </tbody>\n",
       "</table>\n",
       "</div>"
      ],
      "text/plain": [
       "                  hero1                 hero2\n",
       "0         LITTLE, ABNER        PRINCESS ZANDA\n",
       "1         LITTLE, ABNER  BLACK PANTHER/T'CHAL\n",
       "2  BLACK PANTHER/T'CHAL        PRINCESS ZANDA\n",
       "3         LITTLE, ABNER        PRINCESS ZANDA\n",
       "4         LITTLE, ABNER  BLACK PANTHER/T'CHAL"
      ]
     },
     "metadata": {},
     "output_type": "display_data"
    },
    {
     "data": {
      "text/html": [
       "<div>\n",
       "<style scoped>\n",
       "    .dataframe tbody tr th:only-of-type {\n",
       "        vertical-align: middle;\n",
       "    }\n",
       "\n",
       "    .dataframe tbody tr th {\n",
       "        vertical-align: top;\n",
       "    }\n",
       "\n",
       "    .dataframe thead th {\n",
       "        text-align: right;\n",
       "    }\n",
       "</style>\n",
       "<table border=\"1\" class=\"dataframe\">\n",
       "  <thead>\n",
       "    <tr style=\"text-align: right;\">\n",
       "      <th></th>\n",
       "      <th>node</th>\n",
       "      <th>type</th>\n",
       "    </tr>\n",
       "  </thead>\n",
       "  <tbody>\n",
       "    <tr>\n",
       "      <th>0</th>\n",
       "      <td>2001 10</td>\n",
       "      <td>comic</td>\n",
       "    </tr>\n",
       "    <tr>\n",
       "      <th>1</th>\n",
       "      <td>2001 8</td>\n",
       "      <td>comic</td>\n",
       "    </tr>\n",
       "    <tr>\n",
       "      <th>2</th>\n",
       "      <td>2001 9</td>\n",
       "      <td>comic</td>\n",
       "    </tr>\n",
       "    <tr>\n",
       "      <th>3</th>\n",
       "      <td>24-HOUR MAN/EMMANUEL</td>\n",
       "      <td>hero</td>\n",
       "    </tr>\n",
       "    <tr>\n",
       "      <th>4</th>\n",
       "      <td>3-D MAN/CHARLES CHAN</td>\n",
       "      <td>hero</td>\n",
       "    </tr>\n",
       "  </tbody>\n",
       "</table>\n",
       "</div>"
      ],
      "text/plain": [
       "                   node   type\n",
       "0               2001 10  comic\n",
       "1                2001 8  comic\n",
       "2                2001 9  comic\n",
       "3  24-HOUR MAN/EMMANUEL   hero\n",
       "4  3-D MAN/CHARLES CHAN   hero"
      ]
     },
     "metadata": {},
     "output_type": "display_data"
    }
   ],
   "source": [
    "# 数据初探\n",
    "display(edge_df.head())\n",
    "display(hero_net_df.head())\n",
    "display(node_df.head())"
   ]
  },
  {
   "cell_type": "code",
   "execution_count": 5,
   "metadata": {},
   "outputs": [
    {
     "data": {
      "text/html": [
       "<div>\n",
       "<style scoped>\n",
       "    .dataframe tbody tr th:only-of-type {\n",
       "        vertical-align: middle;\n",
       "    }\n",
       "\n",
       "    .dataframe tbody tr th {\n",
       "        vertical-align: top;\n",
       "    }\n",
       "\n",
       "    .dataframe thead th {\n",
       "        text-align: right;\n",
       "    }\n",
       "</style>\n",
       "<table border=\"1\" class=\"dataframe\">\n",
       "  <thead>\n",
       "    <tr style=\"text-align: right;\">\n",
       "      <th></th>\n",
       "      <th>edges.csv</th>\n",
       "      <th>hero-network.csv</th>\n",
       "    </tr>\n",
       "  </thead>\n",
       "  <tbody>\n",
       "    <tr>\n",
       "      <th>0</th>\n",
       "      <td>BEACH, SPIDER</td>\n",
       "      <td>BEACH, SPIDER</td>\n",
       "    </tr>\n",
       "    <tr>\n",
       "      <th>1</th>\n",
       "      <td>BLOOD SPIDER/</td>\n",
       "      <td>BLOOD SPIDER/</td>\n",
       "    </tr>\n",
       "    <tr>\n",
       "      <th>2</th>\n",
       "      <td>MAN-SPIDER CLONE | M</td>\n",
       "      <td>MAN-SPIDER CLONE | M</td>\n",
       "    </tr>\n",
       "    <tr>\n",
       "      <th>3</th>\n",
       "      <td>MAN-SPIDER | MUTANT</td>\n",
       "      <td>MAN-SPIDER | MUTANT</td>\n",
       "    </tr>\n",
       "    <tr>\n",
       "      <th>4</th>\n",
       "      <td>SPIDER-MAN CLONE/BEN</td>\n",
       "      <td>SPIDER-MAN CLONE/BEN</td>\n",
       "    </tr>\n",
       "    <tr>\n",
       "      <th>5</th>\n",
       "      <td>SPIDER-MAN III/MARTH</td>\n",
       "      <td>SPIDER-MAN III/MARTH</td>\n",
       "    </tr>\n",
       "    <tr>\n",
       "      <th>6</th>\n",
       "      <td>SPIDER-MAN/PETER PARKER</td>\n",
       "      <td>SPIDER-MAN/PETER PAR</td>\n",
       "    </tr>\n",
       "    <tr>\n",
       "      <th>7</th>\n",
       "      <td>SPIDER-WOMAN DOPPELG</td>\n",
       "      <td>SPIDER-WOMAN DOPPELG</td>\n",
       "    </tr>\n",
       "    <tr>\n",
       "      <th>8</th>\n",
       "      <td>SPIDER-WOMAN II/JULI</td>\n",
       "      <td>SPIDER-WOMAN II/JULI</td>\n",
       "    </tr>\n",
       "    <tr>\n",
       "      <th>9</th>\n",
       "      <td>SPIDER-WOMAN IV/CHAR</td>\n",
       "      <td>SPIDER-WOMAN IV/CHAR</td>\n",
       "    </tr>\n",
       "    <tr>\n",
       "      <th>10</th>\n",
       "      <td>SPIDER-WOMAN/JESSICA</td>\n",
       "      <td>SPIDER-WOMAN/JESSICA</td>\n",
       "    </tr>\n",
       "    <tr>\n",
       "      <th>11</th>\n",
       "      <td>SPIDERCIDE</td>\n",
       "      <td>SPIDERCIDE</td>\n",
       "    </tr>\n",
       "    <tr>\n",
       "      <th>12</th>\n",
       "      <td>STEEL SPIDER/OLLIE O</td>\n",
       "      <td>STEEL SPIDER/OLLIE O</td>\n",
       "    </tr>\n",
       "  </tbody>\n",
       "</table>\n",
       "</div>"
      ],
      "text/plain": [
       "                  edges.csv      hero-network.csv\n",
       "0             BEACH, SPIDER         BEACH, SPIDER\n",
       "1             BLOOD SPIDER/         BLOOD SPIDER/\n",
       "2      MAN-SPIDER CLONE | M  MAN-SPIDER CLONE | M\n",
       "3       MAN-SPIDER | MUTANT  MAN-SPIDER | MUTANT \n",
       "4      SPIDER-MAN CLONE/BEN  SPIDER-MAN CLONE/BEN\n",
       "5      SPIDER-MAN III/MARTH  SPIDER-MAN III/MARTH\n",
       "6   SPIDER-MAN/PETER PARKER  SPIDER-MAN/PETER PAR\n",
       "7      SPIDER-WOMAN DOPPELG  SPIDER-WOMAN DOPPELG\n",
       "8      SPIDER-WOMAN II/JULI  SPIDER-WOMAN II/JULI\n",
       "9      SPIDER-WOMAN IV/CHAR  SPIDER-WOMAN IV/CHAR\n",
       "10     SPIDER-WOMAN/JESSICA  SPIDER-WOMAN/JESSICA\n",
       "11               SPIDERCIDE            SPIDERCIDE\n",
       "12     STEEL SPIDER/OLLIE O  STEEL SPIDER/OLLIE O"
      ]
     },
     "metadata": {},
     "output_type": "display_data"
    },
    {
     "name": "stdout",
     "output_type": "stream",
     "text": [
      "hero1 name max in hero-network.csv : 20\n",
      "hero2 name max in hero-network.csv : 20\n"
     ]
    }
   ],
   "source": [
    "# 数据预处理转化\n",
    "temp = pd.DataFrame({'edges.csv':sorted([h for h in edge_df['hero'].unique() if 'SPIDER' in h]),\n",
    "                     'hero-network.csv':sorted([h for h in hero_net_df['hero1'].unique() if 'SPIDER' in h])})\n",
    "\n",
    "display(temp)\n",
    "\n",
    "for c in ['hero1', 'hero2']:\n",
    "    print(f\"{c} name max in hero-network.csv : {max(hero_net_df[c].apply(lambda x : len(x)))}\")\n",
    "    \n",
    "\n",
    "# Name Preprocessing\n",
    "## only use len 20 & only use left string bas on \"/\"\n",
    "for c in ['hero1', 'hero2']:\n",
    "    hero_net_df[c] = hero_net_df[c].apply(lambda x : x[:20].split(\"/\")[0])\n",
    "edge_df['hero'] = edge_df['hero'].apply(lambda x : x[:20].split(\"/\")[0])"
   ]
  },
  {
   "cell_type": "code",
   "execution_count": 6,
   "metadata": {},
   "outputs": [
    {
     "name": "stdout",
     "output_type": "stream",
     "text": [
      "SPIDER & HULK in hero-network.csv\n",
      "hero1=SPIDER-MAN, hero2=HULK : 43\n",
      "hero1=HULK, hero2=SPIDER-MAN : 50\n",
      "Intersection in edges.csv : 93\n"
     ]
    }
   ],
   "source": [
    "# 验证\n",
    "print(\"SPIDER & HULK in hero-network.csv\")\n",
    "print(f\"hero1=SPIDER-MAN, hero2=HULK : {len(hero_net_df[(hero_net_df['hero1']=='SPIDER-MAN')&(hero_net_df['hero2']=='HULK')])}\")\n",
    "print(f\"hero1=HULK, hero2=SPIDER-MAN : {len(hero_net_df[(hero_net_df['hero2']=='SPIDER-MAN')&(hero_net_df['hero1']=='HULK')])}\")\n",
    "\n",
    "temp1 = set(edge_df[edge_df['hero']=='SPIDER-MAN']['comic'])\n",
    "temp2 = set(edge_df[edge_df['hero']=='HULK']['comic'])\n",
    "print(f\"Intersection in edges.csv : {len(temp1.intersection(temp2))}\")"
   ]
  },
  {
   "cell_type": "code",
   "execution_count": 37,
   "metadata": {},
   "outputs": [],
   "source": [
    "# 构建全体节点数据集\n",
    "marvel_net_full = nx.Graph() \n",
    "for i, row in hero_net_df.iterrows():\n",
    "    marvel_net_full.add_edge(row['hero1'], row['hero2'])  \n",
    "# 只需运行到这里就可以了"
   ]
  },
  {
   "cell_type": "code",
   "execution_count": 8,
   "metadata": {},
   "outputs": [
    {
     "name": "stdout",
     "output_type": "stream",
     "text": [
      "节点数量： 6418\n",
      "边数量： 167203\n",
      "连通片数量： 4\n",
      "网络密度： 0.008119743477041958\n",
      "网络的聚类系数： 0.7743922455957101\n",
      "平均度： 52.10439389217825\n",
      "平均余度： 333.616628774077\n",
      "度相关系数： -0.16200719989165444\n"
     ]
    }
   ],
   "source": [
    "# 输出网络拓扑性质\n",
    "G = marvel_net_full\n",
    "node_count = len(G.nodes)\n",
    "print(\"节点数量：\", node_count)\n",
    "edge_count = len(G.edges)\n",
    "print(\"边数量：\", edge_count)\n",
    "connected_components = nx.number_connected_components(G)\n",
    "print(\"连通片数量：\", connected_components)\n",
    "density = nx.density(G)\n",
    "print(\"网络密度：\", density)\n",
    "clustering_coefficient = nx.average_clustering(G)\n",
    "print(\"网络的聚类系数：\", clustering_coefficient)\n",
    "average_degree = sum(dict(G.degree()).values()) / len(G)\n",
    "print(\"平均度：\", average_degree)\n",
    "average_neighbor_degree = nx.average_neighbor_degree(G)\n",
    "average_clustering_degree = nx.average_clustering(G)\n",
    "average_redundancy = sum(average_neighbor_degree.values()) / len(average_neighbor_degree) - average_clustering_degree\n",
    "print(\"平均余度：\", average_redundancy)\n",
    "degree_assortativity_coefficient = nx.degree_assortativity_coefficient(G)\n",
    "print(\"度相关系数：\", degree_assortativity_coefficient)"
   ]
  },
  {
   "cell_type": "code",
   "execution_count": 11,
   "metadata": {},
   "outputs": [
    {
     "data": {
      "image/png": "[encoded data removed]",
      "text/plain": [
       "<Figure size 800x400 with 1 Axes>"
      ]
     },
     "metadata": {},
     "output_type": "display_data"
    }
   ],
   "source": [
    "# 自定义配色方案\n",
    "colors = ['#0088b4']\n",
    "\n",
    "G_D = pd.DataFrame(G.degree())  # 将展示形式变为Dataframe\n",
    "G_D.columns = ['node', 'degree']  # 重命名列名，默认为0，1\n",
    "\n",
    "plt.figure(figsize=(8, 4))  # 设置图形大小\n",
    "\n",
    "plt.hist(G_D['degree'], density=True, bins=20, color=colors)  # 绘制直方图，设置密度为True，分为40个箱子，使用自定义配色方案\n",
    "\n",
    "# 添加x轴和y轴标签\n",
    "plt.xlabel('度数', fontsize=12)\n",
    "plt.ylabel('密度', fontsize=12)\n",
    "\n",
    "plt.tick_params(axis='both', which='both', labelsize=10)  # 调整刻度标签的字体大小\n",
    "\n",
    "plt.show()  # 显示图形"
   ]
  },
  {
   "cell_type": "code",
   "execution_count": 87,
   "metadata": {},
   "outputs": [
    {
     "name": "stdout",
     "output_type": "stream",
     "text": [
      "美国队长的度为: 1908\n",
      "TAKU的度为: 38\n"
     ]
    }
   ],
   "source": [
    "# 美国队长的度和某个小垃圾的度\n",
    "# 查询美国队长的度\n",
    "degree = G.degree('CAPTAIN AMERICA')\n",
    "print(\"美国队长的度为:\", degree)\n",
    "\n",
    "\n",
    "degree2 = G.degree('TAKU')\n",
    "print(\"TAKU的度为:\", degree2)"
   ]
  },
  {
   "cell_type": "code",
   "execution_count": 69,
   "metadata": {},
   "outputs": [],
   "source": [
    "df = pd.DataFrame(columns=[\"节点数量\",\"边数量\",\"连通片数量\", \"网络密度\", \"平均最短路径长度\", \"网络直径\", \"网络的聚类系数\", \"平均度\", \"平均余度\", \"度相关系数\"])\n",
    "df.loc[0] = [node_count, edge_count, connected_components, density, '-' , 'inf', clustering_coefficient, average_degree, average_redundancy, degree_assortativity_coefficient]\n",
    "\n",
    "# 将 DataFrame 写入 CSV 文件\n",
    "# df.to_excel(\"topology_metrics.xlsx\", index=False)"
   ]
  },
  {
   "cell_type": "code",
   "execution_count": 14,
   "metadata": {},
   "outputs": [
    {
     "name": "stdout",
     "output_type": "stream",
     "text": [
      "                Friend  Adamic-Adar\n",
      "0              BANSHEE    42.698611\n",
      "1       THUNDERBIRD II    32.870589\n",
      "2            BLACK CAT    27.849381\n",
      "3                SIRYN    25.387650\n",
      "4     COUNTERWEIGHT II    24.478196\n",
      "...                ...          ...\n",
      "4890              SHOT     0.000000\n",
      "4891          STAMPEDE     0.000000\n",
      "4892         BOMBADIER     0.000000\n",
      "4893             CLASH     0.000000\n",
      "4894           CORDITE     0.000000\n",
      "\n",
      "[4895 rows x 2 columns]\n"
     ]
    }
   ],
   "source": [
    "# 局部相似性\n",
    "import networkx as nx\n",
    "import pandas as pd\n",
    "import math\n",
    "\n",
    "def recommend_friends(G, node):\n",
    "    scores = []\n",
    "    neighbors = list(G.neighbors(node))\n",
    "    \n",
    "    for n in G.nodes():\n",
    "        if n == node or G.has_edge(node, n):\n",
    "            continue\n",
    "        \n",
    "        score = sum(1 / math.log(G.degree(neighbor)) for neighbor in nx.common_neighbors(G, node, n))\n",
    "        scores.append((n, score))\n",
    "    \n",
    "    scores.sort(key=lambda x: x[1], reverse=True)\n",
    "    df = pd.DataFrame(scores, columns=['Friend', 'Adamic-Adar'])\n",
    "    \n",
    "    return df\n",
    "\n",
    "\n",
    "node = 'IRON MAN'\n",
    "recommended_friends_df = recommend_friends(G, node)\n",
    "print(recommended_friends_df)\n",
    "#recommended_friends_df.to_excel('recommended_friends_df.xlsx',index = False)"
   ]
  },
  {
   "cell_type": "code",
   "execution_count": 18,
   "metadata": {},
   "outputs": [
    {
     "name": "stderr",
     "output_type": "stream",
     "text": [
      "C:\\Users\\sty007\\AppData\\Local\\Temp\\ipykernel_4844\\3367566985.py:1: FutureWarning: adjacency_matrix will return a scipy.sparse array instead of a matrix in Networkx 3.0.\n",
      "  A=nx.adjacency_matrix(G)\n"
     ]
    },
    {
     "name": "stdout",
     "output_type": "stream",
     "text": [
      "矩阵形状为 (6418, 6418)\n",
      "[[ 22  10   9 ...   0   0   0]\n",
      " [ 10  11   6 ...   0   0   0]\n",
      " [  9   6 711 ...   3   5   5]\n",
      " ...\n",
      " [  0   0   3 ...  10   2   2]\n",
      " [  0   0   5 ...   2  11   9]\n",
      " [  0   0   5 ...   2   9  10]]\n"
     ]
    }
   ],
   "source": [
    "A=nx.adjacency_matrix(G)\n",
    "AA = (A*A).todense()\n",
    "print('矩阵形状为',AA.shape)\n",
    "print(AA)"
   ]
  },
  {
   "cell_type": "code",
   "execution_count": 7,
   "metadata": {},
   "outputs": [
    {
     "name": "stderr",
     "output_type": "stream",
     "text": [
      "C:\\Users\\sty007\\AppData\\Local\\Temp\\ipykernel_22440\\473018456.py:6: DeprecationWarning: networkx.pagerank_numpy is deprecated and will be removed in NetworkX 3.0, use networkx.pagerank instead.\n",
      "  pr = nx.pagerank_numpy(G)\n",
      "d:\\Applications\\Anaconda3\\lib\\site-packages\\networkx\\algorithms\\link_analysis\\pagerank_alg.py:354: FutureWarning: google_matrix will return an np.ndarray instead of a np.matrix in\n",
      "NetworkX version 3.0.\n",
      "  M = google_matrix(\n"
     ]
    },
    {
     "name": "stdout",
     "output_type": "stream",
     "text": [
      "                Friend  PageRank\n",
      "0           SPIDER-MAN  0.005297\n",
      "1      CAPTAIN AMERICA  0.005134\n",
      "2             IRON MAN  0.004125\n",
      "3            WOLVERINE  0.003872\n",
      "4                THING  0.003687\n",
      "...                ...       ...\n",
      "6413        FIREFLY II  0.000025\n",
      "6414             HO TI  0.000025\n",
      "6415  KURLYCHEK, PATTY  0.000025\n",
      "6416        STAR THIEF  0.000025\n",
      "6417     STERLING, SID  0.000025\n",
      "\n",
      "[6418 rows x 2 columns]\n"
     ]
    }
   ],
   "source": [
    "import networkx as nx\n",
    "import pandas as pd\n",
    "\n",
    "G = marvel_net_full\n",
    "def recommend_friends(G, node):\n",
    "    pr = nx.pagerank_numpy(G)\n",
    "    pr_sorted = sorted(pr.items(), key=lambda x: x[1], reverse=True)\n",
    "    df = pd.DataFrame(pr_sorted, columns=['Friend', 'PageRank'])\n",
    "    \n",
    "    return df\n",
    "node = 'IRON MAN'\n",
    "recommended_friends_df_2 = recommend_friends(G, node)\n",
    "print(recommended_friends_df_2)\n",
    "\n",
    "# recommended_friends_df_2.to_excel('recommended_friends_df_2.xlsx',index = False)"
   ]
  },
  {
   "attachments": {},
   "cell_type": "markdown",
   "metadata": {},
   "source": [
    "#### 社区发现"
   ]
  },
  {
   "cell_type": "code",
   "execution_count": 8,
   "metadata": {},
   "outputs": [],
   "source": [
    "import time\n",
    "G = marvel_net_full"
   ]
  },
  {
   "cell_type": "code",
   "execution_count": 14,
   "metadata": {},
   "outputs": [
    {
     "name": "stdout",
     "output_type": "stream",
     "text": [
      "<class 'list'>\n",
      "frozenset({'GIGANTO', 'ZAPPER, DAN', 'SLITHER', 'CHESNEY, SANFORD', 'PAST MASTER', 'MASTER', 'PHOBOS', 'DROMEDAN', 'TEFRAL', 'FER DE LANCE', 'VINDIKTOR', 'ATOM SMASHER', 'TRAPSTER', 'MR. FANTASTIC DOPPEL', 'SVAROG', 'CAPTAIN MARVEL', 'REAGAN, NANCY', 'MASTERS, ALICIA REIS', 'NOX', 'DEMITRIUS', 'JUDGE KRAY-TOR', 'MINERVA [KREE]', 'RICHARDS, FRANKLINK ', 'COBRA', 'BLACKWOOD, JENNY', 'FREDERICKS, GENERAL', 'SUAREZ, RAPHAEL', 'ULTIMATOR', 'BLOODAXE', 'MROTH', 'SUPREME INTELLIGENCE', 'ALIOTH', 'FEAR EATER', 'UNDERTOW', 'WOLMAN, GIDEON', 'ARBOGAST, BAMBI', 'GRIFFIN II', 'FATHER TIME', 'JONES, MARLO CHANDLE', 'CONTROLLER', 'SIBERCAT', 'GYRICH, HENRY PETER', 'STORM DOPPELGANGER I', 'DEPALMA, MR.', 'NOMAD II', 'SISTER AGONY', 'HESCAMAR', 'LUCIFER', 'FANG', 'ENCHANTER', 'CHATTERTON, DAVE', 'COTTONMOUTH II', 'NASH, SABRINA', 'ATTUMA', 'RENKO, DR. IRENO', 'TARNOK-KOL', 'FIRELORD', 'DR. SPECTRUM III', 'SPLICE II', 'PRINCESS PYTHON', 'ARABIAN KNIGHT', 'DEATH ADDER', 'WINDSHEAR', 'CARTER, PEGGY', 'VIRTUAL REALITY', 'GIGANTUS', 'CAPTAIN AMERICA V', 'DRAGONA', 'TASKMASTER', 'CRIMSON DYNAMO II', 'JACOBS, GLENDA', 'ALEXANDER, CARRIE', 'CETHLANN', 'PECOS BILL', 'RED RAVEN II', 'LEVAN', 'LIPTON, MILES', 'KUKULCAN', 'GILBERT, PROFESSOR G', 'SLAG', 'SAGITTARIUS', 'HSU, CHEN', 'IRON MAN DOPPELGANGE', 'HILDY [ASGARDIAN]', 'BOSHLOVOR', 'DEANGELO, DEVLIN', 'ROGERS, W.T.', 'HUMAN ROBOT', 'GAUNT, OFFICER KIM', 'BRUTUS', 'PRAZNIKI, ANNIE', 'ADORA', 'MINDSINGER', 'CRYSTAL [INHUMAN]', 'COOPER, TERI', 'HATE-MONGER II', 'KANE, LARRY', 'CANTOR, VERA', 'EDITOR', 'BUTTONS', 'PROFESSOR X DOPPELGA', 'ANGEL DOPPELGANGER', 'SCYLLA', 'DR. DECIBEL', 'GARGOYLE II', 'HUNTARA', 'WEBSTER, NORM', 'FLYING DUTCHMAN', 'CRUCIBLE', 'RAT', \"D'SPRYTE\", 'FARGO, FLAGG', 'BYRNE, JOHN', 'BURKE, THERESA TRACY', 'LUMPKIN, WILHEMINA B', 'STARK, MARIA | TIMES', 'CLINTON, CHELSEA', 'HEIMDALL [ASGARDIAN]', 'KORVAC, MICHAEL', 'RED SHIFT', 'COLLECTOR', 'BLACK RACER', 'DANVERS, MRS. JOE', 'KESTRUS', 'BLUR', 'STITCH', 'MOBIUS', 'RYAN, THOMAS', 'TSERRON', 'MINDWAVE', 'HARRIGAN, CHESTER CH', 'RINGER', \"N'DELE\", 'NORRISS, SISTER BARB', 'THOR', 'MCELROY, JAMES', 'CAREGIVER', 'PURPLE MAN', 'HAMIR', 'STILWELL, RON', 'TAGAK', 'KEREM', 'LOR, KONA', 'ROCK', 'BROTHERS GRIMM', 'DIETZ, SUSAN', 'MANELLI, DINO', 'EVANS, DORIS', 'SNAGG', 'GRAY, CHARLES', 'FRIGGA', 'HAMILTON, JEROME', 'QUINN, PAMELA', 'NAUDA', 'FLORES, JAMIE', 'RICHARDS, FRANKLIN B', 'PHARAOH RAMA-TUT', 'SAWYER, GENERAL SAMU', 'POPEYE', 'ROSELLINI, ROBERTA', 'MASTER PANDEMONIUM', 'BLITZKRIEG', 'KAA', 'EARTH-LORD', 'BLACKOUT', 'MIFUNE, DR.', 'AGAMOTTO', 'RAGE', 'SCORPIO', 'TALISMAN II', 'BALLANTINE, KAYLA', 'SILVER SURFER DOPPEL', 'CHONDU', 'GROTESK', 'DEVIL-SLAYER', 'ABRAXAS', 'AVIOS', 'HINKLEY', 'WONDER MAN 2010', 'PULSSUS', 'CAPTAIN HAWK', 'DAN-FARR', 'SIDEWINDER', 'KRUSH', 'HUMAN TORCH', 'IGOR', 'BROTHER TODE', 'SUWAN', 'BLACK PANTHER', 'MAN-BULL', 'VAPOR', 'SYPHONN', 'DRUIG', 'THING DOPPELGANGER', 'MOLTO', 'CASEY', 'GAMORA', 'SAJA', 'MEGATAK', 'NAKKA', 'MERCURY', 'MOON KNIGHT DOPPELGA', 'LAVEAU, MARIE', 'SIF', 'MOONDANCER', 'RIVERS, JERRY', 'CYNAS', 'TRITON', 'LUDI', 'ARSENAL', 'MARGOYLE', 'KARNILLA [ASGARDIAN]', 'ZEUS', 'DAMIAN, MARGO', 'PRIME MOVER', 'WONDER MAN DOPPELGAN', 'MOONGLOW', 'IRONCLAD', 'SUPER SKRULL', 'SUNTURION', 'WALKER, MICKEY', 'VENUS', 'WILFORD, ETHAN', 'CAPTAIN AMERICA IV', 'HEADLOK', 'TAURUS', 'FALCON', 'KARGUL', 'DIEGO, MANUEL', 'WALKER, JILL', 'COWEN, ELAINE', 'STURDY, PROF. KENNET', 'NUADA', 'BLUE STREAK', 'ARACHNE', 'TITANIA II', 'FUJIKAWA, KENJIRO', 'ULYSSES II', 'DAMIAN, DR. DANIEL', 'RASSITANO, MAD DOG', 'CANDLER, OWEN', 'RECORDER II', 'THAMES, SERIPHA', 'MOONSTALKER', 'HESSLER, WOLFGANG', 'EXECUTIONER V', 'CASIOLENA, QUEEN', 'BLISS, MISS', 'SCHOENFELD, ELAINE', 'BLACK TALON', 'MORNING STAR', 'SENTRY 571', 'LOCUST', 'PLEXICO, DET.', 'TILDA', 'MAGDALENE', 'VIRAGO', 'MICAWBER, TRISTRAM', 'CONRAD, LUTHER DUTCH', 'ANTI-VISION', 'BUCHOVITZ, STANLEY &', 'HALFLIFE', 'IRON MAN IV', 'ORKA', 'POPE', 'GAMECOCK', 'BALLANTINE, MR.', 'CLAY, GORDON', 'ISHIMA, DAVID', 'LLYRA', 'KOSHIMA', 'MANSLAUGHTER', 'VAMP', 'SHADOW QUEEN', 'JACK FLAG', 'UNCLE SAM', 'MANIPULATOR', 'KINCAID, JIMMY', 'INSHALLAH, KHALID', 'DR. STRANGE', 'FIZ [SKRULL]', 'SPIRAL II', 'VISION DOPPELGANGER', 'STEM', 'MINOTAUR II', 'CENTURY, TURNER D.', 'RATTLER', 'QUASAR DOPPELGANGER', 'WOO, SONIA', 'GOLDEN ARCHER II', 'REDSTONE', 'THOMAS, ROY', 'SHE-HULK', 'ZAKKA', 'DAHN, FARNOQ', 'CHAPMAN, DEVIN', 'DEMOLITION MAN', 'EROS', 'KARNAK DOPPELGANGER', 'EXECUTIONER III', 'GUNTLY, DAVID', 'TECHNARX', 'CHASIN, MAJOR', 'MAX', 'HARDERMAN, QUENTIN', 'TAE', 'SENSATIONAL HYDRA', 'EQUILIBRIUS', 'WARFIST', 'WRECKER', 'TOLLIVER, SHERIFF JO', 'GREMLIN', 'GHOST', 'MARISTA', 'SANTOS, JOSE', 'SHAITAN, AL', 'ANGKOR', 'MADAME MASQUE III', 'RAINBOW, BECKY', 'ADRIA', 'PELTINO, LT.', 'DEMONSTAFF', 'KINCAID, DR. KEITH', 'INFINITY', 'NICHOLS, LORNA', 'MAJOR MAPLELEAF', 'FLASH', 'SPIDER-WOMAN', 'MICHEL, RAFE', 'COBALT MAN', 'DIXON, GENERAL', 'MADAME MASQUE', 'MANTIS', 'MANDARIN, JAMES', 'OCCULT', 'AURORA', 'VERPOORTEN, JOHN', 'UTGARD-LOKI', 'WANG, LI', 'MARRERO, ED', 'WARRIOR WOMAN', 'SILVER SURFER', 'BEDLAM II', 'WHIZZER II', 'ROBESON, PROFESSOR K', 'STARK, MARIA CARBONE', 'KATOS', \"K'RIN\", 'TAKAR', 'HELLSTROM, VICTORIA', 'BLESSING, MORGANA', 'LEADER', 'MAULER', 'CHAMPION', 'DANSEN MACABRE', 'LITTLETREE, LINDA', 'DONALDSON, LINDA', 'AVRIL, YVETTE', 'KIRIN', 'CARPENTER, LARRY', 'WINGFOOT, WYATT II', 'BENEDICT', 'U-MAN', 'UROC', 'FREEMAN, DEREK', 'CROWLEY, SEN.', 'THERMO II', 'WYRE', 'BALDER [ASGARDIAN]', 'ROSENTHAL, BERNIE', 'VON FRANKENSTEIN, BA', 'BLACK CROW', 'IKARIS', 'DEPAUL, SHIELD SPECI', 'LIPSCOMB, DR. ANGELA', 'QUAGMIRE', 'DIAMOND HEAD', 'TIWAZ', 'ASP II', 'CARINA', 'DRAX', 'ALISTRO', 'HAUPTMANN DEUTSCHLAN', 'TRANTRA', 'NAMELESS ONE II', 'RIDDLEY, HIRAM RAM', 'DR. HYDRO', 'DRAGO, VALERIE', \"O'BRIEN, MICHAEL\", 'TAREE', 'RUBY', 'LUNATIK', 'HELLSCOUT', 'ARKO', 'JAKES, JUDSON', 'WU, SONIA', 'FURY, DAWN', 'TATTERDEMALION', 'TALBOT, GLENN', 'JAMESLEY, ALOYSIUS R', 'SLOAN, JASON', 'ROM, SPACEKNIGHT', 'NOVA', 'HELL-EYES', 'ORIKAL', 'URSULA', 'SENTRY II', 'WALDERS, BEATRICE', 'BRES', 'BARON BRIMSTONE', 'CRUSADER II', 'VOSTOK', 'SONDHEIM, ERICA', 'RAHN, TAMARA', 'PUENTES, DONNA MARIA', 'SANDY', 'NEZARR', 'HOTSHOT', 'SUZIE', 'DORCAS, LEMUEL DR.', 'KREDDICK', 'HUNTSMAN', 'QUAYLE, DAN', 'BUNYAN, PAUL', 'DOUGHBOY', 'ONSLAUGHT II', 'COLOSSUS II DOPPELGA', 'STRIKER, SAM', 'MOTHER SUPERIOR', 'HECATE', 'VAGABOND', 'CAPRICORN', 'MASTER MENACE', 'DEATHURGE', 'POMEROY, SYLVIA', 'GOLDEN-BLADE', \"T'KYLL ALABAR\", 'BLOCKBUSTER', 'NIGHT RIDER', 'CAT MAN', 'KRISTOFF', 'ANCESTOR', 'TUMBLER', 'WILLIAMS, MINDY', 'XANDU', 'DANIELS, BRIE', 'WIZARD OF THE WEST', 'PERSUASION', 'AZRAEL', 'ALLEN, TERRY', 'MANGLER', 'FALCONA [INHUMAN]', 'GANYMEDE', 'WALKER', 'STEED, JOHN', 'AGAMEMNON II', 'VIRAKO', 'ENDO, DR. SUZI', 'FIREBRAND', 'CLOUD', 'JONES, GABE', 'SILVER FOX', 'AKUTAGAWA, OSAMU', 'GALEN KOR, ADMIRAL [', 'LORVEX', 'DUFFY, SGT. MIKE', 'KALMARI', 'MECHAMAGE', 'AJAK', 'MARVEL BOY III', 'TEN FOR', 'CLAYBORNE, REGINA', 'SKULLCRASHER', 'DESTRUCTOR', 'KHATYLIS', 'ANNIHILUS', 'WHYTEOUT', 'SPEEDFREEK', 'ROTH, ARNIE', 'VALINOR', 'JACK OF HEARTS', 'FOXFIRE', 'STONE, TIBERIUS', 'SWORDSMAN III', 'SETH II', 'GHOST RIDER II', 'TRAVERS, MIKE', 'JOHNNY APPLESEED', 'ROSS, GEN. THADDEUS ', 'RIDGE, CHRISTINA DEV', 'HAUPTMAN', 'MARX', 'GARCIA, REV.', 'BETA RAY BILL', 'DEVASTATOR', 'LURKING UNKNOWN', \"B'ARR\", 'GATES, JUNIOR', 'MEPHISTO', 'WOLFMAN, MARV', 'SSSITH', 'DR. STRANGE DOPPELGA', 'LLYRON', 'ONEG', 'MCKNIGHT, BOB', 'LOGA II', 'LADONNA, HOLLY', 'TUC', 'PHANTOM RIDER II', 'DENNIS, MARTY', \"B'GON\", 'DARK CRAWLER', 'QUARTERMAIN, CLAY', 'SAVAGE STEEL II', 'ARON [WATCHER]', 'LEAP-FROG', 'SIGYN', 'THANOS DOPPELGANGER', 'VAUGHAN, MRS.', 'DARK RAIDER', 'BOVA', 'JACKHAMMER', 'MOONDRAGON', 'GODWULF', 'SABRA', 'BELLAM', 'SAVANNAH, LOU-ANN', 'MORGAN, JERROLD JERR', 'PAKAI', 'SOLARR', 'SLOTH', 'MARRS(-PAYNE), PHOEB', 'UATU', 'POWDERKEG II', 'EXECUTIONER', 'HARDY, MORGAN MACNEI', 'SANGRE', 'NUKE', 'DABOIA, RUSSELL', 'SONIC', 'DAKIMH THE ENCHANTER', 'PHINEAS', 'HELLSTORM DOPPELGANG', 'SUPER-ADAPTOID', 'BLACK WIDOW', 'RUIZ, RHYTHM', 'SYBYL DORN', 'MAXIMOFF, DJANGO', 'CUTTHROAT', 'DEKKER, GENERAL LYLE', 'TEMPUS', 'IRON MAN V', 'XEMU', 'SPAULDING, PETER', 'CAT KING', 'LONKARR', 'BRUTE', 'MEPHISITOID', 'NORTHSTAR DOPPELGANG', 'DWELLER IN DARKNESS', 'HARDBALL', 'BEDFORD, BRAD HULK', 'RANDOM', 'CLEMSON, MIKE', 'NEKOBAH, ROMAN', 'CYCLOPS', 'GRIMM, BEN | EARTH-A', 'WHITE, JONATHAN', 'JACKSON, CELIA', 'POLARIS DOPPELGANGER', 'CATAPHRAX', 'TOMAZOOMA', 'KAMO THARNN', 'PARIS', 'ROBERTSON, PROF. BOB', 'WALTERS, CHAP', 'MADAME MASQUE II', 'RIGHT-WINGER', 'RUNCITER, GAIL', 'MINISTER BLOOD', 'MOLECULE MAN', 'BOX IV', 'HATE', 'AGAMEMNON III', 'GARM', 'DESADIA', 'MARTINEZ, CARMELLO', 'DR. SPECTRUM', 'TRITON DOPPELGANGER ', 'VOID', 'VIRGO', 'IN-BETWEENER', 'HELA [ASGARDIAN]', 'MUNDY, SHANE', 'MIRAGE', 'WHIPLASH', 'JOCASTA', 'CONWAY, GERRY', 'WASP', 'SILENT ONE', 'YELLOWJACKET II', 'TENNYSON, JACOB', 'MOSES', 'DORMA II [ATLANTEAN]', 'MR. DOLL', 'DIAMOND LIL', 'ELAMRON', 'SHORR, JACQUELINE', 'REE', 'PRINCESS FEN [ATLANT', 'KUBIK', 'COMPUTO', 'MINXI [INHUMAN]', 'MAD VIKING', 'DIZZIE', 'BAXTER, NOAH', 'VECTOR', 'TREMONT, JONATHAN', 'CLARISSA', 'UNION JACK III', 'SHE-CAT', 'GESTALT', 'SAMHAIN', 'TITAN, TRISH', 'TRIMPE, HERB', 'OGUR', 'PILEDRIVER II', 'HUGIN', 'STERIXIAN, LOATIA', 'ICEMAN', 'DEATH', 'STEVENS, MILO', 'MARLOPOLIS, EDGAR', 'TIGER SHARK', 'VISION ', 'LEE, STAN', 'RETREAD', 'XEMNU', 'GIDEON, CLAIRE', 'NEBULA', 'MERLIN', 'FLAME II', 'NAGA', 'CRAWFORD, GEN.', 'GOBLYN', 'NIXON, RICHARD', 'RED SKULL', 'BEAST DOPPELGANGER', 'DELAZNY, CHARLES L.', 'KRONOS', 'OVERMIND', 'SCRIPPS, LAHOYA', 'HOLDEN, DR. SAMUEL', 'NOVA DOPPELGANGER II', 'BLOOD BROTHERS', 'MALEKITH', 'THERMITE', 'FATH', 'NEKRA', 'KOFI [KYMELLIAN]', 'MENTOR', 'EILIF DRAGONSLAYER', 'BLACK MARVEL', 'ANACONDA', 'PEARSON, AUBREY', 'SCARLOTTI, MICHAEL J', 'MAN-BEAST', 'ARCANNA', 'SANTOS, MARIO', 'SOMMERS, APRIL', 'MACHETE', 'BLACK LAMA', 'HO TI', 'COLLINS, DEMITRIUS', 'LOCKJAW [INHUMAN]', 'STARK, MORGAN', 'SHELDON, PHIL', 'DEAD RINGER', 'YETRIGAR', 'DORMA [ATLANTEAN]', 'DORREK [SKRULL]', 'KA-ZAR', 'SAI', 'NAGALA', 'ZAMORA, PETE', 'KRANG [ATLANTEAN]', 'COLLETTE', 'DRAGONFIST', 'SHANNA', 'PEARSON, MARCY', 'NINGAL', 'SHELLSHOCK', 'THUNDERHEAD', 'KOSINSKI, HARLEY', 'DAVIS, ABBY', \"O'HOOLIHAN, SERGIUS\", 'HERCULES [GREEK GOD]', 'SASQUATCH DOPPELGANG', 'KRONITT', 'DEFENSOR', 'HILDEGARDE [ASGARDIA', 'GOLEM II', 'CARPENTER, RACHEL', 'LEO', 'PURSUER', 'COWEN, BUCK', 'VERTIGO', 'JOVAN', 'ZOLA, ARNIM', 'CRIMSON DYNAMO V', 'HOUSTON, STELLA', 'CARSON, LT. PAUL', 'THOR III DOPPELGANGE', 'BROTHER STEPHEN', 'PENNYWORTH, J.C.', 'HEADMISTRESS', 'GORNKAI', 'BLACK MAMBA', 'DOMINO II', 'DRUMM, JERICHO', 'HECTOR II', 'LICH', 'VIDAR', 'SATANA', 'YELLOW CLAW ROBOT', 'EDDA', 'PENNSU', 'BLAKE, DR. DONALD', 'GARNOK REBBAHN', 'ACROBAT', 'CRUSHER', 'TAGAR', 'RAMA KALIPH', 'MR. MOBIUS', 'KIRBY, JACK', 'CHAIN', 'APE-X', 'ANOMALY', 'STALLIOR', 'HORUS [EGYPTIAN GOD]', 'PRODIGY', 'METABO', 'SCOURGE II', 'REPLICUS', 'DR. GOODWRENCH', 'TEXAS TWISTER', 'PRINCE REY', 'REDEEMER', 'MARKS, DR. SHIELA', 'GRIMM, BEN | TIMESLI', 'FANTASIA', 'CASSANDRA', 'ASTROLOGER', 'SAPPHIRAS', 'BLACK KNIGHT V STATU', 'WALTERS, SHERIFF MOR', 'HUMAN TORCH DOPPELGA', 'LIBRA', 'SPYMASTER II', 'IRON MAN III', 'NEBULO', 'APE MAN', 'DR. POWER', 'PRINCESS ZANDA', 'JONES, RICARDO', 'LIVING MUMMY', 'KHORYPHOS [ETERNAL]', 'TOKKOTS', 'COURTNEY, DELPHINE', 'FANDRAL [ASGARDIAN]', 'ROMA', 'BIRD MAN III', 'BLIZZARD', 'GAARD', 'MORLAK, MARIS', 'ATOM SMASHER II', 'AUTOLYCUS', 'AVIUS', 'NEEDLE', 'LATHAM, JORGE', 'ZINOVIEV, IVAN', 'SILHOUETTE', 'QUASIMODO', 'FALZON', 'GLORIAN', 'GLORIOLE', 'MAXIMUS [INHUMAN]', 'SLICE', 'STRANGER', 'JONES, RICHARD MILHO', '4-D MAN', \"P'KRRD, CAPTAIN\", 'LYLLA', 'POLOMBO, CATHY', 'PHIM, FATHER', 'VISION DOPPELGANGER ', 'CONQUEST', 'WALKER, SHERIFF CHAN', 'HELLRAZOR', 'CHARM', 'TANA NILE', 'DEGANN, KRIS', 'RED GUARDIAN IV', 'BLACK MORAY', 'DEATH-STALKER', 'SERSI', 'SCARLET WITCH', 'HULK DOPPELGANGER II', 'MARVEL GIRL II', 'WONG', 'WALKER, TESS', 'HENRY, JOHN', 'MANGOG', 'TECH-NOIR', 'ULTRON', 'SUPER-NOVA', 'WEREWOLF BY NIGHT', 'PRAZNIKI, VICTOR', 'KOENIG, ERIC', 'CAPTAIN AMERICA', 'RITTER, DONALD', 'HOARFEN', 'MANIKIN', 'DOMINUS II', 'PEREGRINE, LE', 'TOOTHGNASHER', 'KRAUS, DR. FREIDERIC', 'TYRANT', 'SHATTERAX', 'SUB-MARINER', 'AQUARIUS II', 'ENRAKT', 'SHINSKI, PROFESSOR W', 'TENELLE', 'RAYMOND, ANN', 'SANDSTORM', 'SCARLET BEETLE', 'AIR-WALKER', 'HIGH EVOLUTIONARY', 'AUSTIN, SUSAN', 'NAPIER, RAMONA DR.', 'STRONG GUY DOPPELGAN', 'PUCK DOPPELGANGER', 'PROMETHEUS [OLYMPIAN', 'IREZUMI', 'DORREK II', 'AMPHIBIAN', 'SISTER DEATH', 'REYNOLDS, DR.', 'BRUKNER, DR. FRANK', 'SMITHSON, T.B.', 'BARON SAMEDI', 'KRUGGAR', 'RED WOLF III', 'PRESTER JOHN', 'MERCY', 'GIRABOOR', \"IRON FIST H'YLTHRI I\", 'ALVAREZ, PAUL', 'PATHWAY', 'LOBO', 'SPLICE', 'LOVECCHIO, ARGUS', 'ULTARNT', 'JONES, AUGUSTINE', 'HARRIS, EDDIE', 'CABE, BETHANY', 'HERMOD [ASGARDIAN]', \"O'NEILL, DET. BRADY\", 'TABULA RASA', 'CAPTAIN BRITAIN', 'X-RAY', 'BALLANTINE, DEVON', 'JINKU', 'PLUNDERER', 'NUGENT, ALICE', 'GHAUR [DEVIANT]', 'LEVIATHAN', 'STARFOX', 'TRAPSTER II', 'ASHEMA [CELESTIAL]', 'BOWDEN, DENNIS', 'IRON FIST', 'WEST, DALE', 'PHANTOM EAGLE', 'RAHL', 'INFERNO III', 'PEATOR', 'GRAPPLER', 'PLUTO [OLYMPIAN]', 'BLACK KNIGHT V DOPPE', 'DEVOS THE DEVESTATOR', 'FAITH', 'ARVAK', 'ZELIG, LON', 'RAVONNA LEXUS RENSLA', 'SCORPIO II', 'LIVING LASER', 'PELE', 'JACK FROST', 'JOCASTA II', 'JACKAL II', 'DIAMONDHEAD', 'EVILHAWK', 'MARRS, DESMOND', 'EKAK', 'AURIC', 'KARNIVOR', 'HAYWIRE', 'REISZ, RAY', 'HARGEN', 'IKTHON', 'DE LA SALLE, BEATRIC', 'ANTOINETTE, MARIE', 'BULL', 'GAFF', 'VAUGHAN, GAYLE', 'HOGUN [ASGARDIAN]', 'VANE, ROGER', 'BENNETT, MITCH', 'NUKLO', 'VIGIL', 'MISS AMERICA', 'MONGU', 'STARK, ISAAC', 'CABER', 'GAZELLE', 'NIGHT FLYER', 'ROMANO, TONY', 'SUPERIA', 'TEN-THIRTIFOR', 'ERISHKIGEL II', 'MADAME MASQUE VI', 'DIVINITY', 'BASILISK III', 'HANGMAN II', 'CAPTAIN RECTITUDE', 'DOC SAMSON', 'HULK', 'MONMOUTH', 'MELTON, LORRIE', 'BINARY', 'ARMADILLO', 'STORM, CHILI', 'SNOWBIRD', 'INVISIBLE WOMAN DOPP', 'BOGATYR', 'ICEMAN DOPPELGANGER', 'STRIDER', 'WARLOCK II', 'HERA', 'GIDEON, GREGORY HUNG', 'HARKNESS, AGATHA', 'RYNDA', 'GLOB', 'KALA', 'MARRINA', 'GAEA', 'ROMANOV, MICKEY', 'PAINTER', 'CROSS, GENEVIEVE', 'HAWKEYE DOPPELGANGER', 'HELLCAT', 'PRINCESS PEARLA', 'FROST', 'QUILL', 'FIREFLY II', 'MADISON, TAYLOR', 'DR. DOOM', 'ATALANTA', 'KHAT', 'HELIO', 'JUNIPER, JONATHAN JU', 'ZARRKO, ARTHUR', 'KINGO SUNEN [ETERNAL', 'ORPHAN', 'LECLAIRE, PROFESSOR ', 'ELO', 'CORD, JANICE', 'CACTUS', 'INVISIBLE WOMAN', 'NORTHSTAR', 'MASTERS, DR. AUGUST', 'JACKSON, ANDREW JOCK', 'BI-BEAST II', 'PERSEPHONE', 'PIRANHA', 'TABOO', 'DEATHLOK', 'TRUMP', 'PELIALI', 'RIESER, ROB', 'JARVIS, EDWIN ', 'LAYLA', 'GRANT, SILAS', 'SPIDER-WOMAN II', 'WAYFINDER', 'TYGER, LORD', 'KID REAPER', 'COMET MAN', 'TYNDAR', 'URTHONA', 'SUPER-PATRIOT', 'YEE, WAI CHEE', 'FREE SPIRIT', 'JORRO', 'FREEMAN, DUANE JEROM', 'FORCE', 'BOYD, TWO-FISTED TOM', 'MAGRUDER, ALLIE', 'FURGAR', 'SUPREMOR', 'VENUS II', 'BRIGHTSWORD', 'PORCUPINE', 'SLOTOTH', 'ASH, BRANDY', 'ASTRONOMER', 'NITAL, DR.', 'OCCULUS', 'FROSTBITE', 'PRAZNIKI, SYLVIA', \"O'NEIL, BRIDGET\", 'PHASTOS [ETERNAL]', 'BROTHER VOODOO', 'KITCHENER, CHIEF INS', 'INFINITY II', 'CRIMSON DYNAMO VI', 'DAYDREAMER', \"Q'WAKE\", 'ANGEL', 'ZZZAX', 'SLOAN, FRED', 'THENA', 'BALLANTINE, MRS.', 'FIELSTEIN, FIREWORKS', 'PHAE-DOR', 'GLITTER', 'SCARLOTTI, MRS.', 'RAMROD II', 'JENNINGS, JOSEPH', 'DRAGONUS', 'LOKI [ASGARDIAN]', 'CRIMSON DYNAMO IV', 'OMEGA', 'ARISHEM [CELESTIAL]', 'DEATHLOK III', 'DAMBALLAH II', 'LARROCA, SALVADORE', 'HIGHNOTE', 'MCCALL, MEREDITH | T', 'YEAGER, CALLIE', 'DAGDA', 'BLACKBALL', 'YANDROTH', 'ZON', 'DRACULA', 'TRIATHLON', 'RAPTOR II', 'SILVERCLAW', 'ASBERY, SHAMARI', 'LUMINOR', 'RAMROD', 'MORGAN, DR. VIVIAN', \"M'DAKA\", 'CATHERWOOD', 'DORNOVA-BLONSKY, NAD', 'MACHINE MAN', 'ST. LAWRENCE, COL. C', 'TERMINUS', 'STARK, HOWARD | TIME', 'PALADIN', 'BLACK TALON II', 'WORD', 'CASE, COL. PRESTON', 'EMBER', 'WITHERS', 'GRIM REAPER', 'REYES, DR. DANIEL', 'RON, TALLA', 'ENRAGED', 'DELPHI', 'RADION', 'ZEFRA', 'SATANNISH', 'BIG ONE', 'LADY OF THE LAKE', 'SATAN', 'AMENHOTEP', 'ISLEY, LYNN', 'MASON, JOHN', 'SCOURGE', 'IMPALA', 'NELIT', 'GREY GARGOYLE', 'EL VAMPIRO', 'WOODGOD', 'TIGRA', 'PATRICK, KERRY', 'PUCK DOPPELGANGER II', 'BELL, HERBERT', 'BLACK KNIGHT', 'SUPER-ANDROID F-4', 'CYLLA', 'GRASP', 'BLACK BRIGADE', 'LEVIATHAN II', 'LORELEI II', 'MCPHERSON, LING', 'HARVEST', \"EMPRESS S'BYLL [SKRU\", 'WHIZZER III', 'BLUE SHIELD', 'SIGMAR', 'CYCLONE', 'PERUN', 'FIREBIRD', 'SPRAGG', 'RADD, FENNAN', 'AGED GENGHIS', 'QNAX', 'TILTON, ROLAND R.', 'GRANT, MARY MEEKS', 'THERNON', 'KURSE', 'SKYHAWK', 'WITCHFIRE', 'STAPLES, EDNA M. GRA', 'MIDGARD SERPENT', 'LARGO, CHIEF', 'OMNIBUS', 'MURDOCK, MATT | TIME', 'SEA URCHIN', 'WHIRLWIND', 'WAR MACHINE II', 'AHQLAU', 'JEMIAH', 'DARKHAWK', 'FOOLKILLER II', 'SUNFIRE', 'USAGENT', 'HINKLEY, ADMIRAL', 'BOLT II', 'HATE-MONGER', 'REVELATION', 'EGGHEAD', 'OLD WOMAN', 'TITANIA', 'ULTRA-MAX', 'DARKOTH', 'WOO, JIMMY', 'MORDRED THE EVIL', 'MILLENIUS', 'SPARROW BEAR, MELLIS', 'PESTILENCE', 'QUASAR DOPPELGANGER ', 'STEELE, MARCY MASTER', 'TUTINAX', 'PARETSKY, DR. GARY', 'LORD TEMPLAR', 'BEAST DOPPELGANGER I', 'CALEDONIA', 'AMERICAN EAGLE III', 'SZARDOS, MARGALI', 'MOCKINGBIRD', 'MAX II', 'STARR, AARON', 'FROST, BYRON', 'VIBRAVORE', 'PHILLIPS, HANDSOME H', 'BOGGS, MORDECAI P.', 'HULK IV', 'TYR', 'HUNT, JERRY', 'BOOMSLANG', 'WIDE LOAD ANNIE', 'DRAN, DAMON', 'KUROKO', 'TITANIUM MAN', 'OTHER', 'DR. DOOM | TIMESLIDE', 'PHOBIUS', 'STERIXIAN, ALMONNAS', 'ARES [GREEK GOD]', 'LANGSTROM, LIEUTENAN', 'ANALYZER', 'GRANT, SILAS II', 'KATAR', 'LLOIGOROTH', 'DAMBALLAH', 'LEONUS', 'DR. DOOM CLONE', 'LANDA', 'SHANZAR', 'HALE, TOM', 'ARIDES', 'BULLDOZER', 'ARLISSE', 'VEDA', 'HATE-MONGER V', 'PAGAN', 'GULLIN', 'RED SKULL II', 'LANGTREE, GINA', 'NOMAD III', 'COSMIC MESSIAH', 'MOONSTONE', 'CYRA [ASGARDIAN]', 'RORY, RICHARD', 'SICKLE', 'BEEFER', 'BATTLEAXE', 'PIKE, FRISCO', 'TARGON', 'STAMP, J.Q.', 'MOON KNIGHT', 'FAIRMONT, HANNAH', 'JOYCE, SAMANTHA', 'RAMAN', 'LIPTON, LAURA', 'BOX II', 'UMAR', 'HOGAN, HAROLD J. HAP', 'STYX II', 'DESTINY', 'FREDD', 'DEADLY DORIS', 'WILBURN, MYRON', 'PSI-LORD', 'CRANDAL, BEN', 'ANGEL III', 'GALEN', 'FIREBUG', 'TOL-NOK', 'LAMBERT, WILSON', 'BROOP', 'DOMANI, DINO', 'MECHADOOM', 'NIGHT PHANTOM', \"X'HOSS\", 'FOOL', 'SHALLA BAL', 'FLINN, LANCELOT LANC', 'MASTERMIND II', 'GLITCH', 'LOVE', 'PILEDRIVER', 'PONG, WU', 'WOLFSBANE DOPPELGANG', 'DANGOR', 'WENDIGO V', 'ANIMUS', 'PUCK', 'MADAME MASQUE V', 'ELYSIUS', 'BAIRD, DR.', 'ARMAGEDDON', 'DE LA SPIROSA, COUNT', 'GRIMM, JAKE', 'THING', 'SILVER SURFER IMPOST', 'SIINGARD', 'METEORITE', 'AGONY', 'INTELLIGENTSIA', 'ROK', 'VINYL, MILO', 'BLACK BOLT', 'LETHA', 'BLACK KNIGHT III', 'DIBBS, LIONEL', 'WILLIAMS, MRS.', 'BARTLETT, STU', 'SERVITOR', 'DULTRY, MARGARET', 'BUSHMASTER II', 'CONROY, KAREN', 'ANAMI, HIROSHI', 'SITWELL, JASPER', 'RICHARDS, REED | EAR', 'INFERNO II', 'KRAKEN', 'MULDOON, SGT. BRIAN', 'DE LA FONTAINE, CONT', 'MISFIT', 'SCARLET CENTURION', 'VALERIA', 'CHAMPION, IMUS', 'YMIR', 'RINTRAH DOPPELGANGER', 'WRECKER II', 'QUICKSILVER', 'WINGFOOT, WYATT', 'TALOS', 'ABOMINATRIX', 'SAPPER', 'DUBOIS, HERVE', 'SOCRATES SOCK', 'TOMAZOOMA II', 'RODGERS, MARIANNE', 'OGRESS', 'RAMBEAU, FRANK', 'STRONG GUY', 'GRANDMASTER', 'RADIOACTIVE MAN', 'HAWK', 'CAPTAIN MARVEL III', 'CAESAR, JULIUS', 'EELAK', 'NACHT, HERR', 'BERENGHETTI, SUSAN', 'TYPHON', 'PARKS, JOE', 'CERANDA', 'NEWELL, DIANE ARLISS', 'MADAME HYDRA VI', 'GRIMM, PETUNIA PENNY', 'BRANNEX', 'DEVASTATOR II', 'BLACK KNIGHT IV DOPP', 'SURGE', 'JARELLA', 'SHARK', 'SHIGARU', 'BETELHEIM, NORMA', 'ROSSIN, DR.', 'ADAMS, CINDY', 'TABUR', 'TEZCATLIPOCA', 'HEYWERTH, GENERAL', 'GUNTHAR II', 'RALSTON, SENATOR ROB', 'RICHARDS, NATHANIEL', 'PERSEPHONE II', 'TRAUMA', 'DEAN, SUSAN', 'DOMO', 'HANCOCK, CALISTA', 'KRO [DEVIANT]', 'KALUU', 'RAMBEAU, MARIA', 'BEYONDER', 'NIMROD', 'MOONDARK', 'DIABLO', 'CIR, DYLON', 'SISTER DREAM', 'REJECT', 'VOLKHVY', 'LEVIATHAN VI', 'JASON', 'GLOM', 'FAYRELYTE STRONGHEAR', 'SILVERCLOUD, SAM', 'PUPPET MASTER', 'VOLCANA', 'MULTIPLE MAN DOPPELG', 'STAR THIEF', 'DEVOOR, ALBERT', 'BEACH, GINGER', 'STORM DOPPELGANGER', 'COPPERHEAD III', 'TOMORROW HAWK', 'PARKER, PETER | TIME', 'BLOOD WRAITH', 'LONGARM', 'ANGAR THE SCREAMER', 'MOLE MAN', 'FIREBRAND III', 'MARILLA [INHUMAN]', 'MICHAELS, DAWN', 'BARON BLOOD II', 'CODY, GARY', 'THERMAL MAN', 'PSYCHO-MAN', 'SWORDSMAN II', 'UNCLE PYKO', 'DOOMSDAY MAN', 'PARKER, MAY | TIMESL', 'MALICE III', 'MOWAT, FARLEY', 'LEE, LITTLE LARRY', 'ENGLEHART, STEVE', 'MASON, LOUISE', 'BOWMAN, MAJ.', 'SHAARA', 'PHILIPS, PHILIP', 'GRANT, PHILLIP', 'LYJA LAZERFIST [SKRU', 'MANDARIN', 'ANGLER', 'MIKHLO', 'STEELE, BOBBY', 'THANADEMOS', 'DELUGE II', 'STILT-MAN', 'NEFFETHESK', 'HIJACKER', 'FORGE', 'LANCER', 'WALRUSS', 'RENO, AGENT', 'WIZARD', 'BALOR', 'BUSH, GEORGE', 'TYRANNUS', 'SAPRISTI, JERRY', 'OMERTA', 'BERSERKER', 'LORD LEADER', 'STUNT-MASTER', 'MARVEL GIRL DOPPELGA', 'BENWAY, DR.', 'SPUNJE', 'SETH', 'ORB', 'GORGON [INHUMAN]', 'MASTER ORDER', 'SPACE PHANTOM', 'DANIA', 'TOBIAS', 'OBLITERATOR [ELDER]', 'LORELEI', 'HOGAN, VIRGINIA PEPP', 'JUVAN', 'DREAMING CELESTIAL', 'STARR, TRIXIE TRISH', 'HILL, GEORGE', 'SUNDRAGON', 'DIAMONDE, YVETTE', 'ADAMS, GEORGE', 'SILVER', 'MARTINELLI, VINCENT ', 'NOVA DOPPELGANGER', 'SHAMROCK', 'DESAK', 'THRAXON', 'CHI DEMON', 'COAL TIGER', 'LE FEY, MORGAN', 'SOLAR WIND', 'NAMORITA', 'PERRIKUS', 'NEBULON', 'NULLITRON', 'HYPERION II', 'LLAN', 'SEEKER III', 'MYCROFT', 'PAIBOK, CAPT. [SKRUL', 'ZIMMER, ABE', 'RED GUARDIAN V', 'SPARK', 'MANITOU', \"CH'THON\", 'WAR TOY', 'GHOST RIDER III', 'RIVERA, DR. JASON', 'DRUID', 'HALBERG, DONALD', 'DIAMOND, CHUCKY', 'LANN', 'DREADFACE', 'AREX', 'USAGENT DOPPELGANGER', 'BRADLEY, HANK', 'DUGAN, TIMOTHY ALOYI', 'TARAKIS', 'ICONOCLAST', 'GORILLA-MAN', 'GORGILLA', 'MEER, MAX', 'JUNIPER', 'ERISHKIGEL', 'BLACK KNIGHT V', 'BLOCKBUSTER II', 'ROGUE DOPPELGANGER', 'KHOON', 'DIAMONDBACK II', 'THINKER', 'PYLLAR', 'THING DOPPELGANGER I', 'DEAD HEAD', 'DREAM QUEEN', 'HAAG', 'JANUS II', 'IMPOSSIBLE WOMAN', 'KNIGHT ERRANT II', 'KARNAK [INHUMAN]', 'ANTHROMORPHO', 'HEAT-RAY', 'ZOOG [KYMELLIAN]', 'QUASAR', 'SIMON, ALEX FLORES', 'SLEEPER', 'SUPREME COMMANDER', 'RAZORFIST IV', 'JAKAR', 'MASTER ELO', 'BLAIRE, CARTER', 'EGO-PRIME', 'PEREZ, GEORGE', 'MERENGUES, SMOOTH MA', 'MANNING, JANICE', 'ALEXANDER, CALEB', 'HULK DOPPELGANGER', 'TEMPEST II', 'SNOW, VICTORIA', 'GYPSY MOTH', 'AGUIRRE, ISOBEL', 'YRDISIS', 'RAMPAGE', 'QUEEN KNORDA', 'MUTO, JUNZO', 'ZARIN', 'BLACK, CYRUS', 'ORIGIN', 'ABSORBING MAN', 'VISARA', 'AMERICAN EAGLE II', 'THOR II', 'CONKLIN, CAPT.', 'HAVOK', 'KEERG', 'GROWING MAN', 'MIDNIGHT', 'ZEAKLAR', 'AWESOME ANDROID', 'QUANTUM', 'APOCRYPHUS', 'GEATAR', 'MULTIPLE MAN', 'SISTER PLEASURE', 'AGGAMON', 'ZANIAC II', 'ANOMALY III', 'KINCAID, DR. JANE FO', 'SLUJ', 'GLADIATRIX', 'SLEEPWALKER', 'ANDWELLA', 'BLACK KNIGHT IV', 'STARDUST', 'RAGA', 'WOLFE, HEDY', 'TETHRA', 'BEACH, SPIDER', 'SANTA CLAUS', 'VIBRO', 'CHIEF EXAMINER', 'BLITZIANA', 'RUDOLFO, PRINCE', 'DULB', 'HOUSTON, LT. COMMAND', 'STYGIAN STARBENDER', 'MAKKARI', 'FUJIKAWA, RUMIKO', 'RAWHIDE KID', 'BRANNEX, ALLESSANDRO', 'ARAGORN', 'YELLOWJACKET III', 'GAMBIT DOPPELGANGER ', 'MINOTAUR', 'ALDEN, PROF. MEREDIT', 'HERCULES DOPPELGANGE', 'WILD ONE', 'HYENA', 'PSYCHE II', 'RAPIER', 'BATTLESTAR', 'GORR', 'SHROUD', 'APOSTATE', 'ADVA', 'PUPPY', 'KENT, CLARK', 'FREAK QUINCY', 'SHAPE', 'BENNING, VERONICA', 'CHAR, BRON', 'GRID', 'PICARO', 'PAYNE, EDWARD', 'DABUTA, NIGEL', 'ROSETTI, GABRIEL', 'MONGOOSE', 'ZOM', 'COVEY, LAWRENCE K.', 'MOTHER NIGHT', 'ENCHANTRESS', 'VIZIER', 'PARKS, JUDITH', 'ZCANN', 'ZEDRAO, GENERAL', 'HERMES [GREEK GOD]', 'TRADER', 'RINGO KID', 'BERDITCHEV, ITZHAK', 'BARONESS ZEMO', 'GAMBIT DOPPELGANGER', 'WOLFE, SARA', 'BUCKY VII', 'CAGE, LUKE', 'NEMESIS', 'LADY LARK', 'KRAGG', 'TERRAXIA', 'KLIGGER', 'DEL HIERRO, BLANCA', 'REMORA', 'EVERY-MAN', 'LUMPKIN, WILLIE | TI', 'MEDUSA', 'ZARATHUSTRA', 'FORTHWARD, KENT', 'MASTERSON, KEVIN', 'ERWIN, CLYTEMNESTRA', 'SCARBO', 'POPPA WHEELER', 'ARIES II', \"O'MEARA, KATHLEEN\", 'LORD CHAOS', 'HUDSON, HEATHER', 'SASQUATCH', 'AQUARIAN', 'WILSON, JIM', 'OLAR', 'ARTEMIS', 'REISS, JACOB', 'LUBOWSKI, LUGWRENCH', 'CAPTAIN MARVEL II', 'AGON', 'FALK, DR. JENNIE', 'LIVING LIGHTNING', 'TOPAZ', 'STALKING FOX', 'BYRRAH [ATLANTEAN]', 'BROTHERS GRIMM II', 'MOONRAKER', 'AGINAR', 'DEMONICUS', 'HAROKIN [ASGARDIAN]', 'SANTINI, DR. JOSE', 'DEMOLITION MAN DOPPE', 'VOICE', 'RAVEN', 'LITTLE, ABNER', 'MAGOG', 'AMPHARON', 'BARRANCO, MARIA ESME', 'SPIDER-WOMAN DOPPELG', 'SCARLET WITCH DOPPEL', 'DISTORTER', 'NOVA II', 'BURGOS, CARL', 'STERLING, SID', 'MOTH', 'KLAW', 'AIREO', 'TAROOK', 'PIP', 'DAZZLER II', 'SAROYAN, NEAL', 'CHANG, IMEI', 'SERESTUS', 'STONECUTTER', 'ETERNITY', 'SPENCER, TRACY', 'ANELLE', 'OSIRIS', \"R'TEE\", 'MCCAMBRIDGE, MEGAN', 'DEIMOS', 'ULIK', 'GO-DEVIL', 'SIKORSKY, RAYMOND', 'STELLARIS', 'MOONDRAGON DOPPELGAN', 'CURZON, DETECTIVE IN', 'IMPOSSIBLE MAN', 'EBONY', 'FANTASMA', 'FOWLER, RED', 'SET', 'RINTRAH', 'RED GUARDIAN III', 'AVATAR II', 'CYCLOPS DOPPELGANGER', 'YAYAUHCO', 'EEL', 'MISS MASS', 'AIR WALKER', 'JAILBAIT', 'MARAUDER II', 'ZEMO', 'HIROMITSU', 'TORG', 'QUASAR III', 'NURO', 'LIBRA III', 'BROGIN, BULL', 'MALACHI', 'PROFESSOR POWER', 'ICE WORM', 'ASTER, LUCIAN', 'ZOTA', 'JADE DRAGON', 'ULTRON 2010', 'JONES, HUGH', 'EHMAN, HEIDI', 'KRISTA', \"GRENDEL'S MOTHER\", 'RED WOLF', 'HUNCH', 'SPRINGER, JERRY', 'KID COLT', 'MUNIN', 'NASH, JOHN JOHNNY TH', 'FUTURIST', 'HARVEY, SUE', 'SKUNGE', 'RAZORBLADE', 'ROCK PYTHON', 'MAESTRO', 'ZURAS', 'NIGHTHAWK', 'DECAY II', 'LEVESSEUR, LARENT', 'ZANIAC', 'STRONGARM', 'SWORDSMAN', 'MELTER', 'YUAN, ANNIE', 'PEEL, EMMA', 'HARR, DR.', 'CAT IV', 'FELDSTADT, DR. HANS', \"BLOODWING [SHI'AR]\", 'DEATHSTROKE', 'ATHENA [GREEK GOD]', 'HYPERION', 'MS. MARVEL II', 'DEMI-GOD', 'BENTLEY, VICTORIA', 'LEOPOLD, ARCHER', \"KALADAR [SHI'AR]\", 'PUNISHER', 'EGO', 'TORPEDO III', 'ISAAC', 'HANGMAN', 'GRON', 'ATLAS', 'LENO, JAY', 'DAREDEVIL DOPPELGANG', 'THUNDERBALL', 'TRITON DOPPELGANGER', 'SANDHURST, VINCENT', 'POWER, DR. MAX', 'HEPHAESTUS', 'AURORA DOPPELGANGER', 'COACHWHIP', 'VANGUARD', 'REDWING', 'LACOSTE, RAE', 'MANN, DR. J. VERNON ', 'MAGNIR', 'HALE, NAN', 'DARE, KATHLEEN', 'SOUL-EATER', 'GALLAGHER, BOB', 'SEVERIN, MARIE', 'REAVER', 'MODAM', 'GREEN, ARNIE', 'BRONA', 'OLAFSON, ERIC', 'DEATHUNT 9000', 'FLEMING, PHILIP', 'CROSSBONES', 'SCARECROW', 'WILMOTT, DR. KEITH', 'RUNNER', 'SHAW, MILDRED', 'KLINE, MR.', 'MAELSTROM', 'SANDOR, PROFESSOR IS', 'TOOTHGRINDER', 'BASILISK', 'CRIMSON DYNAMO III', 'TRUTH', 'POWER PRINCESS', 'TYCHO', 'BANNER, BETTY ROSS T', 'RAKSOR [SKRULL]', 'DOOMSDAY MAN II', 'SPEEDBALL', 'GRIMM, SUE STORM EAR', 'VASHTI', 'VARUA', 'ESON [CELESTIAL]', 'NORRISS, JACK', 'TALISMAN III', 'MAGNUS', 'ENFORCER', 'VIPER', 'DR. SPECTRUM II', 'BLAZING SKULL', 'STINGER IV', 'APOLLO [GREEK GOD]', 'THANOS', 'GEMINI', 'EEL III', 'GAMMENON [CELESTIAL]', 'AMERICOP', 'MENTALLO', 'SANCHEZ, DET. LOUISA', 'BRUTUS II', 'MUTAURUS', 'WOLVERINE DOPPELGANG', 'YUAN, BILLY', 'THUNDERSTRIKE', 'THAKOS', 'ULTIMUS', 'DEAN, DARBY', 'ZOTA, CARLO', 'JARVIS, EDWIN | TIME', 'VRIES, KALI', 'CAPTAIN ULTRA', 'ITZAMNA', 'ATOM-SMASHER', 'PEARLA', 'STEEPLEJACK II', 'RONAN THE ACCUSER [K', 'TERREL, DEBORAH', 'FIN FANG FOOM', 'WILDSTREAK', 'COLLECTIVE MAN', 'FOUNDRY', 'AZOR', 'MASTON-DAR', 'IKARYS', 'INERTIA', 'CYBERMANCER', 'MADCAP', 'LEIR', 'EXALT', 'JANUS', 'APPALLA', 'CONTEMPLATOR', 'BEAUTY', 'BLIZZARD II', 'HULK III', 'SHEPPARD, JOAN ACE', 'HUNT, ROBERTA', 'MCGRILL, MARY', 'WHIZZER', 'TORGO', 'GRONK', 'TALISMAN', 'CHEETAH', 'HEATER DELIGHT', 'CAT II', 'TIMBERIUS', 'FORGOTTEN ONE', 'ARAKI II', 'CYBERTOOTH', 'SMART ALEC', \"O'HARA, ROBERT IRONG\", 'PO, KIM', 'MANDRILL', 'STONE, LT. MARCUS', 'GRANT, DONALD', 'TRIAX', 'SKEWER', 'KRAKOA', 'CONSUELA', 'TERRIGENE', 'FATE, IAN', 'PINK PEARL', 'MAXWELL, DR. WILFRED', 'NOBILUS', 'RED RONIN', 'GUARDSMAN', 'TUATARA', 'WONDER MAN', 'REILLY, MAVIS', 'PEACEMONGER', 'DORMAMMU', 'CLOAK', 'WAYOPEX', 'SIMBUS', 'SLASHER II', 'DANNING, SHEILA', 'SERGEI', 'PISCES', 'RED GHOST', 'BLACK AVENGER', 'ANT-MAN II', 'NAMORITA DOPPELGANGE', 'VIRA', 'GAARK', 'DRAGON MAN', 'RYKER, MAJOR SIMON', 'RYANS, JIM', 'MIDAS', 'SPYMASTER', 'PRENTISS, BETTY DEAN', 'PORCAL', 'CAGLIOSTRO, ALESSAND', 'CERBERUS', 'URSA MAJOR', 'WIDOW-MAKER', 'DRAGONFLY', 'GOG II', 'ZIRAN', 'ECCE [WATCHER]', 'QUENTIN, RALPH', 'BENNETT, DANNY', 'NEPTUNE [OLYMPIAN]', 'BIG BERTHA', '3-D MAN', 'HATE-MONGER IV', 'BOUNTY II', 'LIVING ERASER', 'ARIES', 'STINGER II', 'INFERNO', 'GRAY, SGT.', 'DR. PHOBOS', 'CANCER', 'STORM, SUE | TIMESLI', 'BEHEMOTH', 'MISTER HYDE', 'SHANGA', 'MEPHISTA', 'WHITE DRAGON', 'MADAME MASQUE IV', 'SYRRH', 'ADAMS, MARTHA', 'SHAKTI', 'BIRD MAN', 'GAMMA-BURN', 'EGMA', 'BROWN, LAURA', 'ION', 'BLAKE, DR. DONALD (C', 'POLTERGEIST', 'MAD DOG', 'TURMOIL', 'DEWITT, KEARSON', 'HUMAN TORCH ANDROID', 'PROMETHEUS II', 'BARROWS, WALTER', 'AHURA', 'KURRGO', 'TYRAK', 'STELLARAX', 'GUDRUN [ASGARDIAN]', 'MANIPULATOR II', 'CLEA', 'UNICORN II', 'GARVIN, GEARS', 'MAJOWSKI, SAM MOTHER', 'FIRESTAR DOPPELGANGE', 'DONOHUE, TREVOR', 'PIERCE, ALEXANDER GO', 'EXITAR', 'STINGRAY', 'CAPTAIN BARRACUDA', 'UNICORN', 'HIPPOLYTA [GREEK GOD', 'MAN-OF-WAR', 'SENSO', 'DR. NEMESIS', 'WOLFE, MR.', 'ARCHER, ULYSSES SAMS', 'MCKENZIE, LEONARD', 'TAREVA', 'BRAIN DRAIN', 'ORINI', 'COLOSSUS', 'TESS-ONE', 'DRACCHISS', 'CLINTON, BILL', 'ICHIHARA, SHIGERU', 'STAR THIEF II', 'LANDERS, DR.', 'JUSTICE PEACE', 'SAMURAI STEEL', 'GARGOYLE', 'FAIRMONT, AMANDA MAN', 'RINGMASTER', 'VALKYRIE IV', 'SHE-HULK DOPPELGANGE', 'PROCTOR', 'INDECH', 'MCKENZIE, LEON', 'MIRACLE MAN', 'MCLAREN, MEGAN', 'EXECUTIONER II', 'TERRAX II', 'PLANTMAN', 'SPARX', 'DRAKE, MALCOLM', 'SCRATCH, NICHOLAS', \"O'CONNELL, TARYN\", 'LOCKLIN, GENERAL MER', 'CLOONEY, DR.', 'WOLF SPIRIT', 'BANSHEE II', 'MADAME SLAY', 'BRUTACUS', 'WINGFOOT, WYNONA', 'VOR', 'LIVING TRIBUNAL', 'LUMPKIN, WILLIAM WIL', 'AMAZON', 'DARROW, MARISSA II', 'RIGER', 'NEUT', 'RAMOS, ROGER', 'MONOCLE', 'NIGHTHAWK II', 'TANAKA, KENJIRO', 'MADDICKS, NADINE', 'ONE ABOVE ALL [CELES', 'MADAME MENACE', 'REEVES, MAJOR', 'BARON BLOOD', 'TODD, FISHER', 'KARYGMAX', 'NIGHT PHANTOM II', 'SPRITE', 'NECRODAMUS', 'THERAK', 'MARVEL BOY VI', 'GUARDIAN', \"T'CHAKA\", 'STAR-STALKER', 'DOPPELGANGER', 'IRIDIA [INHUMAN]', 'FAWKES', 'VON DOOM, CYNTHIA', 'AUNTIE FREEZE', 'HAWKINS, DR. EDWIN E', 'SLAYER', 'GOLDDIGGER', 'TAYLOR, LEILA', 'ABOMINATION', 'BROKER', 'ACHILLES II', 'POUNDCAKES', 'PUFF ADDER', 'DRAX DOPPELGANGER', 'RAA', 'TULAK', 'GREASE', 'EPOCH', 'SHALLA BAL II', 'ISIS', 'IRON MAN', 'ARGOSY, HERVE', 'SHAMAN', 'KITANG', 'RAZORBACK', 'LUNA', 'MADMAN', 'GAR-TOOM', 'DANVERS, JOE', 'FENSTER, RICHARD', 'CLASS CLOWN', 'COMMANDER COURAGE', 'FORD, GERALD', 'CARNIVORE', 'BASALLO', 'HYPERSTORM', 'MAGUS', 'ST. THOMAS, JULES', 'JUDE', 'MORG', 'SEDNA', 'CLEOPATRA', 'DAKOR, YOGI', 'TOLLIVER, EMMA', 'REPTILLA', 'DR. VOLKH', 'DEMEITYR', \"CERISE II [SHI'AR]\", 'VAKUME', 'ALPHA', 'WILD MAN', 'GROUNDHOG', 'BEREET', 'EL TORO ROJO', 'THREETREES', 'CRAZY EIGHT', 'SHALAK', 'DRAGON OF THE MOON', 'BALE, EMERSON', 'OMEGA II', 'SARDAN', 'CHANDLER, PEGGY', 'NUNTOO', 'THORNN', 'HYDRON', 'SAXON, STARR', 'SANADA, KONO', 'FIREBOLT', 'ANTRO', 'REAGAN, RONALD', 'ARCADIUS', 'ANTIBODY', 'ARKON', 'JZEMLICO, WARDEN', 'ULTIMO', 'PAYNE, MICHAEL', 'IDUNA', 'DARKSTAR', 'HELLSTORM', 'CHAPMAN, GEN. ULYSSE', 'PSYKLOP', 'IRON MAN ARMOR', 'FRANKENSURFER', 'TAIFU', 'HEADHUNTER', 'GLABOO', 'SKOLL', 'TOM THUMB', 'JACKSON, CURTISS', 'RAKKUS', 'QUICKSILVER DOPPELGA', 'ATLAS III', 'GALACTUS', 'MAXXAM', 'ROCKET RACCOON', 'DONLEAVY, HANNAH', 'MACLAIN, DR. MYRON', 'BILE', 'OLSON, MRS.', 'CAPTAIN MANHATTAN', 'AQUARIUS', 'NICODEMUS', 'ANAK', 'RUIZ, RIGGER', 'HECK, DON', 'MALUS, DR. KARL', 'GOOM', 'INTERLOPER', 'ROULETTE', 'STANKOWICZ, FABIAN', 'WATCHLORD', 'CLOWN', 'CAPTAIN AMERICA DOPP', 'WONG CHU', 'IRONWOOD, CISSY', 'BUTTERFLY', 'FROG MAN', 'CORRUPTOR', 'EON', 'BLASTAAR', 'LANG, CASSANDRA CASS', 'ROM CLONE', 'TYRUS', 'WIND-WARRIOR', 'DAWSON, DICTIONARY', 'ALVAREZ, FELIX', 'DREAMGUARD', 'SQUIRREL GIRL', 'MOOMJI, INDRIES', 'HULK ROBOT', 'WILD CHILD DOPPELGAN', 'BLACK GOLIATH', 'CYBELE [ETERNAL]', 'BERENGHETTI, MICHAEL', 'TALBOT, MAJ. MATT', 'SURTUR', 'HEADGEAR', 'THUNDRA', 'ROBINSON, LUCY', 'ODIN [ASGARDIAN]', 'BREWER, AMY', 'HODER [ASGARDIAN]', 'VOYAGER', 'CRIMSON DYNAMO', 'SHAPER OF WORLDS', 'NIGHT RIDER III', 'KILLER CLOWN', 'KISMET', 'CAPTAIN TERROR', 'RITTER, DEBORAH ', 'HIGGINS, SAMUEL', 'GARFIELD, MURRAY', 'SAINT ELMO', 'CALCULUS', 'BYRD, SEN. HARRINGTO', 'AJAX', 'SENTRY 459', 'FONG, KATY', 'LIONMANE', 'JAWBREAKER', 'BLACK KNIGHT II', 'THANE ECTOR', 'THOR REPLICOID', 'DR. DRUID', 'WILD BLOOD', 'COUNT NEFARIA, LUCHI', 'YIN, DR. SU', 'SCARECROW II', 'MAHA YOGI', 'SEAWEED MAN', 'PETROVITCH, IVAN', 'DREADKNIGHT', 'BEERE, JASON', 'BLOODWRAITH', 'GOLDBUG', 'VINDICATOR II DOPPEL', 'MODOK', 'CENTARIUS', 'GILBERT, ROXANNE', 'CHANEY, AMANDA', 'DIONYSUS [GREEK GOD]', 'WARKOVSKY, SEN.', 'DESTROYER III', 'GENII', 'BROTHER WONDERFUL', 'THURM, ETHAN', 'MODRED THE MYSTIC', 'KAPPELBAUM, MRS.', 'NEWMARK, LOTUS', 'KRUMA, TALIA', 'TERRAX', 'NUMBER NINE', 'DEVLOR', 'TWO-GUN KID', 'ANDROMEDA', 'WENDIGO VI', 'STANFORD, DWIGHT ROL', 'ATOR, GENERAL', 'GUNTHAR', 'SCINTILLA', 'MAHKIZMO', 'DOLLAR BILL', 'DIGGER', 'MOONHUNTER', 'SINEW', 'WATCHDOG', 'POLARIS', 'MR. FANTASTIC', 'DOCTOR MANDIBUS', 'SPAR, DR. KATHERINE ', 'ERWIN, MORLEY', 'CADUCEUS', 'PAPA HAGG', 'SMALLWOOD, DAN', 'QUISLING', 'TICKTOCK', 'CENTURY', 'SALLA', 'SHAZANA', 'BI-BEAST', 'ROMITA, JOHN', \"O'KEEFE, CHANDRA\", 'STANCHEK, DR.', 'EL JAGUAR', 'NAGAN, DR. ARTHUR', 'BOLT, COUNCILMAN AND', 'GARDENER', 'RAGAR', 'RED RAVEN', 'PRIMAX', 'KRYZEWSKI, LEONARD M', 'ULTIMA', 'BAXTER, ABIGAIL', 'MANTIS (SPACE PHANTO', 'SVYATOGOR', 'DADDY LONGLEGS', 'SILVER DAGGER', 'SPEEDBALL DOPPELGANG', 'SOUL MAN', 'HALF-FACE', 'VALKIN', 'FARREL, MIKE', 'SHOOTING STAR', 'KORATH THE PURSUER', 'INFINITY THRALL', 'ASMODEUS', 'GEIRRODUR', 'MICO, RODOLFO', 'VESTA', 'NOVA III', 'REYNOLDS, LINDY', 'DESIGNATE', 'RED GUARDIAN II', 'ELATHAN', 'VIBRAXAS', 'VOLLA', 'PARALYZER', 'JAGRFELM [ASGARDIAN]', 'KARKAS [DEVIANT]', 'MOUSE', 'UNBEING', 'HOBBS, HARRIS', 'REPTYL', 'BLACK WIDOW DOPPELGA', 'OBLIVION', 'DR. STRANGER YET', 'SMEDLEY', 'ROSENBERG, ANNIE', 'RUSSELL, LISSA', 'CLEARWATER, JUDGE MA', 'REYNOLDS, KATHERINE', 'RABIN, GRETTA', 'ROOTAR', 'FAWN, FELICIA', 'ACBA', 'FRANKENSTEIN MONSTER', 'ANT-MAN', 'BOX', 'PENDRAGON, ARTHUR', 'MORLEY', 'URSON-WELLZ', 'DARKHAWK DOPPELGANGE', 'SEA WITCH', 'STANE, OBADIAH', 'VOLSTAGG', 'PENTIGAAR', 'EXILE', 'DEVEREAUX, IRIS', 'HELLEN', 'LEFT-WINGER', 'ONSLAUGHT', 'WRECKER III', 'HORTON, PROFESSOR PH', 'WILD CHILD', 'NECROMANCER', 'MILLENNIUM MONARCH', \"ZA'KEN\", 'CASSIOPEIA', \"DEATHCRY [SHI'AR]\", 'MAJESTON ZELIA', 'THOR IV', 'FIN'})\n",
      "======\n",
      "frozenset({'WINDSTORM', 'BLOODSCREAM', 'PRINCESS NEPTHYS', 'FIELDSTONE', 'HELLFIRE', 'COOPER, COLE', 'BEAR', 'MANTLO, BILL', 'RAKIM, SEN. KAMAL', 'MARIN, DR.', 'BANDIT', 'GARRETT, JOHN', 'LEWIS, SHIRLEY WASHI', 'SIN-EATER', 'DELGADO, FATHER', 'OVERRIDE', 'MOLLE, DR.', 'CROSSFIRE', 'MYSTERIA', 'OX III', 'CHADWICK, DR. HESPER', 'DEWOLFF, MEREDITH', 'CYCLONE II', 'KING (OF THE SEWER P', 'TRACER', 'ICE PRINCESS', 'ODDBALL', 'WARTON', 'CONSTRICTOR', 'DEATHSHIELD', 'MUTANT MASTER', 'BATWING', 'TEQUILA', 'GOLDIELOCKS', 'BRAMER', 'BROMWELL, DR.', 'LOCKER, MR.', 'MODULAR MAN', 'KRAA', 'GUNDERSON, COL. ROLA', 'BARRACUDA', 'CRUSHTACEAN', 'FAZE', 'PAPA GRANITE', 'SLAMBEAUX', 'CITIZEN V', 'SCANDIUM', 'ALBUQUERQUE, JEREMIA', 'CHLORINE', 'BUZZARD', 'BARRON, RICK', 'HARRIS, BERNARD', 'BEETLE', 'SPIDER-MAN', 'PALERMO, HARRIET ROS', 'PULSE II', 'LEQUARRE, GERRY', 'SKINNER', 'GABRIEL III', 'FLINT, LT.', 'GERASI, LESLIE', 'ROCKET RACER', 'BRINKE, NIOMI', 'SMASHER II', 'HILLIARD, JACOB', 'MARTINEZ, LINETTE', 'GAMELIN, JOHN T J.T.', 'ROBERTSON, MARTHA', 'HARRINGTON, PRINCIPA', 'ARMSTRONG, ?', 'DESTRAK', 'TOPSPIN', 'SLYDE', 'IDNAR', 'LORD OF LIGHT', 'KONO', 'FUANARO, RENEE', 'MR. FEAR IV', 'STROUD, SIMON', 'BAZIN, ANDREW', 'MACENDALE, JASON JR.', 'BRAITHWAITE, JUDGE R', 'FOREIGNER', 'MORLUN', 'BLACK MOUNTAIN', 'SOUSA, PAUL', 'FOX, PHIL', 'HALFTREE, HORACE', 'MR. FEAR III', 'BLOODLUST', 'PRETTY LARRY', 'MALICE V', 'GEE', 'VIBRANIA', 'SCORPIO III', 'VEGA, ROBIN', 'WATSON, KRISTY', 'LILITH', 'IZANAMI', 'CALYPSO', 'JUSTICE II', 'THALLIUM', 'BROWN, ABE', 'SMITH, SIR DENIS NAY', 'LOPEZ, ANTONIO', 'GROSS, CLIFFORD', 'MENKEN, DONALD L.', 'STOCKBRIDGE, CHARLES', 'THUNDERBOLT II', 'SHOCKER', 'OSBORN, NORMAN', 'PARKER, MARY (ROBOT)', \"B'KOSA, GEN. JONATHA\", 'SIMMONS, RANDALL', 'TRASK, RAYMOND', 'KWAN, TERRY', 'PAPA NEBO', 'SHADOW-HAND', 'JANSON, DR. ANDREA', 'KINGPIN', 'CONCIERGE, LE', 'HARRISON, COL. EDWAR', 'SCIMITAR', 'WHITMAN, DEBRA', 'THOMPSON, JESSICA JE', 'FAROUK', 'FEROCIA', 'HOYT, TONY', 'KRAVEN THE HUNTER', 'SINCLAIR, MORGAN', 'CALIFORNIUM', 'LUCIFER, REV.', 'KETCH, BARBARA', 'BOMBLAST', 'OMORO', 'LEGS II', 'NIGHTEYES', 'HINDSIGHT LAD', 'MARTINEZ, AKASHA', 'GALANNAN, BILL', 'FIREFLY', 'CORONA', 'JONES, BART', 'ETUBAN', 'HINDS, PATRICK', 'ADORA CLONE', 'KARIM, MERYET', 'LIZARD II', 'FIELDING, CLARENCE', 'WAGNER, ERNIE WHACK ', 'CARBONE, ROSALIE', 'MS. FORTUNE', 'CROWN', 'RIORDAN, JIMMY', 'LEIGHTON, BRIAN', 'MOTHER OF PEARL', \"JACK O'LANTERN II\", 'VENOMM', 'LOOP', 'GERASI, DON MARIO', 'MR. DEATH', 'STAHL, VERONICA', 'PROWLER III', 'CLAYTON, KATRINKA JA', 'FLORES, DAHLIA', 'SYNARIO', 'CAPUTO, DR. JULIA', 'REBEL', 'NORTH, DAKOTA', 'NOVA-PRIME', 'TEMPLE, CLAIRE', 'GRANT, GLORIA GLORY', 'MAXWELL, MORRIS', 'BLADE', 'ANDERSON, NICKY', 'CRIME-WAVE', 'MCPHEE, LOUIE', 'EPSTEIN, PROF. NORA', 'ALRAUNE, MARLENE', 'DUSK', 'SILVERMANE', 'KLEINFELDT, LORNA', 'JAMESON, J. JONAH', 'PARADY, CAPT. RONALD', 'OSBORN, HARRY', 'ADMIRAL PROTOCOL', 'ANANASTASIA', 'JONES, ARMAND', 'LIZARD', 'UNDERTAKER', 'DR. ZEUS', 'STARHAWK', 'MUSE', 'SHARPE, ROSALINDE', 'ZOLA, ARNIM II', 'STACY, NANCY', 'LEVINE, ABBY', 'STONE', 'LIN, MEI', 'RIP', 'COUNTERWEIGHT', 'FORTUNE, DOMINIC', 'HIBBERT, ELLEN', 'FUSION', 'STONE, CHANTAL', 'SKULL-JACKET', 'NIGHTMARE', 'BALDWIN, MADELYNE MA', 'WU, LEIKO', 'DEMOGOBLIN', 'BLACK MARIAH', 'BUSHKIN, BARNEY', 'INNARDS', 'SCREAM', 'BAYMAX', 'URICH, BEN', 'MARTHA', 'LA BANDERA', 'RAPTAR', 'COLON, CHERYL', 'SPIDER-MAN CLONE', 'SCHWINNER, DR. ERIC', 'RANSOME, DR. SUSAN', 'HOPKINS, STEVE', 'DAVIS, PRINCIPAL', 'VULTURE', 'TRAINER, DR. SEWARD', 'MCCOURT, ALLISON', 'DIAMOND, BOB', 'MR. SCRATCH II', 'FROG-MAN II', 'KETCH, DORIS AUDRA', 'AIRBORNE', 'CAIRN, DET.', 'BAMBI', 'MUMM, MAX', 'DECIBEL', 'DOCTOR DREDD', 'FLY', 'DEADHEAD', 'MUGGINS, MAMIE', 'THULE, GEN.', 'STARHAWK II', 'MURPHY, JOBOA', 'MR. NACHT', 'WALRUS', 'STRONGHOLD', 'GOLD', 'P', 'MACINTOSH, ANN', 'GREER, GABRIELLE', 'CALKIN, SUSAN', 'MARAUDER', 'PAYBACK', 'FIREBRAND II', 'CORRIGAN, ARCHIBALD ', 'CYBORG X', 'SHA SHAN', 'NORTH, RICKY', 'PARKER, MAY', 'SCAR THE STALKER', 'SHOT', 'MCBRIDE, BEATRICE', 'BORROUGHS, CHARLES C', 'POWER MAN', 'MR. IMMORTAL', 'DARK', 'GLAZER, FAST FREDDY', 'DRAGONFLY II', 'NEDDA', 'LOBO, CARLOS', 'ANTORO', 'MANOLIS, LT. NICK', 'BYRNES, GAYLE WATSON', 'BAZIN, PHILLIPPE', 'COCKROACH', 'STACY, HELEN', 'SURGEON GENERAL', 'JACK', 'PRETTY PERSUASIONS', 'MARTS, MR.', 'TURBO II (B)', 'MALPRACTICE', 'BLACKOUT II', 'DIPALMA, JOHNNY', 'CHAKA KHAN', 'SOPHIE', 'FULLERTON, MARY ELLE', 'SKY-WALKER', 'FRANKIE THE FISH', 'BUSHMASTER', 'MERCURY II', \"W'KANDRO\", 'NAILS', 'LUCAS, JAMES JR.', 'TANNEN, PAUL', 'LANSING, CHERYL', 'PRIMO, ALEXIS', 'FLORES, SHANICE', \"ELEC'TRIX\", 'GERASI, JOEY', 'TOFIELD, FRANCESCA', 'RICHMOND, DELROY', 'STILES, TATJANA', 'POWER MAN III', 'STRYKER, WILLIS', 'HAVERSHAW, JASON', 'RIDER, CHARLES', 'SHREEVE', 'AURA', 'BOMBSHELL', 'COTTONMOUTH', 'GARABED', 'REANDEAU, DR.', 'HALDEMAN, CALVIN', 'URANIUM', 'VACUUM', 'BIG MAN', 'YOUNG, MAX', 'FIXER', 'SPHINX', 'LU, MR.', 'LANCELOT, SIR', 'TARR, BLACK JACK', 'BULLET', 'CARETAKER', 'OKOYE', 'SNAKEBITE', 'TECHNOSPIKE', 'WEASEL', 'NIELS', 'BURLINGAME, CALVIN', 'STONE, MEG', 'BASILISK II', 'CAT BURGLAR', 'HYDROMAN', 'DARK WIND', 'TARANTULA', 'WATER WIZARD', 'RICKMAN, JONATHAN', 'STAMPEDE', 'POWER, DR. JIM', 'DEVIL DINOSAUR', 'PROWLER', 'FIREFIGHT', 'CELLANOS, MARCELLA', 'KHANDRUVITCH, DR. VA', 'TYNE, ELIZABETH', 'WHITE TIGER II', 'POISON', 'WARBOW', 'WHITE TIGER', 'SNIPER', 'LUCIFER II', 'VENOM', 'RUBINO, STEVE HEADSE', 'WHITE RABBIT', 'STACY, GWEN (CLONE)', 'DEADPOOL', 'CARBON', 'RAMONDA', 'RAZORFIST', 'MARTINEZ, MR.', \"DIE'ODE\", 'BRADLEY, JESSICA', 'CORONARY', 'SLOAN, ANNA', 'SILENCE', 'BOMBADIER', 'RAVEN, MATTHEW', \"L'KLEKK'TAK\", 'FLATMAN', 'ROBERTSON, RANDY', 'CHURCH, LYNN', 'CARDENAS, PACO', 'NZAGA', 'BUCKY II', 'CHALIZ, SHANAZ RAYNA', 'TROLL', 'CERBERUS II', 'BARRENOS, OMAR', 'CHTYLOK', 'BAAL II', 'RAVEN, LT. JACOB', 'SILVER SABLE', 'BLISS, BONNIE', 'STEEL WIND', 'WENDIGO III', 'MORELLE, NOLAN', 'RIFKIN, BIFF', 'OUTLAW', 'CONNORS, MARTHA', 'TAROT', 'KING, HANNIBAL', 'KANGAROO', 'MOTHER INFERIOR', 'PLANNER', 'HALL, MORGAN', 'INGOT', 'JOSTEN, CARL', 'TSKAROV, GENERAL', 'WARHAWK II', 'ASHUR', 'STACY, ARTHUR', 'LOPEZ, MARIA', 'BUSHMAN, RAOUL', 'RANGER I', 'MARLEY, MITCH MADMAN', 'NITRO', 'WATSON-PARKER, MARY ', 'SMITH, KEVIN', 'YANO', 'SANDMAN', 'RAVEN, SABBATH', 'ROULETTE II', 'MCPHAIL, NATALIE', 'EL TORO NEGRO', 'MURPHY, SEAN', 'HUMBUG', 'DRAKE, FRANKLIN', 'CARR, DAN', 'ANSWER', 'ANGEL II', 'OUTRIDER II', 'MADAME QWA', 'RANDI', 'GAMBONNO, LUIGI', 'KANNOR, ORLANDO', 'BUZZ', 'CASSADA, ROBERTO', 'SIMS, EZEKIEL', 'STEEL SERPENT', 'CREED', 'WATCHFIRE', 'JANES, FATHER MICHAE', 'STAR, JOAN', 'THOUSAND', 'ADVENT', 'TENDRIL', 'LEGS', 'EIGHTBALL', 'CANE', 'HARRIS, CHRISTINE', 'IZANAMI II', 'HOLKAR, DR. SHYAM', 'MONGRAIN, ALISON', 'ZIRCONIUM', 'SUICIDE', 'TRI-SENTINEL', 'VERMICELLI, GIANNI', 'BLOOD SPIDER', 'TIAMAT', 'CHEMISTRO', 'ANGELOPOULOS, ANGEL ', 'FLAG-SMASHER', 'ROLLINS, MRS.', 'ARSENAL II', 'ELECTRO', 'TANTRUM', 'BRAINSTORM', 'DUNHAM, LAURA', 'ROCKWALL', 'SQUID', 'STAINED GLASS SCARLE', 'I.Q.', 'ZURI', 'TENPIN', 'CHAN, SARAH', 'BYREL', 'OVERBOSS DIXON', 'GENERAL OBSIDIAN', 'ADAMS, CONGRESSMAN H', 'HYPERTRON II', 'FITZGERALD, KENNY', 'MAYHEM', 'AZIR', 'PROFESSOR ANGST', 'TSO, JASON', 'BLACKWING II', 'BLASTING CAP', 'WHIPLASH II', 'MADAME ROSE', 'GRIFFITH, D.W.', 'LAMY, KELLY', 'THOMPSON, ROSIE', 'SENNET, PAMELA', 'WING', 'SENYAKA, TIA', 'NINJA', 'JONES, SANDY', 'CHAUFFARD', 'ZARATHOS', 'CAT MAN III', 'WHITE WOLF', 'TURK', 'KINGSIZE', 'TULLY, DEREK', 'TOWER, BLAKE', 'MOONSTONE II', 'ROSE II', 'LUBENSKI, NATE', 'CHADWICK, CHEER', 'GAULTHING, ANDERSON', 'ECSTACY', 'WARFARE', 'RAMBO', 'SCHOOLCRAFT, DR. DEN', 'BERNIE', 'DWYER, MARISSA', 'WEYING, ANN', 'CARRION II', 'BURLEY, MIKE', 'HENCKEL, MARIA', 'Q', 'JILLETE, RANDI', 'BOBCAT', 'AUTHORITY', 'STYX', 'DOC', 'STAR THIEF III', 'RAZORFIST III', 'BLACKWING', 'SHE-WOLF', 'CRAWLEY, BETRAND', 'NIGHT', 'PURL, DR. NOAH', 'WARREN, MR.', 'DARKOVER, PROFESSOR ', 'GEDDINGS, JUDITH GHO', 'MARTINEZ, ISADORA', 'CACHES, PROF. MARINA', 'HONEY LEMON', 'QUENTINO', 'WEISS, KONRAD KONNIE', 'DELILAH', 'CHORD, ANDREW', 'ROTWRAP', 'QUESADA, JOE', 'OSBORN, LIZ ALLAN', 'COGGER', 'LOWELL, DR.', 'LEWIS, DET. GARON', 'JOHNSMEYER, JAMES', 'COBALT', 'GOTTFRIED, WILLIS', 'ATTRACTIVE LAD', 'ALBINO', 'HUNTER, IAN', 'TORK, SGT.', 'CASSADA, MICHAEL', 'WATANABE, YUJI', 'BEVATRON', 'RAINTREE, VIVIAN', 'BROWN, MINDY MCPHERS', 'SCOTT, PARIS', 'MARLES, DR. THOMAS', 'BLOOD-TIDE', 'BYRNES, TIM', 'CHEN, DR.', 'CHALIZ, HAZRAM', 'KREIGKOPH, GEN.', 'BATROC', 'MARISSA (OF GENE-TEC', 'LANDERS, RICKY', 'MOORE, TONI', 'LO, JIMMY', 'PARKER, MARY', 'LOPEZ, SALMA', 'SMILING TIGER', 'HOBBS, DET.', 'PARKER, BEN', 'DENNEHY, ROBERT', 'FITZPATRICK, WILL', 'STYGE, REV.', 'BRADLEY, CARRIE', 'VANADIUM', 'STACY, PAUL', 'JEFFRIES, MAGGIE ', 'COLDHEART', 'MATADOR', 'MCCABE, NINA', 'DAKESIAN, NANCI', 'HOLLYWOOD', 'SNAKE-EYES', 'JESSUP, DR.', 'WOLF', 'ELEKTRA', 'BOWEN, FATHER MICHAE', 'JIKEKT', 'MR. PAYBACK', 'SAINT, JOHNNY', 'CHARCOAL', 'PUMPKIN', 'WALSH, LYNN', 'SNIDER, DET. LOU', 'FORTUNATO, MARY', 'SNARE', 'CAMPBELL, MEREDITH', 'MIDNIGHT III', 'YIN, ANGELA', 'SOFEN, KARL AUGUST', 'COPPER', 'PACE, MICHAEL', 'PREYY', 'KNIGHT, MISTY', 'IRON', 'TAKU', 'DYNA-MITE', 'HARDCORE', 'BANKS, SHARON', 'FUNARO, DONNA', 'ANDERSON, BAXTER', 'DISCUS', 'MALONE, JULIUS', 'EQUINOX', 'GLAMOUR GIRL', 'CARTER, SHARON', 'WATSON, KEVIN', 'TOMBSTONE', 'JACOBY, KYLE', 'CITIZEN V III', 'DAKINI', 'ANIMATOR II', 'VERMIN II', 'PROUST, PAUL', 'ANDERSON, CHET', 'BAKER, ANNE-MARIE', 'CARLISLE, MELISSA BO', 'STACY, CAPT. GEORGE', 'DEWOLFF, JEAN', 'BENTLEY, MILES', 'TAUREY, WILLIAM MALC', 'KEMBLE, DR.', \"FU'SE\", 'WESTON, SALLY', 'KILLDRAGON, HARMONY', 'HANRAHAN, GORDON', 'QUICKSAND', \"WHEELER, M'KONI MARY\", 'FORTUNATO, JAMES', 'HALE, JONAS', 'DREADNAUGHT', 'TOLLIVER, REV. JACKS', 'DILLON, JONATHAN', 'CORDITE', 'STEELE, SIMON', 'SPEEDBALL II', 'NAMELESS ONE', 'GUARDIAN IV', 'SPINNERET', 'BRIDGE, GEORGE WASHI', 'TWIT', 'FISHMAN, DR. JONATHA', 'BUEL', 'HONIKAWA, SHO', 'SPECTRUM, SINCLAIR', 'HARPY II', 'OSHIMA', 'SAMUELS', 'TORPEDO', 'BROMINE', 'KOWALSKI, TRISH', 'PIRANHA II', 'CHLOE', 'KID QUARRY', \"SSS'LETHCOTT\", 'HELIX', 'SOFEN, MARION', 'TANNER, ARCHIE', 'RAZOR WIRE', 'WATSON, MADELINE', 'CASS, LARRY MAD DOG', 'SPERZEL, ANTON', 'BLACKWULF', 'TREVORIK', 'HOARFROST', 'DEUCE', 'BADALINO, LT. MICHAE', 'SWANN, DR. EVAN', 'COMMCAST', 'SNOWBLIND', 'DAMAGE', 'CLASH', 'CRIMEBUSTER', 'MASTER OM', 'HOCHBERG, ROGER', 'LANG, ALLISON', 'EXPEDITER II', 'SNOW, CHARLIE', \"O'BREEN, GLORIANNA\", 'WATANABE, EMMALINE B', 'FITZGERALD, MOLLY', 'SPROCKET', 'ABBOTT, JACK', 'SHANG-CHI', 'HARKER, QUINCY', 'PLASMA', 'TRAYNOR, HARLEY', 'SWIFT', 'MONSTROID', 'JOYSTICK', 'JOSTEN, LINDY', 'ROTH, DR. GERALD', 'FENWAY', 'CARNAGE', 'COPPERHEAD', 'STEWART, MACKINLEY', 'MASKED MARAUDER', 'ESTAVES, DR. ROSA', 'SAWYER, RYAN', 'GANNON, RICH', 'MALTESE', 'FURY, NICK L.M.D.', 'MONTANA II', 'CONDOR', 'SMOKESCREEN', 'WARHEAD', 'GIBBON', 'GREEN GOBLIN III', 'ROBERTSON, JOE', 'CITIZEN V II', 'JEFFERSON, DR.', 'NELSON, CANDACE', 'BLAKE, EMILY', 'MAJOR VICTORY', 'DADDY WRONGLEGS', 'MILLER, FRANK', 'THORPE, GAVIN', 'YOUNG, KIM SUNG', 'SAGE, HENRY', 'CARBONE, SALVATORE', 'NAUTILUS', 'CARPATHIAN, ANDREW', 'CARLTON, LUCY', 'JONIN', 'EARLE, CARYN', 'TAKACHIHO, HIRO', 'BLOODSHED', 'ERBIUM', 'GRIPPO, BILLY', 'GRAZIA, VINCENT VINN', 'TINKER, SHEA', 'VOLX', 'SPIDER-MAN III', 'KARLSON, KAREN', 'ZABO', 'FIELDS, TRACI', 'STRUCKER, ANDREA', 'RIDER, GLORIA', 'HOLY', 'MCCOY, NORTON', 'NIGHTSHADE', 'GUARDIAN III', 'CORDOVA, JUAN', 'GARTHAN SAAL', 'CALDRONE, JAVIER', 'FIREARM', 'PARETTI, TONY', 'URICH, DORIS', 'WHYTE, HARMONY (HARM', 'GILLISPIE, ANDREW AN', 'TAKAHAMA, JANE', 'TORO II', 'CUSSLER, PHILLIP', 'SHIPPINSKY, MALIK', 'GLENN, HEATHER', 'DICHINSON, RICKY', 'FIRESTAR', \"O'DONNELL\", 'HAMMERHEAD', 'BLOODSTRIKE', 'CHERRYH, RANDOLPH WI', 'TAYLOR, JENNA', 'SNIPES, DET.', 'SARACEN', 'MAGNESIUM', 'CARDIAC', 'DOLAN, STACY', 'NOCTURNE II', 'CRIPPLER', 'SIMMONS, ARCHIE', 'KANE, MARCY', 'PUMA', 'DUBOIS, DR. CLAUDIA', 'WATSON, TOMMY', 'LOBO, LUCKY', 'TOLLIVER', 'SABINI, JERRY THE WH', 'BRANDT, ELLEN', 'GENERAL ADMISSION', 'AYALA, FILIPPO', 'FIELDS, TODD', 'LYNNE, MONICA', 'DR. DOOM DOPPELGANGE', 'STILETTO', 'RECOIL', 'LASHER', 'ASYLUM', 'BROWN, FRANK', 'RAMOS, MANUEL', 'CATSEYE', 'MARKED MAN', 'BARON MACABRE', 'FORRESTER, DR. CEDRI', 'BUCHANAN, SAM', 'SMUGGLER II', 'GRIFFIN III', 'PULASKI, JOSEPHINE J', 'SPHINX II', 'MUNOZ, CARLOS', 'SURESHOT', 'YRIK', 'CRIME-BUSTER', 'BOLT', 'PHANTOM', 'TYPHOID MARY', 'TWAKI, DR. TED', 'CAMBRIDGE, MOXIE', 'PESTER', 'ROBERTS, CHESS', 'COUNTERWEIGHT II', 'BULLET BIKER', 'SHADOWCASTER', 'IGOE, MAX', 'STAPHOS, DR. MONICA', 'HAG', 'CHAKRA', 'WINDEAGLE', 'SLUGANSKI, ERNIE', 'AKAFE', 'KOMODO', 'DELGADO, LUZ', 'WIDDOWS, SGT.', 'MONTESI, VICTORIA', 'PARKER, RICHARD', 'KALE, NAOMI', 'SHIFFMAN, MAXIE', 'LEVIATHAN V', 'ROMMEL, EDWIN ROMULU', 'BITMAP', 'METEORITE III', 'SWARM', 'QUORUM', 'CANDY', 'DEX', 'SLAVINSKI, SALLY', 'POWELL, JONATHAN', 'BLACK FOX II', 'SCOTT, PETER', 'BLACK TARANTULA II', 'GOG', 'SHOTGUN II', 'FIRESTRIKE', 'AYALA, MRS.', 'SLOAN, DR.', 'BLAZE, EMMA', 'SYNAPSE', \"TATSU'O\", 'DIRTY WOLFF', 'FRANKLIN, JEREMY', 'BAZIN, ALLEGRA', 'ARMS MERCHANT', 'FIELDS, MARJORIE', 'PAVANE', 'DOORMAN', 'INSOMNIA', 'AYALA, NESTOR', 'PRO, LE', 'SAYGE', 'DRAKE, CARLTON', 'SABOTEUR', 'JOLT', \"N'GAMO\", 'TYPEFACE', 'CAPTAIN POWER', 'MEXXA RIEN', 'LANG, TIMMY', 'STERN', 'AYALA, AWILDA', 'MOSH', 'WATSON, ANNA', 'PARTRIDGE, STEVE', 'DUBOIS, NOAH', 'SILENCER', 'PALMIOTTI, JIMMY', 'DIRKSON, GUS', 'MARLOWE, STEVE JR.', 'GONZALEZ, RAYMOND', 'MASTER ZEI', 'SILVER II', 'BURRTHROP, T. BARTON', 'BECKFORD, NOEL', 'KNOCKOUT', 'CONNORS, BILLY', 'PARKER, RICHARD (ROB', 'NICHOLS, TOM', 'CARLISLE, JENNA', 'KELLEHER, MARY', 'EUROPIUM', 'MR. JIP', 'PRIMUS', 'ELLINGTON, DR.', 'KILLOBYTE', 'SHELL', 'SHAUNEGHANN, MICHAEL', 'GLADIATOR', 'KENNEDY, LOUISE', 'BORA', 'BLOWTORCH', 'MATHEMANIC', 'LEEDS, NED', 'MULDOON, TEXAS JACK', 'FENTON, BARNEY', 'MYSTERIO II', 'KILLER SHRIKE', 'SUN, LIN', 'SILVER SCORPION', 'MAYE, APRIL', \"KEKA' AKELUAK\", 'MARTINEZ, ALITHA', 'POWELL, JASON', 'TANNEN, VINCENT', 'ROUGHHOUSE', 'STARK, HOWARD', 'SHEFFIELD, LEAH', 'SATHAN', 'SPITZ, BARRY', 'FIELDS, PROF. WILLIA', 'GRANT, GATOR', 'MONSTER FROM THE LOS', 'LAVENDER, MAXINE', 'SCRIER', 'WILLIFORD, BRENT', 'CLUSTER', 'WEED', 'ADAMS, NICOLE NIKKI', 'MARAUD', 'DOLMAN', 'HARDY, LYDIA', 'DOCKERY, RUPERT', 'KILLMONGER, ERIC', 'WHITE DRAGON II', 'BUSHWACKER', 'HELIUM', 'SMERDILOVISC, VICTOR', 'CASSADA, CARLOS', 'DARE, JOHNNY', 'APE MAN II', 'GREEN GOBLIN IV', 'TAKACHIHO, MRS.', 'LANNING, DR.', 'ROYTON, RAYMOND', 'CUSSLER, PHILLIP JR.', 'SUTTON, JOHN', 'PYRE', 'CESIUM', 'INFOMORPH', 'SCREAMING MIMI', 'MAXOV', 'JENKINS, WALTER', 'WHITE, PROFESSOR', 'MINDSTORM', 'PATCH II', 'BARBAROSSA, VINNIE', 'BUCHETTO, SALVATORE ', 'COFFY, DET.', 'LIVEWIRE', 'BERNSTEIN, EMMA WEBS', 'STRANGLER', 'PARKER, HORACE', 'EVERETT, BILL', 'GATZ, WILLIAM BILLY', 'SLUG', 'NAVARRO', 'RAZORFIST II', 'JESTER', 'ELLIS, KEN', 'HATCHWAY, VERNON', 'SAINT, AMANDA', 'GNUCCI, MA', 'CHAINSAW', 'MCCULLOUGH, DR. ANDR', 'LORD KARNAJ', 'BLAZE, ROXANNE SIMPS', 'LOBO, EDUARDO', 'RIGHT', 'SUNSTROKE', 'GOGO TAMAGO', 'CHEKOV, ARTHUR ANTON', 'CROIX, ASHLEY', 'SLADE', 'SODIUM', 'GILMORE, BERT', 'WILD WHIP', 'IONELLO, JASON', 'TURK II', 'POWERHOUSE', 'EISMAN, BETTY', 'SPEAR', 'FURMINTZ, HARMON', 'NARDI', 'WALSH, CAPT. ALEXAND', 'DEZOAN, JOHN', 'THERMO', 'BARON STRUCKER', 'MURDOCK, BATTLING JA', 'RASPUTIN, LUCIFER', 'GROSS, IRA', 'MULLANY, MIKE', 'STERMAN, ANDREA ANDI', 'CUTTER', 'RAVEN, HELEN', 'WARD, SEN. STEWART', 'KING CADAVER', 'KORREK', 'MR. LUCK II', 'BLIND AL', 'GRAVITON', 'MADSDEN, TREVOR', 'THOMAS, BECKY', 'EPURER, GISCARD', 'WRANGLER', 'TUMOLO, DR. JOANNE', 'C.F.', 'WHEELER', 'MACENDALE, KAREN', 'WING, PROFESSOR', 'BLAKE, BECKY', 'PULSE', 'WYSPER', 'KANGAROO II', 'BUCKNER, GRANT', 'NELSON, FRANKLIN FOG', 'LEWIS, DEVON', 'DOMINEX', 'RIDER, ROBERT ROBBIE', 'TOLLIVER, MELBA', 'TRICKSHOT', 'FIREWALL', 'HILDEBRANT, DR.', 'JAMEKA', 'DUVALL, SNAKY', 'D.K.', 'MONTENEGRO', 'TOY', 'WOODS, TIMOTHY', 'MORETTI', 'OX', 'AVRIL, SALLY', 'MARTINEZ, MRS.', 'MCDONNELL, OSCAR', 'CICERO, CAESAR BIG C', 'GARTH, DONNA', 'REANIMATOR', 'MAGMA II', 'NICKEL', 'BERNHARD, CLARICE', 'FIREFIST II', 'BLACK SPECTRE', 'COMET', 'SENREICH, GUNTHER', 'GREICO, LINDA', 'WOODS, MIRANDA', 'BRASS', 'BEETLE II', 'DEVILLE, JENNIFER CR', 'CARLTON, JAKE', 'HELLSPAWN', 'CONTONI, PAUL', 'DILLON, BERNIE', 'MOONBOY', 'NIKKI', 'JIGSAW', 'RAMSHOT', 'KAFKA, DR. ASHLEY', 'DEVOURER', 'FONTREAUX, GUY', 'MADAME WEB', 'SATELLITE', 'KINGSLEY, DANIEL', 'COPPERSMITH, ALFRED', 'PAINE, DR.', 'KREIGER, SIMON', 'KLEIN, SUMMER', 'HOFFMAN, ALICE', 'SKIN, NYLA', 'SCORPIA', 'T-RAY', 'LIVING MONOLITH', 'SCORPION', 'HOLDSWORTH, PARKER', 'MCCORMICK, BARRY', 'COMBAT', 'CAESAR, JONATHAN', 'VON STRUCKER, WERNER', 'TAI', 'HIBBERT, HOPE', 'CASSADA, ROSA', 'SHOCKWAVE', 'CRUSHER II', 'SHATTERFIST', 'FERA', 'GALVIN, TOMMY', 'SMYTHE, ALISTAIR ALP', 'GOLDFIRE', 'ROYCE, JENNIE', 'LOPEZ, JOSE', 'LIPTON, TRENTON III', 'POWELL, AMY', 'THORPE, LUKE', 'DRAGONMEGAS, JESSIE', 'ANUBIA', 'JUPITER', 'SIR', 'KID COLT II', 'HAMMER II', 'BLACK TARANTULA', 'SAUNDERS, KRISTINE', 'DARLA', 'FACADE', 'PORGA', 'MARTINEX', 'TIMESLIP', 'DONYELL', 'ROSE IV', 'SISTER SALVATION', 'HUNGER', \"D'AURIA, JACK\", 'CARRERA, MIA', 'CHARLIE 27', 'VANISHER', 'PROTECTOR III', 'JAGGED BOW', 'CARRION', 'GERARD, TERENCE', 'SHINCHUKO, LOTUS', 'WINTHROP, DESIREE', 'SUNSET', 'TORPEDO II', 'CONUNDRUM', 'JEKUAKKEKT', 'PETERS, SHANA TOC', 'ROSEN, WALTER', 'CARRION III', 'AMERICAN SAMURAI', 'POWELL, OFFICER MIKE', 'WRONG', 'BOONE', 'DEATH STING', 'MODINE, REP. BERNARD', 'BERGLUND, GEN.', 'FU MANCHU', 'KARSANO', 'SMASHER III', 'ARMADA II', 'HO, LI MUAN', 'GERASI, MARY ROSE', 'LANDERS, RAY', 'SHOTGUN III', 'WALTERS, BILLY', 'MEACHUM, WARD', 'THOMPSON, EUGENE FLA', 'AGENT-X', 'WEI, LINDA', 'MCBRIDE, MARTHA', 'ENT', 'PIERSON, FRED', 'ANDERSON, MARJORIE', 'CHORD, MIYAMI', 'JAKAL', 'FLYNN', 'LIGHTNING FIST', 'FIDDLER, BARNEY', 'MICROCHIP', 'BRUKNER, ILANEY', 'KUROYAMA', 'MAGUIRE', 'MANNING, ERIKA', 'BLACK CAT', 'BANCROFT, MARTINE', 'CACHES, FABIAN', 'WHISPER II', 'NELSON, DEBBIE HARRI', 'BIG BEN', 'PALERMO, VICTOR', 'DREYFUSS, RACHEL', 'BIGGERS, MELVIN', 'WIGGINS, TRACY', 'MEDUSA II', 'JESTER III', 'GREEN GOBLIN', 'MEAGHER, TYLER', 'DAGGER', 'DRUMM, COLLETTE', 'GRIZZLY', 'LINCOLN, WILLIAM WIL', 'MCNAIR, TAD', 'FANG III', 'LOOTER', 'NAKOTA', 'GARRISON, DR.', 'SMITH, DR. ARMSTRONG', 'RIGOLETTO, DON DANTE', 'FLUFFY', 'CREEP', 'HARGROVE, ELIAS', 'DEVINE, ANTON', 'EL UNO', 'GOONER, MELVIN', 'RALF', 'LUCAS, JAMES', 'MCCORMICK, FIONA', 'BROOKS, ANNA', 'BRYCE, ARCHER', 'OGRE II', 'MASTER MONARCH', 'VOLGA BELLE', 'ROGERS, GAYLE', 'BLACK CRANE', 'HORTON, DOUGIE', 'KICKBACK', 'EL AGUILA', 'SCRIER II', 'HATCHET MAN', \"D'WON\", 'SIBERION', 'FIRE EATER', 'ACHEBE, REVEREND DOC', 'IMPULSE II', 'WILSON, MERCEDES', 'MORGAN', 'FRENCHIE', 'STACY, GWEN', 'SCARPETTI, ALPHONSE', 'RINGLEADER', 'THERA', 'CHEN', 'FLYING TIGER', 'SHOC', 'NALES, DET. REBECCA ', 'PINKWATER, ELLA', 'TAI II', 'CARBONE, JULIUS', 'ZINGH', 'SHRIEK', 'BLOODY MARY', \"D'ANGELO, LIEUTENANT\", 'FLYING FOX', 'CADMIUM', 'MEDEA', 'MEATMARKET', 'STRUNK, BELLA', 'DAVIDOFF', 'BELLADONNA', 'NOVA 0:0', 'MAN-APE', 'FANCY DAN', 'SCRIER JR.', 'ROCKET RACER II', 'HYPNO-HUSTLER', 'ARRANGER', 'JAYE-FIRESTONE, GING', 'CHAKA KHAN II', 'FISK, VANESSA', 'HOOPSNAKE', 'LIGHT', 'HOBGOBLIN III', 'WILLIAMS, NILES', 'VIENNA', 'BONES', 'RAZORFIST ROBOT', 'ZODIAK', 'BLAZE, CRAIG', 'FLAME', 'DR. OCTOPUS II', 'LODESTONE', 'CHAMELEON', 'ASTROVIK, ARNOLD', 'SIEGE', 'MORPHEUS', 'RAZOR', 'RESTON, CLIVE', 'MEACHUM, JOY', 'MAJOR LOVE', 'BEETLE ROBOT', 'TAKIMOTO, RON', 'PUNISHER II', 'TOWNSEND, CHRIS', 'LOCKHART', 'FONDOZZI, MICKEY', 'BLACKWELL', 'SHERIDAN, RICHARD RI', 'MR. FEAR V', 'POWER, MARGARET', 'WILSON, LOUIS', 'LEAP FROG', 'RHINO', 'SILVER SAMURAI', 'YONDU', 'JAMESON, MARLA MADIS', 'YAMIR, SASHA', 'EL CONQUISTADOR', 'EXETER, LT.', 'PEACEKEEPER', 'SHADES', 'FROST, DEACON', 'CUSHING, KATE', 'MR. FEAR', 'HITCHUCK, KELLY', 'BUMPO, MR.', 'WHISPER', 'SMYTHE, SPENCER', 'BRIGGS, AGENT STEPHA', 'HARRIS, MONROE', 'UNUS THE UNTOUCHABLE', 'ROSS, EVERETT KENNET', 'CHESBRO', 'LANDERS, GENA', \"AJES'HA\", 'LANGFORD, DR. DAVID', 'DR. OCTOPUS', 'WATSON, PHILIP', 'STRUCKER, ANDREAS', 'ROBERTSON, AMANDA', 'JUSTIN, GLORIA', 'LYNN, NORMA', 'QUEEN DIVINE JUSTICE', 'OWL', 'SCHEMER', 'BOOMERANG', 'SLIDE', 'SILVANI, VITTORIO', 'KINGMAN, BILL', 'OSBORN, EMILY', 'STICK', 'DOGGEREL', 'PROTO-GOBLIN', 'SOLO', 'SAVAGE STEEL', 'BELIAL', 'SNAPDRAGON', 'MITCHELL, ROBERT', 'PILGRIM', 'VON RICHTOFEN, LT. M', 'IRON CROSS', 'NEPTUNIUM', 'PATILIO, MARIE', 'STINGER', 'POWELL', 'DAY', 'MAN-KILLER', 'BENDIX, DR. ALBERT', 'HASTINGS, PROF. LOUI', \"M'REEL\", 'FORTUNATO, GIACOMO J', 'BREWER, DR. MELINDA', 'MARVEL BOY', 'MINDWORM', 'STONE II', 'MEDINA, ANALISA MARI', 'RUSSIAN', 'BENGAL', 'THOMPSON, HARRISON', 'CALLAHAN, MIKE', 'SHADOWKNIGHT', 'JIOMO', 'HAMILTON, PAUL', 'FIXER II', 'STAR', 'JACKAL', 'RIPSTER', 'CARDINALE, CARLOS', \"MIDNIGHT'S FIRE\", 'TRUTH II', 'PLUTONIUM', 'CARLY', 'WIREHEAD', 'SPHINX III', 'MARVEL BOY VII', 'POTTER, BETSY BEATTY', 'RATLIFF, OFFICER LAR', 'SALTZ', 'REINHOLDT', 'BLACKBIRD', 'SMITH, DAPHNE', 'WEISENTHAL, DR. JACO', 'CRIME-MASTER', 'SCATTERSHOT', 'CROSSBOW', 'SPORE', \"W'KABI\", 'MONTANA', 'BARIUM', 'WORD II', 'SMASHER', 'CATHODE', 'OSBORN, NORMIE', \"K'AD-MON\", 'BYRD, NATHANIEL ALEX', 'PATTON, JESS', 'SHAMAN II', 'HUMUS SAPIEN', 'KEEVER', 'MURDOCK, SISTER MAGG', 'KRAVEN THE HUNTER II', 'ASYLUM II', 'KRUEL', 'BIZEN', 'LILITH II', 'AJAX II', 'BERTRAM', 'ICEMASTER', 'RANDEAU, DR.', 'OX II', 'FREDERICKSON, KOLINA', 'LETTERMAN, DAVID', 'BALDWIN, JUSTIN', 'THUNDERBOLT', 'CHANG, DR. PHILLIP', 'LOBLOLLY', 'HAMILTON, MICKY', 'DOLAN, CAPT. THOMAS', 'HYPERTRON', 'LUMLEY, JUDY', 'DIAMONDBACK', 'CRIMEWAVE', 'GOSAMYR', 'X-RAY II', 'STRANG, COL.', 'MR. LUCK', 'JETSTREAM', 'PIXIE II', 'STEGRON', 'LACE', 'SUNDOWN', 'BEEF', 'VERMIN', 'TIKUAK', 'CHROMIUM', 'RAND, HEATHER DUNCAN', 'GOULDING, DR.', 'LEFT HAND', 'HITMAN', 'VIBRATO', 'MASTER PROGRAMMER', 'CRIMSON COWL II', 'SCARFE, RAFAEL', 'GATTLING', 'DISPROSIUM', 'STONE, JOHN', 'TERRAFORMER', 'MERCADO, JOY', 'ROCKETLAUNCHER', 'SPIDER-WOMAN IV', 'SSSESTHUGAR', 'NOVA OMEGA', 'CANNONBALL', 'FURMAN, RICHARD', 'SIMPSON, CRASH', 'RAZORWIRE', 'CAULDER, SAFRON', 'RAPTOR', 'MASTERBLASTER', 'PHOSPHORUS', 'PAI', 'LAU, KING', 'OSNICK, OLLIE', 'STONE-FACE', 'WILKS, SHANTAL', 'CADAVER', 'WEISENTHAL, DR. JONA', 'MAN-MOUNTAIN MARKO', 'STONE, NELSON', 'CRITICAL MASS', 'GAROTTE', 'STACY, JILL', 'TENG, NIKKI', 'KATZENBERG, NICK', 'MURDER', 'CHALIZ, TABRIAZ', 'BOOBYTRAP', 'HAVERSHAW, ANDREA', 'VONYA, DR. ANATOLY', 'VANDERGILL, GEORGE', 'BLAKE, KENT', 'MISS ITCH', \"WILL O' THE WISP\", 'OLSEN, JIMMY', 'FOGG', 'GRUNCH, ALESTAIRE FI', 'VINCENT, DANNY', 'MYSTERIO', 'SPARROW', 'SCOPE', 'HENSHAW, CURTIS', 'TREVANE, DET. CONNOR', 'ELITE', 'NYLES, JENNIFER', 'WING, COLLEEN', 'TAKAHAMA, ROBERT', 'STRONG, SUSAN', 'DON, GAI NO', 'JOHNSON, ANNA', 'STRONGARM II', 'HOBGOBLIN V', 'ECHO', 'HARRIGAN, PATRICIA P', 'ANGEL IV', 'NIGHT THRASHER', 'RODRIGUEZ, DET. PHIL', 'FLARE', 'STEEL COLLAR', 'DR. FAUSTUS', 'TURBO II (A)', 'SANDMAN DOPPELGANGER', 'MASTER KHAN', 'BANK, IRVING', 'BRICKFORD, CLAY', 'SOMERS, KATHY', 'CHANCE II', 'GANTRY', 'MOLTEN MAN', 'COPPERHEAD IV', 'MACE', 'BARBAROSSA, MARIO', 'VANKIN, JONATHAN', 'BLOODVESSEL, BUSTA', 'SUEE, FAH LO', 'WRAITH', 'LIGHTSPEED', 'PSI-WOLF', 'ZARAN', 'DOVER, DONNA-LEE', 'BERYLLIUM', 'CRIMSON DAFFODIL', 'LEI KUNG, THE THUNDE', 'RAVEN, SABBATH II', 'SAPIR, HERSCHEL', 'RASPUTIN', 'SUNTURION II', 'BARKER', 'LEGION', 'MALICE II', 'BUCKY VI', 'ANDERSON, CHARLES', 'GAMBONNO, ERNESTO', 'RUIZ, DR. BERNARDO', 'MEACHUM, HAROLD', 'KAINE', 'CUT', 'HARDY, STAN', 'NIGHTWATCH', 'CORD, EDWIN', 'TREVANI, DANIKA', 'PETROVITCH, DMITRI', 'LEEDS, BETTY BRANT', 'JEROME, JASON', 'POWERHOUSE II', 'EEL II', 'OGRE', 'STITHY, THEODORE', 'DEADMAKER', 'THORSON, DR. WALTER', 'AEGIS', 'ROSE III', 'DUNLEAVY, GEN. ARLEN', 'COY, GENERAL NGUYEN ', 'GEIST', 'POWERSURGE', 'HOGARTH, JERYN', 'DR. SUN', 'ESTAVES, MARIE', 'TUNGSTEN', 'GUILOTINE', 'NIVENA, JOANNA', 'CHEMISTRO III', 'SPOT', 'DILLON, ANITA', 'GELLER, URI', 'IRON MAIDEN', 'KNIGHT, LEO', 'GAPON, DZHOKHAR', 'ROC', 'POGUE, BARTON', 'MARLOWE, STEVE', 'PARKER, MAY II', 'BANNON, LANCE', 'STILETTO II', 'FIZGIG', 'POLESTAR', 'POWELL, GRACE', 'CARRADINE, JESSICA J', 'CHASE, DETECTIVE SLO', 'MENNINGER, CLARA', 'HAFNIUM', 'TARANTULA II', 'ASTROVIK, NORMA', 'FAVERSHAM, DAPHNE', 'SUPERCHARGER', 'KNICK KNACK', 'DUCHARME', 'GENECIDE', 'DEATHWATCH', 'CHALMER, JUDGE', 'GANNON, SGT. FRANK', 'SMITH, JOE', 'BAZIN, BRODERICK RIC', 'CINDER', 'TAYLOR, JACK', 'MCCOY, EDNA ANDREWS', 'BRUTO THE STRONGMAN', 'LEATHER', 'SCHEELE, STEPHANIE', 'FALCONER, CALVIN', 'SPIDERCIDE', 'HENDERSON, CAROL', 'STOCKBRIDGE, DEANNA', 'AVANDALIA', 'BATAL', 'ZOMBIE', 'PEMBROKE', 'ZAFAR, OFFICER JIMMY', 'LOBO III', 'GLOUCESTER', 'DENNAGER, MICHAEL', 'BUTCH', 'TIERS, MICHELLE', 'SOMBRE', 'CARDINAL', 'PORTAL', 'HAGGERT, BOB', 'PAGE, KAREN', 'PARKER, MAY III', 'STANDISH, GEN.', 'VAN HELSING, RACHEL', 'HAMMER, JUSTIN', 'HARROW, DR. JONAS', 'INDIUM', 'KILLBREW, DR.', 'MONTGOMERY', 'RIOT II', 'LOPEZ, DONNA', 'MALICE', 'ROEBERG, SEN.', 'TORK, LT.', 'MINOTAUR III', 'COPPERHEAD II', 'DRY', 'BUKOWSKI, BUCK', 'SENTRY III', 'LIGHTMASTER', 'MALPHER, KATHY', 'SHARYD', 'VULTURE II', 'HANRAHY, JIM', 'BISON', 'KIRIGI', 'SHOCKWAVE ROBOT', 'SCORCH', 'MCKEEVER, TINY', 'ARSENIC', 'ARLINGTON, DR. MARCU', 'GREEN GOBLIN V', 'GAUNT', 'RALEIGH, RICHARD', 'GREGOR', 'RINGER II', 'MCKENNA-DRAKE, MARLE', 'AUGUST PERSONAGE IN ', 'DR. BONG', 'SCORCHER', 'CAT III', 'WADE, AGENT JOE', 'TERROR II', 'BULLSEYE II', 'TINKERER', 'HOBGOBLIN II', 'COOPER, ROGER CAPS', 'STUNNER', 'OLLSEN, BO', 'BARRIER', 'HOWARD, PROFESSOR MA', 'CARLISLE, PHILLIP', 'SMASHER V', 'FORTUNATO', 'ANDREWS, DARYL TROOP', 'EVERWRAITH', 'SCARUM', 'ZANE, DONOVAN', 'BERNSTEIN, DR. NOAH', 'FRIDAY', 'JAMESON, COL. JOHN ', 'COMANCHE', 'ANDROS', 'SOAP, DET.', 'ZARAN II', 'RIFKIN, MARJORIE', 'CROMWELL, HAMILTON', 'GRIM HUNTER', 'QUINN, ASHLEY', 'RADIUM', 'STEEPLEJACK', 'ORBIT', 'APPLEBAUM, PHANTASY', 'RAPIDO', 'VULTURE III', 'DAREDEVIL', 'SKIN II', 'DINAH-SOAR', 'MCKENZIE, LYDIA', 'ANDERS, JOSHUA RICHI', 'MORBIUS', 'TRAVELLER, DR. JUDAS', 'MINDBLAST', 'KNIGHT', 'MERIDIAN, DR. ROBERT'})\n",
      "======\n",
      "frozenset({'ABEL', 'SEESHA', 'ROWEN, CARL', 'UNCEGILA', 'LEASH, MICAH', 'BROTHER VIRGIL', 'STRANGLEHOLD', 'BEAUTIFUL DREAMER', 'WALL', 'GLEEG', 'OXTON, PROFESSOR HEN', 'DANVILLE, SEN. OWEN', 'SWITCH', 'PYRO', 'LAPIN, EMIL', 'ANNALEE', 'VOLK', 'FLAMBE', 'THUNDERBIRD', 'AVIA', 'WOLVERINE', 'TRASK, LAWRENCE LARR', 'GAMESMASTER', 'PRINCE BAYAN', 'CARTER, JIMMY', 'SUMO', 'ICON', 'BEAUMONT, SPENCER', 'VIVISECTOR', 'PHANTAZIA', 'NEOPHYTE', 'RICOCHET', 'EVER', 'MERRIAN', 'PAYGE, REEVA', 'COACH', 'AZAZEL', 'BOUNCER', 'CODY', 'ORPHAN II', 'M', 'GREY, DR. JOHN', 'VINCENTE', 'EL TIGRE', 'ANGEL 2013', \"RY'LOR\", 'CRUX', 'WEISMAN, DR.', 'PRISM', 'CANDRA', 'JONES, TIMOTHY', 'ELECTRYON', 'BIRDY', 'BARKER, MATTHEW T.', 'CONAN, NEAL', 'RANDOM II', 'DRAGONHEAD', 'THOMAS, DR. JOHN', 'MERRYWEATHER, IRENE', 'GRANDE DAME', 'WITNESS II', 'HUNTER IN DARKNESS', 'MIST MISTRESS', 'WYNTER', 'TYRUS KRILL', 'GORGEOUS GEORGE', 'DELGADO, RUFUS', 'STINGER III', 'BRAIN CELL', 'MASTER MOLD III', 'SWITZLER, BEVERLY', 'JARMAN, TOMMY', 'PICO', 'COLLECTIVE MAN II', 'SIRYN', 'MAGOG II', 'MCLEISH', 'NETTLES', 'URCHALLA', 'CYPHER', 'NIGHTCRAWLER 2013', 'WRAITH II', 'KLEINSTOCK, HARLAN', 'PLAZM', 'CAMPBELL, DR. RORY', 'FIREFIST', 'SCALPHUNTER', 'FITCH', 'REESE, MURRAY', 'GARTH', 'GALADRIEL', 'TITAN', 'VINDALOO', 'BOUDREAUX, BELLA DON', 'GULLO', 'DIRGE', 'FALLON, HOWARD', 'IVANOVA, ELENA', 'WILDSIDE', 'RAMROD III', 'ERG', 'GARGOUILLE', 'LOMENZO, NICOLE', 'MISS SACCHARINE', 'WAXWORK', 'CHAMBERS, MR.', 'SISTER PERPETUA', 'RINGLET', 'AYESHA', 'SIR BENEDICT', 'JOSEPH', 'BERSERKER III', 'HUMP', 'NIGHTWIND', 'TORQUE II', 'FERGUSON, ISABEL', 'TYGERSTRYKE', 'KEATON', 'JARDINE', 'CAPTAIN U.K.', 'MACON, ANGELO', 'ENTITY II', 'BLANDING, MRS.', 'REINMAN, PAULA', 'MANH, COY LEONG XUI', 'TESSA', 'SLEDGE', 'HEMINGWAY', 'XIANDU', 'FOOLKILLER', 'RICOCHET RITA', 'JINX', 'ARIANE', 'BROTHER CAESAR', 'WILLIS', 'YOUNG, LAWRENCE', 'CORSI, TOM', 'FERAL', 'SUMMERS, DEBORAH', 'PROGENITOR', 'ZONA', 'A', 'LEONARD, DR.', 'PELE II', 'DURAN, CONAL', 'ZEALOT', 'PHOENIX 2013', 'BELDAME', 'HAIRBAG', 'SMITH, MANDY', 'GILBERTI, ROSE', 'WETHERELL, MANOLI', 'PUSHKIN, IVAN', 'RAVENWOOD', 'MEANY', 'TRAVELER', 'COLLINS, BRADBURY', 'EXPEDITER', 'NIGHTSIDE', 'GULADKIN', 'DARK HUNTER', 'SPIRAL', 'RICTOR', 'SOLE, MAJOR REMINGTO', 'STUART, BRIG. ALYSAN', 'PILLMAN, JIM', 'BRAHAMS', 'EDGERTON, MR.', 'SANCTITY', 'STERN, ROGER', 'ARMBRUSTER, COLONEL ', 'SPOOR', 'QABIRI', 'HAUS', 'WENDIGO II', 'MISTY', 'GAUNTLET', 'ANTEUS', 'ARMSTRONG, MYRA', 'BENTON, TERRY', 'THAIS', 'LITTLEWING, SUSIE', 'KARIMA', 'CRUSADER X', 'MYSTIQUE', \"SA'TNEEN\", 'DUNCAN, FRED', 'CANDLEMAS', 'KNAVE', 'HARBINGER', 'PENANCE III', 'MACTAGGART, JOE', 'PROFESSOR GIBBON', 'SAINT ANNA', 'DARK ONE', 'KAMIKAZE', 'HRIMHARI', 'CRIMSON COMMANDO', 'ISHIHARA, ZOE', 'MIMIC', 'WYNDHAM, LUCAS', 'SUPREME ONE', 'INNOCENT', 'SHREW', 'KNOBLACH, GLORIA', 'DIRT NAP', 'THUMBELLINA', 'MILLER, CHRIS', 'KOLOMAQ', 'SCORCH II', 'GLUB', 'MODT', \"N'ASTIRH\", 'PANDEMONIA', 'GRAVEMOSS', 'MARTIN, ASHLEY', 'MONTOYA, MARIA', 'DRAGONWING', 'THORPE, GORDON', 'ALFY', 'HOLIDAY, JORDAN', 'PSYNAPSE', 'TULL', 'FERRIS', 'ARCADE', 'BEAST', 'JUNCTION', 'ARCHER', 'MOJO II', 'HODGE, CAMERON', 'TRICKSTER', 'SPOILSPORT', 'MENGOCHAUZERAUS, STA', 'BARNETT, MIKE', 'PROFESSOR XAVIER 201', 'TONGAH', 'SMITH, MARTY LOUIS L', 'NEPHRI', 'WARHAWK III', 'MERCURY III', 'KEEPER OF THE COMICS', 'SHORT CIRCUIT', 'TECHNOCRAT', 'MANH, COY NGA', 'PIECEMEAL', 'BEAUTIFUL DREAMER II', 'SHADOWCAT 2013', 'MINOR DOMO', 'HUNTER, STEVIE', 'CAMPBELL, VALERIE', 'MOREAU, DAVID', 'EXECUTIONER IV', 'BATTLEAXE II', 'GAROKK', 'MONDO', 'HEADCASE', 'SKIDS', 'RAMON', 'LOGOS', 'WINDY', 'DR. SYNNE', 'KAISHEK, KIA', 'WILFORD, BONNIE', \"NHU'ABDAR\", 'NANNY', 'WALLOP', 'KAISHEK, GOM', 'BLACK TALON III', 'KONIEV, MRS.', 'DELUGE', 'LEAD-IN', 'KURASOV, SIMYON BORI', 'ROSSI, COL. MICHAEL ', 'RANGER II', 'DEADAIR', 'FOGELSTROM, HIRAM', 'PYRE II', 'NUMBER ONE FAN', 'SUNSPYRE', 'WISDOM, PETER', 'KINE, BENEDICT', 'GREY, ELAINE', 'BONEBREAKER', 'LANDSCAPE', 'LEBEAU, JACQUE', 'FEVER PITCH', 'CYCLOPS II', 'COYOTE', 'CUDGEL', 'ZELDA', 'MCCABE, LINDSAY', 'STRINGER, AMY', 'HEDRON', 'CROSS', 'FONG, LI', 'TARGET', 'COLDBLOOD', 'ROMAN, DR. NILES', 'MEEK', 'ZABU', 'SKETCH', 'STONE, MARGARET', 'BANTOCK, LT. OLIVER', 'HEX', 'SAUNDERS, DABNEY', 'GIDEON', 'MADDICKS, PROFESSOR ', 'BLOKE', 'ANUBAR, ANWAR', 'LEGION II', 'JAGATAR', 'CALLAGHAN, JAMES', 'SHIVA', 'DOMINUS', 'LEVIN, MAJOR DEBRA', 'RISQUE', 'ETZION, GENERAL', 'ARIZE', 'MARCHALLA II', 'MENGOCHAUZERAUS, GRI', 'TRACKER', 'BLACK RAAZER', 'SNAKESKIN II', 'KAREL', 'AMIKO', 'RASPUTIN, MIKHAIL', 'NAIP, SYNTHIA', 'BROTHER ROYAL', 'NIGHTFIGHTER', 'BELASCO', 'KALI', 'KLOSS, BERNARD', 'PAM', 'TEMPEST', \"KRAY, D'VON\", 'INDIGO, ODYSSEUS', 'JONES, CHARLOTTE', 'TREMELO', 'SISTER SOPHIA', 'SHIN', \"HETH'SA\", 'BEL-DANN, GEN.', 'WITNESS', 'WARLOCK III', 'LINAK', 'BUCKMAN, EDWARD', 'YORK, SANDY', 'WORMWOOD', 'FRIEDLANDER, SHARON', 'WATKINS, MELODY', 'MINISTER TOME', \"O'SHAUGNESSY, COLLEE\", 'WARP SAVANT', 'LEESHA', 'KALE, JENNIFER', 'CHENEY, LILA', 'TARTARUS', 'PRYDE, TERRI', 'BARRAGE', 'IRON MAIDEN II', 'PROSPERO, DR.', 'DAWN', 'DRISCOLL, MAYOR', 'TABESHAW, HARRY', 'BLACK DEATH', 'KING BEDLAM', 'THUNDERBIRD III', 'SOMON', 'COLLINS, EMMA', 'YOUNG, MR.', 'BERGER, PROF.', 'CHEEVER, JOHN', 'GATECRASHER', 'SINGH, DR.', 'WORM', 'LANE, SILAS', 'JET-BLACK', 'SHAW, SHINOBI', 'PHOENIX II', 'FIREBALLS', 'MAGIC', 'DMITRI', 'VANESSA', 'BLACKSHEAR, JONAS', 'WARSTAR', 'GIN GENIE', 'FALLON, RIGBY', 'TIMBERIUS II', 'ORPHAN-MAKER', 'SPAT', 'ARCLIGHT', 'MISTER CLEAN', 'AINET', 'BARRINGTON', 'BATTERING RAM', 'GAMBIT', 'FATALE', 'MOON WOLF', 'MEGGAN', 'COLOSSUS 2013', 'SHAARA, MR.', 'RYKING, ALEXANDER', 'MR. SINISTER', 'KEY', 'SEMIJAN', 'DE LA COURTE', 'GRIS-GRIS', 'PROSH', \"CH'VAYRE\", 'QUIET BILL', 'COLE, PRISCILLA', 'BREAKER', 'THRENODY', 'WANG, VICTORIA VICKY', 'MOLGOTHA', 'KOPPISCH, DR. ERIC', 'PHILLIPS, SIR GORDON', 'HARRAS, BOB', 'REVENANT', 'ITOBU, DR. JOSHUA', 'CALDERONE, HANNAH', 'AUTHIER, TRACY TRACE', 'SANDERS, DET. NAPOLE', 'SNOW, TANDY', 'DESTINY II', 'ARNSTROM', 'GUTHRIE, JOSH', 'HALLOWEEN JACK', 'DAYTRIPPER', 'MILLER, STACI MURPHY', 'KURLYCHEK, PATTY', 'DESOLATION', \"M'KAMBA\", 'EARTHQUAKE', 'COMMANDO', 'PROFESSOR X', 'CUEBALL', 'GREYSTONE', 'MAGNUM, MOSES', 'YAP', 'LIFELINE', 'KNOBLACH, GERTRUDE H', 'FORGE | EARTH 998', 'SHATTERSTAR II', 'MAHONEY, GINNY', 'MASTIFF, MINNIE', 'EXALTED ONE', 'BRIGHTWIND', 'MEME', 'SYNRAITH', 'KRUELLA', 'SATURNYNE, OPAL LUNA', 'KANDRA', 'SUMMERS, NATHAN CHRI', 'MANTA', 'HARDRIVE', 'AGEE, REBECCA', 'MALEVOLENCE', 'DRAKE, WILLIAM ROBER', 'BAXTER', 'MARTIN, TERI', 'VERMIN, LADY', 'CRAIG, REV.', 'APOCALYPSE', 'PROFESSOR X | EARTH ', 'CLARKE, GENERAL JERE', 'SCANNER II', 'BRIQUETTE', 'ASTRA II', 'DAI-KUMO', 'TIMEBOMB', 'MUNSON', 'BROKEN MAN', 'SNAKE', 'BLACK, CAL', 'LAMENT', 'ORACLE', 'EMPLATE', 'BENCHLEY', 'VAZHIN, ALEXEI MIKHA', 'FAMINE', \"D'SPAYRE\", 'MAGUS II', 'MASTER MOLD II', 'WIZ KID', 'FIST', 'SCALEFACE', 'SHANE, BRIDGIT', 'JACKKNIFE', 'BLOK', 'LANG, DR. STEVEN', 'CARMODY, MRS.', 'LONGBOW', 'JAHF', 'BLANDING, HALEY', 'STRYFE', 'KLEINSTOCK, SVEN', 'DEATHLOK IV', 'DEMON BEAR', \"CH'OD\", 'SCHUYLER, DR. REBECC', 'DOMINO III', 'DELPHI II', 'SHADOWOMAN', \"O'DONNELL, EAMON\", 'SANGUINE', 'SACK', 'FOXBAT', 'BLUDGEON', 'MANACLE', 'JAMIL', 'BEALE, ERIC', 'THUG', 'UNUSCIONE', 'SILVER FOX II', 'X-CUTIONER', 'SLAB', 'SCRAMBLER', 'GANCE, TABITHA TABBY', 'CALLISTO', 'NESTOR', 'GREENSONG', 'SEER', 'DESTINE, NEWTON', 'MCKENZIE, SCARLETT', 'WENTWORTH, JENNIFER', 'SHRILL', 'INTEGER', 'TIMMONS', 'LUPO', 'BAILEY, GAILYN', 'MALICE IV', 'CONSUMPTION', 'ST. CROIX, LOUIS', 'BELGRADE, DR. HORATI', 'KRAMER, KENNY', 'JARDINE, AMANDA', 'GOROTH', 'EL GIBAR, ACHMED', 'TOAD', 'CASPER', 'QUEEN OF STAR SWORDS', 'RYCHENKO, MAJ. VALEN', 'FIXX', 'LORD YARU', 'MASQUE', 'COOPER, DR. VALERIE', 'RODOR', 'LANIEGE, BIANCA', 'SMITH, HELEN BACK', 'BAKER', 'VEIL', 'CIRE, EZRA', 'HARD BOILED HENWY', 'BRADDOCK, JAMES', 'STORM', 'LOCKLIN, BEN', 'PROVENZANO, PAULIE', 'GARABALDI', 'VERSCHLAGEN, FRAU', 'MUNROE, DAVID', 'WEIN, GLYNIS', 'GAZA', 'KIKO', 'SELENE', \"D'KEN [SHI'AR]\", 'TANAKA, RITA', 'THUNDERSWORD', 'TUNDRA', 'NIMROD III', 'RASCAL', 'WEBWING', 'WISDOM, HAROLD', 'NEREEL', 'FARAHD', 'MS. NOVA', 'OZYMANDIAS', 'CYLLA II', 'RAPTURE', 'VOID-EATER', 'COURIER', 'CHALKER, PROF. VIC', 'MR. SINISTER | AOA', 'BARBARUS', 'SCANNER', 'PUDDLEGULP', 'CHAMBLISS', 'MALAN Sometimes spel', 'DAZZLER', 'WATKINS, STEVIE', 'MERLYN', 'ADAM X', 'JENSKOT', 'GAIA', 'VARGAS', 'ANDERSSEN, TANYA', 'SUNSPOT', 'BLAQUESMITH', 'CONOVER, HANNAH', 'KILMER', 'MOUNTJOY', 'BLISS', 'BROADSIDE', 'FIFOLET', 'DELPHIS, SIR', 'NUGENT', 'DELGADO', 'COPYCAT', 'BIOHAZARD II', 'GOYER, SAUL', 'STYGLUT', 'SERAPH', 'YUKIO', 'ANDERSON, GINA', 'LOCKDOWN', 'ROBERTS, TED', 'CAPTAIN FATE', 'PULSAR', 'MASTERMIND IV', 'PROJECTOR', 'WARPY', 'ST. CROIX, NICOLE', 'LOCKHEED', 'FORD', 'ASTARTE', 'CIRE, MANUEL', 'SIROCCO', 'FROST, ADRIENNE', 'CARTER, TAD', 'POITIER, CLAUDE', 'BERNARD THE POET', 'KONIEV, DMITRI', 'BAAL', 'NIRA', 'HOLLISTER, SHERIFF', 'CORNELIUS, DR.', 'RAX', 'MENTOR II', 'WRAP', 'CYCLOPS 2013', 'SWEEPZWEAK', 'THOMAS, KIM HO TWAE', 'TEMPO', 'KRAGAR', 'TELLIS', 'TU', 'FERRO2', 'REAVES, VERNON', 'MAJCOMB, RENEE', 'NOY', \"D'ALEXIS, AMBER\", 'COLE, WADE', 'VOGE, TULLAMORE', 'TYGER TIGER', 'VERTIGO II', 'EDGERTON, GAYLE', 'HOSEK, BULL', 'SIGN', 'HEALER', 'BRADDOCK, JOHN', 'LILANDRA NERAMANI [S', 'JAM', 'COBALT II', \"G'ANYM\", 'AUSTIN, TERRY', 'VESSEL', 'BLOODY BESS', 'PROTEUS II', 'CORTES, MARIA PILAR', 'DOMINA', 'SHRINE', 'ATKINSON, MAJ. EDMON', 'UGLY JOHN', 'PRINCESS SANDELLA', 'KAMAL', 'MESMERO', 'HIRO', 'ALEGRIA, RICHIE', 'KARMA', 'BODYBAG', 'AUSTIN, GEN.', 'ZALADANE', 'THUMPER', 'GLEASON, KAREN', 'KYSA', 'JONES, WALTER', 'JERICHO, DUNCAN', 'WOLFSBANE', 'SABU', 'SPOOKY', 'GUTHRIE, JOELLE', 'GREASY', 'BERYL', 'ASTRA', 'RACAL, CONSTANTIN', 'ZERO', 'TSURAYABA, MATSUO', 'GOTH', 'VOGEL', 'DOOP', 'ROGUE ', 'JUGGERNAUT', 'TIMESLOT', 'CEREBRITE ALPHA', 'LONGSHOT', 'ROWEN, MIKE', 'PENANCE', 'THUNDERBIRD II', 'WISDOM, ROMANY', 'MADDICKS, ARTHUR ART', 'WENDY', 'ZET', 'TETHERBLOOD', 'GUTHRIE, LUCINDA', 'KAUR, BENAZIR', 'KALIN KARTH KITH', 'AVALANCHE', 'DEVILLE, ARCADIA', 'T', 'PRETTY BOY', 'POWERHOUSE IV', 'PRIMUS II', 'ANON, LORD', 'SIKORSKY', 'SINGER', 'THOMAS, DR. STAN', 'ABCISSA', 'MESSENGER, TOBIAS', 'DARCO', 'HASSAN', 'SEVILLE, STACY', 'BENEDICT, ANDREW', 'HARVEST II', 'ARGOS', 'WHITE KING', 'ELECTRON', 'WALDO', 'RICHARDS, FRANKLIN 2', 'NICODEMUS II', 'QUESTA', 'TWEEDLEDOPE', 'ELLENTHORPE, MARIAH', 'CRANUS', 'TOUGH LOVE', 'HANRANSHA', 'KYLUN', 'SHAPANDER, KARIMA', 'GOMURR', 'MINSTER HOARD', 'GUTHRIE, TYLER', 'GROVEL', 'RHAPSODY', 'MEMBRAIN', 'TASHA', 'YOUNG, LOUISE', 'RODRIGUEZ, DEBRA', 'HOLOCAUST', 'SEBASTIAN, MARISSA', 'CHURCHILL, LORD', 'SANDOVAL, JULIANA', 'CHALMERS, CYNTHIA', 'SKADI', 'PIPER', 'BULWARK', 'HAZARD', 'BERMAN, ADAM', 'ALVAREZ, CARLY', 'BURST', 'PARSONS, DR. DEREK', 'CORSAIR', 'PEYER, DANNY', 'ELWOOD', 'DEWITT, LUCIUS', 'DELPHOS', 'ESSEX, REBECCA', 'TOWER', 'BEAST 2013', 'WEAPON X II', 'AZURE', 'WOLVERINE 2013', 'JOYBOY', 'SUMMERS, MADELYNE MA', 'TAL, GENERAL', 'DUSK III', 'SCICLUNA, MICHELE', 'DHEREK', 'ZEITGEIST II', 'DEADBOLT', 'REMIPED', 'STONEWALL', 'WANDERER', 'CHAOS', 'TOSHI', 'RASPUTIN, NIKOLAI', 'BLACK TOM CASSIDY', 'NUMBERS', 'EXODUS', 'GAUNT II', 'SUKHAROV, DIMITRI', 'MAJOR DOMO', 'MASTERMIND V', 'PLASMA WRAITH', 'CIRE, EYLA', 'BIRDBRAIN', 'SOTO, BERNARD', 'NOTE', 'WESTPHAL, SIMON', 'CHIMERA II', 'JORNICK', 'YOUNG, AGNES', 'SHOOTER, JIM', 'SHIRE, DR. RANDALL', 'KHYBER', 'HURRICANE III', 'RAYMOND, HENRY', 'NOM', 'LEBEAU, MERCY', 'ASANO', 'WILLIAMS JOHN', 'WORTHINGTON, WARREN ', 'TIMESHADOW', 'NAZE', 'SKARABROUS', 'WEIN, LEN', 'KURAGARI', 'JOSHUA, DR. SEGISMUN', 'PARADOX II', 'SIMONSON, LOUISE', 'HIDALGO, DETECTIVE J', 'MAVERICK', 'BURKE', 'SPITE', 'PARADIGM', 'BIG CASINO', 'GENESIS', 'OGADA, DR.', 'ISBISA', 'MARCHALLA', 'RED QUEEN', 'LOCUS', 'PILGRIMM', 'BLACKHEART', 'FOREARM', 'SUNDER', 'JAVITZ', 'SETH III', 'THORNN II', 'DEVERAUX, INSPECTOR ', 'BLACK KING', 'SENYAKA', 'SOUTHERN, CANDY', 'SHIP', 'EMPATH', 'CITYDWELLER', 'REVERB', 'CORAL', 'EENY', 'FRASER, DET. KATE', 'PLUNDER, ADAM KYLE M', 'WRANGLER II', 'CHALMERS, JUDGE ROBE', 'TOTEM', 'AMPHIBIUS', 'DANTES, DR. EDWINA', 'BANTAM', 'MURRAY, WILLIAM T. B', 'KYMRI', 'DECAY', 'PLAGUE', 'AVATAR', 'LA NUIT', 'VEEG', 'MAELEN', 'IMMORTUS, MARCUS', 'MASTERMIND', 'ST. CROIX, CARTIER', 'CHARLIE', 'WHITE QUEEN', 'HASARD, SAMANTHA', 'WHITE BIRD', 'SIFFROR', 'BLINDSIDE II', 'GYRE', 'HOUND', 'BOND', 'RASPUTINA, ILLYANA I', 'LINK', 'ESON II', 'CHUNG, LAO WEI', 'VAGUE', 'SHINAR', 'MARITA', 'HELIX II', 'HURRICANE II', 'BIRD, TUESDAY', 'JEXIA', 'CANCELLATOR', 'SKIN', 'GRYPHON', 'CHAKRA II', 'AUTHIER, POLICE CHIE', 'HAMMER III', 'MAGIK', 'HAMMER IV', 'BLOTT, BRIGADIER INK', 'SHADOWCAT', 'BANSHEE', 'DEUTSCH, GEN.', 'KWANNON', 'BAILEY, JOEY', 'IMP', 'MACTAGGERT, MOIRA KI', 'MELLENCAMP', \"N'GASSI\", 'CREED, GRAYDON', 'MASTIFF', 'HURDLER, THOMAS', 'ARIA', 'REYES, DR. CECELIA', 'COIL', 'EITRI', 'WIPEOUT', 'BURNING PUDDLE', 'THOMAS, IDA', 'FALLON, MEG', 'MASTER MOLD', 'OX IV', \"ERIC THE RED [SHI'AR\", 'LADY DEATHSTRIKE', 'SZARDOS, STEFAN', 'DARIA', 'SHARD', 'MIDGET', 'MURPHY, MELISSA', 'MICROMAX', 'THOG', 'APE', \"JACK O'DIAMONDS\", 'X-MAN', 'PHEMOUS', 'BLINK', 'WEAVER, ZEKE', 'TANNER, JACKO', 'CONOVER, REV. WILLIA', 'TRASK', 'CALIBAN', 'HAUPTMANN ENGLAND', 'NEUROTAP', 'DRAGONBLOOD, ULYSSES', 'DRAGONESS', 'NINA', 'SPELLBINDER', 'CLAREMONT, CHRIS', 'MURMUR', 'KAZAKI, SHINJI', 'TANAKA, OPAL', 'COCKRUM, DAVE', 'ST. CROIX, CLAUDETTE', 'REM-RAM', 'BRIGGS, AGENT', 'FOLD', 'STROUGHTON, WILLIAM', 'ESSEX', 'SAT-YR-9', 'KONIEV, IRINI', 'KATH', 'SYLPH', 'BRADDOCK, JAMES JR. ', 'GIL', 'KELLY, SEN. ROBERT E', 'DARK BEAST', 'SPAULDING, JILL', 'MANH, COY TRANH', 'INFECTIA', 'REAPER II', 'CEREBRITE BETA', 'MIESHO', 'CEREBRO', 'HELLER, DR. JOSEPH', 'SHAARA, MRS.', 'TARBABY', 'QUASAR II', 'SPIKEY', \"RA'AL\", 'CYBER', 'ROUSSEAU, ETIENNE', 'STEED, MR.', 'KRIVEN', 'NOCENTI, ANN', 'BURKE, RICKY', 'KIRKEGAARD', 'ANTIQUARY', 'BRUTE II', 'MARCEAUX, THEOREN', 'MARIK', 'QUARK', 'ULARA', 'ANTI-PHOENIX', 'BARAK', 'SNOW QUEEN', 'DEVEREAUX, MICHELLE', 'BOUNTY', 'REQUIEM', 'TILBY, TRISH', 'MAGNETO', 'WILFORD, ELISABETH B', 'WHITECLOUD, MICHAEL', 'CYANIDE JANE', 'RABBIT', 'KANE, SUGAR', \"CR'REEE\", 'RAM, SIR', 'BEYNON, DR. BRADLEY', 'SAHREED', 'SPYNE', 'CHANGELING', 'STATIC', 'ALOUETTE, GENARD', 'MIRAGE II', 'ST. HUBBINS, SARI', 'BALABAN', 'MAGMA', 'HOO', 'STRONG, MARTIN HENRY', 'FOGG, ARCHIMEDES ARC', 'JASON II', 'U-GO GIRL', 'JONES, LOUISE', 'SHAARA, SANJIT', 'ERIC THE RED II', 'SKULLBUSTER', 'MISS LOCKE', 'BONITA', 'VITCHEN', 'STARBOLT', 'NANNY II', 'CLARITY', 'MOLE', 'EJULP', 'HATORI, DESMOND', 'CLARIS, SVEN', 'WAR', 'GAMBLE, GRACIE', 'CORTEZ, FABIAN', 'WATERS, SETH', 'KRUEGER', 'KATANA', 'CROSS, JASON', 'ROSETTA STONE', 'M-PLATE', 'DA COSTA, EMMANUEL', 'MAN-THING', 'STAR HAMMER', 'SOLE, RANSOME', 'VEGA-SUPERIOR', 'WOLVERINE SKRULL', 'DELANY, CAPT.', 'ZEITGEIST, NICOLA', 'FITZROY, TREVOR', 'DESTINE, ADAM', 'KULAN GATH', 'YASHIDA, MARIKO', 'FERON', 'VIPER II', 'CRIMSON CRUSADER', 'BOOMER', 'ENTITY', 'BUX', 'MACKENZIE, DR. NEIL', 'RINGTOSS', 'CROSSAN, ANNIE', 'SCRATCH', 'GATOR, LORD', 'SABRETOOTH', 'FORRESTER, CAPT. ALE', 'MOJO', 'KELLOG, SHERIFF L.B.', 'COLOSSUS II', 'HARMONY', 'MIRAGE III', 'SECOND', 'SHADOW KING', 'IDRIS', 'URSULA, LADY', 'LELAND, HARRY', 'ADVERSARY', 'WORTHINGTON, KATHRYN', 'ALCHEMY', 'PETRIE, JUDGE RICHAR', 'VILIVEN', 'LANE, LOIS', 'WIDGET', 'BOAK', \"K'RK [SHI'AR]\", 'WEALS, MELVIN J.', 'VILLA-LOBOS, GETULIO', 'SCRIBE', 'GUTHRIE, LUKE', 'AMINEDI', 'STYRAK', 'IMPULSE', 'TOLOC', 'JERICHO, JUSTINA', 'THOR | EARTH 253', 'SALVO', 'FROST, CORDELIA', 'HUNTER', 'RADCLIFFE, TODD', 'VISE', 'SANDOVAL, DIEGO', 'CYPRESS', 'MARCEAUX, BELIZE', 'CHROME', 'MORRELL, SABRINA', 'MASTERMIND III', 'ANIMATOR', 'TSUNG, MARCUS', 'RUCKUS', 'GRUENWALD, MARK', 'TUSK', 'DELACORTE, ARTHUR', 'HAVEN', 'STUART, DR.', 'STONECOLD', \"S'LAR\", 'MARROW', 'NEW SUN', 'MILAN', 'RAZA LONGKNIFE', 'SMITH, ANDY', 'CROTUS', 'ASKANI', 'TANAKA, GEORGE', 'FULLERTON-SMITH, CAS', 'LANDSLIDE II', 'ROUST', 'SLAUGHTER II', 'SAURON', 'RANSOME, JENNIFER AM', 'BLOCKADE', 'ELSIE DEE', 'MAGGOTT', 'SOMERS, JOHNATHAN', 'SCANLON, COMMANDER', 'PIERCE, DONALD', 'SUGAR MAN', 'BLANDING, ANDREW', 'BRICKMAN, GLORIA', 'AI-CHIA', 'CERA, KAY', 'BOUDREAUX, MARIUS', 'GATEWAY', 'HYBRID', 'OPSIDIAN', 'MANX', 'DUCRESTE, ABRIAN', 'PRODIGAL', 'GRIZZLY II', \"MAM'SELLE HEPZIBAH\", 'TRASK, DR. BOLIVAR', \"A'YIN\", 'VOGHT, AMELIA', 'AGEE, DR. AUBREY', 'KATU', 'SAUL', 'ARMAGEDDON MAN', 'AGENT 18', 'SMASHER IV', 'KRAMER, STACEY', 'SEEKER', \"KATSU'TA'RO\", 'OGUN', 'HARDCASE', 'TANTE MATTIE', 'JILL', 'DONNELY, VICTORIA TO', 'HATCHET-9', 'TAR', 'AHAB', 'MARKO, KURT', 'SAKAA', 'LEGAULT', 'STEPHANAPOULUS, COSM', 'REIGNFIRE', 'CLEARCUT', 'SUVOROV, ADMIRAL GRI', 'SHERMAN, GEN.', 'CERISE', 'HARNESS', 'NUWA', 'CHINA DOLL', 'THOMAS, JEANIE', 'METOXO', 'MARX, DR.', 'BANSHEE 2013', 'OMEGA RED', 'MOORE, CONNIE', 'HUSK', 'TRION', 'CRULE', 'SHAW, SAMARRA', 'PHOENIX III', 'HUXLEY, DR. ALDA', 'ELYSIA', 'STUART, DR. ALISTAIR', 'MR. X', 'MUELLER, AMANDA', 'KRAGG, GEN.', 'BORAKU', 'HILARY', 'SHAKATI', 'PISTON', 'GREY KING', 'THOMAS, COMMANDER DA', 'ANAIS', 'HAMID, SHEIK', 'MASON, WANDA', 'KAISHEK, HAAN', 'POSITRON', 'MR. SCRATCH', 'HARPOON', 'WHITEOUT', 'SENTINELS', 'KUTUZOV, COL.', 'GOG III', 'ANDERSON, CHIEF MAGI', 'PIROUETTE', 'OSAMA', 'CRIMSON', 'BEDLAM', 'TINAC', 'FONTAINE, CINDER', 'HOWARD THE DUCK', 'ABSALOM', 'JUTTA', 'SUPER SABRE', 'PRYDE, CARMEN', 'ARIEL II', 'LEBEAU, JEAN-LUC', 'SLUK', 'MOY, ALYSSA', 'KOJIRO', 'ALBERT', 'SICKLE II', 'BISHOP ', 'EDWARDS, MARTIN', 'AENTAROS', 'KILLIAN', 'BRUTUS KLOR', 'KROTOK', 'NIGHTCRAWLER', 'FONTANELLE', 'BAILEY, SARA GREY', 'VIXEN', 'CHANDRA, DR.', 'BLACK, RACHEL', 'CARGIL', 'BROWSER', 'CHAMBER', 'DARK MOTHER', 'BUMPKIN', 'JUBILEE', 'BOERKE, MAYOR', 'LIFEFORCE', \"S'YM\", 'RIPTIDE', 'REBO', 'TOKEN', 'CHANCE', 'BLURRY', 'ANARCHIST', 'KNIGHT ERRANT', 'MIST', 'FEUER', 'BOLERO', 'BRAWN, HUNTER', 'JESTER II', 'FANG II', 'HALLER, GABRIELLE', 'ROSS, COURTNEY', 'KERIVAK', 'CORBEAU, DR. PETER', 'BRAINCHILD', 'SEBASTIAN, MRS.', 'TUPA', 'MINDMELD', 'TRAPPER', 'PIPELINE', 'CISCERNOS, SELENA', 'KNOBLACH, HANS', 'BRAINY', 'RIPPER', 'STEWART, MARY', 'BLACK RAZER', 'JONES, WILLIAM', 'TORES', 'BLOB', 'PHAT', 'SHOTGUN', 'CAESAR', 'KINLAN KARTH KITH', 'LEECH', 'UNSEEN', 'DRAKE, MADELINE BEAT', 'MAINFRAME II', 'ZIRA', 'MOREAU, PHILLIP', 'FAHE', 'JONES, JOHN', 'REDJEK', 'DE LA JOYA, SISTER M', 'STANACHEK, FREDDIE', 'MONDO II', 'SAMEDAR', 'CANNONBALL II', 'HENDERSHOOT, COLONEL', 'SUMMERS, PHILIP', 'TRASK, DR. DONALD TR', 'RASPUTINA, ALEXANDRA', 'MONTOYA, JULIO', 'SYNCH', 'HOBGOBLIN', 'HUNTER, LANCE', 'COFFIN, WARDEN JOHNS', 'THREADGOLD', 'BLOCKBUSTER III', 'KAISHEK, YOLYN', 'WENDIGO', 'KHAN', 'BENAZA', 'BANNERJEE, DR.', 'TITHE COLLECTOR', 'GYRICH, HENRY PETER ', 'D.O.A.', 'SUKHAROV, VIKTORIA', 'SAMSON', 'OTOMO', 'SMITH, WANDA JO BIAL', 'PUNCHOUT', 'STINKY', 'HUSSAR', 'HAWKSHAW', 'SISTER MARIA', 'CONOWAY, SEKMEHT', 'NEUTRON', 'MARVEL GIRL', 'NECROM', 'GRACE', 'SCATTERBRAIN', 'AXE', 'REIKO', \"MUNROE, N'DARE\", 'PSYLOCKE', 'BRICKMAN, SEN. MILES', \"DEATHBIRD [SHI'AR]\", 'STROBE', 'MUSTANG', \"KO'ICHI\", \"EMPRESS R'KILL [SKRU\", 'CHASE, TREVOR', 'BRAWN, TRISTAN', \"ARAKI [SHI'AR]\", 'BARNACLE', 'BLUNT', 'STORM 2013', 'BRADDOCK, ELIZABETH', 'GLADIATOR II', 'PET', \"M'KUMBA\"})\n",
      "======\n",
      "frozenset({'BATTERY', 'MOONSTOMP', 'OVERRIDER', 'BATTLE, MONTGOMERY', 'DINU', 'MOSLEY, WARDEN', 'KAZE', 'FLUX', 'RUMOR', 'DWORMAN, JIM', 'LEVIATHAN IV', 'CATWALK', 'CHIMERA', 'STALIN, JOSEF', 'WORTHINGTON, MAJOR G', 'TORO', 'UNION JACK II', 'HUNGYR', 'YELLOW CLAW', 'HAWLEY, PAMELA', 'KATYUSHA', 'HOARD, JOSH', 'INES, DR. DIDIER', 'TEMPLAR', 'JARZINHO, COL. EDSON', 'KREA, BRUNO', 'BLACKJACK', 'SUNSET GRACE', 'DR. MIME', 'HU, DR.', 'PRINCE, DIANA', 'TOI', 'KLEB, ROSA', 'LOCKE, DR. CASSANDRA', 'MO MONEY', 'HACK', 'GHOST GIRL', 'CARTHUS', 'OXNARD, PHIL', 'NOCTURNE', 'SMOKESCREAM', 'KNOCKABOUT', 'NETWORK NINA', 'ROGERS, CAPT. STEVEN', 'KALIKYA [INHUMAN]', 'COMMANDER BLAZE', 'DEATHLOK II', 'FALSWORTH, KENNETH', 'KABALLA', 'CHAKARA, KANU', 'NIGHTINGALE', 'SCARLET SCARAB', 'RAPUNZEL', 'RYKER, HARLAN', 'OLALLA', 'ZORN', 'TYPHOON', 'RAYMOND, FRED', 'BLOODSTONE', 'DANTE', 'KAMINARI', 'GADFLY', 'AXIS', 'HITLER, ADOLF', 'KLEIN, CAMERON', 'EFFIGY', 'GOLEM', 'REXEL TOIVEN', 'BUSIEK, KURT', 'CARMODY, MARY', 'TOMMY LIGHTNING', 'MACKENZIE, AL', 'KELLY, KAREN', 'ANGSTROM, EARL', 'BADALAMENTE, JESUS', 'CENTURIUS', 'DARE, ROSSALYN', 'CAPTAIN WINGS', 'KLEIN, STANLEY', 'RYDER', 'PROTOCIDE', 'VIOLENCE', 'MENDICUS', 'SHAW, JACOB', 'MACKAY, MURDO', 'COFFIN, RAY', 'HANSEN, BILLY', 'NAMORA', 'PATTERSON, JACK', 'BLACK FOX', 'GROTTU', 'REBOUND', 'FERRARI, CONNIE', 'PSI-BORG', 'BLACK WIDOW II', 'STEIN, EMIL', 'CHAKARA, MADAN', 'BILLUPS, AGENT', 'ARCHAEOPTERYX', 'LOGA', 'PATRIOT', 'POWDERKEG', 'KELLY, SARA', 'RAMIREZ, ALMA', 'SCYTHE', 'HARRIER', 'MORPH', 'RIOT', 'SPETSBURO, GEN. YURI', 'WOZ', 'REAPER', 'RYKER, LUCY', 'ASSAULT', 'VON VOLTZMANN, FRITZ', 'OXBOW', 'JACKSON, BRENT', 'TREVOR, STEVE', 'RYKER, GENERAL', 'DICE', 'VERITUS', 'GOLDEN GIRL', 'WALKABOUT', 'BULLSEYE', 'VICTORIUS', 'WORTHINGTON, ELIZABE', 'MONTGOMERY, SIR BERN', \"DEATH'S HEAD\", 'FRANKENSTEIN, BASIL', 'KUROV, WASSILY', 'ADAMSON, REBECCA', 'CEAUSECU, IONEL', 'LOCKE, DR. ALEXANDER', 'WERNER, P.D.Q.', 'ZANKOR', 'PRINCESS ZAFINA', 'LADY LOTUS', 'SPITFIRE', 'RAYMOND, NORA JONES', 'INAZUMA', 'CAPTAIN UNIVERSE', 'UNION JACK', 'VULCAN', 'KING GEORGE VI', 'COLLINS, TRACY', 'MAA-GOR', 'LIBERTY GIRL', 'PETERS, NIGEL', 'ASBESTOS LADY', 'RAMIREZ, MARTA', 'VAZIR, DR.', 'STALYENKO, COL. YURI', 'REFLEX', 'BLUE BULLET', 'RAMIREZ, JAVIER', 'RIOT-ACT', 'LOHAN, PETER', 'YANKEE CLIPPER', 'KIMBLE, DR.', 'TEUTONIC KNIGHT', 'FROH', 'AGENT AXIS', 'MASTER MAN', 'CACHE', 'DONAR', 'CROSS, STANLEY', 'COLE, LYNETTE', 'TAKAHASHI, REI', 'TAUREY, SIR WILLIAM', 'SHAMAN III', 'CHURCHILL, SIR WINST', 'RAMIREZ, ROSA', 'SHIVER MAN', 'SABUKI, DR. SAM', 'FLATIRON', 'SQUIRE', 'GOLEM III', 'KITAGOWA, DR. KITTY', 'MADDEN, CHET', 'NAHREES [INHUMAN]', 'BURR, CLAYTON', 'BLUE DIAMOND', 'ARMADA', 'CARTER, BRAD', 'NEVILLE, KATE', 'RAMIREZ, LUIS', 'ZAWADI', 'KRIEGHUND, COL.', 'ADAMSON, JASON', 'FURY, COL. NICHOLAS ', 'HOWLER', 'PINKERTON, PERCIVAL ', 'FACE', 'ELEJEA', 'SCOTT, JAKE', 'IVORY', 'NEIFI [INHUMAN]', 'GROVES, GEN. MCALLIS', 'DEAN, BETTY', 'RANIER, MIKE', 'HEDERMAN, LOTTIE', 'ETERNAL BRAIN', 'JACOBS, BEN', 'JAMEEL', 'DAVID, PETER', 'MAINFRAME', 'RIDGEWAY, DAWN', 'OMEGA-20', 'BIOHAZARD', 'COLLINS, NICK', \"N'GAMI\", 'LUMP', 'KHADIJAH', 'MAUVIUS', 'VYREK', 'MAKO', 'DEATHLOK III DOPPELG', 'ARYAN', 'GREEN, JAMES', 'DOMINO', 'JOHNSON', 'ANSWER II', 'DIAMOND, KATHY', 'MCGIVENEY, BULL', 'COHEN, IZZY', 'KLEIN, SHIRLEY', 'TENKO, CARTER', 'FIREFALL II', 'HUMAN TOP', 'JORDAN, HAL', 'THIN MAN', 'STERNBERG, DR. BERTH', 'SHAW, ESAU', 'MACKAY, AILSA', 'BRUNNHILDE', 'BUCKY', 'HUGO, CAPTAIN EDVARD', 'GENUARDI, MR.', \"SPIRIT OF '76\", 'GEORGE, DAVID LLOYD', 'MANNING, DR.', 'MACRAE, TRUTH', 'LOGAN, WAYNE', 'ROOSEVELT, FRANKLIN ', 'ALANYA', 'SUNSHINE', 'THUNDERFIST', 'BRANSON', 'PIXIE', 'YETI', 'BARTON, SEN.', 'CAPTAIN HIP', 'MR. JUSTICE', 'KEMEL, MEHMET'})\n",
      "======\n",
      "frozenset({'DRAX | MUTANT X-VERS', 'STORM, JOHNNY | MUTA', 'QUICKSILVER | MUTANT', 'MEDUSA | MUTANT X-VE', 'GRIMM, BEN | MUTANT ', 'RICHARDS, REED | MUT', 'STRONG GUY | MUTANT ', 'RAKESH', 'SERSI | MUTANT X-VER', 'MOOT', 'SUB-MARINER | MUTANT', 'GARGOYLE | MUTANT X-', 'X-MAN | MUTANT X-VER', 'THOR | MUTANT X-VERS', 'MOON KNIGHT | MUTANT', 'DENAK', 'VOLSTAGG | MUTANT X-', 'MAGNETO | MUTANT X-V', 'TYPHOID MARY | MUTAN', 'BULLSEYE | MUTANT X-', 'APOCALYPSE | MUTANT ', 'FURY, NICK | MUTANT ', 'SILVER SURFER | MUTA', 'VALKYRIE II | MUTANT', 'KARNAK | MUTANT X-VE', 'CREED, GRAYDON | MUT', 'VALTORR', 'AURORA | MUTANT X-VE', 'GALTUS', 'YGMLOSVORRAICH', 'ABSORBING MAN | MUTA', 'MACTAGGART, MOIRA | ', 'BLACK WIDOW | MUTANT', 'WOLVERINE | MUTANT X', 'PUCK | MUTANT X-VERS', 'BEYONDER | MUTANT X-', 'VENDETTA | MUTANT X-', 'KARKAS | MUTANT X-VE', 'ABOMINATION | MUTANT', 'ELEKTRA | MUTANT X-V', 'SHADOWCAT | MUTANT X', 'SELENE | MUTANT X-VE', 'CEREBRO MARK XIII | ', 'MORRISON, AMANDA PAY', 'LOCKHEED | MUTANT X-', 'GRIEFSAVOR', 'DR. DOOM | MUTANT X-', 'TRITON | MUTANT X-VE', 'DEATHLOK | MUTANT X-', 'DAREDEVIL | MUTANT X', 'FALLEN | MUTANT X-VE', 'MORRISON, JESSICA', 'SHUMA-GORATH', 'DOC SAMSON | MUTANT ', 'HOGUN | MUTANT X-VER', 'SABRETOOTH | MUTANT ', 'DR. OCTOPUS | MUTANT', 'SNOWBIRD | MUTANT X-', 'DUGAN, DUM DUM | MUT', 'MR. SINISTER | MUTAN', 'IKARIS | MUTANT X-VE', 'AFTERLIFE', 'JUGGERNAUT | MUTANT ', 'BARON MORDO', 'HUDSON, JAMES | MUTA', 'GREEN GOBLIN | MUTAN', 'BLACK BOLT | MUTANT ', 'GREY, JEAN | MUTANT ', 'HAWKEYE | MUTANT X-V', 'SHAMAN | MUTANT X-VE', 'MORDO, ASTRID', 'PROFESSOR X | MUTANT', 'SUMMERS, SCOTT III |', 'NIGHTCRAWLER | MUTAN', 'OSHTUR', 'CYTTORAK', 'MUNIPOOR', 'WILD CHILD | MUTANT ', 'GAMBIT | MUTANT X-VE', 'YASHIDA, MARIKO | MU', 'GRIFFIN', 'FAMINE | MUTANT X-VE', 'BLACK PANTHER | MUTA', 'CEREBRO | MUTANT-X V', 'NORTHSTAR | MUTANT X', 'MIDWIFE', 'BETA RAY BILL | MUTA', 'CELESTE', 'DEVIL DINOSAUR | MUT', 'DR. STRANGE | MUTANT', 'RAGGADORR', 'POLARIS | MUTANT X-V', 'FANDRAL | MUTANT X-V', 'FORGE | MUTANT X-VER', 'COLOSSUS II | MUTANT', 'SASQUATCH | MUTANT X', 'POWER MAN II | MUTAN', 'BINARY | MUTANT X-VE', 'GUARDIAN | MUTANT X-', 'RAVEN | MUTANT X-VER', 'ANCIENT ONE', 'FIN FANG FOOM | MUTA', 'BROTHER VOODOO | MUT', 'YELLOWJACKET II | MU', 'CAPTAIN AMERICA | MU', 'PESTILENCE | MUTANT ', 'DRACULA | MUTANT X-V', 'MAN-SPIDER | MUTANT ', 'BLOODSTORM | MUTANT ', 'STINGRAY | MUTANT X-', 'HAVOK | MUTANT X-VER', 'MYSTIQUE | MUTANT X-', 'BRUTE | MUTANT X-VER', 'IRON GIANT MAN | MUT', 'GORGON | MUTANT X-VE', 'ELECTRA', 'NOVA | MUTANT X-VERS', 'CYCLOPS | MUTANT X-V', 'FIRESTAR | MUTANT X-', 'UATU | MUTANT X-VERS', 'IRON FIST | MUTANT X', 'IKONN', 'MAN-SPIDER CLONE | M', 'MOTHER-OF-PAIN', 'ICE-MAN | MUTANT X-V', 'NOVA II | MUTANT X-V', 'MARVEL WOMAN | MUTAN', 'WATOOMB', 'SHADOW KING | MUTANT', 'NAMORITA | MUTANT X-', 'MOLE MAN | MUTANT X-', 'ROGUE | MUTANT X-VER', 'HULK | MUTANT X-VERS', 'HOGGOTH', 'STACY, GWEN | MUTANT', 'CALLISTO | MUTANT X-'})\n",
      "======\n",
      "frozenset({'WEAPON X III', 'RON, DAN', 'X THE UNKNOWABLE', 'SASQUATCH II', 'SCORPIO IV', 'GODSTALKER', 'BUG', 'SAGITTARIUS II', 'MURMUR II', 'OCULUS, LT.', 'JELLA, PRIVATE', 'CHINOOK', 'MOBIUS, DR.', 'ARIES III', \"LYTH'KA, COMMANDER\", 'KRYPT, DR.', 'LIBRA IV', 'TAURUS II', 'RANN, COMMANDER ARCT', 'FLINCH', 'PROCTOR, COORDINATOR', 'HUXLEY, DR. HORATIO', 'JARA', 'KILGREW, GERARD', 'BARON ZEBEK', 'GUARDIAN V', 'HAMES', 'OUIJA', 'VIRGO II', 'RADIUS', 'AQUARIUS III', \"MYLZOB'RYN, CHIEF\", 'HELKOOKY', \"STECK'EE\", 'BAV-TEK', 'CAPRICORN II', 'BRASS BISHOP', 'SISTER CHLOE', 'HAV-ROGG', 'STARR, JACQUELINE', 'CANCER II', 'MARIONETTE', 'ECLIPTIC', 'VIENNEAU, JACQUES', 'HAV-AK', 'DEXAM', 'VAVELLA', 'HADDOCK, DR. MYRA', \"SHYM'R\", 'DIRECTOR X', 'PISCES II', \"GRASSWIND, Z'OOFREY\", 'GENTRY', 'POWER, LEFTENANT', 'LEEBRE, VEEDA', 'UNA', 'GHOST GIRL II', 'LEO II', 'FLEX', 'SU, DR. KO BIN', 'BECKLEY, BENNY', 'KILGREW, BASIL BETA ', 'KLAER', 'ARKANIAN, GLIB', 'MANBOT', 'VISALIA', 'ZEY-ROGG', 'DARGIL'})\n",
      "======\n",
      "frozenset({'STARSHINE II', 'PACKER, ARTIE', 'TALO', 'JONES, MAGGIE', 'JACKSON, STEVE', 'HOUSE OF SHADOWS', 'RAINBOW', 'JAVELIN', 'PIERSO [TRIONIAN]', 'JONES, DANIEL DANNY', 'LIBERATOR', 'JONES, NELL', 'BIANDU', 'HAMMERHAND', 'BOULDER', 'FIREFALL IV', 'SENTRY IV', 'LANDSLIDE', 'MENTUS', 'VANIUM', 'YOVA', 'CLARK, SARAH', 'JONES, LORRAINE LORR', 'PULSAR II', 'WATER WITCH', 'TERMINATOR', 'CLARK, JOHN', 'TERMINATOR II', 'XYOSS', \"O'CONNOR, A.C. ACE\", 'KILLBURN, MACK', 'KEL, JANOTH', 'STARSHINE III', 'DARK MASTER', 'MARTINS', 'STARSHINE', 'THAN, VELENA', 'FIREFALL', 'LIGHTNINGBOLT II', 'XELOCKS [TRIONIAN]', 'MISSING LINK', 'PRESIDENT ITOES [TRI', 'JONES, TAMMY ANNE', 'FIREFALL III', 'SERPENTYNE', 'HAMMERHAND II', 'DIGGER II', 'JAVELIN II', 'LORD GASPAR', 'LORD BALDAR', 'BENJAMIN, BYRON'})\n",
      "======\n",
      "frozenset({'HYZAKTL', 'GRAND OVERSEER', 'UR-LINI', 'SZARKUS', 'KHIRN', 'ALIST', 'GRUX', 'HUNKIR', 'SKOOKA', 'DARK COUNSEL', 'GRESIG', 'BLACKBODY', 'YURGE', 'MIBA', 'TYN-DARMUTH', 'TEI', 'UNI-LORD', 'UNIT 101101', 'HYNNIT', 'NURIL', 'JURIAS', 'JYX', 'VORZEN', 'BORROB', 'PRADDA FOL', 'OUTRIDER', 'TRYKUR', 'CRIX', 'HRILL', 'QIRMET', 'HARQUIS TEY', 'PYRAKH, COMMANDER', 'RU', 'FIM', 'STRACU', 'OJANI', 'YLA', 'REI', 'JUSUR', 'IZZIFIZZ'})\n",
      "======\n",
      "frozenset({'VOLCANA ASH', 'MOURNING PREY', 'ATALON', 'SKARLET', \"G'RATH\", 'DEATHRAVEN', 'SABRE', 'OLD SKULL', 'MELONIE', 'MINT JULEP', 'FOROPULIST', 'SACRIFICER', 'SKAR', 'MASTER FOUR', 'BROTHER AXE', 'EVE 3,031', 'HIGH OVERLORD', 'MASTER TWELVE', 'RATTACK', 'WARLORD', 'ARROW', 'WARR', 'FROST, CARMILLA', 'ADAM 3,031', 'MILLER, JENETTE', 'GROK', \"M'SHULLA\", '24-HOUR MAN', 'KILLRAVEN', 'SLASHER', 'KEMPLETON, PROFESSOR', 'VIGILANT'})\n",
      "======\n",
      "frozenset({'CONOVER, ALYSSA', 'SHERIDAN, WILLIAM', 'CUFFS', 'SPECTRA', 'HUDDLESTON, PROF.', 'COOPER, WHITNEY III', '8-BALL', 'MASTER LINK', 'EPSTEIN, MRS.', 'SHERIDAN, LEAH', 'LOVEJOY, FRANKLIN', 'LULLABY', 'SMITH, COL. TOLLIVER', 'COBWEB', 'UPLINK', 'EPSTEIN, MORRIS', 'PEREZ, DET. CECILIA', 'WEAK LINK', 'BAYLOR, FRANK', 'MR. FX', 'MCMURRAY, YVONNE', 'FONG, DR. CHARLES WA', 'MISSING LINK II', 'BOOKWORM', 'CROSS, HAROLD', 'WIRETAP', 'NIGHTSTICK', 'SHERIDAN, FLORENCE'})\n",
      "======\n",
      "frozenset({'SKYE', 'MENDELSON, DR. MACK', 'BERKELEY, TRAVIS', 'JOSEPH, SHEVA', 'RHODES, MRS.', 'SANCTION', 'PARK, ARCHIE', 'RHODES, MR.', 'COLD WARRIOR', 'MILLER, TRACE', 'BERGIER, REBECCA', 'SEGAR, OWEN', 'DEATHTOLL', 'LOCOMOTIVE BREATH', 'JEFFRIES, DR.', 'MICHELLE', 'LIN, PAULA', 'WOLFGANG', 'LEVITICUS', 'MANTONE, JORGE', 'MARTELL, SHIELD AGEN', 'GUNSHIP'})\n",
      "======\n",
      "frozenset({'JONES, JANIS', 'CHAR', 'UNIT', 'PO', 'WATTS', 'PREECHA', 'KASPIN', 'LIBRITO', 'RAI', 'JOUST', 'MOK', 'CHIRA', 'SLEEK', 'CYBERSLIK', 'MO', 'AGARN, CAPT.', 'BETTY-6', 'SHULK', 'GOLDFARB, AARON', 'FLO', 'QUARRY'})\n",
      "======\n",
      "frozenset({'EPHESUS', 'SOTEIRA', 'EZEKEEL', 'REVELATION II', 'ARCTURUS', 'MELLACE, LUCY SANTIN', 'GADRIEL', 'SARIEL', 'MELLACE, TONY', 'AZAZEL II', 'BLAIR, CALEY', 'GEESEY, KARL', 'STANLEY, TOM', 'ARMAROS', 'WESSEL, HARRY', 'OLIVIER', 'STALKER'})\n",
      "======\n",
      "frozenset({'DR. VAULT', 'LOPEZ, MARIA II', 'IT', 'LEFLER, BOB', 'GREER, DAVID', 'MUNSON, CLAUDIA', 'CUMMINGS, DIANE', 'COWAN, EARL', 'DELAZNY, DORIAN', 'MAGNOR', 'SIMON, FELIX', 'KNUTZ, CINDY', 'SANDERS, MAC', 'GRANITOR', \"O'BRYAN, BOB\", 'BOSCO, ELAINE', 'MARSHALL, GRANT'})\n",
      "======\n",
      "frozenset({'WILDPRIDE', 'STRANGE', 'JASMINE', 'AZOPARDI', 'NOBLE', 'SALOME', 'SISTER NIL', 'GREEN, LILA', 'CHALMERS, MR.', 'RIVERA, MS.', 'PARADOX', 'BELLE', 'STEVENS, DR. VINCENT'})\n",
      "======\n",
      "frozenset({'MYSTERIUM', 'JONES, KATIE', 'CROWLEY', 'JONES, PHILLIP', 'SKYMAX', 'JONES, DRUCILLA', 'STEWART, TINA', 'NIGHTHAWK III', 'JONES, ANDY', 'STEWART, MADDIE'})\n",
      "======\n",
      "frozenset({'CROW, REV. JOSHUA', 'RILEY, JACK', 'RILEY, MARIEL', 'SAMMAEL', 'PORTER, KIM', 'ARMAZIEL', 'SIEGEL, DR. AVRAM', 'SOULFIRE', 'RILEY, KIM', 'GERHARDT, JOSEPH HEI'})\n",
      "======\n",
      "frozenset({'ASHER, MICHAEL', 'ASHER, CARL', 'FAGIN', 'HOFFMAN', 'OSWALD', 'LUDLUM, ROSS', 'ORWELL', 'NILES, SEN. CATHERIN', 'ASHER, DONNA'})\n",
      "======\n",
      "frozenset({'SCENE STEALER', 'CHECK', 'HOPE', 'MAINSPRING', 'RELAY', 'PSIREN', 'PSIMON', 'FIELDER', 'CHI-CHEE'})\n",
      "======\n",
      "frozenset({'TILLIE THE HUN', 'TERROR', 'BLACK HOLE', 'DR. ANGST', 'WILCOX, DR. BRENT', 'SITTING BULLSEYE', 'CRITIC', 'SPANKER', 'DOOM, DR. BOB'})\n",
      "======\n",
      "frozenset({'HOWLER II', 'YSSA', 'QUINN, MIRANDA', 'KINCAID, MOSES', 'CONTRARES, ANASTASIA', 'QUINN, MR.', 'FEIFFER, DEPUTY BEAU', 'LONGBOW, DESIREE', 'OBLITERATOR II'})\n",
      "======\n",
      "frozenset({'HO YINSEN', 'PLEX INTELLIGENCE', 'DR. MIDAS', 'SUN-TAO', 'MERREE', 'OUBLIETTE', 'MARVEL BOY VIII', 'CAPTAIN GLORY'})\n",
      "======\n",
      "frozenset({'FURY, NICK II', 'GUINNESS', 'POTTS, VIRGINIA PEPP', 'MASTER MAN II', 'ROSE, MICHKA', 'PARSON', 'CARTER, SHARON II', 'CROSSBONES II'})\n",
      "======\n",
      "frozenset({\"P'KAR\", 'BASALTAR', 'BARTOS', 'SINTARIIS', 'WIBBOW', 'ALBERIK', 'DIBDEB', 'MANAT'})\n",
      "======\n",
      "frozenset({'WOLFSBANE 2013', 'CAPTAIN BRITAIN 2013', 'KARMA 2013', 'PSYLOCKE 2013', 'DOUGLOCK 2013', 'TANGERINE 2013', 'MEGGAN 2013', 'WISDOM, PETE 2013'})\n",
      "======\n",
      "frozenset({'FILLMORE, GARRET', 'DOCTOR, DR. JOSHUA', 'BENNY, JAKE', 'NUTT', 'THINGEE', 'LILLIAN, BEA', 'FILLMORE, BETTY', 'GALE, SHERIFF'})\n",
      "======\n",
      "frozenset({'MEGA MAX', 'CARGO', 'HARDWIRE', 'PIGSKIN', 'VANCE REBUS', 'MINI MAX', 'CROWE, GERONIMO', 'RECKLESS ERIC'})\n",
      "======\n",
      "frozenset({'SEWARD, JANE', 'FLORESCU, ANTON', 'PENNINGTON, AUDRA', 'SEWARD, DR. CHARLES', 'MALTZ', 'SEWARD, ANNE', 'SEWARD, ELISABETH', 'ARMAND'})\n",
      "======\n",
      "frozenset({'METALSLASH', 'DEADEYE', 'KRAFT, DONNA', 'IMPACT', 'BLOODHOUND', 'SOUNDBYTE', 'MODEM'})\n",
      "======\n",
      "frozenset({'KRANG II', 'BLACK KNIGHT VI', 'CRIMSON DYNAMO VIII', 'TITANIUM MAN III', 'WHIRLWIND II', 'RADIOACTIVE MAN II', 'MELTER II'})\n",
      "======\n",
      "frozenset({'LOPEZ, ANGELA', 'MR. TERMINEUS', 'BURKE, JOB', 'SORROW', 'BURKE, JACK', 'FILLMORE, SHERIFF DO', 'BURKE, GWYNETH'})\n",
      "======\n",
      "frozenset({'MISS THING', 'STERLING', 'PANTHER CUB', 'DARLEGUNG, GEN.', 'AMAZO-MAXI-WOMAN', 'MANT', 'SWORDSMAN IV'})\n",
      "======\n",
      "frozenset({'GANGER, CARMEN', 'GANGER, DR. ALEXEI', 'ROSE, JUSTICE', 'ROSE, HENRIETTA', 'SORRENTINO', 'OTHER II'})\n",
      "======\n",
      "frozenset({'SAMA-D', 'TENEBRAE', 'CORONER', 'CY-PHYRR 4', 'BRAHMANES', 'SEETAH'})\n",
      "======\n",
      "frozenset({'REVER, BRAD', 'REVER, DAN', 'HAGER, GENERAL', 'DUNER, MAJOR', 'WARGOD', 'WEASON, SENATOR'})\n",
      "======\n",
      "frozenset({'LUCAS', 'KREE GIANT MAN [KREE', 'KREE CAPTAIN AMERICA', 'REDWING II', 'KREE IRON MAN [KREE]', 'KREE SCARLET WITCH ['})\n",
      "======\n",
      "frozenset({'LAO-TSE, GEN.', 'LESTRADE, DR.', 'PHARAOH KHAFRE', 'VAN NUYS, PROF. RODE', 'KO-GAR', 'FISHER, PROF. FRANCE'})\n",
      "======\n",
      "frozenset({\"MIND'S EYE\", \"D'KAY\", 'BACILLUS', 'STRONTIUM-90', 'VESPER'})\n",
      "======\n",
      "frozenset({'HELLER, ERIC', 'WILSON, DUBOSE', 'MCHELE, JEREMY', 'AKULIA', 'CROSS-WALLACE, SIR G'})\n",
      "======\n",
      "frozenset({'SINGER, MERLE', 'MENDOSA, EMILIO', 'MOODY, RUNYAN', 'FOOLKILLER III', 'WHITMAN, PATRICIA'})\n",
      "======\n",
      "frozenset({'HAYDEN', 'MALOVICK', 'ECLECTA', 'UNICORN III', 'PYRON'})\n",
      "======\n",
      "frozenset({'MORAN, KEVIN', 'PAIN', 'SPIKE', 'SLICK', 'GORN'})\n",
      "======\n",
      "frozenset({'MINOTAURUS', 'PINTA', 'DOVINIA', 'OZ, DR. MALACHI', 'LEONINUS'})\n",
      "======\n",
      "frozenset({'SISTER KATRINA', 'SYBIL', 'BAPTISTE, TANTE MATT', 'ANIELLE', 'STOKER, OLIVIER'})\n",
      "======\n",
      "frozenset({'WILD TIGER', 'WOO, CHOW YUN', 'CHIANG, PROF.', 'CURSED LOTUS', 'WOO, MAI YIN'})\n",
      "======\n",
      "frozenset({'SKUL', 'SILICON', 'KID', 'M-80', 'NAILS II'})\n",
      "======\n",
      "frozenset({'SEERESS', 'HONDA, DR.', 'STORMER', 'DETHSTRYK', 'RAVAGE'})\n",
      "======\n",
      "frozenset({'PARRISH, MAX', 'ST. GERMAINE, COMTE', 'BRANDEIS, PROF. HENR', 'BRANDEIS, LIZ PARRIS', 'BRANDEIS, CAMMY'})\n",
      "======\n",
      "frozenset({'HIGGINS, JANE', 'KOLE, JOHN', 'HIGGINS, RICHIE', 'KOLE, MICHELLE', 'HIGGINS, LINDA'})\n",
      "======\n",
      "frozenset({'CALUMET', 'NANABOZHO', 'LOBO II', 'HOTAMITANIO', 'OWAYODATA'})\n",
      "======\n",
      "frozenset({'TUVO', 'BREEGAN', 'BYRRAH | HEROES REBO', 'AL-KHALAD'})\n",
      "======\n",
      "frozenset({'BECKMAN, JOSEPH', 'BECKMAN, SARAH', 'BECKMAN, CHARLES', 'BECKMAN, LISA'})\n",
      "======\n",
      "frozenset({'HARKNESS, ABIGAIL', 'SHAW, HIRAM', 'SHAW, OBADIAH', 'SHAW, SARAH'})\n",
      "======\n",
      "frozenset({'PATCHWORK', 'SHARP, TRINA', 'GEIGER', 'PINKERTON, RUDY'})\n",
      "======\n",
      "frozenset({'ACHILLES', 'ULYSSES', 'AGAMEMNON', 'HECTOR'})\n",
      "======\n",
      "frozenset({'THREE-FACE', 'NOSFERATA', 'JACK SERIOUS', 'LOOPNER, LEXINGTON'})\n",
      "======\n",
      "frozenset({'CARVER', 'FUGUE', 'CHEN, JOANNA', 'CURSON, LT. TARA'})\n",
      "======\n",
      "frozenset({'GREGORY, TODD', 'COCO', 'BRUNO'})\n",
      "======\n",
      "frozenset({'HAMMER', 'ANVIL', 'MCDOWELL, SCOTTY'})\n",
      "======\n",
      "frozenset({'MCSHANE, PATRICK', \"O'HARA, GERALD\", 'RAGA-SHAH'})\n",
      "======\n",
      "frozenset({'PAVANE II', 'AMPERE', 'BRAWLER'})\n",
      "======\n",
      "frozenset({'KATHAR', 'KASTYX', 'KASEMA'})\n",
      "======\n",
      "frozenset({'SLAUGHTER', 'SUNDANCE', 'STRIKER'})\n",
      "======\n",
      "frozenset({'ZONE', 'FORTUNE', 'TIGER WYLDE'})\n",
      "======\n",
      "frozenset({'FLEET, JONAS', 'WENDIGO IV', 'FLEET, TAMARA'})\n",
      "======\n",
      "frozenset({'LUPE', 'RAZORBLADE II', 'SCUZZ'})\n",
      "======\n",
      "frozenset({'STEEL SPIDER', 'MASTER OF VENGEANCE'})\n",
      "======\n"
     ]
    },
    {
     "data": {
      "text/plain": [
       "[None,\n",
       " None,\n",
       " None,\n",
       " None,\n",
       " None,\n",
       " None,\n",
       " None,\n",
       " None,\n",
       " None,\n",
       " None,\n",
       " None,\n",
       " None,\n",
       " None,\n",
       " None,\n",
       " None,\n",
       " None,\n",
       " None,\n",
       " None,\n",
       " None,\n",
       " None,\n",
       " None,\n",
       " None,\n",
       " None,\n",
       " None,\n",
       " None,\n",
       " None,\n",
       " None,\n",
       " None,\n",
       " None,\n",
       " None,\n",
       " None,\n",
       " None,\n",
       " None,\n",
       " None,\n",
       " None,\n",
       " None,\n",
       " None,\n",
       " None,\n",
       " None,\n",
       " None,\n",
       " None,\n",
       " None,\n",
       " None,\n",
       " None,\n",
       " None,\n",
       " None,\n",
       " None,\n",
       " None,\n",
       " None,\n",
       " None,\n",
       " None,\n",
       " None,\n",
       " None,\n",
       " None,\n",
       " None,\n",
       " None,\n",
       " None,\n",
       " None,\n",
       " None,\n",
       " None,\n",
       " None,\n",
       " None,\n",
       " None,\n",
       " None,\n",
       " None,\n",
       " None,\n",
       " None]"
      ]
     },
     "execution_count": 14,
     "metadata": {},
     "output_type": "execute_result"
    }
   ],
   "source": [
    "#1.Q贪婪\n",
    "from networkx.algorithms.community import greedy_modularity_communities\n",
    "\n",
    "#计时计算\n",
    "start_time = time.time()    \n",
    "c = greedy_modularity_communities(G)\n",
    "end_time = time.time()\n",
    "t1 = end_time - start_time\n",
    "\n",
    "#输出\n",
    "print(type(c)) #返回类型是list\n",
    "[print(str(_)+'\\n======') for _ in list(c)]# 展示社团划分结果"
   ]
  },
  {
   "cell_type": "code",
   "execution_count": 11,
   "metadata": {},
   "outputs": [
    {
     "name": "stdout",
     "output_type": "stream",
     "text": [
      "<class 'dict'>\n",
      "{'LITTLE, ABNER': 0, 'PRINCESS ZANDA': 1, 'BLACK PANTHER': 2, 'STEELE, SIMON': 3, 'FORTUNE, DOMINIC': 3, 'ERWIN, CLYTEMNESTRA': 4, 'IRON MAN': 0, 'IRON MAN IV': 0, 'RAVEN, SABBATH II': 3, 'CARNIVORE': 0, 'GHOST': 3, 'ZIMMER, ABE': 0, 'FU MANCHU': 3, 'TARR, BLACK JACK': 3, 'SMITH, SIR DENIS NAY': 3, 'SHANG-CHI': 3, 'STARSHINE II': 6, 'ROM, SPACEKNIGHT': 2, 'MAN-THING': 5, 'WU, LEIKO': 3, 'DOCTOR DREDD': 3, 'RESTON, CLIVE': 3, 'JACKSON, STEVE': 6, 'MYSTIQUE': 5, 'BLOB': 5, 'TORPEDO III': 2, 'PYRO': 5, 'AVALANCHE': 5, 'ROGUE ': 5, 'DESTINY II': 5, 'HYBRID': 5, 'CLARK, SARAH': 6, 'KILLBURN, MACK': 6, 'JONES, TAMMY ANNE': 6, 'JONES, LORRAINE LORR': 6, 'JONES, NELL': 6, 'JONES, DANIEL DANNY': 6, 'CLARK, JOHN': 6, 'SUB-MARINER': 2, 'VASHTI': 2, 'SEAWEED MAN': 2, 'NOVA': 6, 'FIRESTAR': 6, 'THUNDERBALL': 1, 'NAMORITA': 6, 'SPEEDBALL': 6, 'HULK': 2, 'NIGHT THRASHER': 6, 'SPIDER-MAN': 3, 'JUSTICE II': 6, 'TIGRA': 2, 'WASP': 2, 'GALACTUS': 2, 'MOCKINGBIRD': 2, 'SILVER SURFER': 2, 'HAWK': 13, 'LORD CHAOS': 2, 'SCARLET WITCH': 2, 'QUICKSILVER': 2, 'UATU': 2, 'CAPTAIN AMERICA': 4, 'THUNDERSTRIKE': 1, 'WONDER MAN': 2, 'DEATHLOK III': 10, 'OBLIVION': 2, 'WOLVERINE': 5, 'SHE-HULK': 2, 'VISION ': 2, 'PSYLOCKE': 5, 'MARVEL GIRL': 5, 'STORM': 5, 'ETERNITY': 2, 'KISMET': 2, 'IN-BETWEENER': 2, 'MR. FANTASTIC': 2, 'ANGEL': 5, 'DEATH': 2, 'MASTER ORDER': 2, 'JUBILEE': 5, 'THING': 2, 'INVISIBLE WOMAN': 2, 'INFINITY II': 2, 'PUNISHER II': 3, 'ANDROMEDA': 2, 'BEAST': 5, 'GHOST RIDER III': 10, 'CYCLOPS': 5, 'LIVING LASER': 2, 'CABE, BETHANY': 0, 'SPYMASTER': 3, 'HOGAN, VIRGINIA PEPP': 0, 'HOGAN, HAROLD J. HAP': 0, 'BATROC': 4, 'CARTER, SHARON': 4, 'KARNILLA [ASGARDIAN]': 1, 'HEIMDALL [ASGARDIAN]': 1, 'ENCHANTRESS': 1, 'LOKI [ASGARDIAN]': 1, 'NIGHTMARE': 10, 'ZANIAC': 1, 'THOR': 1, 'SONIC': 0, 'CHAIN': 0, 'SPIDER-WOMAN II': 0, 'CARPENTER, RACHEL': 0, 'GRASP': 0, 'CLEMSON, MIKE': 0, 'COOPER, DR. VALERIE': 5, 'CARPENTER, LARRY': 0, 'RED GUARDIAN III': 2, 'DR. STRANGE': 2, 'DOLLAR BILL': 2, 'HELLCAT': 2, 'NIGHTHAWK II': 2, 'DEVIL-SLAYER': 2, 'NORRISS, SISTER BARB': 2, 'BANNER, BETTY ROSS T': 2, 'ROSS, GEN. THADDEUS ': 2, 'COBALT MAN': 5, 'MASTERMIND': 5, 'ROBERTS, TED': 5, 'ARMBRUSTER, COLONEL ': 2, 'GORGON [INHUMAN]': 2, 'LOCKJAW [INHUMAN]': 2, 'CRYSTAL [INHUMAN]': 2, 'BLACK BOLT': 2, 'TRITON': 2, 'KARNAK [INHUMAN]': 2, 'WARLOCK II': 2, 'ANALYZER': 1, 'MAN-BEAST': 5, 'ABOMINATION': 2, 'RHINO': 3, 'WILSON, JIM': 2, 'JUGGERNAUT': 5, 'PROFESSOR X': 5, 'CORBEAU, DR. PETER': 5, 'BRICKFORD, CLAY': 13, 'MISSING LINK': 6, 'STACY, PAUL': 3, 'VENOM': 3, 'PARKER, MAY': 3, 'STACY, ARTHUR': 3, 'STACY, JILL': 3, 'BLADE': 10, 'ROBERTSON, JOE': 3, 'FORTUNATO, GIACOMO J': 3, 'MORBIUS': 3, 'LEEDS, BETTY BRANT': 3, 'KINGPIN': 3, 'GARTH, DONNA': 10, 'ZOMBIE': 10, 'WATSON-PARKER, MARY ': 3, 'WATSON, ANNA': 3, 'SPAULDING, PETER': 2, 'MACHINE MAN': 2, 'JOCASTA': 2, 'GARVIN, GEARS': 2, 'ULTRON': 2, 'CALDRONE, JAVIER': 3, 'JAMESON, J. JONAH': 3, 'DOLMAN': 3, 'URICH, BEN': 3, 'KWAN, TERRY': 3, 'OVERRIDE': 3, 'ICEMAN': 5, 'THOMPSON, EUGENE FLA': 3, 'THORSON, DR. WALTER': 3, 'MAXWELL, MORRIS': 3, 'LUMLEY, JUDY': 3, 'GRANT, GLORIA GLORY': 3, 'FAIRMONT, HANNAH': 1, 'MCCORMICK, BARRY': 3, 'TOKKOTS': 1, 'STAR THIEF II': 2, 'GARGOYLE II': 2, 'KUBIK': 2, 'CLOUD': 2, 'MANSLAUGHTER': 10, 'SOUTHERN, CANDY': 5, 'INTERLOPER': 10, 'MOONDRAGON': 2, 'DRAGON OF THE MOON': 2, 'HUMAN TORCH': 2, 'BEYONDER': 2, 'DR. OCTOPUS': 3, 'WARD, SEN. STEWART': 3, 'BULLSEYE II': 3, 'MISTER HYDE': 4, 'COACHWHIP': 4, 'COBRA': 4, 'ASP II': 4, 'BUSHMASTER II': 4, 'FER DE LANCE': 4, 'BLACK MAMBA': 4, 'BLACK RACER': 4, 'ROCK PYTHON': 4, 'ANACONDA': 4, 'PUFF ADDER': 4, 'BOOMSLANG': 4, 'RATTLER': 4, 'COPPERHEAD III': 4, 'MOREAU, DAVID': 5, 'RANSOME, JENNIFER AM': 5, 'MOREAU, PHILLIP': 5, 'HAVOK': 5, 'WIPEOUT': 5, 'DAZZLER II': 5, 'LONGSHOT': 5, 'SUMMERS, MADELYNE MA': 5, 'COLOSSUS II': 5, 'MALICE IV': 5, 'SUMMERS, NATHAN CHRI': 5, 'POLARIS': 5, 'MR. SINISTER': 5, \"N'ASTIRH\": 5, 'GATEWAY': 5, 'TILBY, TRISH': 5, 'CONOVER, REV. WILLIA': 5, 'CONOVER, HANNAH': 5, 'WOLFSBANE': 5, 'WARLOCK III': 5, 'SUNSPOT': 5, 'MAGIK': 5, 'MAGNETO': 5, 'CANNONBALL II': 5, 'MIRAGE II': 5, \"S'YM\": 5, 'GRIFFITH, D.W.': 3, 'MACE': 3, 'CAGE, LUKE': 3, 'PIPELINE': 5, 'PUNCHOUT': 5, 'HAWKSHAW': 5, 'MOLECULE MAN': 2, 'JARVIS, EDWIN ': 4, 'GHOST RIDER II': 10, 'ANT-MAN': 2, 'ARBOGAST, BAMBI': 0, 'EGGHEAD': 2, 'STARR, TRIXIE TRISH': 2, 'STANKOWICZ, FABIAN': 4, 'HERCULES [GREEK GOD]': 2, 'BLACK WIDOW': 2, 'MOON KNIGHT': 2, 'DRAX': 2, 'HARDY, MORGAN MACNEI': 4, 'SPIDER-MAN CLONE': 3, 'KAINE': 3, 'GREGOR': 3, 'RAVEN, LT. JACOB': 3, 'TREVANE, DET. CONNOR': 3, 'GRIM HUNTER': 3, 'ELLIS, KEN': 3, 'BYRNES, GAYLE WATSON': 3, 'TOMBSTONE': 3, 'SPIDERCIDE': 3, 'JACKAL': 3, 'JACK': 3, 'CAPUTO, DR. JULIA': 3, 'GUARDIAN IV': 3, 'GREEN GOBLIN IV': 3, 'STACY, GWEN (CLONE)': 3, 'BUCKNER, GRANT': 3, 'STUNNER': 3, 'TRAINER, DR. SEWARD': 3, 'TRAVELLER, DR. JUDAS': 3, 'TOWER, BLAKE': 3, 'LOCKER, MR.': 3, 'HINDSIGHT LAD': 6, 'SPEEDBALL II': 6, 'GEE': 6, 'TURBO II (A)': 6, 'BLACK CAT': 3, \"D'SPAYRE\": 10, 'PROUST, PAUL': 3, 'MACHETE': 4, 'ZARAN': 5, 'SILVER SABLE': 3, 'TRICKSHOT': 4, 'SWORDSMAN': 2, 'SANDMAN': 3, 'PEREGRINE, LE': 2, 'RED SKULL II': 4, 'GUDRUN [ASGARDIAN]': 1, 'VOLSTAGG': 1, 'HOGUN [ASGARDIAN]': 1, 'FANDRAL [ASGARDIAN]': 1, 'VIZIER': 1, 'ODIN [ASGARDIAN]': 1, 'DOMINO III': 5, 'HYDROMAN': 3, 'STILT-MAN': 3, 'BLOCKADE': 5, 'MERRYWEATHER, IRENE': 5, 'BLAQUESMITH': 5, 'WORTHINGTON, KATHRYN': 5, 'WORTHINGTON, WARREN ': 5, 'VULTURE': 3, 'VULTURE II': 3, 'OSBORN, HARRY': 3, 'STACY, CAPT. GEORGE': 3, 'STACY, GWEN': 3, 'GREEN GOBLIN': 3, 'SILVERMANE': 3, 'GREEN GOBLIN III': 3, 'PULASKI, JOSEPHINE J': 3, 'SHIFFMAN, MAXIE': 3, 'OSBORN, LIZ ALLAN': 3, 'MCKEEVER, TINY': 3, 'IONELLO, JASON': 3, 'GLADIATOR II': 0, 'RICHARDS, FRANKLIN B': 2, 'ARISHEM [CELESTIAL]': 1, 'ZIRAN': 1, 'GAMMENON [CELESTIAL]': 1, 'ONE ABOVE ALL [CELES': 1, 'WONG': 10, 'CLEA': 10, 'UMAR': 10, 'ALRAUNE, MARLENE': 3, 'JESTER': 3, 'DAREDEVIL': 3, 'NEDDA': 3, 'LANDERS, GENA': 3, 'CRAWLEY, BETRAND': 3, 'MANOLIS, LT. NICK': 3, 'FRENCHIE': 3, 'BUSHMAN, RAOUL': 3, 'LANDERS, RICKY': 3, 'SAMUELS': 3, 'LANDERS, RAY': 3, 'MASTERS, ALICIA REIS': 2, 'FEAR EATER': 10, 'LURKING UNKNOWN': 10, 'WOLFE, SARA': 10, 'DWELLER IN DARKNESS': 10, 'SCARECROW II': 10, 'NOX': 10, 'RINTRAH': 10, 'PHOBOS': 10, 'DEIMOS': 10, 'CHANG, IMEI': 10, 'TOPAZ': 10, 'DR. DRUID': 2, 'BARON BLOOD II': 10, 'BLESSING, MORGANA': 10, 'PIP': 2, 'GAMORA': 2, 'FRANKENSURFER': 4, 'VON FRANKENSTEIN, BA': 4, 'DRACULA': 2, 'DR. DOOM': 2, 'CERBERUS': 2, 'HELA [ASGARDIAN]': 1, 'FIRELORD': 2, 'AGAMOTTO': 10, 'SILVER DAGGER': 10, 'CAESAR, JULIUS': 2, 'ZOTA': 2, 'THANOS': 2, 'CLEOPATRA': 2, 'MEPHISTA': 10, 'MEPHISTO': 1, 'SATANNISH': 10, 'SLOAN, DR.': 3, 'HOBGOBLIN III': 3, 'HOBGOBLIN II': 3, 'FROG-MAN II': 3, 'LUBENSKI, NATE': 3, 'FOREIGNER': 3, 'BANNON, LANCE': 3, 'MUGGINS, MAMIE': 3, 'THINKER': 2, 'HOCHBERG, ROGER': 3, 'LIZARD': 3, 'KINGSLEY, DANIEL': 3, 'JAMESON, MARLA MADIS': 3, 'COUNT NEFARIA, LUCHI': 0, 'PLANTMAN': 2, 'SCARECROW': 2, 'ZELDA': 5, 'EEL': 2, 'CANTOR, VERA': 5, 'PORCUPINE': 4, 'UNICORN': 2, 'HENDERSHOOT, COLONEL': 5, 'FREDERICKS, GENERAL': 5, 'PENANCE': 5, 'SUPREME ONE': 5, 'LUCIFER': 4, 'UNUS THE UNTOUCHABLE': 5, 'DOMINUS': 5, 'MIMIC': 5, 'KUKULCAN': 1, 'TOLOC': 5, 'RAMON': 5, 'EL TIGRE': 5, 'PUPPET MASTER': 2, 'LOCUST': 5, 'BANSHEE': 5, 'OGRE': 13, 'SUPER-ADAPTOID': 4, 'LIVING MUMMY': 2, 'HUMAN TORCH ANDROID': 4, 'BUCKY': 4, 'DEAN, BETTY': 4, 'U-MAN': 4, 'CHURCHILL, SIR WINST': 4, 'TORO': 4, 'SPITFIRE': 4, 'WHIZZER': 2, 'RED SKULL': 4, 'BARON STRUCKER': 4, 'PRENTISS, BETTY DEAN': 2, 'HORTON, PROFESSOR PH': 2, 'FITZPATRICK, WILL': 4, 'UNION JACK II': 4, 'JACK FROST': 4, 'MISS AMERICA': 4, 'THIN MAN': 4, 'RED RAVEN': 4, 'KRIEGHUND, COL.': 4, 'PATRIOT': 4, 'BLUE DIAMOND': 4, 'UNION JACK': 4, 'BARON BLOOD': 4, 'ZAWADI': 12, 'BLOODSTONE': 12, 'GORGILLA': 2, 'GROTTU': 12, 'MOLE MAN': 2, 'MAKKARI': 2, 'ZINOVIEV, IVAN': 12, 'KRO [DEVIANT]': 1, 'VALKIN': 1, 'GIGANTUS': 2, 'GEORGE, DAVID LLOYD': 4, 'DELGADO, FATHER': 3, 'CLOAK': 3, 'MAYHEM': 3, 'DAGGER': 3, 'HEATER DELIGHT': 2, 'STARFOX': 2, 'RADIOACTIVE MAN': 2, 'MANDARIN': 0, 'TAURUS': 4, 'ERWIN, MORLEY': 4, 'SIF': 1, 'VOLLA': 1, 'CASE, COL. PRESTON': 1, 'PERRIKUS': 1, 'BRADLEY, HANK': 1, 'COLLINS, DEMITRIUS': 1, 'KINCAID, DR. JANE FO': 1, 'DESTROYER III': 1, 'FAIRMONT, AMANDA MAN': 1, 'FURY, COL. NICHOLAS ': 4, 'AQUARIUS II': 4, 'LEO': 4, 'VIRGO': 4, 'ARIES II': 4, 'SCORPIO II': 4, 'PISCES': 4, 'GEMINI': 4, 'CANCER': 4, 'SAGITTARIUS': 4, 'LIBRA': 2, 'CAPRICORN': 4, 'VIBRO': 4, 'BROTHERS GRIMM II': 0, 'MORLEY': 4, 'STANE, OBADIAH': 0, 'MASTER MOLD II': 5, 'MASTER MOLD III': 5, 'GILBERTI, ROSE': 5, 'CREED, GRAYDON': 5, 'BRIDGE, GEORGE WASHI': 13, 'KRAGG, GEN.': 5, 'BRICKMAN, SEN. MILES': 5, 'MAJESTON ZELIA': 1, 'ADVA': 1, 'DIAMOND, CHUCKY': 1, 'KINCAID, DR. KEITH': 1, 'FERRARI, CONNIE': 4, 'CHAKARA, KANU': 4, 'CHAKARA, MADAN': 4, 'MOSLEY, WARDEN': 4, 'KLAW': 13, 'LYJA LAZERFIST [SKRU': 2, 'DEVLOR': 2, 'VIBRAXAS': 2, 'RICHARDS, NATHANIEL': 2, 'PSI-LORD': 2, 'ANT-MAN II': 2, 'KRISTOFF': 2, 'HUNTARA': 2, 'WHITE TIGER': 3, 'SHA SHAN': 3, 'TARANTULA': 3, 'LIGHTMASTER': 3, 'KRAVEN THE HUNTER': 3, 'MORGAN': 4, 'HITMAN': 3, 'KLINE, MR.': 3, 'CRANDAL, BEN': 0, 'GUARDSMAN': 4, 'RODGERS, MARIANNE': 0, 'SITWELL, JASPER': 4, 'SLASHER': 13, 'DEMITRIUS': 0, 'BYRD, SEN. HARRINGTO': 0, 'WHITE DRAGON': 4, 'NIGHT PHANTOM II': 0, 'KA-ZAR': 2, 'BILLUPS, AGENT': 4, 'PROTOCIDE': 4, 'ZABU': 5, 'PLUNDER, ADAM KYLE M': 5, 'MANNING, DR.': 4, 'SHANNA': 2, 'FIREBRAND': 4, 'RAMIREZ, JAVIER': 4, 'DAYTRIPPER': 5, 'NIGHTCRAWLER': 5, 'GOG III': 5, 'MAGOG II': 5, 'ARIZE': 5, 'QUARK': 5, 'MOJO': 5, 'GAMBIT': 5, 'MAJOR DOMO': 5, 'FORGE': 5, 'SHAW, SHINOBI': 5, 'BISHOP ': 5, 'KINE, BENEDICT': 5, 'PAYGE, REEVA': 5, 'KAUR, BENAZIR': 5, 'VAUGHAN, MRS.': 2, 'BETELHEIM, NORMA': 2, 'QUASAR III': 2, 'ORIGIN': 2, 'VAUGHAN, GAYLE': 2, 'BALLANTINE, KAYLA': 2, 'UNBEING': 2, 'WHIZZER II': 2, 'ARCANNA': 2, 'KRONOS': 2, 'EON': 2, 'DR. SPECTRUM': 2, 'TANAKA, KENJIRO': 2, 'LADY LARK': 2, 'GARFIELD, MURRAY': 2, 'SHAPE': 2, 'HYPERION': 2, 'SERGEI': 2, 'MAELSTROM': 2, 'JACK OF HEARTS': 2, 'POWER PRINCESS': 2, 'LACOSTE, RAE': 0, 'RHODES, MR.': 0, 'LOCOMOTIVE BREATH': 0, 'GUNSHIP': 0, 'JOSEPH, SHEVA': 0, 'MANTONE, JORGE': 0, 'SANCTION': 0, 'SEGAR, OWEN': 0, 'DRAGONFLY': 13, 'OVERMIND': 2, '4-D MAN': 1, 'BI-BEAST II': 2, 'EGO-PRIME': 2, 'STRANGER': 2, 'JAKAR': 2, 'SHANGA': 2, 'CHARM': 2, 'TRUTH': 2, 'BEAUTY': 2, 'HAYWIRE': 2, 'STARDUST': 2, 'ROCKET RACCOON': 2, 'KRAKOA': 2, 'TEN FOR': 0, 'DIAMONDHEAD': 2, 'FLASH': 2, 'SUPER SABRE': 5, 'WHIZZER III': 3, 'RUNNER': 2, 'CAPTAIN MARVEL II': 0, 'HALFLIFE': 2, 'ATLAS': 0, 'MINERVA [KREE]': 0, 'CAPTAIN BRITAIN': 5, 'USAGENT': 0, 'MEGGAN': 5, 'WIDGET': 5, 'MODRED THE MYSTIC': 2, 'PHOENIX III': 5, 'REJECT': 1, 'MASTER ELO': 2, 'TUTINAX': 1, 'BLOOD BROTHERS': 0, 'ELO': 2, 'SUNDOWN': 3, 'VANISHER': 5, \"D'ANGELO, LIEUTENANT\": 3, 'NOVA II': 2, 'OBLITERATOR [ELDER]': 2, 'SHALLA BAL II': 2, 'CONTEMPLATOR': 2, 'BOUNTY II': 2, 'BLOODY MARY': 3, 'ANDERSON, BAXTER': 3, 'SUPER SKRULL': 2, 'REPTYL': 2, \"EMPRESS S'BYLL [SKRU\": 2, 'RONAN THE ACCUSER [K': 0, 'MIDNIGHT': 2, 'SUPREME INTELLIGENCE': 0, 'SWITZLER, BEVERLY': 5, 'HOWARD THE DUCK': 5, 'HUNTER, LANCE': 5, 'BRADDOCK, JAMES JR. ': 5, 'CALLAGHAN, JAMES': 5, 'DR. SYNNE': 5, 'ROSS, COURTNEY': 5, 'FRASER, DET. KATE': 5, 'TANNER, JACKO': 5, 'BOOMERANG': 3, 'JONES, RICHARD MILHO': 2, 'TALBOT, GLENN': 2, 'MAD VIKING': 2, 'DELPHI': 2, 'ANNIHILUS': 2, 'LEEDS, NED': 3, 'BROMWELL, DR.': 3, 'ROSENTHAL, BERNIE': 4, 'ANELLE': 2, 'GRIMM, JAKE': 2, 'MYSTERIO': 3, 'BIG MAN': 3, 'FANCY DAN': 3, 'MONTANA': 3, 'OX': 3, 'TERRAX II': 2, 'ZARRKO, ARTHUR': 2, 'CANNONBALL': 13, 'GAMBONNO, ERNESTO': 5, 'PAGE, KAREN': 3, 'BRUTO THE STRONGMAN': 5, 'RINGMASTER': 4, 'GAMBONNO, LUIGI': 5, 'NELSON, FRANKLIN FOG': 3, 'EVANS, DORIS': 2, 'WARREN, MR.': 3, 'CHAMELEON': 3, 'SHADOWCAT': 5, 'LOCKHEED': 5, 'KNIGHT ERRANT': 5, 'ICON': 5, 'THOMAS, COMMANDER DA': 5, \"CERISE II [SHI'AR]\": 5, 'AHAB': 5, 'SHADOWCAT 2013': 5, 'MANIPULATOR': 0, 'STINGER II': 2, 'DUGAN, TIMOTHY ALOYI': 4, 'RAMIREZ, ALMA': 4, 'GENUARDI, MR.': 4, 'RAMIREZ, LUIS': 4, 'RAMIREZ, MARTA': 4, 'BOLT, COUNCILMAN AND': 4, 'OXNARD, PHIL': 4, 'RAMIREZ, ROSA': 4, 'KORVAC, MICHAEL': 2, 'ASTROVIK, NORMA': 6, 'BINARY': 0, 'TWO-GUN KID': 2, 'GYRICH, HENRY PETER': 13, 'COLLECTOR': 2, 'CAPTAIN MARVEL': 2, 'HERA': 1, 'CARINA': 2, 'ZEUS': 1, 'BROWN, LAURA': 4, 'NEVILLE, KATE': 4, 'MACKENZIE, AL': 4, 'WOO, JIMMY': 4, 'MAD DOG': 2, 'DE LA FONTAINE, CONT': 4, 'MADAME HYDRA VI': 4, 'JONES, GABE': 4, 'PIERCE, ALEXANDER GO': 4, 'QUARTERMAIN, CLAY': 4, 'GAFF': 4, 'RUNCITER, GAIL': 4, 'MS. MARVEL II': 2, 'KOENIG, ERIC': 4, 'BLACK KNIGHT V': 2, 'NEPHRI': 5, 'APOCALYPSE': 5, 'OZYMANDIAS': 5, 'OSIRIS': 2, 'LOGOS': 5, 'BAAL': 5, 'PHARAOH RAMA-TUT': 2, 'KRISTA': 1, 'BALDER [ASGARDIAN]': 1, 'GRANT, SILAS': 1, 'TANA NILE': 1, 'HILDEGARDE [ASGARDIA': 1, 'ULIK': 1, 'DEATH-STALKER': 3, 'HELLSTORM': 2, 'BLAZE, ROXANNE SIMPS': 10, 'STUNT-MASTER': 4, 'SATAN': 2, 'ORB': 4, 'REYNOLDS, KATHERINE': 10, 'LEGION': 10, 'ROMA': 5, 'TRAPSTER': 4, 'MAGMA II': 3, 'MARTINELLI, VINCENT ': 3, 'MOOMJI, INDRIES': 0, 'CORTEZ, FABIAN': 5, 'TRIATHLON': 0, 'HUXLEY, DR. ALDA': 5, 'CARGIL': 5, 'SCANNER II': 5, 'VOGHT, AMELIA': 5, 'SENYAKA': 5, 'REM-RAM': 5, 'DEVEREAUX, MICHELLE': 5, 'BARNACLE': 5, 'STATIC': 5, 'BOERKE, MAYOR': 5, 'KLEINSTOCK, HARLAN': 5, 'KLEINSTOCK, SVEN': 5, 'PROJECTOR': 5, 'SPOOR': 5, 'SUVOROV, ADMIRAL GRI': 5, 'HALLER, GABRIELLE': 5, 'SCHEMER': 3, 'JAMESON, COL. JOHN ': 3, 'SMITH, JOE': 3, 'ANCIENT ONE': 14, 'DR. STRANGER YET': 10, 'APPALLA': 10, 'BLACK KNIGHT V STATU': 2, 'DIABLO': 2, 'SUZIE': 2, 'JONES, MARLO CHANDLE': 2, 'QUASIMODO': 2, 'HULK III': 2, 'NOMAD III': 4, 'MACLAIN, DR. MYRON': 0, 'MADCAP': 4, 'DEATH ADDER': 4, 'ROTH, ARNIE': 4, 'SISTER AGONY': 4, 'SISTER DEATH': 4, 'SISTER DREAM': 4, 'MOTHER SUPERIOR': 4, 'SISTER PLEASURE': 4, 'FALCON': 4, 'BLACK CROW': 4, 'BURLEY, MIKE': 6, 'DOVER, DONNA-LEE': 6, 'KRAA': 6, 'COOPER, ROGER CAPS': 6, 'RIDER, GLORIA': 6, 'JAYE-FIRESTONE, GING': 6, 'RIDER, ROBERT ROBBIE': 6, 'RIDER, CHARLES': 6, 'DILLON, BERNIE': 6, 'CONDOR': 6, 'POWERHOUSE': 6, 'SIDEWINDER': 4, 'PRINCESS PYTHON': 4, 'CONSTRICTOR': 13, 'ARMADILLO': 4, 'MALUS, DR. KARL': 4, 'SAYGE': 6, 'SPHINX': 6, 'CAPTAIN MARVEL III': 13, 'NEBULA': 2, 'BETA RAY BILL': 1, 'BLACKBODY': 12, 'DARK COUNSEL': 12, 'YLA': 12, 'KHIRN': 12, 'HYNNIT': 12, 'HARQUIS TEY': 12, 'UNI-LORD': 12, 'CRIX': 12, 'ALIST': 12, 'JYX': 12, 'JUSUR': 12, 'TEI': 12, 'GRAND OVERSEER': 12, 'REI': 12, 'MIBA': 12, 'FIM': 12, 'YURGE': 12, 'PYRAKH, COMMANDER': 12, 'NURIL': 12, 'IZZIFIZZ': 12, 'OJANI': 12, 'TYN-DARMUTH': 12, 'GRUX': 12, 'PRADDA FOL': 12, 'JURIAS': 12, 'HUNKIR': 12, 'SKOOKA': 12, 'VORZEN': 12, 'HYZAKTL': 12, 'UR-LINI': 12, 'QIRMET': 12, 'STRACU': 12, 'UNIT 101101': 12, 'SZARKUS': 12, 'HRILL': 12, 'OUTRIDER': 12, 'VYREK': 12, 'SHAMAN': 2, 'OMEGA II': 2, 'POWER, MARGARET': 6, 'POWER, DR. JIM': 6, 'COUNTERWEIGHT': 6, 'FRIDAY': 6, 'LIGHTSPEED': 6, 'COUNTERWEIGHT II': 6, 'CLOWN': 4, 'LIVEWIRE': 4, 'LEADER': 2, 'SOMMERS, APRIL': 2, 'ABSORBING MAN': 1, 'DOC SAMSON': 2, 'LANN': 2, 'TYRANNUS': 2, 'PRINCE REY': 2, 'KOFI [KYMELLIAN]': 6, 'JARELLA': 2, 'PSYKLOP': 2, 'STAR-STALKER': 2, 'NEBULON': 2, 'NORRISS, JACK': 4, 'CYCLOPS 2013': 5, 'WOLVERINE 2013': 5, 'COLOSSUS 2013': 5, 'PHOENIX 2013': 5, 'STORM 2013': 5, 'NIGHTCRAWLER 2013': 5, 'BEAST 2013': 5, 'ANGEL 2013': 5, 'PROFESSOR XAVIER 201': 5, 'NAGAN, DR. ARTHUR': 2, 'CHONDU': 2, 'MORGAN, JERROLD JERR': 2, 'RUBY': 2, 'WILLIAMS, MINDY': 2, 'ARAGORN': 2, 'OSHIMA': 15, 'SILVER SAMURAI': 5, 'GOGO TAMAGO': 15, 'EVERWRAITH': 15, 'BAYMAX': 13, 'TAKACHIHO, MRS.': 15, 'SUNFIRE': 15, 'HONEY LEMON': 15, 'TAKACHIHO, HIRO': 13, 'STRONG GUY': 5, 'HUDSON, HEATHER': 2, 'SASQUATCH': 2, 'HARKNESS, AGATHA': 2, 'THANOS DOPPELGANGER': 2, 'MAGUS': 2, 'LIVING TRIBUNAL': 2, 'TRIAX': 2, 'INFINITY THRALL': 2, 'HIGH EVOLUTIONARY': 1, 'NOBILUS': 1, 'LOVE': 2, 'HATE': 2, 'WALSH, LYNN': 6, 'URICH, DORIS': 3, 'SUNDRAGON': 2, 'FRIEDLANDER, SHARON': 5, 'MACTAGGERT, MOIRA KI': 5, 'SPIDER-MAN III': 3, 'RANGER I': 3, 'HARGROVE, ELIAS': 3, 'HOBGOBLIN V': 3, 'ELECTRO': 3, 'REINHOLDT': 3, 'CITIZEN V III': 13, 'FIXER II': 13, 'SHE-WOLF': 13, 'CITIZEN V II': 13, 'CITIZEN V': 13, 'ZEMO': 2, 'HALDEMAN, CALVIN': 3, 'FLAG-SMASHER': 4, 'CUSHING, KATE': 3, 'SPIDER-WOMAN IV': 3, 'HUNGER': 3, 'MARROW': 5, 'CALLISTO': 5, 'SMASHER III': 3, 'GLENN, HEATHER': 3, 'MINDWAVE': 4, 'GELLER, URI': 3, 'NELSON, CANDACE': 3, 'WIND-WARRIOR': 1, 'EARTH-LORD': 1, 'TASKMASTER': 4, 'REDWING': 4, 'DIAMONDBACK II': 4, 'LUDLUM, ROSS': 16, 'OSWALD': 16, 'HOFFMAN': 16, 'NILES, SEN. CATHERIN': 16, 'FAGIN': 16, 'ASHER, MICHAEL': 16, 'ORWELL': 16, 'ASHER, DONNA': 16, 'ASHER, CARL': 16, 'SHARPE, ROSALINDE': 3, 'MASTERMIND IV': 5, 'KNIGHT, MISTY': 3, 'LANE, LOIS': 5, 'TYPHOID MARY': 3, 'LOPEZ, DONNA': 3, 'STICK': 3, 'HAMMER II': 3, 'EEL II': 13, 'OX III': 3, 'BOWEN, FATHER MICHAE': 5, 'VESPER': 10, \"MIND'S EYE\": 10, 'BACILLUS': 10, 'STRONTIUM-90': 10, 'IRON FIST': 3, 'HAWKINS, DR. EDWIN E': 2, 'DR. NEMESIS': 2, 'BLACK GOLIATH': 2, 'POWER MAN': 13, 'MENTOR': 2, 'ISAAC': 2, 'DEMEITYR': 2, 'VERMICELLI, GIANNI': 3, 'FRANKENSTEIN MONSTER': 4, 'MULTIPLE MAN': 5, 'ALVAREZ, FELIX': 0, 'WHIPLASH': 4, 'HAMMER, JUSTIN': 3, 'DARE, KATHLEEN': 0, 'BLIZZARD II': 13, 'MADAME MASQUE': 0, 'MADAME MASQUE II': 0, 'PEARSON, MARCY': 0, 'DEADPOOL': 5, 'HUMBUG': 3, 'COPYCAT': 5, 'DIRTY WOLFF': 5, 'LANG, CASSANDRA CASS': 2, 'CORD, EDWIN': 13, 'GREY GARGOYLE': 1, \"O'CONNOR, A.C. ACE\": 6, 'PLUNDERER': 2, 'MARTINS': 6, 'FIREFALL III': 6, 'LANE, SILAS': 6, 'SPACE PHANTOM': 2, 'FIREFALL': 6, 'NITRO': 0, 'HAMMERHEAD': 3, 'OSBORN, NORMIE': 3, 'PROFESSOR POWER': 4, 'DARKHAWK': 6, 'LIVING LIGHTNING': 2, 'KALA': 2, 'RAGE': 6, 'GROTESK': 1, 'BRUTUS': 2, 'SERSI': 2, 'MIDNIGHT III': 3, 'HOWARD, PROFESSOR MA': 3, 'BLACK KNIGHT': 2, \"JACK O'DIAMONDS\": 17, 'MAXIMUS [INHUMAN]': 2, 'MEDUSA': 2, 'EXECUTIONER III': 1, 'SAPRISTI, JERRY': 1, 'QUICKSAND': 13, 'MONGOOSE': 1, 'IMPALA': 4, 'LORELEI II': 1, 'MASTERSON, KEVIN': 1, 'EXECUTIONER II': 1, 'FORGOTTEN ONE': 1, 'SHAPER OF WORLDS': 2, 'GLORIAN': 2, 'SNIPES, DET.': 3, 'SHOCKER': 3, 'TINKER, SHEA': 3, 'ROBERTSON, RANDY': 3, 'PARKER, HORACE': 3, 'GAUNT': 3, 'MCNAIR, TAD': 3, 'TYPEFACE': 3, 'OSBORN, NORMAN': 3, 'SMITH, DAPHNE': 3, 'PARKER, BEN': 3, 'GRIZZLY II': 5, 'FIREFIST': 5, 'HAMMER III': 5, 'WILDSIDE': 5, 'FOREARM': 5, 'REAPER II': 5, 'DRAGONESS': 5, 'KAMIKAZE': 5, 'STROBE': 5, 'SKIDS': 5, 'TEMPO': 5, 'ZERO': 5, 'STRYFE': 5, 'WEAPON X II': 5, 'BLIZZARD': 3, 'CANDY': 3, 'RANDI': 3, 'ARRANGER': 3, 'BALDWIN, MADELYNE MA': 6, 'LLYRA': 2, 'KENT, CLARK': 5, 'GHAUR [DEVIANT]': 1, 'SET': 3, 'MERCADO, JOY': 3, 'VIPER II': 4, 'SWANN, DR. EVAN': 3, 'BAKER, ANNE-MARIE': 3, 'SUNTURION': 0, 'HALE, JONAS': 0, 'SILVER': 2, 'AURIC': 2, 'DRAKE, CARLTON': 3, 'ENDO, DR. SUZI': 0, 'TODD, FISHER': 0, 'ULTRON 2010': 0, 'WONDER MAN 2010': 0, 'CENTURY': 0, 'RAMBEAU, MARIA': 2, 'RAMBEAU, FRANK': 2, 'LATHAM, JORGE': 2, 'WIZARD': 2, 'REAGAN, RONALD': 2, 'MOONSTONE II': 13, 'BEETLE': 13, 'SLOAN, FRED': 2, 'TIGER SHARK': 13, 'ELYSIUS': 2, 'BLACKOUT': 2, \"O'BRIEN, MICHAEL\": 2, 'SIKORSKY, RAYMOND': 4, 'LUNA': 2, 'DANNING, SHEILA': 2, 'GAROKK': 5, 'LETTERMAN, DAVID': 3, 'DORMAMMU': 10, 'ELEKTRA': 3, 'SELENE': 5, 'SUNDER': 5, 'KULAN GATH': 5, 'CALIBAN': 5, 'MAGMA': 5, 'WHIRLWIND': 2, 'FREEMAN, DUANE JEROM': 0, 'DEMOLITION MAN': 4, 'MAGDALENE': 13, 'SWORDSMAN III': 13, 'MCLAREN, MEGAN': 13, 'CHAMPION, IMUS': 2, 'CORRUPTOR': 6, 'BLUE SHIELD': 2, 'RIVERA, DR. JASON': 0, 'CIR, DYLON': 0, 'GALEN KOR, ADMIRAL [': 0, 'RON, TALLA': 0, 'LOR, KONA': 0, 'MIDGARD SERPENT': 2, \"N'DELE\": 2, 'MUTAURUS': 2, 'STINGRAY': 2, 'LE FEY, MORGAN': 2, 'GULLIN': 2, 'FIREBIRD': 2, 'MORDRED THE EVIL': 2, 'STRIDER': 5, 'WEREWOLF BY NIGHT': 2, 'SILVERCLAW': 0, 'MAGNUM, MOSES': 5, 'FLY': 3, 'BORA': 6, 'LAVEAU, MARIE': 10, 'BROTHER VOODOO': 2, 'RAHL': 10, 'DRUMM, JERICHO': 2, 'DRAGONUS': 10, 'EXECUTIONER V': 10, 'ARKON': 2, 'BARON MORDO': 10, 'AZRAEL': 2, 'HAROKIN [ASGARDIAN]': 1, 'ANDERSON, CHARLES': 3, 'SOPHIE': 3, 'MARTHA': 3, 'CHEKOV, ARTHUR ANTON': 3, 'PALERMO, HARRIET ROS': 3, 'PALERMO, VICTOR': 3, 'BAMBI': 3, 'OSNICK, OLLIE': 3, 'TOAD': 5, 'BLACK FOX II': 3, 'MACINTOSH, ANN': 3, 'FUJIKAWA, RUMIKO': 0, 'SCYLLA': 0, 'JAKAL': 6, 'MARAUD': 6, 'DESTRAK': 6, 'SENTRY 459': 2, 'CHEETAH': 4, 'BOGGS, MORDECAI P.': 2, 'ARON [WATCHER]': 2, 'NYLES, JENNIFER': 5, 'PETERS, NIGEL': 4, 'FALSWORTH, KENNETH': 4, 'NANNY II': 5, 'KELLY, SEN. ROBERT E': 5, 'BONEBREAKER': 5, 'ORPHAN-MAKER': 5, 'LADY DEATHSTRIKE': 5, 'BLACK KING': 5, 'TESSA': 5, 'PIERCE, DONALD': 5, 'SPIRAL': 5, 'MINOR DOMO': 5, 'COLE, WADE': 5, 'BARBARUS': 5, 'ZALADANE': 5, 'GAZA': 5, 'WHITEOUT': 5, 'AMPHIBIUS': 5, 'REESE, MURRAY': 5, 'PARKER, RICHARD': 3, 'PARKER, MARY': 3, 'DESTINE, ADAM': 5, 'CERA, KAY': 5, 'DESTINE, NEWTON': 5, 'WALLOP': 5, 'IMP': 5, 'GAMBLE, GRACIE': 5, 'SYNRAITH': 5, 'CRIMSON CRUSADER': 5, 'HEX': 5, 'HASARD, SAMANTHA': 5, 'NUMBER NINE': 2, 'POPE': 2, 'QNAX': 2, 'MICROCHIP': 3, 'NETWORK NINA': 4, 'MANIKIN': 2, 'BOX IV': 2, 'BOX': 2, 'AURORA': 2, 'PERSUASION': 2, 'PUCK': 2, 'NORTHSTAR': 2, 'MENKEN, DONALD L.': 3, 'BENDIX, DR. ALBERT': 3, 'FREDERICKSON, KOLINA': 3, 'SNOWBIRD': 2, 'PESTILENCE': 2, 'TALISMAN II': 2, 'MESMERO': 5, 'MARRINA': 2, 'BYRRAH [ATLANTEAN]': 12, 'PURPLE MAN': 3, 'PAST MASTER': 2, \"D'KEN [SHI'AR]\": 5, 'LILANDRA NERAMANI [S': 0, \"S'LAR\": 5, \"K'RK [SHI'AR]\": 5, 'DUCHARME': 3, 'BROWN, ABE': 3, 'DIAMOND, BOB': 3, 'SUN, LIN': 3, 'ALDEN, PROF. MEREDIT': 4, 'STARK, HOWARD': 6, 'IRON MAN III': 0, 'CRIMSON DYNAMO III': 2, 'CORD, JANICE': 0, 'QUINN, PAMELA': 6, 'HARRIS, EDDIE': 6, 'TITANIUM MAN': 1, 'MODOK': 4, 'SHELLSHOCK': 4, 'TITANIA': 2, 'LETHA': 4, 'POUNDCAKES': 4, 'JACKSON, CELIA': 2, 'MIRAGE': 4, 'HIJACKER': 4, 'MELTER': 2, 'SCREAMING MIMI': 13, 'LEWIS, SHIRLEY WASHI': 3, 'NARDI': 3, 'ANDROS': 3, 'LASHER': 3, 'LEWIS, DEVON': 3, 'BRAMER': 3, 'CARRADINE, JESSICA J': 3, 'THUNDERBIRD II': 5, 'CHIEF EXAMINER': 2, 'ANTHROMORPHO': 2, 'ERISHKIGEL II': 2, 'KRUGGAR': 2, 'FATH': 2, 'EPOCH': 0, 'DEATHURGE': 2, 'MAGIC': 0, 'KORATH THE PURSUER': 0, 'MANTA': 0, 'ANGLER': 0, 'IMPULSE': 0, 'CARTER, PEGGY': 4, 'KRUMA, TALIA': 0, 'SOLAR WIND': 0, 'ARAKI II': 0, 'STARBOLT': 0, 'SHATTERAX': 0, 'ELECTRON': 0, 'GLOM': 0, 'WARSTAR': 0, 'NEUTRON': 0, 'ONSLAUGHT': 0, 'ORACLE': 0, 'VOYAGER': 0, 'MOONDANCER': 0, 'TEMPEST': 0, 'GLITTER': 2, 'BLUR': 2, 'ANTIBODY': 2, 'CAPTAIN MANHATTAN': 2, 'QUAGMIRE': 2, 'SOUL-EATER': 0, 'CAREGIVER': 2, 'ANOMALY III': 2, 'BALLANTINE, DEVON': 0, 'BALLANTINE, MRS.': 0, 'WAYOPEX': 0, \"DEATHBIRD [SHI'AR]\": 5, 'ULTIMUS': 0, 'BALLANTINE, MR.': 0, 'MASON, LOUISE': 17, 'CHALIZ, SHANAZ RAYNA': 3, 'CHALIZ, TABRIAZ': 3, 'CONUNDRUM': 3, 'WALTERS, BILLY': 3, 'MAGUIRE': 3, \"JACK O'LANTERN II\": 3, 'CHALIZ, HAZRAM': 3, 'GOTTFRIED, WILLIS': 3, 'GREEN GOBLIN V': 3, 'GIBBON': 3, 'PROFESSOR ANGST': 3, 'KRAVEN THE HUNTER II': 3, 'CALYPSO': 3, 'GRIZZLY': 3, 'ROBERTSON, MARTHA': 3, 'THOMPSON, JESSICA JE': 3, 'THOMPSON, HARRISON': 3, 'THOMPSON, ROSIE': 3, 'KAFKA, DR. ASHLEY': 3, 'WHITE RABBIT': 3, 'HILLIARD, JACOB': 3, 'DIPALMA, JOHNNY': 3, 'CARNAGE': 3, 'BUZZ': 3, 'ROSE IV': 3, 'SHOTGUN III': 3, 'AURA': 3, 'FIELDING, CLARENCE': 3, 'LILITH': 10, 'NELSON, DEBBIE HARRI': 3, 'THRAXON': 2, 'SCRATCH, NICHOLAS': 2, 'HYDRON': 2, 'VAKUME': 2, 'THORNN': 2, 'BRUTACUS': 2, 'GAZELLE': 2, 'VERTIGO': 2, 'REPTILLA': 2, 'PEARLA': 2, 'DRAGON MAN': 2, 'RAKSOR [SKRULL]': 0, 'BEL-DANN, GEN.': 0, 'SUNSET': 3, 'ARCADE': 5, 'MISS LOCKE': 5, 'DOPPELGANGER': 2, 'DEMOGOBLIN': 3, 'GOG': 3, 'WATSON, KRISTY': 3, 'SOLO': 3, 'LUMPKIN, WILLIAM WIL': 2, 'SHERIDAN, RICHARD RI': 10, 'RAMBO': 10, 'SLEEPWALKER': 10, 'CYBORG X': 3, 'MCDONNELL, OSCAR': 3, 'BRAINSTORM': 3, 'NIGHTHAWK': 2, 'GOLDEN ARCHER II': 2, 'CAPTAIN HAWK': 2, 'AMERICAN EAGLE II': 2, 'TOM THUMB': 2, 'CASIOLENA, QUEEN': 2, 'THOMAS, ROY': 2, 'NIXON, RICHARD': 2, 'ARIES': 4, 'RED WOLF III': 2, 'LOBO': 2, 'RED WOLF': 2, 'WOLF SPIRIT': 2, 'MOLTEN MAN': 3, 'LOOTER': 3, 'CAT BURGLAR': 3, 'WHITE QUEEN': 5, 'EMPATH': 5, 'JONES, BART': 6, 'ROULETTE II': 5, 'TAROT': 5, 'JETSTREAM': 5, 'CATSEYE': 5, 'KURAGARI': 5, 'GOMURR': 5, 'TAR': 5, 'BERENGHETTI, MICHAEL': 2, 'CAT III': 3, 'MIKHLO': 2, 'IGOR': 2, 'PEATOR': 2, 'RED GHOST': 2, 'BLASTAAR': 2, 'LANCER': 2, 'AL-KHALAD': 2, 'TUVO': 2, 'BYRRAH | HEROES REBO': 2, 'BREEGAN': 2, 'RALSTON, SENATOR ROB': 4, 'COHEN, IZZY': 4, 'SAWYER, GENERAL SAMU': 4, 'MANELLI, DINO': 4, 'JUNIPER, JONATHAN JU': 4, 'MORG': 2, 'TYRANT': 2, 'AIR-WALKER': 2, 'ATTUMA': 2, 'BELASCO': 5, 'HUNTER, STEVIE': 5, 'HOBBS, HARRIS': 1, 'HODER [ASGARDIAN]': 1, 'THOR II': 1, 'SIGYN': 1, 'PLUTO [OLYMPIAN]': 1, 'HERMOD [ASGARDIAN]': 1, 'FRIGGA': 1, 'TURK': 3, 'STROUD, SIMON': 3, 'WEISENTHAL, DR. JACO': 10, 'COMET MAN': 2, 'MAX': 2, 'PAYBACK': 3, 'PAINE, DR.': 3, 'PRIME MOVER': 4, 'MIESHO': 2, 'ZIRA': 2, 'HELLER, DR. JOSEPH': 2, 'CONSUMPTION': 2, 'JAGATAR': 2, 'SHINCHUKO, LOTUS': 3, 'BYRD, NATHANIEL ALEX': 3, 'KAMINARI': 0, 'KAZE': 0, 'INAZUMA': 0, 'JACKSON, CURTISS': 4, 'DR. FAUSTUS': 4, 'VAGABOND': 4, 'SLUG': 3, 'TINKERER': 3, 'LEFT-WINGER': 2, 'RIGHT-WINGER': 2, 'HUNT, JERRY': 2, 'RIDDLEY, HIRAM RAM': 4, 'WATER WIZARD': 13, 'DOMINO II': 4, 'SCOURGE': 4, 'COSMIC MESSIAH': 2, 'SORRENTINO': 2, 'GANGER, DR. ALEXEI': 2, 'PRAZNIKI, ANNIE': 1, 'FLEMING, PHILIP': 1, 'PRAZNIKI, VICTOR': 1, 'MOONBOY': 4, 'DEVIL DINOSAUR': 4, 'SPYMASTER II': 0, 'STARK, MORGAN': 0, 'SONDHEIM, ERICA': 0, 'SCRIER': 2, 'CURZON, DETECTIVE IN': 1, 'RORY, RICHARD': 2, 'LADONNA, HOLLY': 2, 'SAMHAIN': 2, 'MOONSTONE': 4, 'CAPTAIN BARRACUDA': 2, 'BLAKE, DR. DONALD (C': 1, 'EXECUTIONER': 1, 'TYR': 1, 'ROOSEVELT, FRANKLIN ': 4, 'YUKIO': 5, 'YASHIDA, MARIKO': 5, 'ASANO': 5, 'SHRIEK': 3, 'MCBRIDE, BEATRICE': 3, 'CARRION II': 3, 'FROH': 4, 'LOGA': 4, 'BRAIN DRAIN': 2, 'BRUNNHILDE': 4, 'DONAR': 4, 'BLACKWING': 13, 'CRUSHER II': 3, 'MANDRILL': 2, \"O'HARA, ROBERT IRONG\": 3, 'NEKRA': 2, 'GLADIATOR': 3, 'PETROVITCH, IVAN': 3, 'OWL': 3, 'CARSON, LT. PAUL': 3, 'SHATTERSTAR II': 5, 'CYPHER': 5, 'BOOMER': 5, 'RICTOR': 5, 'LANG, DR. STEVEN': 5, 'SIRYN': 5, 'STERN, ROGER': 5, 'CLAREMONT, CHRIS': 5, 'WILFORD, ELISABETH B': 5, 'WILFORD, BONNIE': 5, 'AUSTIN, TERRY': 5, 'WEIN, GLYNIS': 5, 'WING, COLLEEN': 3, 'CHAMBERS, MR.': 5, 'WEIN, LEN': 5, 'GRAVITON': 13, 'SHROUD': 2, 'WILLIAMS, MRS.': 0, 'MOUSE': 13, 'CAT II': 13, 'ROSSIN, DR.': 2, 'SPIDER-WOMAN': 2, 'MCCABE, LINDSAY': 5, 'HUNTER, IAN': 3, 'MALPHER, KATHY': 3, 'BORROUGHS, CHARLES C': 3, 'DWYER, MARISSA': 3, 'CHALMER, JUDGE': 3, 'MR. FEAR III': 3, 'STAR, JOAN': 3, 'MOLLE, DR.': 3, 'PAI': 3, 'MURDOCK, SISTER MAGG': 3, 'DUBOIS, DR. CLAUDIA': 3, 'SYNAPSE': 3, 'CONCIERGE, LE': 3, 'CAMBRIDGE, MOXIE': 3, 'SENYAKA, TIA': 3, 'TSKAROV, GENERAL': 3, 'DARKSTAR': 2, 'VANGUARD': 2, 'URSA MAJOR': 2, 'DAVIDOFF': 3, 'REYES, DR. CECELIA': 5, 'X-MAN': 5, 'HINDS, PATRICK': 3, 'BLOODAXE': 1, 'AUSTIN, SUSAN': 1, 'RUSSIAN': 3, 'SOAP, DET.': 3, 'KREIGKOPH, GEN.': 3, 'SLEEPER': 4, 'SAXON, STARR': 4, 'HAUPTMANN DEUTSCHLAN': 4, 'MOTHER NIGHT': 4, 'CROSSBONES': 4, 'ZOLA, ARNIM': 4, 'WRAITH': 3, 'DEWOLFF, JEAN': 3, 'COMMANDER COURAGE': 5, 'RUDOLFO, PRINCE': 2, 'RAHN, TAMARA': 2, 'JENNINGS, JOSEPH': 2, 'LARGO, CHIEF': 2, 'MAX II': 2, 'SPEEDFREEK': 2, 'MERCY': 2, 'DIAMOND, KATHY': 2, 'JORDAN, HAL': 2, 'VALKYRIE IV': 2, 'PAPA HAGG': 2, 'AMPHARON': 2, 'CASSIOPEIA': 2, 'AGAMEMNON III': 2, 'ULYSSES II': 2, 'HECTOR II': 2, 'JASON': 2, 'ATALANTA': 2, 'AJAX': 2, 'ACHILLES II': 2, 'HELL-EYES': 2, 'WAYFINDER': 2, 'NAGALA': 2, 'PIRANHA': 2, 'ORKA': 2, 'SEA URCHIN': 6, 'HOARFEN': 2, 'PARIS': 2, 'SIINGARD': 2, 'PROMETHEUS II': 2, 'CASEY': 2, 'MR. MOBIUS': 2, 'JUSTICE PEACE': 1, 'WRECKER III': 1, 'PAIBOK, CAPT. [SKRUL': 2, 'DEVOS THE DEVESTATOR': 2, 'HRIMHARI': 5, 'BRIGHTWIND': 5, 'EITRI': 5, 'KARMA': 5, 'HUSK': 5, 'SKIN': 5, 'M': 5, 'SYNCH': 5, 'SZARDOS, MARGALI': 0, 'BROTHER ROYAL': 5, 'VAN HELSING, RACHEL': 10, 'GREY, DR. JOHN': 5, 'GRUENWALD, MARK': 5, 'SHOOTER, JIM': 5, 'JONES, LOUISE': 5, 'IMPOSSIBLE MAN': 2, 'NOCENTI, ANN': 5, 'NUKE': 2, 'AMPHIBIAN': 2, 'MASTERS, DR. AUGUST': 2, 'THAMES, SERIPHA': 2, 'HELLSTORM DOPPELGANG': 2, 'YANDROTH': 2, 'SUMO': 5, 'FERAL': 5, 'BRUTE II': 5, 'HUMP': 5, 'MASQUE': 5, 'CUTTHROAT': 4, 'WINGFOOT, WYATT': 2, 'ZEDRAO, GENERAL': 2, 'LEVAN': 2, 'GUNTHAR II': 2, 'SHADOW KING': 5, 'PALADIN': 4, 'BARON BRIMSTONE': 2, 'LECLAIRE, PROFESSOR ': 2, 'GRONK': 2, 'PHOBIUS': 2, 'HELIO': 2, 'SKUNGE': 2, 'JORRO': 2, 'APOLLO [GREEK GOD]': 1, 'NINA': 5, 'MAJCOMB, RENEE': 5, 'CEREBRITE ALPHA': 5, 'CEREBRITE BETA': 5, 'CEREBRO': 5, 'JONES, WILLIAM': 5, 'VINDALOO': 5, 'UNUSCIONE': 5, 'KAMAL': 5, 'KATH': 5, 'NEOPHYTE': 5, 'FERRIS': 5, 'MELLENCAMP': 5, 'ASTRA II': 5, 'JOSEPH': 5, 'MERCURY III': 5, 'REINMAN, PAULA': 5, 'RAPTURE': 5, 'CHAOS': 5, 'CRUX': 5, 'GREY KING': 5, 'LANDSLIDE II': 5, 'APE MAN': 5, 'POSITRON': 12, 'ARIEL II': 5, 'CHANCE': 5, 'SILVER SURFER IMPOST': 2, 'BOWMAN, MAJ.': 2, 'DUNCAN, FRED': 5, 'JIGSAW': 3, 'MCCOY, EDNA ANDREWS': 5, 'EL CONQUISTADOR': 5, 'MCCOY, NORTON': 5, 'CARTER, BRAD': 4, 'KABALLA': 12, 'DOCKERY, RUPERT': 3, 'MAYE, APRIL': 3, 'MULLANY, MIKE': 3, 'BUSHKIN, BARNEY': 3, 'WHITMAN, DEBRA': 3, 'JONES, SANDY': 3, 'BAXTER, ABIGAIL': 2, 'HELLSCOUT': 2, 'AWESOME ANDROID': 2, 'BAXTER, NOAH': 2, 'JANUS': 2, 'GORNKAI': 2, 'HARROW, DR. JONAS': 3, 'TENNYSON, JACOB': 2, 'OLSEN, JIMMY': 3, 'ALLEN, TERRY': 2, 'STELLARAX': 2, 'RAVEN, SABBATH': 3, 'PATHWAY': 2, 'JADE DRAGON': 2, 'GOBLYN': 2, 'SNAKE': 2, 'OX IV': 2, 'RAT': 2, 'RABBIT': 2, 'PARALYZER': 4, 'CRUCIBLE': 4, 'SLITHER': 4, 'METEORITE': 4, 'OCCULT': 4, 'AQUARIAN': 2, 'WILBURN, MYRON': 2, 'FANG': 2, 'RAPIER': 4, 'SAUNDERS, KRISTINE': 3, 'KANE, MARCY': 3, 'PUMA': 3, 'SHAMAN II': 2, 'BRIGHTSWORD': 1, 'HIGHNOTE': 1, 'CALCULUS': 1, 'GENII': 1, 'MINDSINGER': 1, 'DAYDREAMER': 1, 'SPLICE': 1, 'VARUA': 1, 'MOONSTALKER': 1, 'HARVEST': 1, 'CADUCEUS': 1, 'LYNNE, MONICA': 3, 'WINDEAGLE': 3, 'NIGHTSHADE': 4, 'MOONHUNTER': 4, 'FEROCIA': 4, 'DRUID': 4, 'MORLAK, MARIS': 2, 'SHINSKI, PROFESSOR W': 2, 'GRANDMASTER': 2, 'IKARIS': 1, 'THENA': 1, 'PUENTES, DONNA MARIA': 4, 'PUDDLEGULP': 5, 'BLOCKBUSTER III': 5, 'HARPOON': 5, 'ARCLIGHT': 5, 'VERTIGO II': 5, 'COLDHEART': 3, 'MACENDALE, JASON JR.': 3, 'MACENDALE, KAREN': 3, 'CODY, GARY': 15, 'CENTURIUS': 4, 'WERNER, P.D.Q.': 4, 'SAT-YR-9': 5, 'STUART, DR. ALISTAIR': 5, 'SATURNYNE, OPAL LUNA': 5, 'VIXEN': 5, 'STUART, BRIG. ALYSAN': 5, 'CRUSADER X': 5, 'STEELE, MARCY MASTER': 1, 'SURTUR': 1, 'TAGAR': 1, 'VIPER': 4, 'MULDOON, SGT. BRIAN': 4, 'TAYLOR, LEILA': 4, 'MANGOG': 1, 'BLACK TOM CASSIDY': 5, 'KILLBREW, DR.': 5, 'PEYER, DANNY': 5, 'STRANG, COL.': 4, 'ROMMEL, EDWIN ROMULU': 4, 'SALTZ': 4, 'GUILOTINE': 4, 'MASON, JOHN': 4, 'PRINCESS FEN [ATLANT': 4, 'ROGERS, CAPT. STEVEN': 4, 'TAUREY, SIR WILLIAM': 4, 'GREEN, JAMES': 4, 'STONE, LT. MARCUS': 1, 'MICHEL, RAFE': 4, 'SCORPION': 3, 'FULLERTON, MARY ELLE': 3, 'CARLISLE, PHILLIP': 3, 'CARLISLE, MELISSA BO': 3, 'AYALA, AWILDA': 3, 'GOLDBUG': 3, 'SCREAM': 13, 'BEETLE II': 13, 'JOLT': 13, 'SMUGGLER II': 13, 'CHARCOAL': 13, 'METEORITE III': 13, 'HUMUS SAPIEN': 13, 'MENTALLO': 13, \"O'CONNELL, TARYN\": 17, 'RAZORBACK': 17, 'MAN-KILLER': 13, 'DYNA-MITE': 13, 'WARTON': 13, 'GARABED': 13, 'REBEL': 13, 'KINGMAN, BILL': 13, \"M'REEL\": 13, 'COMMCAST': 13, 'I.Q.': 13, 'BUCKY VII': 13, 'KID COLT II': 13, 'TORO II': 13, 'BURLINGAME, CALVIN': 13, 'BERNARD THE POET': 5, 'GREY, ELAINE': 5, 'DIAMOND HEAD': 4, 'BLOCKBUSTER': 2, 'SCARBO': 4, 'PACKER, ARTIE': 6, 'HOUSE OF SHADOWS': 6, 'SERPENTYNE': 6, 'COYOTE': 5, 'THUNDERBIRD': 5, 'SMITH, MARTY LOUIS L': 5, 'WHITECLOUD, MICHAEL': 5, 'SMITH, MANDY': 5, 'EDWARDS, MARTIN': 5, 'LITTLEWING, SUSIE': 5, 'BATTLESTAR': 4, 'COTTONMOUTH II': 4, 'GRIFFIN II': 4, 'TITANIA II': 1, 'QUILL': 4, \"M'DAKA\": 4, 'CRIMSON COMMANDO': 5, 'STONEWALL': 5, 'MIST MISTRESS': 4, \"WILL O' THE WISP\": 3, 'PROWLER': 3, 'TIERS, MICHELLE': 3, 'ROCKET RACER': 3, 'SLUGANSKI, ERNIE': 3, 'TOMAZOOMA': 1, 'MAXWELL, DR. WILFRED': 2, 'GARDENER': 2, 'CRUSADER II': 1, \"O'SHAUGNESSY, COLLEE\": 1, 'TUSK': 5, 'HARDRIVE': 5, 'FONTAINE, CINDER': 5, 'MAINFRAME II': 5, 'PSYNAPSE': 5, 'SLAB': 5, 'RUCKUS': 5, 'HAIRBAG': 5, 'GORGEOUS GEORGE': 5, 'WITNESS': 5, 'MANX': 5, 'DAWN': 5, 'DUSK III': 5, 'CAESAR, JONATHAN': 3, 'SHINAR': 5, 'AUNTIE FREEZE': 4, 'STONE II': 3, 'STYX': 3, 'BARRIER': 2, 'THUNDERBOLT II': 2, 'RINGER II': 2, 'THURM, ETHAN': 2, 'NEWELL, DIANE ARLISS': 2, 'WHITE KING': 5, 'ROSSI, COL. MICHAEL ': 5, 'BRADLEY, CARRIE': 3, 'KANNOR, ORLANDO': 3, 'MASTER PROGRAMMER': 3, 'WADE, AGENT JOE': 3, 'SMYTHE, ALISTAIR ALP': 3, 'TSO, JASON': 3, 'DR. OCTOPUS II': 3, 'YIN, ANGELA': 3, 'PRO, LE': 3, 'ESSEX, REBECCA': 5, 'SANCTITY': 5, 'POISON': 3, 'GREICO, LINDA': 3, 'ARES [GREEK GOD]': 1, 'PRINCESS PEARLA': 2, 'PSYCHO-MAN': 2, 'ANAK': 1, 'KINCAID, JIMMY': 1, 'ZEFRA': 1, 'LOGA II': 1, 'BELLAM': 1, 'RIGER': 1, 'LUMINOR': 1, 'BLITZIANA': 1, 'RICKMAN, JONATHAN': 3, 'CAPTAIN POWER': 3, 'MYSTERIO II': 3, 'TWAKI, DR. TED': 3, 'STONE, CHANTAL': 3, 'HARDY, STAN': 3, 'STONE, JOHN': 3, 'MADAME WEB': 3, 'GILMORE, BERT': 3, 'SYNARIO': 3, 'FISK, VANESSA': 3, 'BLAKE, BECKY': 3, 'POTTER, BETSY BEATTY': 3, 'KIRIGI': 3, 'CHERRYH, RANDOLPH WI': 3, 'LAVENDER, MAXINE': 3, 'HOGARTH, JERYN': 3, 'AMIKO': 5, 'BIZEN': 5, 'BLACK MOUNTAIN': 3, 'STEWART, MACKINLEY': 3, 'KUROYAMA': 3, 'MCCABE, NINA': 3, 'CAPTAIN FATE': 5, 'AMERICAN SAMURAI': 3, 'LAU, KING': 3, 'WEISS, KONRAD KONNIE': 3, 'X-CUTIONER': 5, 'NEW SUN': 5, 'COURIER': 5, 'BENTLEY, VICTORIA': 2, 'TONGAH': 5, 'XANDU': 2, 'OGUN': 5, 'FALLON, RIGBY': 5, 'WISDOM, PETER': 5, 'DARKOTH': 2, 'DR. DOOM CLONE': 2, 'DARE, JOHNNY': 6, 'GLAZER, FAST FREDDY': 6, 'EL TORO NEGRO': 3, 'JOYSTICK': 13, 'TEXAS TWISTER': 2, 'RAINBOW, BECKY': 2, 'JAILBAIT': 2, 'ROCK': 2, 'HOTSHOT': 2, 'OGRESS': 2, 'SOUL MAN': 2, 'OMNIBUS': 2, 'DR. BONG': 5, 'STAINED GLASS SCARLE': 3, 'VANKIN, JONATHAN': 3, 'FLINT, LT.': 3, 'BLACK SPECTRE': 3, 'MORPHEUS': 3, 'DARKOVER, PROFESSOR ': 3, 'QUASAR DOPPELGANGER ': 2, 'THOR III DOPPELGANGE': 2, 'ANGEL DOPPELGANGER': 2, 'MARVEL GIRL DOPPELGA': 2, 'MOONDRAGON DOPPELGAN': 2, 'SASQUATCH DOPPELGANG': 2, 'STORM DOPPELGANGER I': 2, 'HULK DOPPELGANGER II': 2, 'SCARLET WITCH DOPPEL': 2, 'CAPTAIN AMERICA DOPP': 2, 'COLOSSUS II DOPPELGA': 2, 'VINDICATOR II DOPPEL': 2, 'INVISIBLE WOMAN DOPP': 2, 'DORREK [SKRULL]': 12, 'COMPUTO': 5, 'DORMA [ATLANTEAN]': 2, 'SETH': 2, 'HAWLEY, PAMELA': 4, 'PINKERTON, PERCIVAL ': 4, 'MCGIVENEY, BULL': 4, 'DONYELL': 6, 'LEAP-FROG': 3, 'BLACK MARIAH': 3, 'SCIMITAR': 3, 'WHYTE, HARMONY (HARM': 3, 'MONTENEGRO': 3, 'AZIR': 3, 'FAROUK': 3, 'ROYCE, JENNIE': 3, 'TEMPLE, CLAIRE': 3, 'BERNSTEIN, EMMA WEBS': 3, 'WARHAWK II': 3, 'SCARFE, RAFAEL': 3, 'BERNSTEIN, DR. NOAH': 3, 'SABRETOOTH': 5, 'PILEDRIVER II': 1, 'YELLOWJACKET II': 4, 'BULLDOZER': 1, 'FREEMAN, DEREK': 4, 'HERMES [GREEK GOD]': 1, 'TYRAK': 2, 'LIVING MONOLITH': 5, 'PLASMA': 3, 'DAVIS, ABBY': 2, 'REEVES, MAJOR': 2, 'BENNETT, DANNY': 2, 'BENNETT, MITCH': 2, 'THREETREES': 2, 'RAVAGE': 2, 'HONDA, DR.': 2, 'MARKS, DR. SHIELA': 2, 'SHAW, MILDRED': 2, 'BRUNO': 2, 'COCO': 2, 'GREGORY, TODD': 2, 'MICHAELS, DAWN': 2, 'WOLMAN, GIDEON': 2, 'DRAGO, VALERIE': 2, 'FELDSTADT, DR. HANS': 2, 'LUMPKIN, WILHEMINA B': 2, 'PUNISHER': 2, 'WINGFOOT, WYNONA': 2, 'DORMA II [ATLANTEAN]': 2, 'SHAKTI': 2, 'TECHNARX': 2, 'DIVINITY': 2, 'HIPPOLYTA [GREEK GOD': 1, 'PERSEPHONE': 1, 'CALEDONIA': 2, 'MOY, ALYSSA': 5, 'MARVEL GIRL II': 2, 'RENO, AGENT': 2, 'PUPPY': 2, 'STEM': 2, 'DIAMONDE, YVETTE': 2, \"B'ARR\": 2, 'ARLISSE': 2, 'KATAR': 2, 'LARROCA, SALVADORE': 2, 'ASHEMA [CELESTIAL]': 2, 'APOSTATE': 2, 'CLINTON, BILL': 2, 'WETHERELL, MANOLI': 5, 'WEBSTER, NORM': 2, 'LEE, STAN': 2, 'MASKED MARAUDER': 3, 'SUEE, FAH LO': 3, 'LAYLA': 2, 'PRIMAX': 4, 'RAMROD II': 2, 'RIFKIN, BIFF': 3, 'FOOLKILLER II': 4, 'CHANG, DR. PHILLIP': 3, 'SHORR, JACQUELINE': 2, 'MEER, MAX': 2, 'SABRA': 2, 'RABIN, GRETTA': 2, 'GUNTLY, DAVID': 2, 'GESTALT': 2, 'DORNOVA-BLONSKY, NAD': 2, 'CRAZY EIGHT': 2, 'CUSSLER, PHILLIP': 3, 'CUSSLER, PHILLIP JR.': 3, 'BOONE': 3, 'WILD WHIP': 3, 'SCRIER II': 3, 'VERMIN': 3, 'MEDEA': 3, 'MR. NACHT': 3, 'CHAKRA': 3, 'TRACER': 3, 'WATSON, KEVIN': 3, 'NOCTURNE II': 3, 'WATSON, PHILIP': 3, 'CAGLIOSTRO, ALESSAND': 2, 'ANTOINETTE, MARIE': 2, 'IMPOSSIBLE WOMAN': 2, 'SHARYD': 3, 'SHIPPINSKY, MALIK': 3, 'MEACHUM, JOY': 3, 'DEATH STING': 3, \"SSS'LETHCOTT\": 3, 'CRIME-WAVE': 3, 'LEIR': 1, 'CABER': 1, 'DAGDA': 1, 'DEMONICUS': 0, 'SNOW, CHARLIE': 3, 'EIGHTBALL': 3, 'BUTCH': 5, 'DARLA': 5, 'RALF': 3, 'MUSE': 3, 'JOHNSMEYER, JAMES': 3, 'SCOTT, PARIS': 3, 'CARDINALE, CARLOS': 3, 'LIPTON, TRENTON III': 3, 'KARLSON, KAREN': 3, 'LOBO II': 4, 'MCHELE, JEREMY': 18, 'WILSON, DUBOSE': 18, 'HELLER, ERIC': 18, 'PINKWATER, ELLA': 3, 'DICHINSON, RICKY': 1, 'BAZIN, PHILLIPPE': 1, 'BLOODSHED': 1, 'HYPERTRON II': 3, 'HYPERTRON': 3, 'DUVALL, SNAKY': 3, 'MAN-MOUNTAIN MARKO': 3, 'GALVIN, TOMMY': 3, 'ROSE II': 3, 'DEATHWATCH': 10, 'KATZENBERG, NICK': 3, 'ROSE III': 3, 'BLACK, CYRUS': 2, 'YETRIGAR': 2, 'ONSLAUGHT II': 5, 'HYPERSTORM': 2, 'DARK BEAST': 5, 'EBONY': 2, 'AHURA': 2, 'HALBERG, DONALD': 2, 'CLOONEY, DR.': 2, 'CHANEY, AMANDA': 0, 'CYBERMANCER': 0, 'MOONRAKER': 0, 'BOLT II': 6, 'FERGUSON, ISABEL': 6, 'IVANOVA, ELENA': 6, 'MAVERICK': 5, 'PUSHKIN, IVAN': 6, 'SICKLE II': 6, 'HAMMER IV': 6, 'MCKENZIE, SCARLETT': 5, 'WILD CHILD': 2, \"TATSU'O\": 5, 'FATALE': 5, 'RANDOM II': 5, 'STANACHEK, FREDDIE': 5, 'BEALE, ERIC': 5, 'NEKOBAH, ROMAN': 5, 'FUNARO, DONNA': 6, 'COPPERHEAD II': 3, 'JUVAN': 1, 'EGO': 0, 'ZON': 1, 'SUGAR MAN': 5, 'SENTRY III': 13, 'INGOT': 13, 'GLOUCESTER': 13, 'SCARUM': 13, 'RAMSHOT': 13, 'TAUREY, WILLIAM MALC': 13, 'FIELDSTONE': 13, 'CHADWICK, CHEER': 13, 'CHADWICK, DR. HESPER': 13, 'LOBLOLLY': 13, 'WATCHFIRE': 13, 'FIZGIG': 13, 'HOOPSNAKE': 13, 'BOMBLAST': 13, 'HOARFROST': 13, 'WYSPER': 13, 'FIREARM': 13, 'CRIMSON COWL II': 13, 'CYCLONE II': 13, 'TAKAHAMA, JANE': 13, 'TAKAHAMA, ROBERT': 13, 'BEETLE ROBOT': 13, 'MUTANT MASTER': 13, 'MAN-APE': 13, 'SHOCKWAVE': 13, 'HIGGINS, SAMUEL': 13, 'ROGERS, GAYLE': 13, 'SPITZ, BARRY': 13, 'BUCKY II': 13, 'MARTINEZ, ISADORA': 13, 'SILVER SCORPION': 13, 'NUKLO': 13, 'CHENEY, LILA': 5, 'JORNICK': 5, 'MAA-GOR': 5, 'OSAMA': 5, 'AYALA, FILIPPO': 3, 'CONTROLLER': 0, 'SALOME': 10, 'SISTER NIL': 10, 'NOBLE': 10, 'VOICE': 4, 'MCDOWELL, SCOTTY': 2, 'WALSH, CAPT. ALEXAND': 3, 'DANSEN MACABRE': 4, 'COWEN, BUCK': 2, 'TATTERDEMALION': 0, 'MR. FEAR IV': 13, 'MOONDARK': 2, 'KILLER SHRIKE': 3, 'IRONWOOD, CISSY': 2, 'MODULAR MAN': 3, 'NAZE': 5, 'SHARD': 5, 'HAVEN': 5, 'RAWHIDE KID': 2, 'KID COLT': 2, 'ASH, BRANDY': 2, 'BROKEN MAN': 5, 'MR. SCRATCH': 5, 'QABIRI': 19, 'MARCHALLA': 5, 'URCHALLA': 5, 'MARCHALLA II': 5, 'FORGE | EARTH 998': 5, 'BEYNON, DR. BRADLEY': 2, 'TORGO': 2, 'BEREET': 2, 'DARK CRAWLER': 2, 'NIGHT FLYER': 2, 'SHOOTING STAR': 2, 'NIGHT RIDER III': 2, 'BANSHEE II': 2, 'LANDSLIDE': 6, 'VON RICHTOFEN, LT. M': 3, 'GNUCCI, MA': 3, 'CORSAIR': 5, \"O'HOOLIHAN, SERGIUS\": 2, 'DRAKE, FRANKLIN': 10, 'HARKER, QUINCY': 10, 'MOLE': 5, 'JONES, CHARLOTTE': 5, 'TANAKA, OPAL': 5, 'PHOENIX II': 5, 'CREEP': 3, 'MONGRAIN, ALISON': 3, 'DESTINY': 2, 'IKTHON': 2, 'BADALAMENTE, JESUS': 10, 'CONOVER, ALYSSA': 10, 'MR. FX': 10, 'COOPER, WHITNEY III': 10, 'CROSS, HAROLD': 10, 'LULLABY': 10, 'PEREZ, DET. CECILIA': 10, 'SMITH, COL. TOLLIVER': 10, 'LOVEJOY, FRANKLIN': 10, 'CRIMEWAVE': 10, 'SHERIDAN, FLORENCE': 10, 'MISSING LINK II': 10, 'MASTER LINK': 10, 'SHERIDAN, WILLIAM': 10, 'UPLINK': 10, 'WEAK LINK': 10, 'BOOKWORM': 10, 'HUDDLESTON, PROF.': 10, '8-BALL': 10, 'EPSTEIN, MRS.': 10, 'BAYLOR, FRANK': 10, 'MCMURRAY, YVONNE': 10, 'EPSTEIN, MORRIS': 10, 'FOOLKILLER III': 4, 'MOODY, RUNYAN': 4, 'WHITMAN, PATRICIA': 4, 'SINGER, MERLE': 4, 'MENDOSA, EMILIO': 4, 'CAT MAN III': 3, 'APE MAN II': 3, 'BIRD MAN III': 4, 'DUSK': 3, 'SHOC': 3, 'CHI-CHEE': 0, 'SCENE STEALER': 0, 'MAINSPRING': 0, 'HOPE': 0, 'PSIREN': 0, 'DOUGHBOY': 4, 'CHAKRA II': 5, 'NOM': 5, 'PENDRAGON, ARTHUR': 2, 'MERLIN': 5, 'FIN FANG FOOM': 0, 'SAPPER': 0, 'WAR MACHINE II': 0, 'JACOBS, GLENDA': 0, 'MADAME MENACE': 0, 'DIXON, GENERAL': 0, 'GOLDEN-BLADE': 0, 'RAMPAGE': 0, 'NAPIER, RAMONA DR.': 0, 'DONLEAVY, HANNAH': 0, 'YUAN, ANNIE': 0, 'GRAY, CHARLES': 0, 'YUAN, BILLY': 0, 'YEAGER, CALLIE': 0, 'GALLAGHER, BOB': 0, 'VOSTOK': 0, 'FANTASMA': 2, 'MADAME MASQUE IV': 0, 'SIBERCAT': 0, 'POWERSURGE': 13, 'RED GUARDIAN V': 13, 'BURKE, THERESA TRACY': 0, 'PLEXICO, DET.': 0, 'PROFESSOR GIBBON': 5, 'BOMBSHELL': 4, 'ODDBALL': 4, 'CROSSFIRE': 4, 'MANTIS': 2, 'PHANTOM RIDER II': 2, 'DELPHIS, SIR': 5, 'STRYKER, WILLIS': 3, 'VERMIN, LADY': 5, 'EXODUS': 5, 'BUCHOVITZ, STANLEY &': 5, 'GATOR, LORD': 5, 'RAM, SIR': 5, 'TYGER, LORD': 5, 'BOVA': 5, 'URSULA, LADY': 5, 'WHITE TIGER II': 13, 'GARGOUILLE': 5, 'DRAKE, MALCOLM': 3, 'MALEKITH': 1, 'BEHEMOTH': 2, 'MASTER': 2, 'DEMI-GOD': 2, 'SHE-CAT': 2, 'X-RAY': 2, 'IRONCLAD': 2, 'STINGER IV': 2, 'VECTOR': 2, 'VAPOR': 2, 'DRAGONFIST': 2, 'KNIGHT ERRANT II': 2, 'AMAZON': 2, 'SWORDSMAN II': 2, 'HESSLER, WOLFGANG': 3, 'CARDINAL': 13, 'WIDDOWS, SGT.': 13, 'CHANCE II': 3, 'THUNDRA': 2, 'BRUTE': 2, 'CONWAY, GERRY': 2, 'VERPOORTEN, JOHN': 2, 'KIRBY, JACK': 2, 'WOLFMAN, MARV': 2, 'PEREZ, GEORGE': 2, 'CAPTAIN ULTRA': 2, 'GORR': 2, 'CRAWFORD, GEN.': 2, 'ST. LAWRENCE, COL. C': 2, 'ARMAGEDDON': 2, 'CLINTON, CHELSEA': 2, 'ROGERS, W.T.': 2, 'MAESTRO': 2, 'FLINN, LANCELOT LANC': 2, 'TRAUMA': 2, 'SPAR, DR. KATHERINE ': 2, 'DEANGELO, DEVLIN': 2, 'RANSOME, DR. SUSAN': 3, 'VOLCANA': 2, 'ARMS MERCHANT': 13, 'FLYING TIGER': 13, 'INDIUM': 13, 'CADMIUM': 13, 'IRON': 13, 'DISPROSIUM': 13, 'ARSENIC': 13, 'COBALT': 13, 'ERBIUM': 13, 'BARIUM': 13, 'THALLIUM': 13, 'SODIUM': 13, 'HAFNIUM': 13, 'CARBON': 13, 'PHOSPHORUS': 13, 'ZIRCONIUM': 13, 'SCANDIUM': 13, 'CHLORINE': 13, 'COPPER': 13, 'EUROPIUM': 13, 'CHROMIUM': 13, 'NICKEL': 13, 'TUNGSTEN': 13, 'HELIUM': 13, 'BROMINE': 13, 'BERYLLIUM': 13, 'VANADIUM': 13, 'MAGNESIUM': 13, 'MERCURY II': 13, 'KHANDRUVITCH, DR. VA': 13, 'GROWING MAN': 13, 'HAMILTON, JEROME': 2, 'ZOTA, CARLO': 2, 'DAMIAN, DR. DANIEL': 1, 'GROSS, CLIFFORD': 3, 'SANTINI, DR. JOSE': 2, 'TIWAZ': 1, 'HILDY [ASGARDIAN]': 1, 'EILIF DRAGONSLAYER': 1, 'MEGATAK': 1, 'SPRITE': 1, 'RAVONNA LEXUS RENSLA': 2, 'HANGMAN': 2, 'MAGNUS': 2, 'WHIPLASH II': 4, 'BLOODLUST': 4, 'CRITICAL MASS': 4, 'ELITE': 3, 'BUMPO, MR.': 3, 'MR. PAYBACK': 3, 'HOLY': 3, 'DEZOAN, JOHN': 2, 'FIN': 13, 'BULL': 3, 'ETUBAN': 2, 'MOON KNIGHT DOPPELGA': 2, 'GREEN, LILA': 10, 'WILDPRIDE': 10, 'TERMINUS': 2, 'DEADEYE': 2, 'IMPACT': 2, 'SOUNDBYTE': 2, 'METALSLASH': 2, 'BOUDREAUX, BELLA DON': 5, 'WANG, VICTORIA VICKY': 5, 'RHAPSODY': 5, 'CYBER': 5, 'DAHN, FARNOQ': 2, 'ANDERSON, CHIEF MAGI': 5, 'DELGADO': 5, 'CHROME': 5, 'TSURAYABA, MATSUO': 5, \"ERIC THE RED [SHI'AR\": 5, 'RICOCHET': 5, 'CHALKER, PROF. VIC': 5, 'RAMROD III': 5, 'MEEK': 5, 'CORNELIUS, DR.': 5, 'STRUCKER, ANDREA': 5, 'OMEGA RED': 5, 'STRUCKER, ANDREAS': 5, 'BIRDY': 5, 'LEGION II': 5, 'SAJA': 2, 'ARABIAN KNIGHT': 2, 'SAVANNAH, LOU-ANN': 2, 'ZURAS': 1, 'CAT MAN': 5, 'BIRD MAN': 5, 'RALEIGH, RICHARD': 3, 'LINCOLN, WILLIAM WIL': 3, 'DIAMOND LIL': 2, 'COURTNEY, DELPHINE': 2, 'BATWING': 3, 'AVRIL, SALLY': 3, 'SCORCHER': 13, 'PINK PEARL': 4, 'GUARDIAN V': 15, 'WEAPON X III': 15, 'GHOST GIRL II': 15, 'MANBOT': 15, 'GENTRY': 15, 'GUARDIAN': 2, 'RADIUS': 15, 'HUXLEY, DR. HORATIO': 15, 'FLEX': 15, 'MURMUR II': 15, 'FOX, PHIL': 3, 'LEVIATHAN': 2, 'DIAMONDBACK': 3, 'KALE, JENNIFER': 5, 'DAKIMH THE ENCHANTER': 0, 'WALRUS': 3, 'GROSS, IRA': 3, 'PATILIO, MARIE': 3, 'AUGUST PERSONAGE IN ': 3, 'MEACHUM, HAROLD': 3, 'NINJA': 3, 'LEI KUNG, THE THUNDE': 3, 'CLAYBORNE, REGINA': 2, 'ATOM-SMASHER': 2, 'BELL, HERBERT': 2, 'WEST, DALE': 2, 'PROTECTOR III': 6, 'CONNORS, BILLY': 3, 'LIZARD II': 3, 'CONNORS, MARTHA': 3, 'DAKINI': 4, 'FISHMAN, DR. JONATHA': 4, 'ROWEN, MIKE': 5, 'ROWEN, CARL': 5, 'FALLON, MEG': 5, 'MR. SINISTER | AOA': 5, 'MASTER MAN': 4, 'BROWN, MINDY MCPHERS': 3, 'STACY, NANCY': 3, 'THRENODY': 5, 'DREADNAUGHT': 4, 'ALEXANDER, CARRIE': 2, 'MARRS, DESMOND': 4, 'RAYMOND, ANN': 2, 'HEADHUNTER': 4, 'ALEXANDER, CALEB': 4, 'KRAUS, DR. FREIDERIC': 4, 'MARRS(-PAYNE), PHOEB': 4, 'SLUJ': 4, 'MEACHUM, WARD': 3, 'WARRIOR WOMAN': 4, 'SANDSTORM': 2, 'TORG': 2, 'STARSHINE': 6, 'TERMINATOR': 6, 'TUMBLER': 4, 'BOND': 5, 'CANDRA': 5, 'KARIMA': 5, 'JAMIL': 5, 'MOUNTJOY': 5, 'BANTAM': 5, 'TERROR': 17, 'BLAZING SKULL': 2, 'YMIR': 1, 'WOLVERINE | MUTANT X': 14, 'GAMBIT | MUTANT X-VE': 14, 'SABRETOOTH | MUTANT ': 14, 'WILD CHILD | MUTANT ': 14, 'GREY, JEAN | MUTANT ': 14, 'ICE-MAN | MUTANT X-V': 14, 'YASHIDA, MARIKO | MU': 14, 'BRUTE | MUTANT X-VER': 14, 'CAPTAIN AMERICA | MU': 14, 'BLOODSTORM | MUTANT ': 14, 'HUDSON, JAMES | MUTA': 14, 'EL TORO ROJO': 1, 'DOMO': 1, 'EL VAMPIRO': 1, 'MERCURY': 1, 'DAMIAN, MARGO': 1, 'KARKAS [DEVIANT]': 1, 'AJAK': 2, 'ATHENA [GREEK GOD]': 1, 'AGINAR': 1, 'FAMINE | MUTANT X-VE': 14, 'ELEKTRA | MUTANT X-V': 14, 'MAGNETO | MUTANT X-V': 14, 'APOCALYPSE | MUTANT ': 14, 'WAR': 5, 'FALLEN | MUTANT X-VE': 14, 'PESTILENCE | MUTANT ': 14, 'SUMMERS, SCOTT III |': 14, 'MR. SINISTER | MUTAN': 14, 'PROFESSOR X | MUTANT': 14, 'X-MAN | MUTANT X-VER': 14, 'RAVEN | MUTANT X-VER': 14, 'DRACULA | MUTANT X-V': 14, 'CEREBRO | MUTANT-X V': 14, 'GYRICH, HENRY PETER ': 14, 'HAVOK | MUTANT X-VER': 14, \"O'BREEN, GLORIANNA\": 3, 'RAZOR WIRE': 3, 'LIGHTNING FIST': 3, 'MS. FORTUNE': 3, 'OGRE II': 3, 'MASTER MONARCH': 3, 'MARTS, MR.': 3, 'SQUID': 3, 'YELLOW CLAW': 12, 'IVORY': 4, 'BATTERY': 4, 'KNOCKABOUT': 4, 'PSI-BORG': 4, 'VIOLENCE': 4, 'SMOKESCREAM': 4, 'OVERRIDER': 4, 'ASSAULT': 4, 'ANGAR THE SCREAMER': 2, 'HARDERMAN, QUENTIN': 4, 'JEKUAKKEKT': 13, 'TIKUAK': 13, \"KEKA' AKELUAK\": 13, 'JIKEKT': 13, \"L'KLEKK'TAK\": 13, 'FLATMAN': 13, 'SIMMONS, RANDALL': 13, 'MR. IMMORTAL': 13, 'TANNER, ARCHIE': 13, 'HANRAHY, JIM': 13, 'DOORMAN': 13, 'BIG BERTHA': 13, 'DINAH-SOAR': 13, 'DIRKSON, GUS': 13, 'JOSTEN, CARL': 13, 'WING, PROFESSOR': 3, 'RAND, HEATHER DUNCAN': 3, 'STEEL SERPENT': 6, 'BLIND AL': 5, 'WEASEL': 5, 'DEUCE': 3, 'EXPEDITER II': 5, 'LEQUARRE, GERRY': 5, 'T-RAY': 5, 'MONTGOMERY': 5, 'DUBOIS, NOAH': 5, 'OVERBOSS DIXON': 5, 'AJAX II': 5, 'PATCH II': 5, 'TENG, NIKKI': 5, 'FENWAY': 5, 'C.F.': 5, 'BRUKNER, ILANEY': 5, 'FORRESTER, CAPT. ALE': 5, 'PELTINO, LT.': 4, 'MODAM': 4, 'BRANNEX, ALLESSANDRO': 4, 'FARREL, MIKE': 4, 'BARTLETT, STU': 4, 'KAPPELBAUM, MRS.': 4, 'WIDOW-MAKER': 2, 'PECOS BILL': 2, 'UNCLE SAM': 2, 'FATHER TIME': 2, 'JOHNNY APPLESEED': 2, 'HENRY, JOHN': 2, 'BUNYAN, PAUL': 2, 'VISE': 5, 'SCANLON, COMMANDER': 5, 'THAKOS': 2, 'BLACK KNIGHT IV': 2, 'MOLTO': 1, 'BASALLO': 1, 'JINKU': 2, 'IRON MAN ARMOR': 0, 'SIROCCO': 5, 'AMINEDI': 5, 'BLACK RAAZER': 5, 'VEIL': 5, 'MANN, DR. J. VERNON ': 1, 'TEMPEST II': 1, 'INFERNO III': 1, 'DECAY II': 1, 'BUCHANAN, SAM': 10, 'HASTINGS, PROF. LOUI': 10, 'MONTESI, VICTORIA': 10, 'MADAME MASQUE V': 0, \"CH'OD\": 5, 'THING DOPPELGANGER': 2, 'VISION DOPPELGANGER': 2, 'BEAST DOPPELGANGER': 2, 'POLARIS DOPPELGANGER': 2, 'HUMAN TORCH DOPPELGA': 2, 'SILHOUETTE': 6, 'HULK DOPPELGANGER': 2, 'STRONG GUY DOPPELGAN': 2, 'CYCLOPS DOPPELGANGER': 2, 'KARNAK DOPPELGANGER': 2, 'PROFESSOR X DOPPELGA': 2, 'BLACK KNIGHT IV DOPP': 2, 'IRON MAN DOPPELGANGE': 2, 'QUASAR DOPPELGANGER': 2, 'PUCK DOPPELGANGER': 2, 'BLACK WIDOW DOPPELGA': 2, 'TRITON DOPPELGANGER': 2, 'SHE-HULK DOPPELGANGE': 2, 'WOLFSBANE DOPPELGANG': 2, 'NOVA DOPPELGANGER': 2, 'SPEEDBALL DOPPELGANG': 2, 'MR. FANTASTIC DOPPEL': 2, 'DAREDEVIL DOPPELGANG': 2, 'HERCULES DOPPELGANGE': 2, 'WOLVERINE DOPPELGANG': 2, 'HAWKEYE DOPPELGANGER': 2, 'DARKHAWK DOPPELGANGE': 2, 'BLACK KNIGHT V DOPPE': 2, 'NAMORITA DOPPELGANGE': 2, 'QUICKSILVER DOPPELGA': 2, 'NORTHSTAR DOPPELGANG': 2, 'BEAST DOPPELGANGER I': 2, 'USAGENT DOPPELGANGER': 2, 'MULTIPLE MAN DOPPELG': 2, 'SPIDER-WOMAN DOPPELG': 2, 'GAMBIT DOPPELGANGER': 2, 'PUCK DOPPELGANGER II': 2, 'FIRESTAR DOPPELGANGE': 2, 'THING DOPPELGANGER I': 2, 'ROGUE DOPPELGANGER': 2, 'ICEMAN DOPPELGANGER': 2, 'SILVER SURFER DOPPEL': 2, 'VISION DOPPELGANGER ': 2, 'DRAX DOPPELGANGER': 2, 'TOMAZOOMA II': 2, 'WINGFOOT, WYATT II': 2, 'KURSE': 1, 'PENTIGAAR': 1, 'OLSON, MRS.': 1, 'DESIGNATE': 1, 'NULLITRON': 1, 'NEFFETHESK': 1, 'TOOTHGNASHER': 1, 'TOOTHGRINDER': 1, 'RYAN, THOMAS': 1, 'HESCAMAR': 1, 'CYRA [ASGARDIAN]': 1, 'STEVENS, MILO': 0, 'STONE, TIBERIUS': 0, 'DONOHUE, TREVOR': 0, 'WALDERS, BEATRICE': 0, 'WONG CHU': 0, 'SUN-TAO': 0, 'HO YINSEN': 0, 'DR. POWER': 0, 'POWER, DR. MAX': 2, 'YRIK': 6, 'BYREL': 6, 'YELLOWJACKET III': 0, 'MASTER KHAN': 3, 'FENSTER, RICHARD': 1, 'CYLLA': 1, 'MONSTROID': 3, 'PERSEPHONE II': 2, 'GANYMEDE': 2, 'OLALLA': 4, 'SKYHAWK': 1, 'COVEY, LAWRENCE K.': 1, 'NIKKI': 6, 'SALLA': 1, 'STARHAWK': 6, 'THOR IV': 1, 'MARTINEX': 6, 'STARHAWK II': 6, 'MAJOR VICTORY': 6, 'CHARLIE 27': 6, 'SCOURGE II': 4, 'RAZORFIST III': 4, 'QUANTUM': 2, 'ZZZAX': 2, 'CAT KING': 2, 'MASTER PANDEMONIUM': 2, 'DOMINUS II': 2, 'XEMU': 2, 'VALERIA': 2, 'PHINEAS': 2, 'MAHKIZMO': 2, 'JONES, JANIS': 20, 'WILD MAN': 2, 'TALBOT, MAJ. MATT': 2, 'IRON MAN V': 4, 'HINKLEY': 2, 'HEADGEAR': 2, 'DIETZ, SUSAN': 2, 'MUTO, JUNZO': 6, 'HIROMITSU': 6, 'GAEA': 1, 'FLYING DUTCHMAN': 2, 'BLACK KNIGHT III': 2, 'SAHREED': 2, 'LEVIATHAN VI': 2, 'SHANZAR': 2, 'NEPTUNE [OLYMPIAN]': 2, 'ASTER, LUCIAN': 2, 'CHESBRO': 3, 'BLACK TARANTULA II': 3, 'DELILAH': 3, 'ZANIAC II': 1, 'MADDICKS, ARTHUR ART': 5, 'LIPSCOMB, DR. ANGELA': 2, 'MADDICKS, NADINE': 2, 'RYKER, LUCY': 2, 'FLUX': 2, 'JOHNSON': 2, 'RYKER, GENERAL': 2, 'HACK': 2, 'ANIMUS': 2, 'BRASS': 10, 'WATANABE, YUJI': 10, 'TYGER TIGER': 5, 'CORRIGAN, ARCHIBALD ': 5, 'BRAINCHILD': 5, 'LUPO': 5, 'NEREEL': 5, 'MR. JIP': 4, 'GREENSONG': 5, 'ALFY': 5, 'SIMONSON, LOUISE': 5, 'CANCELLATOR': 5, 'TIMESLOT': 5, 'SWEEPZWEAK': 5, 'LEAD-IN': 5, 'DEADAIR': 5, 'RICHARDS, FRANKLIN 2': 5, 'SHIP': 5, 'PROTEUS II': 5, 'GIDEON': 5, 'HARNESS': 5, 'CHORD, ANDREW': 6, 'PIECEMEAL': 5, 'FAMINE': 5, 'GAUNTLET': 5, 'FOXBAT': 5, 'DRAKE, WILLIAM ROBER': 5, 'HIRO': 5, 'RASPUTIN, MIKHAIL': 5, 'DRAKE, MADELINE BEAT': 5, 'HEALER': 5, 'BRAIN CELL': 5, 'MEME': 5, 'BANDIT': 6, 'KARIM, MERYET': 6, 'TUMOLO, DR. JOANNE': 2, 'ZABO': 2, 'KRAKEN': 4, 'RAZORFIST II': 3, 'MAN-BULL': 3, 'ESTAVES, MARIE': 3, 'MR. SCRATCH II': 3, 'MISS ITCH': 3, 'BONES': 3, 'SKIN II': 3, 'LANSING, CHERYL': 3, 'ESTAVES, DR. ROSA': 3, 'BLISS, BONNIE': 3, 'NIGHTEYES': 3, 'FAVERSHAM, DAPHNE': 3, 'MERIDIAN, DR. ROBERT': 3, 'LEIGHTON, BRIAN': 3, 'HATE-MONGER': 4, \"DEATHCRY [SHI'AR]\": 2, 'MCELROY, JAMES': 2, 'BLITZKRIEG': 2, 'CAPTAIN TERROR': 4, 'BLACK MARVEL': 4, 'BLACK AVENGER': 4, 'EVERY-MAN': 4, 'ANGEL III': 4, 'JACK FLAG': 4, 'FREE SPIRIT': 4, 'SUPERIA': 4, 'THUNDERBOLT': 3, 'WESTON, SALLY': 3, 'TYPHON': 1, 'TYNDAR': 2, 'RAA': 2, 'SSSITH': 2, 'BLACK KNIGHT II': 2, 'APOCRYPHUS': 2, 'DEATHUNT 9000': 2, 'CRIMSON': 5, 'INFECTIA': 5, 'AZURE': 5, 'CERISE': 5, 'CORAL': 5, 'COBALT II': 5, 'BERYL': 5, 'HODGE, CAMERON': 5, 'SIKORSKY': 5, 'GLORIOLE': 2, 'JONES, TIMOTHY': 5, 'GERASI, MARY ROSE': 3, 'BARBAROSSA, VINNIE': 3, 'HONIKAWA, SHO': 3, 'HALFTREE, HORACE': 3, 'NICHOLS, TOM': 3, 'GERASI, DON MARIO': 3, 'BRAITHWAITE, JUDGE R': 3, 'GERASI, JOEY': 3, 'YOUNG, KIM SUNG': 3, 'GERASI, LESLIE': 3, 'HATCHET MAN': 3, 'SCORPIO III': 3, 'FITZGERALD, MOLLY': 3, 'KEMBLE, DR.': 3, 'FALZON': 2, 'PURSUER': 2, 'IRIDIA [INHUMAN]': 2, 'RAGA': 0, 'BLACK LAMA': 2, 'TABUR': 2, 'BLACKWOOD, JENNY': 2, 'CATHERWOOD': 2, 'VALINOR': 2, 'NEWMARK, LOTUS': 0, \"B'GON\": 1, 'ZAMORA, PETE': 2, 'BASILISK III': 2, 'AGONY': 2, 'ROSS, EVERETT KENNET': 3, 'JAMEKA': 2, 'RICHARDS, FRANKLINK ': 2, 'NOVA DOPPELGANGER II': 2, 'DHEREK': 2, 'HARRIS, CHRISTINE': 3, 'CASS, LARRY MAD DOG': 3, 'BULLET': 3, 'PEMBROKE': 3, 'CALKIN, SUSAN': 3, 'HOYT, TONY': 3, 'SABINI, JERRY THE WH': 3, 'MALTESE': 3, 'TULLY, DEREK': 3, 'STONE': 3, 'WING': 3, 'SPEAR': 3, 'JONIN': 3, 'FLAME': 3, 'STAR': 3, 'IZANAMI': 3, 'SENNET, PAMELA': 3, 'SCOTT, PETER': 3, 'BUCHETTO, SALVATORE ': 3, 'SHADOW-HAND': 3, 'ZARAN II': 3, 'HANGMAN II': 0, 'HOUSTON, STELLA': 0, 'PRESTER JOHN': 2, 'GOLEM III': 12, 'AGAMEMNON II': 2, 'BASILISK': 2, 'PAPA NEBO': 10, 'SMEDLEY': 2, 'BROTHER STEPHEN': 2, 'DECAY': 5, 'ADAMSON, JASON': 12, 'ADAMSON, REBECCA': 12, 'LOGAN, WAYNE': 12, 'BLACK TALON': 2, 'BARON SAMEDI': 2, 'DAMBALLAH': 2, 'CAPTAIN UNIVERSE': 10, 'COFFIN, RAY': 10, 'RUSSELL, LISSA': 2, 'SIMPSON, CRASH': 10, 'KURLYCHEK, PATTY': 5, 'WAR TOY': 0, 'CONSUELA': 0, 'DR. GOODWRENCH': 0, 'EEL III': 2, 'UNDERTOW': 2, 'JOYCE, SAMANTHA': 1, 'SLAG': 0, 'SHEPPARD, JOAN ACE': 0, 'GREMLIN': 2, 'MYCROFT': 0, 'CRIMSON DYNAMO VI': 0, 'COLLETTE': 0, 'BERKELEY, TRAVIS': 0, 'JEFFRIES, DR.': 0, 'BERGIER, REBECCA': 0, 'RECORDER II': 0, 'TURMOIL': 0, 'ANCESTOR': 0, 'BUTTERFLY': 0, 'DELUGE II': 0, \"Q'WAKE\": 0, 'LICH': 0, 'YIN, DR. SU': 0, 'FOUNDRY': 0, 'SICKLE': 0, 'FIREFLY': 3, 'CRIMEBUSTER': 6, 'HOLOCAUST': 5, 'BUG': 15, 'MARIONETTE': 15, 'RANN, COMMANDER ARCT': 15, 'KREA, BRUNO': 4, \"N'GAMI\": 4, 'LOHAN, PETER': 4, 'LEVIATHAN IV': 4, 'LUMP': 4, 'HATE-MONGER IV': 2, 'THUNDERSWORD': 5, 'HOFFMAN, ALICE': 3, 'SARACEN': 3, \"IRON FIST H'YLTHRI I\": 2, 'STAMP, J.Q.': 4, 'BARNETT, MIKE': 5, 'KANGAROO II': 3, 'MARILLA [INHUMAN]': 2, 'SPOT': 3, 'ROEBERG, SEN.': 3, 'THOR REPLICOID': 1, 'JAMESLEY, ALOYSIUS R': 1, 'MARRERO, ED': 1, 'TAI II': 6, 'GARCIA, REV.': 4, 'STELLARIS': 1, 'KORREK': 5, 'MASTER MENACE': 2, 'JONES, PHILLIP': 2, 'JONES, ANDY': 2, 'STEWART, MADDIE': 2, 'JONES, DRUCILLA': 2, 'MYSTERIUM': 2, 'JONES, KATIE': 2, 'CROWLEY': 2, 'NIGHTHAWK III': 2, 'SKYMAX': 2, 'STEWART, TINA': 2, 'WILSON, MERCEDES': 5, 'GRUNCH, ALESTAIRE FI': 5, 'HAYDEN': 4, 'ECLECTA': 4, 'PYRON': 4, 'UNICORN III': 4, 'MALOVICK': 4, 'QUEEN KNORDA': 4, 'URTHONA': 10, 'KALUU': 10, 'HEYWERTH, GENERAL': 13, 'FITZROY, TREVOR': 5, 'JAM': 5, 'MARITA': 5, 'ROUST': 20, 'BUX': 5, 'SUWAN': 4, \"O'HARA, GERALD\": 2, 'RAGA-SHAH': 2, 'MCSHANE, PATRICK': 2, 'JEFFERSON, DR.': 3, 'WIDE LOAD ANNIE': 17, 'POPPA WHEELER': 17, 'MCGRILL, MARY': 17, 'XEMNU': 17, 'RITTER, DONALD': 1, 'RITTER, DEBORAH ': 1, 'LADY OF THE LAKE': 3, 'MONTOYA, MARIA': 3, 'MONTOYA, JULIO': 3, 'PHANTOM EAGLE': 4, 'THUMBELLINA': 5, 'CERANDA': 1, \"O'NEILL, DET. BRADY\": 1, 'BRONA': 1, 'MAGNIR': 1, 'ENRAKT': 1, 'SLOTOTH': 1, 'GEIRRODUR': 1, 'ORIKAL': 1, 'TARAKIS': 1, 'CONQUEST': 1, 'BEDLAM II': 1, 'FONTANELLE': 5, 'AYALA, MRS.': 3, 'LANG, ALLISON': 3, 'LANG, TIMMY': 3, 'ECHO': 3, 'LEAP FROG': 3, 'SHELDON, PHIL': 3, 'RIGOLETTO, DON DANTE': 3, 'FORTUNATO': 3, 'CHAMBER': 5, 'EMPLATE': 5, 'ST. CROIX, NICOLE': 5, 'PENANCE III': 5, 'BRAWN, TRISTAN': 5, 'LEGAULT': 5, 'BRAWN, HUNTER': 5, 'ST. CROIX, CLAUDETTE': 5, 'ST. CROIX, CARTIER': 5, 'OMEGA': 2, 'TIMBERIUS': 2, 'GIDEON, GREGORY HUNG': 2, 'GIDEON, CLAIRE': 2, 'MIRACLE MAN': 2, 'CONROY, KAREN': 2, 'MONDO II': 5, 'TIMESLIP': 6, 'ADVENT': 6, 'THERMAL MAN': 1, 'PHILLIPS, HANDSOME H': 2, 'DAKOR, YOGI': 2, 'BROGIN, BULL': 2, 'NALES, DET. REBECCA ': 3, 'JOHNSON, ANNA': 3, 'AVANDALIA': 3, 'THULE, GEN.': 3, 'BERGLUND, GEN.': 3, 'CRIMSON DAFFODIL': 3, 'MARKED MAN': 3, 'NIGHT': 3, 'FALCONER, CALVIN': 3, 'GALANNAN, BILL': 3, 'TENDRIL': 3, 'SCHWINNER, DR. ERIC': 3, 'SLOAN, ANNA': 3, 'CONTONI, PAUL': 3, 'STAPHOS, DR. MONICA': 3, 'HITLER, ADOLF': 4, 'GHOST GIRL': 4, \"SPIRIT OF '76\": 4, 'KING GEORGE VI': 4, 'CAPTAIN WINGS': 4, 'TOMMY LIGHTNING': 4, 'THUNDERFIST': 4, 'GOLEM': 4, 'BLUE BULLET': 4, 'FACE': 4, 'MATADOR': 3, 'MR. FEAR': 10, 'KRANG [ATLANTEAN]': 12, 'DEATHLOK': 10, 'SLADE': 3, 'FIXER': 3, 'MURDOCK, BATTLING JA': 3, 'UROC': 1, 'HELIX': 6, 'TURBO II (B)': 6, 'HOLLYWOOD': 6, 'YONDU': 6, 'DUNHAM, LAURA': 6, 'NIELS': 6, 'NOVA OMEGA': 6, 'MEXXA RIEN': 6, 'CHEN, DR.': 6, 'GENECIDE': 6, 'CORONARY': 6, 'IMPULSE II': 6, 'MATHEMANIC': 6, 'PRETTY PERSUASIONS': 6, 'DARK': 6, 'RIGHT': 6, 'WRONG': 6, 'GENERAL ADMISSION': 6, 'DRY': 6, 'TRUTH II': 6, 'CUT': 6, 'ADMIRAL PROTOCOL': 6, 'GENERAL OBSIDIAN': 6, 'LIGHT': 6, 'BALDWIN, JUSTIN': 6, 'BRIGGS, AGENT STEPHA': 3, 'STONE, NELSON': 6, 'GARTHAN SAAL': 6, 'SPROCKET': 6, 'HENDERSON, CAROL': 6, 'ASYLUM II': 6, 'ROSEN, WALTER': 6, 'JUPITER': 6, 'SPARROW': 6, 'FLYNN': 6, 'MELTON, LORRIE': 2, 'MADDEN, CHET': 4, 'ZAPPER, DAN': 1, 'WALTERS, SHERIFF MOR': 1, 'BRADLEY, JESSICA': 3, 'GONZALEZ, RAYMOND': 3, 'RADION': 2, 'CHAKA KHAN': 3, 'CHEEVER, JOHN': 5, 'JILL': 3, 'BANCROFT, MARTINE': 10, 'ROBERTSON, AMANDA': 3, 'BANKS, SHARON': 3, 'LOBO, EDUARDO': 3, 'TORK, SGT.': 3, 'REDEEMER': 2, 'LEECH': 5, 'STINGER III': 5, 'TOWER': 5, 'TIMESHADOW': 5, 'SCALPHUNTER': 5, \"O'DONNELL\": 5, 'CYBELE [ETERNAL]': 1, 'DREAMING CELESTIAL': 1, 'KHORYPHOS [ETERNAL]': 1, 'CATAPHRAX': 1, 'YRDISIS': 1, 'CHATTERTON, DAVE': 1, 'KINGO SUNEN [ETERNAL': 1, 'HOLDEN, DR. SAMUEL': 1, 'AHQLAU': 1, 'TEFRAL': 1, 'PHASTOS [ETERNAL]': 1, 'BLAIRE, CARTER': 2, 'HUNCH': 1, 'BEEFER': 1, 'MARX': 1, 'STERLING, SID': 5, 'CHURCH, LYNN': 3, 'CHAINSAW': 3, 'OLLSEN, BO': 3, 'AQUARIUS': 4, 'CHLOE': 3, 'DUFFY, SGT. MIKE': 4, 'YANO': 3, 'DRAGONFLY II': 3, 'MADAME QWA': 3, 'AUTHIER, TRACY TRACE': 5, 'D.O.A.': 5, 'CHIMERA II': 5, 'AUTHIER, POLICE CHIE': 5, 'ELWOOD': 5, 'TIMMONS': 5, 'TOKEN': 5, 'DIRT NAP': 5, 'M-PLATE': 5, 'CACHES, PROF. MARINA': 3, 'MASTER ZEI': 3, 'WILKS, SHANTAL': 3, 'EL UNO': 3, 'LEWIS, DET. GARON': 3, 'GIL': 5, 'TORES': 5, 'DARIA': 5, 'LYNN, NORMA': 3, 'RANDEAU, DR.': 3, 'DILLON, ANITA': 3, 'DILLON, JONATHAN': 3, 'BLACKHEART': 5, 'GILBERT, ROXANNE': 2, 'CHANGELING': 5, 'WITNESS II': 5, 'SCORCH II': 5, 'LINK': 5, 'JINX': 5, 'ZCANN': 0, \"R'TEE\": 0, 'NURO': 0, 'FIZ [SKRULL]': 0, 'SPUNJE': 0, 'THUMPER': 5, 'TRACKER': 5, 'SEER': 5, 'NOTE': 5, 'KINLAN KARTH KITH': 5, 'ACROBAT': 2, 'BEDFORD, BRAD HULK': 2, 'STILWELL, RON': 2, 'STRINGER, AMY': 5, 'FULLERTON-SMITH, CAS': 5, 'SCRAMBLER': 5, 'KRAMER, STACEY': 5, 'KRAMER, KENNY': 5, 'RIPTIDE': 5, 'MARX, DR.': 5, 'SLYDE': 13, 'RASPUTIN, NIKOLAI': 5, 'RASPUTINA, ALEXANDRA': 5, 'CHASIN, MAJOR': 5, 'COCKRUM, DAVE': 5, 'HURRICANE III': 5, 'DEADBOLT': 5, 'SPYNE': 5, 'LIFEFORCE': 5, 'GREER, GABRIELLE': 3, 'MOORE, TONI': 3, 'PURL, DR. NOAH': 3, 'BARRON, RICK': 3, 'STRONGARM II': 3, 'BARRAGE': 5, 'GENESIS': 5, 'LIVING ERASER': 2, 'WIGGINS, TRACY': 3, 'BUSHWACKER': 3, 'MOTH': 2, 'MARTELL, SHIELD AGEN': 0, 'FITCH': 5, 'CROSS': 5, 'MIDAS': 0, 'SERVITOR': 1, 'STEELE, BOBBY': 1, 'PARETSKY, DR. GARY': 1, 'CLARISSA': 1, 'KOSINSKI, HARLEY': 1, 'RUIZ, RIGGER': 1, 'RASSITANO, MAD DOG': 1, 'JACKSON, ANDREW JOCK': 1, 'MAJOWSKI, SAM MOTHER': 1, 'CONKLIN, CAPT.': 1, 'FIELSTEIN, FIREWORKS': 1, 'SENSATIONAL HYDRA': 2, 'NEUT': 0, 'MADAME MASQUE III': 0, 'MANTIS (SPACE PHANTO': 0, 'NELIT': 2, 'TUC': 2, 'TOBIAS': 4, 'MALACHI': 4, 'LIBRA III': 2, 'BENEDICT': 0, \"ZA'KEN\": 2, 'CHAR, BRON': 0, 'CHAPMAN, GEN. ULYSSE': 0, 'RANIER, MIKE': 4, 'PATTERSON, JACK': 4, 'EL AGUILA': 3, 'ROUGHHOUSE': 5, 'BLOODSCREAM': 5, 'COY, GENERAL NGUYEN ': 5, 'TAI': 5, 'FLUFFY': 3, 'SCRIER JR.': 3, 'HARDCASE': 5, 'SHOTGUN': 5, 'BATTLEAXE II': 5, 'HILDEBRANT, DR.': 1, 'THOMAS, BECKY': 1, 'NIGHT RIDER': 2, 'EPSTEIN, PROF. NORA': 3, 'RAVEN, HELEN': 3, 'RAVEN, MATTHEW': 3, 'TYNE, ELIZABETH': 3, 'TANNEN, VINCENT': 3, 'KENNEDY, LOUISE': 3, 'WHITE, PROFESSOR': 3, 'TANNEN, PAUL': 3, 'AREX': 1, 'GLABOO': 2, 'EELAK': 2, 'ATOR, GENERAL': 2, 'MARGOYLE': 2, 'ROOTAR': 2, 'ARCADIUS': 2, 'PULSSUS': 2, 'RISQUE': 5, 'CRULE': 5, 'ABSALOM': 5, 'SAUL': 5, 'EDITOR': 2, 'DR. SUN': 6, \"CR'REEE\": 5, \"MAM'SELLE HEPZIBAH\": 5, 'RAZA LONGKNIFE': 5, 'ZANE, DONOVAN': 3, 'AVIUS': 2, 'LEONUS': 2, 'PHAE-DOR': 2, 'ARIDES': 2, 'CENTARIUS': 2, 'STALLIOR': 2, 'AIREO': 6, 'FALCONA [INHUMAN]': 2, 'EXITAR': 1, 'VEGA, ROBIN': 3, 'TRAVERS, MIKE': 10, 'RYKER, MAJOR SIMON': 10, 'CRIMSON DYNAMO VIII': 21, 'KRANG II': 21, 'TITANIUM MAN III': 21, 'RADIOACTIVE MAN II': 21, 'WHIRLWIND II': 21, 'BLACK KNIGHT VI': 21, 'MELTER II': 21, 'GOSAMYR': 5, 'ANIMATOR': 5, 'BIRDBRAIN': 5, 'DRAN, DAMON': 4, 'OMERTA': 2, 'PRODIGY': 2, 'MICROMAX': 5, 'URSULA': 2, 'SHAMROCK': 2, 'ROMANOV, MICKEY': 2, 'HEADLOK': 2, 'WINDSHEAR': 2, 'CLARKE, GENERAL JERE': 15, 'PATRICK, KERRY': 2, 'MAJOR MAPLELEAF': 2, 'BREWER, AMY': 2, 'BYRNE, JOHN': 2, 'CARTER, SHARON II': 4, 'MASTER MAN II': 13, 'FURY, NICK II': 4, 'TAKU': 3, 'CRIPPLER': 13, 'BLAKE, EMILY': 3, 'DAZZLER': 5, 'DARK HUNTER': 5, 'TAGAK': 2, 'GUNTHAR': 1, 'SEA WITCH': 1, 'SPIKE': 10, 'MORAN, KEVIN': 10, 'SLICK': 10, 'PAIN': 10, 'PERUN': 2, 'CRIMSON DYNAMO V': 2, 'RAINTREE, VIVIAN': 3, 'HOLDSWORTH, PARKER': 3, 'DUNLEAVY, GEN. ARLEN': 3, 'ORINI': 10, 'KAMO THARNN': 2, 'GORN': 10, 'SATANA': 2, 'ROSETTI, GABRIEL': 2, 'CROW, REV. JOSHUA': 2, 'SIEGEL, DR. AVRAM': 2, 'GERHARDT, JOSEPH HEI': 2, 'SHAITAN, AL': 2, 'RILEY, JACK': 2, 'HELLSTROM, VICTORIA': 2, 'SOULFIRE': 2, 'RILEY, MARIEL': 2, 'RILEY, KIM': 2, 'MIRAGE III': 5, 'BECKMAN, CHARLES': 22, 'BECKMAN, JOSEPH': 22, 'BECKMAN, SARAH': 22, 'BECKMAN, LISA': 22, 'ARMAZIEL': 2, 'PORTER, KIM': 2, 'SAMMAEL': 2, 'PEACEMONGER': 0, 'REPLICUS': 1, 'EXPEDITER': 5, 'DAVIS, PRINCIPAL': 3, 'MAXXAM': 2, 'POWDERKEG II': 2, 'X-RAY II': 3, 'OKOYE': 3, 'ZURI': 3, 'MALICE V': 3, 'TEUTONIC KNIGHT': 4, 'MONTGOMERY, SIR BERN': 4, 'BROTHERS GRIMM': 2, 'STALIN, JOSEF': 4, 'IRON CROSS': 13, 'LADY LOTUS': 4, 'HUMAN TOP': 4, 'GOLDEN GIRL': 4, 'NOMAD II': 4, 'WILMOTT, DR. KEITH': 10, 'WHITE, JONATHAN': 10, 'COLLINS, NICK': 10, 'MECHADOOM': 2, 'COLDBLOOD': 5, 'COLLINS, TRACY': 10, 'HANSEN, BILLY': 10, 'RYKER, HARLAN': 10, 'DWORMAN, JIM': 10, 'ANSWER': 3, 'MAXIMOFF, DJANGO': 2, \"CH'THON\": 1, 'OTHER': 2, 'TABOO': 2, 'MR. DOLL': 2, 'CAMPBELL, MEREDITH': 3, 'GROVEL': 5, 'NANNY': 5, 'LANDSCAPE': 5, 'MEANY': 5, 'SPAT': 5, 'EENY': 5, 'MAGGOTT': 5, 'DE LA JOYA, SISTER M': 5, 'ALVAREZ, CARLY': 5, 'HARRAS, BOB': 5, 'JEROME, JASON': 3, 'TESS-ONE': 3, 'MCBRIDE, MARTHA': 3, 'KNIGHT': 3, 'FOGG': 3, 'KNIGHT, LEO': 3, 'PLAGUE': 5, 'PRISM': 5, 'APE': 5, 'BEAUTIFUL DREAMER': 5, 'ERG': 5, 'TARBABY': 5, 'BAILEY, SARA GREY': 5, \"KALADAR [SHI'AR]\": 2, 'ZOOG [KYMELLIAN]': 2, \"BLOODWING [SHI'AR]\": 2, 'ENCHANTER': 2, 'MAHA YOGI': 2, 'COPPERSMITH, ALFRED': 3, 'FORCE': 2, 'BUSH, GEORGE': 5, 'POLESTAR': 3, 'THOMAS, DR. STAN': 5, 'THOMAS, IDA': 5, 'MURMUR': 5, 'EDGERTON, GAYLE': 5, 'VINCENTE': 5, 'THOMAS, KIM HO TWAE': 5, 'BULWARK': 5, 'MISTY': 5, 'DEVERAUX, INSPECTOR ': 5, 'SOLARR': 2, 'ATOM SMASHER': 2, 'DR. HYDRO': 2, 'LORVEX': 2, 'HAMIR': 10, 'MCCOURT, ALLISON': 6, 'VIRAGO': 2, 'ROSENBERG, ANNIE': 2, 'STALYENKO, COL. YURI': 2, 'WOZ': 2, 'JARZINHO, COL. EDSON': 2, 'CARTHUS': 2, 'ARCHAEOPTERYX': 2, 'KALIKYA [INHUMAN]': 2, 'NAHREES [INHUMAN]': 2, 'NEIFI [INHUMAN]': 2, 'DINU': 2, 'TOI': 2, 'NECROMANCER': 2, 'RED GUARDIAN II': 2, 'CYANIDE JANE': 5, 'OXTON, PROFESSOR HEN': 5, 'AENTAROS': 5, 'KEY': 5, 'SHIRE, DR. RANDALL': 5, 'MALAN Sometimes spel': 5, 'WALL': 5, 'SEMIJAN': 5, 'KRIVEN': 5, 'BERGER, PROF.': 5, 'PRINCESS SANDELLA': 5, 'DURAN, CONAL': 5, 'LOCKLIN, BEN': 5, 'BEDLAM': 5, 'HAMMER': 2, 'ANVIL': 2, 'CORSI, TOM': 5, 'HORUS [EGYPTIAN GOD]': 1, 'ERISHKIGEL': 1, 'MUNIN': 1, 'FLAME II': 1, 'HUGIN': 1, 'MADDICKS, PROFESSOR ': 5, 'ARKO': 1, 'BUSHMASTER': 3, 'TILDA': 1, 'BRANDT, ELLEN': 23, 'MR. TERMINEUS': 23, 'BURKE, JACK': 23, 'BURKE, GWYNETH': 23, 'LOPEZ, ANGELA': 23, 'BURKE, JOB': 23, 'FILLMORE, SHERIFF DO': 23, 'MEPHISITOID': 2, \"T'KYLL ALABAR\": 2, 'TERRIGENE': 2, 'PAVANE II': 2, 'BRAWLER': 2, 'AMPERE': 2, 'PROCTOR': 2, 'WRECKER II': 2, 'STEGRON': 3, 'DORCAS, LEMUEL DR.': 2, 'MINT JULEP': 13, 'ABRAXAS': 13, 'RATTACK': 13, 'FROST, CARMILLA': 13, \"M'SHULLA\": 13, 'OLD SKULL': 13, 'GROK': 13, 'KILLRAVEN': 13, 'SABRE': 13, 'HIGH OVERLORD': 13, 'SKAR': 13, 'VIGILANT': 13, 'FOROPULIST': 13, 'VOLCANA ASH': 13, 'EVE 3,031': 13, 'ADAM 3,031': 13, 'ATALON': 13, 'WARLORD': 13, 'MASTER FOUR': 13, 'SACRIFICER': 13, 'MELONIE': 13, 'KASEMA': 2, 'KATHAR': 2, 'SLEDGE': 5, 'ALEGRIA, RICHIE': 5, 'SCHUYLER, DR. REBECC': 5, 'GRYPHON': 5, 'BURKE, RICKY': 5, 'REIGNFIRE': 5, 'SANDERS, DET. NAPOLE': 5, 'BANTOCK, LT. OLIVER': 5, 'BENTON, TERRY': 5, 'JONES, WALTER': 5, 'BLACKSHEAR, JONAS': 5, 'THORPE, GORDON': 5, 'DEWITT, LUCIUS': 5, 'BRIGGS, AGENT': 5, 'HOLLISTER, SHERIFF': 5, 'SNAKESKIN II': 5, 'ROUSSEAU, ETIENNE': 5, 'CHANDRA, DR.': 5, 'JOSHUA, DR. SEGISMUN': 5, 'SHORT CIRCUIT': 5, 'LOCUS': 5, 'DE LA SALLE, BEATRIC': 2, 'WENDIGO II': 5, 'LELAND, HARRY': 5, \"ARAKI [SHI'AR]\": 5, 'MAELEN': 5, \"EMPRESS R'KILL [SKRU\": 0, 'EARTHQUAKE': 0, 'NIGHTSIDE': 0, 'SMASHER IV': 0, 'HUSSAR': 0, 'CARTER, JIMMY': 5, 'PRYDE, TERRI': 5, 'PRYDE, CARMEN': 5, 'MACON, ANGELO': 5, 'MANH, COY LEONG XUI': 5, 'MANH, COY NGA': 5, 'MAGUS II': 5, 'MINXI [INHUMAN]': 2, 'VICTORIUS': 2, 'RUBINO, STEVE HEADSE': 1, 'KLIGGER': 4, 'PARKER, RICHARD (ROB': 3, 'PARKER, MARY (ROBOT)': 3, 'WALRUSS': 2, 'JAKES, JUDSON': 2, 'LYLLA': 2, 'UNCLE PYKO': 2, 'SANCHEZ, DET. LOUISA': 2, 'NORTH, DAKOTA': 3, 'KINGSIZE': 3, 'SHADES': 3, 'COMANCHE': 3, 'DARK RAIDER': 2, 'SUAREZ, RAPHAEL': 2, 'MALICE III': 2, \"O'NEIL, BRIDGET\": 2, 'KARGUL': 2, 'STALKING FOX': 2, 'RAPTOR II': 2, 'MACKAY, MURDO': 4, 'MACKAY, AILSA': 4, 'SHAMAN III': 4, 'MAULER': 0, 'MCPHERSON, LING': 0, 'OGUR': 13, 'SPOILSPORT': 5, 'JET-BLACK': 5, 'NOY': 5, 'NIGHTWIND': 5, 'SIGN': 5, 'TOUGH LOVE': 5, 'FROST, ADRIENNE': 5, 'DRAGONWING': 5, 'FORTUNATO, MARY': 3, 'FORTUNATO, JAMES': 3, 'STRONG, SUSAN': 3, 'CALLAHAN, MIKE': 3, 'OSBORN, EMILY': 3, \"DEATH'S HEAD\": 4, 'ST. HUBBINS, SARI': 5, 'CAMPBELL, DR. RORY': 5, 'MILAN': 5, 'JAVITZ': 5, 'SISTER MARIA': 5, 'ADRIA': 10, \"DIE'ODE\": 6, 'CHORD, MIYAMI': 6, \"FU'SE\": 6, \"ELEC'TRIX\": 6, 'ASTROVIK, ARNOLD': 6, 'VIBRATO': 6, 'DREYFUSS, RACHEL': 6, 'BLOODSTRIKE': 6, 'SMILING TIGER': 6, \"MIDNIGHT'S FIRE\": 6, 'FIREWALL': 6, 'LEFT HAND': 6, 'STAPLES, EDNA M. GRA': 6, 'ENRAGED': 6, 'BLACKBALL': 6, 'FIREBRAND II': 3, 'TERRAFORMER': 6, 'STANDISH, GEN.': 6, 'ETERNAL BRAIN': 12, 'YETI': 12, 'PIXIE': 12, 'GADFLY': 12, 'CAPTAIN HIP': 12, 'WALKABOUT': 12, 'RAPUNZEL': 12, 'SUNSHINE': 12, 'OXBOW': 12, 'EFFIGY': 12, 'LOCKE, DR. CASSANDRA': 12, 'MORPH': 12, 'RECOIL': 3, 'MODINE, REP. BERNARD': 3, 'BLACK FOX': 12, 'MR. JUSTICE': 12, 'NOCTURNE': 12, 'NIGHTINGALE': 12, 'FLATIRON': 12, 'MAKO': 12, 'FIREFALL II': 12, 'SQUIRE': 12, 'RIOT-ACT': 12, 'TEMPLAR': 12, 'DEAD RINGER': 4, 'AMERICOP': 4, 'GOLDDIGGER': 4, 'SANADA, KONO': 4, 'HOPKINS, STEVE': 3, 'WINTHROP, DESIREE': 3, 'KOWALSKI, TRISH': 3, 'HARDY, LYDIA': 3, 'ARMADA II': 3, 'KOPPISCH, DR. ERIC': 5, 'ISHIMA, DAVID': 5, 'CENTURY, TURNER D.': 4, 'TRION': 5, 'EJULP': 5, 'KRAGG': 2, 'MORRELL, SABRINA': 5, 'MADMAN': 2, 'SIN-EATER': 3, 'TOLLIVER, REV. JACKS': 3, 'SANDHURST, VINCENT': 0, 'EDGERTON, MR.': 5, 'HOUND': 5, 'MINOTAUR II': 0, 'TRAPSTER II': 0, 'DULTRY, MARGARET': 13, 'HALF-FACE': 0, 'DOMINO': 4, 'CRUSHER': 0, 'JACOBS, BEN': 10, 'HU, DR.': 10, 'BURR, CLAYTON': 10, 'CROSS, STANLEY': 10, 'MAINFRAME': 10, 'FIRE EATER': 4, 'CAPTAIN AMERICA IV': 4, 'SERAPH': 5, 'RASCAL': 4, 'MCLEISH': 5, 'AI-CHIA': 5, 'ASMODEUS': 2, 'ANAIS': 5, 'KURRGO': 2, 'HYPERION II': 2, 'DR. SPECTRUM II': 2, 'ITOBU, DR. JOSHUA': 13, \"M'KAMBA\": 13, \"W'KABI\": 3, \"N'GASSI\": 13, \"CH'VAYRE\": 5, 'HARBINGER': 5, 'AGENT 18': 5, 'RODRIGUEZ, DEBRA': 5, 'PILLMAN, JIM': 5, 'SIR': 3, 'GARRISON, DR.': 3, 'MR. FEAR V': 3, 'JONES, ARMAND': 3, 'LLOIGOROTH': 2, 'GRIM REAPER': 2, 'AMENHOTEP': 2, 'INFERNO II': 2, 'NECRODAMUS': 2, 'CASSANDRA': 2, 'COAL TIGER': 2, 'SLOTH': 2, 'MADISON, TAYLOR': 2, 'GALEN': 2, 'WALDO': 5, 'MORGAN, DR. VIVIAN': 2, 'BLOOD WRAITH': 2, 'LLYRON': 2, 'CROSS, GENEVIEVE': 2, 'ALBERT': 5, 'ELSIE DEE': 5, 'TABESHAW, HARRY': 5, 'HUNTER IN DARKNESS': 5, 'VANESSA': 5, 'AGGAMON': 10, 'GIGANTO': 2, 'STRANGE': 10, 'STEVENS, DR. VINCENT': 10, 'KARNIVOR': 1, 'BLAKE, DR. DONALD': 1, 'PROSH': 5, 'SAURON': 5, 'KLOSS, BERNARD': 5, 'SEESHA': 5, 'SNOW, TANDY': 5, 'EL GIBAR, ACHMED': 5, 'DELANY, CAPT.': 5, 'TYGERSTRYKE': 5, 'PICO': 5, 'TOLLIVER': 5, 'WENDIGO III': 5, 'THORNN II': 5, 'NICODEMUS II': 5, 'BURKE': 5, 'CARDIAC': 3, 'MUMM, MAX': 3, 'FURMAN, RICHARD': 4, 'TAKIMOTO, RON': 4, 'HOBBS, DET.': 4, 'SATHAN': 4, 'MARVEL BOY III': 2, 'HUMAN ROBOT': 2, 'GORILLA-MAN': 2, '3-D MAN': 2, 'VENUS II': 2, 'TEMPUS': 2, 'ALIOTH': 2, 'REVELATION': 2, 'LUCIFER, REV.': 3, 'LUCIFER II': 3, 'DOLAN, STACY': 10, 'KETCH, BARBARA': 10, 'DOLAN, CAPT. THOMAS': 10, 'KALE, NAOMI': 10, 'KETCH, DORIS AUDRA': 10, 'MONGU': 2, 'PRETTY BOY': 5, 'DA COSTA, EMMANUEL': 5, 'DEMON BEAR': 5, 'CRAIG, REV.': 5, 'AXE': 5, 'ROBERTSON, PROF. BOB': 17, 'SPRAGG': 0, 'STARSHINE III': 6, 'LORD GASPAR': 6, 'KEL, JANOTH': 6, 'YOVA': 6, 'PULSAR II': 6, 'HAMMERHAND II': 6, 'JAVELIN II': 6, 'XYOSS': 6, 'BIANDU': 6, 'LIBERATOR': 6, 'THAN, VELENA': 6, 'DARK MASTER': 6, 'VANIUM': 6, 'TALO': 6, 'LORD BALDAR': 6, 'SENTRY IV': 6, 'TERMINATOR II': 6, 'FIREFALL IV': 6, 'LIGHTNINGBOLT II': 6, 'XELOCKS [TRIONIAN]': 6, 'PRESIDENT ITOES [TRI': 6, 'PIERSO [TRIONIAN]': 6, 'DADDY LONGLEGS': 2, 'BROOP': 1, 'BROTHER TODE': 1, 'VIRA': 1, 'RAGAR': 1, 'MADAME SLAY': 0, 'EPHESUS': 3, 'SOTEIRA': 3, 'WOLVERINE SKRULL': 5, 'REVELATION II': 3, 'ARCTURUS': 3, 'BLAIR, CALEY': 3, 'MELLACE, LUCY SANTIN': 3, 'WESSEL, HARRY': 3, 'STANLEY, TOM': 3, 'GEESEY, KARL': 3, 'IT': 0, 'CUMMINGS, DIANE': 0, 'MARSHALL, GRANT': 0, 'DELAZNY, DORIAN': 0, \"O'BRYAN, BOB\": 0, 'DR. VAULT': 0, 'RHODES, MRS.': 0, 'CROSS-WALLACE, SIR G': 18, 'WOODGOD': 2, 'OZ, DR. MALACHI': 25, 'MINOTAURUS': 25, 'DOVINIA': 25, 'PINTA': 25, 'LEONINUS': 25, 'KING, HANNIBAL': 10, 'DOOMSDAY MAN': 1, 'DESTRUCTOR': 1, 'KASTYX': 2, 'BLUDGEON': 5, 'FIST': 5, 'KATANA': 5, 'COTTONMOUTH': 3, 'ANDERSON, MARJORIE': 0, 'ANDERSON, CHET': 0, 'GAMELIN, JOHN T J.T.': 0, 'ANDERSON, NICKY': 0, 'KREIGER, SIMON': 0, 'JONES, HUGH': 0, 'NIVENA, JOANNA': 0, 'SABOTEUR': 0, 'HARRISON, COL. EDWAR': 0, 'BASILISK II': 6, 'GRIFFIN III': 6, 'CLARIS, SVEN': 5, 'VAMP': 4, 'VEDA': 4, 'DEKKER, GENERAL LYLE': 4, 'MARTIN, ASHLEY': 5, 'KRUEGER': 5, 'ARNSTROM': 5, 'AVIA': 5, 'MR. LUCK II': 3, \"NHU'ABDAR\": 5, 'DELUGE': 5, \"M'KUMBA\": 5, 'LINAK': 5, 'SAKAA': 5, 'AGED GENGHIS': 10, 'RAMA KALIPH': 10, 'NAMORA': 12, 'RINGER': 4, 'TOY': 3, 'BALE, EMERSON': 3, 'ENFORCER': 2, 'COWEN, ELAINE': 2, 'BUTTONS': 2, 'BLANDING, HALEY': 5, 'BLANDING, ANDREW': 5, 'BLANDING, MRS.': 5, 'MENGOCHAUZERAUS, GRI': 5, 'MENGOCHAUZERAUS, STA': 5, 'STEPHANAPOULUS, COSM': 5, 'FIREBALLS': 5, 'ELLENTHORPE, MARIAH': 5, 'TANTE MATTIE': 5, 'CONOWAY, SEKMEHT': 5, 'ANUBAR, ANWAR': 5, 'LEBEAU, JEAN-LUC': 5, 'BRES': 2, 'MASON, WANDA': 5, 'ISBISA': 5, 'VINYL, MILO': 17, 'SCALEFACE': 17, 'BLACK TALON II': 2, 'GARTH': 17, 'KEEPER OF THE COMICS': 17, 'RIDGE, CHRISTINA DEV': 1, 'VENUS': 1, 'EROS': 2, 'SMYTHE, SPENCER': 3, 'CLAYTON, KATRINKA JA': 3, 'ARCHER, ULYSSES SAMS': 17, 'MANH, COY TRANH': 5, 'BUKOWSKI, BUCK': 3, 'THERMO': 3, 'HEMINGWAY': 5, 'FEVER PITCH': 5, 'VESSEL': 5, 'MEMBRAIN': 5, 'GAIA': 5, 'WRAP': 5, 'SORROW': 23, 'ADVERSARY': 5, 'CROSSBOW': 3, 'ICONOCLAST': 2, 'CHAPMAN, DEVIN': 2, 'AGUIRRE, ISOBEL': 2, 'CLAY, GORDON': 2, 'POLOMBO, CATHY': 2, 'EXALT': 2, 'STARR, AARON': 2, 'LEVESSEUR, LARENT': 2, 'DUBOIS, HERVE': 2, 'RINGTOSS': 5, 'YAP': 5, 'BODYBAG': 5, 'THUG': 5, 'GATECRASHER': 5, 'CHINA DOLL': 5, 'WAXWORK': 5, 'HARD BOILED HENWY': 5, 'NUMBERS': 5, 'SCATTERBRAIN': 5, 'JOYBOY': 5, 'FERRO2': 5, 'CHUNG, LAO WEI': 5, 'GRAY, SGT.': 2, 'REISZ, RAY': 2, 'GULADKIN': 2, 'CONAN, NEAL': 5, 'UTGARD-LOKI': 1, 'STRIKER': 13, 'SLAUGHTER': 13, 'SUNDANCE': 13, 'CHESNEY, SANFORD': 2, 'ULTIMATOR': 2, 'TOPSPIN': 13, 'FONTREAUX, GUY': 13, 'STERMAN, ANDREA ANDI': 13, 'GOLDFIRE': 13, 'MARTINEZ, LINETTE': 3, 'THOUSAND': 3, 'PATTON, JESS': 3, 'SHALLA BAL': 2, 'THANE ECTOR': 2, 'NAKKA': 2, 'FOOL': 2, 'SYBYL DORN': 2, 'OLAR': 2, 'NEZARR': 1, 'ONEG': 1, 'EQUILIBRIUS': 5, 'SILVER FOX II': 5, 'CASSADA, ROSA': 3, 'CASSADA, ROBERTO': 3, 'CASSADA, MICHAEL': 3, 'CASSADA, CARLOS': 3, 'LOBO, CARLOS': 3, 'ATOM SMASHER II': 0, 'GAUNT, OFFICER KIM': 1, 'PRAZNIKI, SYLVIA': 1, 'NICHOLS, LORNA': 1, 'TAKAHASHI, REI': 0, 'UNICORN II': 2, 'NIMROD III': 5, 'STRONG, MARTIN HENRY': 5, 'HIDALGO, DETECTIVE J': 5, 'GUTHRIE, JOSH': 5, 'GAR-TOOM': 1, 'PETRIE, JUDGE RICHAR': 5, 'SENTINELS': 5, 'MULDOON, TEXAS JACK': 4, 'EQUINOX': 3, 'BREWER, DR. MELINDA': 3, 'TERROR II': 3, 'IKARYS': 2, 'ARVAK': 2, 'JASON II': 0, \"P'KRRD, CAPTAIN\": 2, 'SHAKATI': 0, \"G'ANYM\": 0, 'ASTRA': 0, 'DELPHOS': 0, 'HOBGOBLIN': 0, 'QUASAR II': 0, 'FANG II': 0, 'TITAN': 0, 'ESON II': 0, 'MENTOR II': 0, 'TRASK, RAYMOND': 3, 'CHAMPION': 2, 'ADORA': 6, 'STAR THIEF III': 6, 'NOVA 0:0': 6, 'MAXOV': 6, 'DEADHEAD': 6, 'THERA': 6, 'SURESHOT': 6, 'PLANNER': 6, 'WARHEAD': 6, 'KID QUARRY': 6, 'ARMADA': 6, 'DANTE': 6, 'STRANGLER': 6, 'MURDER': 6, 'ADORA CLONE': 6, 'MARCEAUX, BELIZE': 5, 'LEBEAU, JACQUE': 5, 'EXALTED ONE': 5, 'GRIS-GRIS': 5, 'ISHIHARA, ZOE': 5, 'POITIER, CLAUDE': 5, 'SINGER': 5, 'LEBEAU, MERCY': 5, 'FIFOLET': 5, 'LAPIN, EMIL': 5, 'QUESTA': 5, 'ALOUETTE, GENARD': 5, 'MARCEAUX, THEOREN': 5, 'RAYMOND, HENRY': 5, 'TITHE COLLECTOR': 5, 'MUELLER, AMANDA': 5, 'SANDY': 2, 'WOLFGANG': 0, 'SKYE': 0, 'PARK, ARCHIE': 0, 'FROG MAN': 5, 'ARSENAL': 2, 'BEERE, JASON': 2, 'CICERO, CAESAR BIG C': 3, 'BIG BEN': 3, 'MR. DEATH': 3, 'SETH II': 1, 'CHAN, SARAH': 3, 'ROSE, MICHKA': 13, 'POTTS, VIRGINIA PEPP': 13, 'GUINNESS': 13, 'PARSON': 13, 'CROSSBONES II': 13, 'OUTRIDER II': 3, \"K'AD-MON\": 3, 'MARLOWE, STEVE': 3, 'BARBAROSSA, MARIO': 3, 'SOMERS, KATHY': 3, 'MARLOWE, STEVE JR.': 3, 'WILD ONE': 2, 'PRIMUS': 6, 'BROTHER WONDERFUL': 4, 'SWARM': 3, 'MINDWORM': 3, 'CARRION': 3, 'SPAULDING, JILL': 5, 'OTOMO': 5, 'NESTOR': 5, 'KATU': 5, 'ANON, LORD': 5, 'REANDEAU, DR.': 3, 'MERLYN': 5, 'KYLUN': 5, 'CAPTAIN U.K.': 5, 'FERON': 5, 'ETZION, GENERAL': 5, 'TAL, GENERAL': 5, 'MANNING, JANICE': 10, 'DOOM, DR. BOB': 17, 'WILCOX, DR. BRENT': 17, 'JACK SERIOUS': 17, 'NOSFERATA': 17, 'LOOPNER, LEXINGTON': 17, 'CRITIC': 17, 'SPANKER': 17, 'BLACK HOLE': 17, 'DR. ANGST': 17, 'TILLIE THE HUN': 17, 'SITTING BULLSEYE': 17, 'CARRERA, MIA': 3, 'FATE, IAN': 2, 'SACK': 5, 'REVERB': 5, 'JAHF': 5, 'SANTA CLAUS': 17, 'STONECOLD': 5, 'BRICKMAN, GLORIA': 5, 'ATKINSON, MAJ. EDMON': 5, 'EVER': 5, 'CHASE, TREVOR': 5, 'BROWSER': 5, 'RETREAD': 17, 'ROYTON, RAYMOND': 3, 'HENSHAW, CURTIS': 3, 'GERARD, TERENCE': 3, 'GUNDERSON, COL. ROLA': 3, 'WEISENTHAL, DR. JONA': 10, 'DRUMM, COLLETTE': 10, 'SHIVER MAN': 4, 'JACKSON, BRENT': 1, 'T': 5, 'BLOK': 5, 'MR. X': 5, 'A': 5, 'BATTLE, MONTGOMERY': 1, 'ARYAN': 1, 'MO MONEY': 1, 'MAUVIUS': 4, 'AKULIA': 18, 'ELLINGTON, DR.': 3, 'KANE, LARRY': 2, 'ROSE, HENRIETTA': 2, 'ROSE, JUSTICE': 2, 'OTHER II': 2, 'DARK MOTHER': 5, 'MOORE, CONNIE': 5, 'CLARITY': 5, 'SHERMAN, GEN.': 5, 'DEUTSCH, GEN.': 5, 'WENDY': 5, 'AUSTIN, GEN.': 5, 'SPOOKY': 5, 'CASPER': 5, 'ANDERSON, GINA': 5, 'BONITA': 5, 'BENEDICT, ANDREW': 5, 'REAVES, VERNON': 5, 'STROUGHTON, WILLIAM': 5, 'JONES, JOHN': 5, 'KNOBLACH, HANS': 5, 'KNOBLACH, GLORIA': 5, 'KNOBLACH, GERTRUDE H': 5, 'SNAGG': 1, 'WIZ KID': 5, 'CROTUS': 5, 'NIMROD': 2, 'FIREBRAND III': 0, 'FUJIKAWA, KENJIRO': 0, 'WRANGLER II': 5, 'GRON': 2, 'JONES, MAGGIE': 6, 'SABUKI, DR. SAM': 4, 'AGENT AXIS': 4, 'BULLSEYE': 4, 'SUPER-PATRIOT': 4, 'HATE-MONGER II': 4, 'SSSESTHUGAR': 3, 'WEED': 3, 'WALKER, TESS': 4, 'WALKER, SHERIFF CHAN': 4, 'TULAK': 2, 'SAMEDAR': 5, 'DISTORTER': 2, 'FIREBOLT': 2, 'VINDIKTOR': 2, 'NUNTOO': 2, 'PAKAI': 2, 'TAKAR': 2, 'TAREE': 2, 'NAILS': 3, 'BLACKWELL': 3, 'MANTLO, BILL': 3, 'CHAUFFARD': 3, 'TARANTULA II': 3, 'BENTLEY, MILES': 3, 'SINCLAIR, MORGAN': 3, 'SNAKEBITE': 3, 'OUTLAW': 3, 'RAPIDO': 3, 'MARTIN, TERI': 5, 'ROBINSON, LUCY': 5, 'CARTER, TAD': 5, 'MESSENGER, TOBIAS': 5, 'MIDWIFE': 10, 'AFTERLIFE': 10, 'MORRISON, AMANDA PAY': 10, 'MORRISON, JESSICA': 10, 'GREASE': 2, 'FURY, NICK L.M.D.': 3, 'MORDO, ASTRID': 10, 'POLTERGEIST': 2, 'GLITCH': 0, 'ANGEL IV': 3, 'METOXO': 5, 'STILETTO': 3, 'DISCUS': 3, 'BUEL': 3, 'HIBBERT, ELLEN': 3, 'HIBBERT, HOPE': 3, 'TREVORIK': 3, \"D'SPRYTE\": 10, \"MUNROE, N'DARE\": 5, 'HELLEN': 5, 'STANCHEK, DR.': 5, 'STURDY, PROF. KENNET': 5, 'KUTUZOV, COL.': 5, 'HILARY': 5, 'DMITRI': 5, 'WIZARD OF THE WEST': 2, 'STARK, ISAAC': 2, 'BISON': 13, 'ASBERY, SHAMARI': 1, 'DEPAUL, SHIELD SPECI': 1, 'WHYTEOUT': 1, 'BOWDEN, DENNIS': 1, 'SANGRE': 1, \"O'KEEFE, CHANDRA\": 1, 'WILDSTREAK': 1, 'DENNIS, MARTY': 1, 'VIRTUAL REALITY': 2, 'TYCHO': 2, 'SKADI': 5, 'MIST': 5, 'KANDRA': 5, 'WORMWOOD': 5, 'NEUROTAP': 5, 'HANRANSHA': 5, 'SAVAGE STEEL': 1, 'COLON, CHERYL': 1, 'POWELL, GRACE': 1, 'POWELL, OFFICER MIKE': 1, 'OMEGA-20': 12, 'HOWLER': 12, 'KATYUSHA': 12, 'BLACKJACK': 12, 'TYPHOON': 12, 'LOCKE, DR. ALEXANDER': 12, 'AXIS': 12, 'SCYTHE': 12, 'VULCAN': 12, 'DARE, ROSSALYN': 12, 'REFLEX': 12, 'YANKEE CLIPPER': 12, 'LIBERTY GIRL': 12, 'CHIMERA': 12, 'SCOTT, JAKE': 12, 'RUMOR': 12, 'REBOUND': 12, 'VON VOLTZMANN, FRITZ': 12, 'STAR THIEF': 2, 'MACRAE, TRUTH': 12, 'ZORN': 12, 'HUGO, CAPTAIN EDVARD': 12, 'CEAUSECU, IONEL': 12, 'PRINCESS ZAFINA': 12, 'JAMEEL': 12, 'KHADIJAH': 12, 'CARMODY, MARY': 12, 'AVRIL, YVETTE': 0, 'SOCRATES SOCK': 0, 'TUATARA': 0, 'DABUTA, NIGEL': 0, 'HAUPTMAN': 0, 'SENTRY 571': 0, 'SNOW, VICTORIA': 0, 'DANVERS, MRS. JOE': 0, 'AIRBORNE': 0, 'FIREFIGHT': 0, 'SMOKESCREEN': 0, 'HANRAHAN, GORDON': 0, 'SHEFFIELD, LEAH': 0, 'BOOBYTRAP': 0, 'SILVANI, VITTORIO': 0, 'ROBERTS, CHESS': 0, 'ROCKETLAUNCHER': 0, 'DE LA SPIROSA, COUNT': 0, 'NICODEMUS': 10, 'DADDY WRONGLEGS': 3, 'LO, JIMMY': 3, 'DAMAGE': 3, 'LORELEI': 5, 'TRASK, LAWRENCE LARR': 5, 'CHALMERS, JUDGE ROBE': 5, 'ALBINO': 6, 'XIANDU': 5, \"A'YIN\": 5, 'BARAK': 5, \"RA'AL\": 5, 'SCRIBE': 5, 'CROSSAN, ANNIE': 5, 'NEBULO': 2, 'ZARATHOS': 3, 'SMITH, DR. ARMSTRONG': 3, 'WHITE DRAGON II': 3, 'COOPER, TERI': 6, 'TICKTOCK': 0, 'GYPSY MOTH': 2, \"D'KAY\": 10, 'TIGER WYLDE': 2, 'ZONE': 2, 'FORTUNE': 2, 'YOUNG, MAX': 3, 'BUCKMAN, EDWARD': 5, 'BRADDOCK, JOHN': 5, 'UNION JACK III': 13, 'SHAW, ESAU': 4, 'SHAW, JACOB': 4, 'WORTHINGTON, ELIZABE': 5, 'WORTHINGTON, MAJOR G': 5, 'SHAW, OBADIAH': 10, 'HARKNESS, ABIGAIL': 10, 'SHAW, HIRAM': 10, 'SHAW, SARAH': 10, 'BIRD, TUESDAY': 5, 'BERNIE': 6, 'REANIMATOR': 6, 'AEGIS': 6, 'KHYBER': 5, 'RIP': 13, 'FERA': 3, 'VIENNA': 3, 'CRIME-BUSTER': 3, 'STERN': 10, 'BADALINO, LT. MICHAE': 10, 'BLACKOUT II': 10, 'CARETAKER': 10, 'SNARE': 13, 'AGENT-X': 13, 'TURK II': 13, 'BLAZE, CRAIG': 10, \"D'AURIA, JACK\": 10, 'BLAZE, EMMA': 10, 'WEI, LINDA': 10, 'FUANARO, RENEE': 10, 'HAG': 10, 'TROLL': 10, 'SNOWBLIND': 10, 'SUICIDE': 10, 'ZODIAK': 10, 'MENNINGER, CLARA': 10, 'THERMITE': 2, 'INERTIA': 2, 'APE-X': 2, 'DR. DECIBEL': 2, 'MOONGLOW': 2, 'REDSTONE': 2, 'FOXFIRE': 2, 'MECHAMAGE': 0, 'HARVEY, SUE': 4, 'MCKNIGHT, BOB': 4, 'RAMOS, ROGER': 4, 'HOUSTON, LT. COMMAND': 4, 'SISTER SALVATION': 5, 'LA BANDERA': 5, 'SPORE': 5, 'GEIST': 5, 'SNOW QUEEN': 5, 'TARGET': 5, 'AKUTAGAWA, OSAMU': 2, 'GROUNDHOG': 2, 'SAINT ELMO': 2, 'STITCH': 2, 'SMART ALEC': 2, 'STILES, TATJANA': 10, 'KLEIN, SUMMER': 10, 'NAVARRO': 10, 'DANIELS, BRIE': 0, 'FONG, LI': 5, 'ADAMS, CINDY': 2, 'LOCKLIN, GENERAL MER': 2, 'AMERICAN EAGLE III': 2, 'ADAMS, MARTHA': 2, 'ADAMS, GEORGE': 2, 'SCANNER': 0, 'SEEKER': 0, 'JUTTA': 5, 'SZARDOS, STEFAN': 5, 'MURRAY, WILLIAM T. B': 5, 'YELLOW CLAW ROBOT': 4, 'DREADKNIGHT': 2, 'STONE, MEG': 13, \"W'KANDRO\": 13, 'BURRTHROP, T. BARTON': 13, 'NAKOTA': 10, 'PILGRIM': 10, 'LANGFORD, DR. DAVID': 10, 'LILITH II': 10, 'FANG III': 10, 'AZOPARDI': 10, 'BEACH, GINGER': 0, 'CARLISLE, JENNA': 0, 'BEACH, SPIDER': 0, 'ATTRACTIVE LAD': 0, 'THERAK': 0, 'GLAMOUR GIRL': 0, 'VONYA, DR. ANATOLY': 1, 'SIBERION': 1, 'PSI-WOLF': 1, 'SCATTERSHOT': 1, 'VOLGA BELLE': 1, 'PHANTAZIA': 5, 'PORTAL': 1, 'FIELDS, TRACI': 10, 'BAZIN, ANDREW': 1, 'POWELL, JASON': 1, 'ZAFAR, OFFICER JIMMY': 1, 'BAZIN, ALLEGRA': 1, 'MARLEY, MITCH MADMAN': 1, 'POWELL, JONATHAN': 1, 'BAZIN, BRODERICK RIC': 1, 'IDNAR': 1, 'LODESTONE': 13, 'MADAME ROSE': 1, 'HARRIS, MONROE': 1, 'MCPHEE, LOUIE': 1, 'SAINT, JOHNNY': 1, 'MALONE, JULIUS': 1, 'D.K.': 3, 'ADAMS, NICOLE NIKKI': 3, 'RAMONDA': 3, 'QUEEN DIVINE JUSTICE': 3, 'KILLMONGER, ERIC': 3, 'WIBBOW': 0, 'BASALTAR': 0, 'SINTARIIS': 0, 'FAYRELYTE STRONGHEAR': 0, 'ALBERIK': 0, 'KREDDICK': 0, 'AVIOS': 0, \"P'KAR\": 0, 'DIBDEB': 0, 'BARTOS': 0, 'MANAT': 0, 'COCKROACH': 3, 'GAPON, DZHOKHAR': 3, 'PREYY': 3, 'ACHEBE, REVEREND DOC': 3, 'WHITE WOLF': 3, \"T'CHAKA\": 3, 'VINCENT, DANNY': 3, 'SAROYAN, NEAL': 0, 'SIMON, ALEX FLORES': 0, 'LOVECCHIO, ARGUS': 0, 'SCRIPPS, LAHOYA': 0, 'SLICE': 0, 'SPLICE II': 0, 'PHILIPS, PHILIP': 0, 'GAMMA-BURN': 0, 'MCCAMBRIDGE, MEGAN': 0, 'LONGARM': 0, 'DR. SPECTRUM III': 2, 'SCARLET CENTURION': 2, 'ULTIMO': 0, 'DARK ONE': 5, 'NAIP, SYNTHIA': 5, 'HAUPTMANN ENGLAND': 5, 'SHRINE': 5, 'SHANE, BRIDGIT': 5, 'KARMA 2013': 26, 'CAPTAIN BRITAIN 2013': 26, 'WISDOM, PETE 2013': 26, 'MEGGAN 2013': 26, 'WOLFSBANE 2013': 26, 'DOUGLOCK 2013': 26, 'PSYLOCKE 2013': 26, 'TANGERINE 2013': 26, 'SCRATCH': 5, 'CHEN': 13, 'POWELL': 13, 'DR. DOOM DOPPELGANGE': 13, 'SANDMAN DOPPELGANGER': 13, 'QUENTINO': 13, 'KLEINFELDT, LORNA': 13, 'CATHODE': 13, 'PETROVITCH, DMITRI': 13, 'GEATAR': 2, 'GATTLING': 13, 'KYMRI': 5, 'SPINNERET': 3, 'PORGA': 3, 'BUZZARD': 3, 'FLYING FOX': 3, 'KOMODO': 3, 'ANUBIA': 3, 'CRUSHTACEAN': 3, 'MOWAT, FARLEY': 0, 'MAGRUDER, ALLIE': 0, 'VRIES, KALI': 4, 'WARKOVSKY, SEN.': 4, 'NOVA-PRIME': 6, 'MONOCLE': 2, 'COMET': 6, 'SCORPIO': 4, 'DARK WIND': 3, 'FARGO, FLAGG': 2, 'CELESTE': 10, 'GALTUS': 10, 'ELECTRA': 10, 'RAKESH': 10, 'ECSTACY': 3, 'GREEN, ARNIE': 10, 'KHAT': 10, 'JUNIPER': 1, 'KATOS': 1, 'KESTRUS': 2, 'DANIA': 2, 'HARR, DR.': 2, 'NITAL, DR.': 2, 'CY-PHYRR 4': 2, 'TENEBRAE': 2, 'CORONER': 2, 'SAMA-D': 2, 'BRAHMANES': 2, 'SAWYER, RYAN': 3, 'CROMWELL, HAMILTON': 3, 'CARPATHIAN, ANDREW': 3, 'JESSUP, DR.': 3, 'HORTON, DOUGIE': 3, 'WOLFE, HEDY': 2, 'THINGEE': 7, 'GALE, SHERIFF': 7, 'LILLIAN, BEA': 7, 'NUTT': 7, 'FILLMORE, BETTY': 7, 'FILLMORE, GARRET': 7, 'BENNY, JAKE': 7, 'DOCTOR, DR. JOSHUA': 7, 'KING (OF THE SEWER P': 3, 'SANTOS, MARIO': 2, 'SANTOS, JOSE': 2, 'HUNGYR': 6, 'HARRIER': 6, 'COMMANDER BLAZE': 6, 'SCORCH': 6, 'PYLLAR': 1, 'MROTH': 1, 'ALISTRO': 1, 'SLAYER': 2, 'HSU, CHEN': 0, 'DEWITT, KEARSON': 0, 'ROM CLONE': 2, 'DEVASTATOR II': 2, 'ELECTRYON': 5, 'DRAGONBLOOD, ULYSSES': 5, \"RY'LOR\": 5, 'ASTARTE': 5, 'INDIGO, ODYSSEUS': 5, 'FOGELSTROM, HIRAM': 5, 'HALLOWEEN JACK': 5, 'DANVILLE, SEN. OWEN': 5, 'ARMAGEDDON MAN': 5, 'KING BEDLAM': 5, 'PARADIGM': 5, 'CALDERONE, HANNAH': 5, 'SWITCH': 5, 'GUTHRIE, LUKE': 5, 'GUTHRIE, TYLER': 5, 'HOLIDAY, JORDAN': 5, 'FOGG, ARCHIMEDES ARC': 5, 'DELPHI II': 5, 'COLLINS, BRADBURY': 5, 'SEBASTIAN, MARISSA': 5, 'DEVILLE, ARCADIA': 5, 'DONNELY, VICTORIA TO': 5, 'SANDOVAL, JULIANA': 5, 'INSHALLAH, KHALID': 0, 'YEE, WAI CHEE': 0, 'VON DOOM, CYNTHIA': 0, 'DIEGO, MANUEL': 0, 'ST. THOMAS, JULES': 0, 'TAREVA': 0, 'GLOB': 2, 'RINTRAH DOPPELGANGER': 2, 'SHAZANA': 2, 'DR. STRANGE DOPPELGA': 2, 'LEVIN, MAJOR DEBRA': 5, 'VAZHIN, ALEXEI MIKHA': 5, 'OSHTUR': 10, 'HOGGOTH': 10, 'BOUNCER': 5, 'BLISS': 5, 'CYLLA II': 5, 'VALTORR': 10, 'MUNIPOOR': 10, 'RAGGADORR': 10, 'CYTTORAK': 10, 'IKONN': 10, 'DENAK': 10, 'WATOOMB': 10, 'GRIEFSAVOR': 10, 'YGMLOSVORRAICH': 10, 'MOTHER-OF-PAIN': 10, 'PAPA GRANITE': 3, 'FACADE': 3, 'CHASE, DETECTIVE SLO': 3, 'BRYCE, ARCHER': 3, 'POWELL, AMY': 3, 'COOPER, COLE': 3, 'BAKER': 5, 'TRAVELER': 5, 'ABEL': 5, 'CHARLIE': 5, 'TSUNG, MARCUS': 5, 'WISDOM, ROMANY': 5, 'HAMILTON, PAUL': 3, 'FORD': 5, 'ROMAN, DR. NILES': 5, 'VOGEL': 5, 'SEBASTIAN, MRS.': 5, 'QUEEN OF STAR SWORDS': 5, 'SLOAN, JASON': 3, \"WHEELER, M'KONI MARY\": 3, 'OMORO': 3, 'AKAFE': 3, 'WHEELER': 3, \"N'GAMO\": 3, 'HENCKEL, MARIA': 3, 'ZET': 5, 'TYRUS KRILL': 5, 'JEXIA': 5, 'ULARA': 5, 'BENGAL': 6, 'SMERDILOVISC, VICTOR': 3, 'ZINGH': 3, 'LU, MR.': 3, 'TRASK, DR. BOLIVAR': 5, 'FURMINTZ, HARMON': 6, 'SYPHONN': 2, 'WITCHFIRE': 2, 'DEAN, SUSAN': 2, 'DEAN, DARBY': 2, 'NEMESIS': 2, 'HAGGERT, BOB': 13, 'MARAUDER II': 2, 'FALK, DR. JENNIE': 2, 'TAIFU': 0, 'JAWBREAKER': 0, 'KUROKO': 0, 'ASTRONOMER': 2, 'TRADER': 2, 'GOTH': 5, 'KILLIAN': 5, 'BROADSIDE': 5, 'THUNDERBIRD III': 5, 'BELDAME': 5, 'HELIX II': 26, 'RINGLET': 26, 'TORQUE II': 5, 'GYRE': 26, 'COIL': 26, 'RAX': 5, 'ELYSIA': 5, 'ANTEUS': 5, 'DOMINA': 5, 'SOLE, RANSOME': 5, 'DELGADO, RUFUS': 5, 'BIG CASINO': 5, 'JUNCTION': 5, 'SETH III': 5, 'HUNTER': 5, 'KILMER': 5, 'SALVO': 5, 'TARTARUS': 5, 'WANDERER': 5, 'SANGUINE': 5, 'TOL-NOK': 2, 'MASTON-DAR': 2, 'THERNON': 2, 'KRUSH': 2, 'TARNOK-KOL': 2, 'KITANG': 2, 'LOCKHART': 3, 'GRANDE DAME': 5, 'DEVOOR, ALBERT': 2, 'SABU': 5, 'TWEEDLEDOPE': 5, 'KIRKEGAARD': 5, 'HAUS': 5, 'FEUER': 5, 'RINGO KID': 2, 'MILLER, JENETTE': 13, 'DEATHRAVEN': 13, 'LANGTREE, GINA': 2, 'TORK, LT.': 3, 'SNIDER, DET. LOU': 3, 'SAVAGE STEEL II': 1, 'MANDARIN, JAMES': 10, 'DESOLATION': 5, 'LAMENT': 5, 'REQUIEM': 5, 'DIRGE': 5, 'REVENANT': 5, 'VOGE, TULLAMORE': 5, 'SKETCH': 5, 'KURASOV, SIMYON BORI': 5, 'FARAHD': 5, 'CUDGEL': 5, 'MANACLE': 5, 'GALADRIEL': 5, 'STAR HAMMER': 5, 'GOROTH': 5, 'WEBWING': 5, 'KONIEV, IRINI': 5, 'KONIEV, MRS.': 5, 'BLOODY BESS': 5, 'KONIEV, DMITRI': 5, 'JARA': 13, \"STECK'EE\": 13, 'LEEBRE, VEEDA': 13, \"GRASSWIND, Z'OOFREY\": 13, 'ARKANIAN, GLIB': 13, 'GODSTALKER': 13, \"SHYM'R\": 13, 'ZEY-ROGG': 13, 'BAV-TEK': 13, 'HAV-ROGG': 13, 'JELLA, PRIVATE': 13, 'PHILLIPS, SIR GORDON': 5, 'MACTAGGART, JOE': 5, 'VAVELLA': 13, \"LYTH'KA, COMMANDER\": 13, \"MYLZOB'RYN, CHIEF\": 13, 'PRIMO, ALEXIS': 3, 'PIRANHA II': 3, 'ADAM X': 5, 'KLAER': 0, 'HAV-AK': 0, 'HELKOOKY': 0, 'SMASHER': 3, 'LUNATIK': 2, 'MARISTA': 2, 'RYNDA': 2, 'AGON': 2, 'SPIRAL II': 1, 'RAZORFIST IV': 1, 'CARLTON, JAKE': 3, 'COFFY, DET.': 3, 'CARLTON, LUCY': 3, 'WILLIAMS, NILES': 3, 'ADAMS, CONGRESSMAN H': 3, 'HALL, MORGAN': 3, 'MINISTER BLOOD': 4, 'REXEL TOIVEN': 2, 'SMASHER II': 3, 'SHUMA-GORATH': 10, 'HARGEN': 1, 'ESON [CELESTIAL]': 1, 'DRUIG': 1, 'ZARIN': 1, 'HULK ROBOT': 3, 'DROMEDAN': 1, 'SIGMAR': 1, 'GAARK': 1, 'EKAK': 1, 'TAROOK': 1, 'NASH, SABRINA': 1, 'NASH, JOHN JOHNNY TH': 1, 'PROWLER III': 3, 'ANNALEE': 5, 'ROTH, DR. GERALD': 3, 'CHTYLOK': 3, 'TOWNSEND, CHRIS': 3, 'MENTUS': 6, 'STONECUTTER': 1, 'EMBER': 0, 'NUGENT, ALICE': 0, 'BLACK BRIGADE': 0, 'TREMONT, JONATHAN': 0, 'LORD TEMPLAR': 0, 'PELIALI': 0, 'REVER, BRAD': 4, 'WEASON, SENATOR': 4, 'DUNER, MAJOR': 4, 'HAGER, GENERAL': 4, 'REVER, DAN': 4, 'WARGOD': 4, 'RYANS, JIM': 2, 'SURGEON GENERAL': 3, 'BUCKY VI': 3, 'WORD II': 3, 'IZANAMI II': 3, 'VON STRUCKER, WERNER': 3, 'GEDDINGS, JUDITH GHO': 3, 'PAVANE': 3, 'HARDCORE': 3, 'ANDREWS, DARYL TROOP': 3, 'MEDINA, ANALISA MARI': 3, 'LUCAS, JAMES JR.': 3, 'RAZORFIST ROBOT': 3, 'SHOCKWAVE ROBOT': 3, 'GRIMM, PETUNIA PENNY': 2, 'BOULDER': 6, 'HAMMERHAND': 6, 'WATER WITCH': 6, 'DIGGER II': 6, 'BENJAMIN, BYRON': 6, 'RAINBOW': 6, 'JAVELIN': 6, 'HATCHET-9': 5, 'NETTLES': 5, 'CHAMBLISS': 5, 'MUNSON': 5, 'SMITH, HELEN BACK': 5, 'SMITH, ANDY': 5, 'REBO': 5, 'WEALS, MELVIN J.': 5, 'SHAARA, MR.': 5, 'SHAPANDER, KARIMA': 5, 'SHAARA, MRS.': 5, 'SHAARA, SANJIT': 5, 'BLACK DEATH': 5, 'PET': 5, 'MOJO II': 5, 'KRAGAR': 5, 'BRAHAMS': 5, 'DRISCOLL, MAYOR': 5, 'NIRA': 5, 'FLEET, JONAS': 10, 'WENDIGO IV': 10, 'FLEET, TAMARA': 10, 'JESTER III': 3, 'VOLKHVY': 0, 'SUPREME COMMANDER': 0, 'RENKO, DR. IRENO': 0, 'DREAMGUARD': 0, 'MUNDY, SHANE': 0, 'ORPHAN': 0, 'BROKER': 0, 'SKEWER': 0, 'SKULLBUSTER': 5, 'SUPER-ANDROID F-4': 2, 'WILSON, LOUIS': 3, 'RICOCHET RITA': 5, 'NORTH, RICKY': 3, 'RIESER, ROB': 10, 'YAYAUHCO': 10, 'LORD LEADER': 10, 'ZOM': 10, 'TAYLOR, JENNA': 3, 'WATSON, MADELINE': 3, 'BROWN, FRANK': 3, 'BYRNES, TIM': 3, 'HUNTSMAN': 1, 'KILLDRAGON, HARMONY': 3, 'RED RAVEN II': 2, 'SQUIRREL GIRL': 0, 'ROCKET RACER II': 3, 'KEEVER': 3, 'MASTERBLASTER': 3, 'POWERHOUSE II': 3, 'BROOKS, ANNA': 3, 'GOONER, MELVIN': 3, 'THORPE, LUKE': 3, 'STYX II': 2, 'RANDOM': 2, 'UNCEGILA': 5, 'VIGIL': 2, 'VITCHEN': 1, 'NUGENT': 1, 'BRUTUS KLOR': 10, 'SKARABROUS': 10, 'MOLGOTHA': 10, 'SIFFROR': 10, 'MALEVOLENCE': 10, 'PHEMOUS': 10, 'THOG': 10, 'VILIVEN': 10, 'HEDRON': 10, 'GLEEG': 1, 'ALCHEMY': 5, 'JESTER II': 5, 'EXECUTIONER IV': 5, 'KNAVE': 5, 'RED QUEEN': 5, 'NECROM': 5, 'ANTI-PHOENIX': 5, 'KLEIN, SHIRLEY': 4, 'KLEIN, STANLEY': 4, 'KEMEL, MEHMET': 4, 'BRANSON': 4, 'GROVES, GEN. MCALLIS': 4, 'ALANYA': 4, 'BUSIEK, KURT': 4, 'DAVID, PETER': 4, 'WITHERS': 2, 'ENGLEHART, STEVE': 1, 'HYENA': 4, 'SHARK': 4, 'DELAZNY, CHARLES L.': 10, 'MALICE II': 10, 'CODY': 5, 'LUDI': 10, 'NINGAL': 10, 'EISMAN, BETTY': 3, 'RUIZ, DR. BERNARDO': 3, 'VIBRANIA': 6, 'KALMARI': 2, 'CRIMSON DYNAMO': 0, 'CRIMSON DYNAMO II': 0, 'MIDGET': 0, 'TENPIN': 4, 'RINGLEADER': 4, 'KNICK KNACK': 4, 'BLUE STREAK': 4, 'EL JAGUAR': 4, 'GRAPPLER': 4, 'HELLRAZOR': 4, 'STEEPLEJACK II': 4, 'CYCLONE': 4, 'RADD, FENNAN': 2, 'AIR WALKER': 2, 'BLACK RAZER': 5, 'PANTHER CUB': 8, 'MANT': 8, 'SWORDSMAN IV': 8, 'DARLEGUNG, GEN.': 8, 'AMAZO-MAXI-WOMAN': 8, 'MISS THING': 8, 'STERLING': 8, 'SERESTUS': 2, 'JEMIAH': 1, 'NAGA': 2, 'ANDERSSEN, TANYA': 5, 'TIMBERIUS II': 5, 'DEFENSOR': 2, 'COLLECTIVE MAN': 2, 'TALISMAN': 2, 'WENDIGO': 2, 'BI-BEAST': 2, 'BERSERKER': 2, 'IMMORTUS, MARCUS': 5, 'PATCHWORK': 2, 'GEIGER': 2, 'SHARP, TRINA': 2, 'PINKERTON, RUDY': 2, 'CYNAS': 2, 'SAPPHIRAS': 2, 'FURGAR': 2, 'TARGON': 2, 'PORCAL': 2, 'FORTHWARD, KENT': 0, 'FLORES, JAMIE': 2, 'WONDER MAN DOPPELGAN': 2, 'PHIM, FATHER': 0, 'ANGKOR': 0, 'ROCKWALL': 3, 'THOMAS, DR. JOHN': 5, 'MASTER MOLD': 5, 'MARKO, KURT': 5, 'NEEDLE': 0, 'WORD': 4, 'ULTIMA': 4, 'TOLLIVER, SHERIFF JO': 2, 'SOUSA, PAUL': 3, 'APPLEBAUM, PHANTASY': 3, 'MASTERMIND III': 5, 'COLLINS, EMMA': 5, 'RADCLIFFE, TODD': 5, 'CAMPBELL, VALERIE': 5, 'BRADDOCK, ELIZABETH': 5, 'BRADDOCK, JAMES': 5, 'BARRINGTON': 5, 'FROST, CORDELIA': 5, 'KAISHEK, HAAN': 5, 'KAISHEK, KIA': 5, 'TUPA': 5, 'MEGA MAX': 5, 'CROWE, GERONIMO': 5, 'MINI MAX': 5, 'CARGO': 5, 'HARDWIRE': 5, 'PIGSKIN': 5, 'VANCE REBUS': 5, 'RECKLESS ERIC': 5, 'SEETAH': 2, 'DEMOLITION MAN DOPPE': 4, 'BENWAY, DR.': 4, 'MALTZ': 10, 'ARMAND': 10, 'SEWARD, ANNE': 10, 'SEWARD, DR. CHARLES': 10, 'SEWARD, ELISABETH': 10, 'SEWARD, JANE': 10, 'FLORESCU, ANTON': 10, 'PENNINGTON, AUDRA': 10, 'MARVEL WOMAN | MUTAN': 14, 'DR. STRANGE | MUTANT': 14, 'VENDETTA | MUTANT X-': 14, 'FURY, NICK | MUTANT ': 14, 'STINGRAY | MUTANT X-': 14, 'YELLOWJACKET II | MU': 14, 'DOC SAMSON | MUTANT ': 14, 'RICHARDS, REED | MUT': 14, 'FIRESTAR | MUTANT X-': 14, 'STORM, JOHNNY | MUTA': 14, 'LACE': 3, 'LEATHER': 3, 'MIFUNE, DR.': 4, 'RASPUTIN': 3, 'MARTINEZ, MR.': 3, 'MARTINEZ, AKASHA': 3, 'PEEL, EMMA': 2, 'POPEYE': 2, 'STEED, JOHN': 2, 'CRIMSON DYNAMO IV': 1, 'DIONYSUS [GREEK GOD]': 1, 'MASTER OM': 3, 'SENREICH, GUNTHER': 3, 'CORONA': 3, 'FENTON, BARNEY': 3, 'FORRESTER, DR. CEDRI': 3, 'SPERZEL, ANTON': 3, 'WEISMAN, DR.': 5, 'GAMESMASTER': 5, 'MONSTER FROM THE LOS': 6, 'JENSKOT': 5, 'GANGER, CARMEN': 2, 'DIGGER': 0, 'LEVIATHAN II': 4, 'RODOR': 2, 'TINAC': 2, 'BOUNTY': 5, 'TRYKUR': 12, 'GRESIG': 12, 'RU': 12, 'BORROB': 12, 'REISS, JACOB': 2, 'MARLOPOLIS, EDGAR': 6, 'FALLON, HOWARD': 5, 'PENNYWORTH, J.C.': 6, 'VIRAKO': 1, 'CHI DEMON': 1, 'TOMORROW HAWK': 1, 'DEVEREAUX, IRIS': 1, 'SPARX': 1, 'PSYCHE II': 1, 'TRAPPER': 0, 'PULSAR': 0, 'UNSEEN': 0, 'BREAKER': 0, 'GRIMM, BEN | EARTH-A': 2, 'GRIMM, SUE STORM EAR': 2, 'RICHARDS, REED | EAR': 2, 'SKY-WALKER': 3, 'COPPERHEAD': 3, 'TORPEDO II': 3, 'JACKHAMMER': 4, 'COGGER': 3, 'KRUEL': 3, 'STITHY, THEODORE': 3, 'GARRETT, JOHN': 3, 'HELLSPAWN': 3, 'ELAMRON': 2, 'LUMPKIN, WILLIE | TI': 4, 'MCCALL, MEREDITH | T': 4, 'MURDOCK, MATT | TIME': 4, 'GRIMM, BEN | TIMESLI': 4, 'DR. DOOM | TIMESLIDE': 4, 'STORM, SUE | TIMESLI': 4, 'STARK, HOWARD | TIME': 4, 'STARK, MARIA | TIMES': 4, 'JARVIS, EDWIN | TIME': 4, 'PARKER, MAY | TIMESL': 4, 'PARKER, PETER | TIME': 4, 'FORD, GERALD': 2, 'KAA': 2, 'DEVASTATOR': 2, 'FUSION': 3, 'BARKER': 3, 'MCCULLOUGH, DR. ANDR': 3, 'EARLE, CARYN': 3, 'WILLIFORD, BRENT': 3, 'FREDD': 15, 'WALKER': 2, 'OLAFSON, ERIC': 2, 'PICARO': 3, 'NOVA III': 2, 'BLAKE, KENT': 3, 'BALOR': 2, 'ELATHAN': 2, 'CETHLANN': 2, 'INDECH': 2, 'TETHRA': 2, 'DULB': 2, 'INTELLIGENTSIA': 2, 'YORK, SANDY': 5, 'HURRICANE II': 5, 'BAPTISTE, TANTE MATT': 9, 'STOKER, OLIVIER': 9, 'ANIELLE': 9, 'SYBIL': 9, 'SISTER KATRINA': 9, 'MARAUDER': 3, 'HILL, GEORGE': 2, 'WILFORD, ETHAN': 0, 'MAGNOR': 0, 'GRANITOR': 0, 'SIMON, FELIX': 0, 'KOSHIMA': 2, 'GAARD': 2, 'MARIN, DR.': 1, 'RATLIFF, OFFICER LAR': 1, 'DAY': 3, 'GARM': 1, 'SPHINX II': 6, 'ASYLUM': 6, 'JANES, FATHER MICHAE': 6, 'SHAUNEGHANN, MICHAEL': 6, 'YAMIR, SASHA': 6, 'BARRENOS, OMAR': 6, 'BEEF': 6, 'BEVATRON': 6, 'HO, LI MUAN': 6, 'COLLECTIVE MAN II': 5, 'NUWA': 5, 'JARDINE': 5, 'SCICLUNA, MICHELE': 5, 'THREADGOLD': 5, 'MASTERMIND II': 4, 'RAMROD': 4, 'ACBA': 2, 'EGMA': 2, 'EDDA': 2, 'MARVEL BOY VI': 2, 'STYGIAN STARBENDER': 2, 'TRANTRA': 2, 'REE': 2, 'SARDAN': 2, 'FAITH': 2, 'THERMO II': 2, 'ANOMALY': 2, 'KID REAPER': 2, 'MARTINEZ, ALITHA': 3, 'LAMY, KELLY': 3, 'PALMIOTTI, JIMMY': 3, 'DAKESIAN, NANCI': 3, 'QUESADA, JOE': 3, 'SMITH, KEVIN': 3, 'EVERETT, BILL': 3, 'MCKENZIE, LYDIA': 3, 'QUINN, ASHLEY': 3, 'MILLER, FRANK': 3, 'GABRIEL III': 3, 'BAAL II': 3, 'FRANKLIN, JEREMY': 3, 'STAHL, VERONICA': 3, 'HECK, DON': 2, 'ROMITA, JOHN': 2, 'TRIMPE, HERB': 2, 'SEVERIN, MARIE': 2, 'MURPHY, JOBOA': 6, 'MOBIUS': 2, 'DOCTOR MANDIBUS': 2, 'THORPE, GAVIN': 3, 'CRIME-MASTER': 3, 'DOMANI, DINO': 2, 'ROMANO, TONY': 2, 'PIKE, FRISCO': 4, 'OLD WOMAN': 0, 'WARFIST': 0, 'MILLER, TRACE': 0, 'MENDELSON, DR. MACK': 0, 'COLD WARRIOR': 0, 'DEATHTOLL': 0, 'LEVITICUS': 0, 'KARSANO': 3, 'ISIS': 1, 'PARKER, MAY III': 3, 'HATCHWAY, VERNON': 13, 'RIORDAN, JIMMY': 13, \"AJES'HA\": 13, 'CURSED LOTUS': 3, 'WILD TIGER': 3, 'WOO, MAI YIN': 3, 'WOO, CHOW YUN': 3, 'BERSERKER III': 5, 'MENDICUS': 2, 'HELLFIRE': 3, 'DRAGONMEGAS, JESSIE': 3, 'RED GUARDIAN IV': 4, 'GLADIATRIX': 4, 'FANTASIA': 4, 'ULTARNT': 2, 'ELEJEA': 2, 'BLACK WIDOW II': 2, 'LENO, JAY': 2, 'SPRINGER, JERRY': 2, 'VERITUS': 2, 'ASTROLOGER': 13, 'TENKO, CARTER': 4, 'HEDERMAN, LOTTIE': 4, 'MODT': 5, 'WYNTER': 5, 'OPSIDIAN': 5, 'IRON MAIDEN II': 5, 'INTEGER': 5, 'BETTY-6': 20, 'QUARRY': 20, 'WATTS': 20, 'PO': 20, 'SHULK': 20, 'CYBERSLIK': 20, 'SLEEK': 20, 'MOK': 20, 'MO': 20, 'LIBRITO': 20, 'JOUST': 20, 'FLO': 20, 'KASPIN': 20, 'CHAR': 20, 'PREECHA': 20, 'CHIRA': 20, 'AGARN, CAPT.': 20, 'RAI': 20, 'UNIT': 20, 'CHURCHILL, LORD': 5, 'BURST': 5, 'STEED, MR.': 5, 'CRANUS': 5, 'GULLO': 5, 'TERRAX': 2, 'FOOLKILLER': 5, 'INSOMNIA': 3, 'BRINKE, NIOMI': 3, 'GRIPPO, BILLY': 3, 'GRAZIA, VINCENT VINN': 3, 'GATZ, WILLIAM BILLY': 3, 'PRODIGAL': 5, 'PIROUETTE': 5, 'TENELLE': 3, 'NACHT, HERR': 4, 'MARVEL BOY VIII': 0, 'MERREE': 0, 'DR. MIDAS': 0, 'PLEX INTELLIGENCE': 0, 'CAPTAIN GLORY': 0, 'PIPER': 5, 'OUBLIETTE': 0, 'SYLPH': 5, 'SCHOENFELD, ELAINE': 2, 'RIVERS, JERRY': 2, 'HEADMISTRESS': 2, 'DEAD HEAD': 2, 'THUNDERHEAD': 2, 'FURY, DAWN': 4, 'MACKENZIE, DR. NEIL': 5, 'REAVER': 5, 'EXILE': 2, 'REAGAN, NANCY': 2, 'BEAUTIFUL DREAMER II': 5, 'HEADCASE': 5, 'TOTEM': 5, 'GRACE': 5, 'GLUB': 5, 'DARCO': 5, 'DEATHLOK IV': 5, 'SOLE, MAJOR REMINGTO': 5, 'SENSO': 2, 'NUMBER ONE FAN': 5, 'SHREW': 5, 'FLAMBE': 5, 'VAGUE': 5, 'BRIQUETTE': 5, 'TREMELO': 5, 'KINCAID, MOSES': 2, 'QUINN, MIRANDA': 2, 'QUINN, MR.': 2, 'LONGBOW, DESIREE': 2, 'FEIFFER, DEPUTY BEAU': 2, 'HOWLER II': 2, 'CONTRARES, ANASTASIA': 2, 'DEL HIERRO, BLANCA': 2, 'HUNT, ROBERTA': 2, 'DIZZIE': 2, 'ZELIG, LON': 2, \"O'MEARA, KATHLEEN\": 2, 'OBLITERATOR II': 2, 'YSSA': 2, 'OX II': 3, 'HARRIS, BERNARD': 3, 'BOX II': 2, 'REAPER': 4, 'VENOMM': 3, 'BARON MACABRE': 3, 'LORD KARNAJ': 3, 'MALICE': 3, 'KING CADAVER': 3, 'HAMES': 15, 'SOMBRE': 3, 'VIRGO II': 15, 'SAGITTARIUS II': 15, 'CANCER II': 15, 'LIBRA IV': 15, 'CAPRICORN II': 15, 'ARIES III': 15, 'TAURUS II': 15, 'HADDOCK, DR. MYRA': 15, 'PISCES II': 15, 'AQUARIUS III': 15, 'SASQUATCH II': 15, 'LEO II': 15, 'SISTER CHLOE': 15, 'SCORPIO IV': 15, 'KILGREW, GERARD': 15, 'KILGREW, BASIL BETA ': 15, 'DEXAM': 15, 'BARON ZEBEK': 15, 'BRASS BISHOP': 15, 'DARGIL': 15, 'X THE UNKNOWABLE': 15, 'BERENGHETTI, SUSAN': 2, 'FROST': 2, 'STRIKER, SAM': 2, 'REYES, DR. DANIEL': 2, 'ANDWELLA': 2, 'HEAT-RAY': 2, 'PUMPKIN': 6, 'DEATHLOK II': 10, 'HECATE': 0, 'DANVERS, JOE': 0, 'PROCTOR, COORDINATOR': 15, 'POWER, LEFTENANT': 15, 'SU, DR. KO BIN': 15, 'BROTHER VIRGIL': 5, 'CAESAR': 5, 'NIGHT PHANTOM': 0, 'BOLT': 3, 'LEVINE, ABBY': 3, 'PARKER, MAY II': 3, 'FIELDS, PROF. WILLIA': 3, 'FIELDS, MARJORIE': 3, 'FIELDS, TODD': 3, 'LANNING, DR.': 3, 'CROWN': 3, 'PETERS, SHANA TOC': 3, 'OCULUS, LT.': 15, 'FLINCH': 15, 'OUIJA': 15, 'GARABALDI': 5, 'TRASK': 5, 'GUTHRIE, JOELLE': 5, 'ION': 4, 'CROWLEY, SEN.': 0, 'SYRRH': 1, 'MARVEL BOY VII': 6, 'BANK, IRVING': 6, 'HITCHUCK, KELLY': 5, 'GAULTHING, ANDERSON': 6, 'HATE-MONGER V': 6, 'ROBESON, PROFESSOR K': 2, 'MICO, RODOLFO': 2, 'DESADIA': 2, 'FOWLER, RED': 10, 'QUENTIN, RALPH': 10, 'ANSWER II': 4, 'KLEIN, CAMERON': 4, 'SCHOOLCRAFT, DR. DEN': 13, 'SUNSTROKE': 13, 'SHATTERFIST': 13, 'STOCKBRIDGE, DEANNA': 13, 'ICEMASTER': 13, 'SOFEN, MARION': 13, 'SOFEN, KARL AUGUST': 13, 'STOCKBRIDGE, CHARLES': 13, 'SUPERCHARGER': 13, 'HARRIGAN, PATRICIA P': 13, 'GILLISPIE, ANDREW AN': 13, 'ENTITY': 5, 'MICAWBER, TRISTRAM': 4, 'TRUMP': 4, 'GAMECOCK': 4, 'CHALMERS, MR.': 10, 'RIVERA, MS.': 10, 'MUNSON, CLAUDIA': 0, 'KNUTZ, CINDY': 0, 'LOPEZ, MARIA II': 0, 'GREER, DAVID': 0, 'SANDERS, MAC': 0, 'BOSCO, ELAINE': 0, 'PARADOX': 10, 'GOG II': 2, 'MAGOG': 2, 'DR. PHOBOS': 2, 'CITYDWELLER': 19, 'SISTER PERPETUA': 19, 'PROFESSOR X | EARTH ': 19, 'THOR | EARTH 253': 19, 'ZEITGEIST, NICOLA': 19, 'GRANT, GATOR': 6, 'UNA': 15, 'SHADOWCASTER': 3, 'CLUSTER': 3, 'RODRIGUEZ, DET. PHIL': 3, 'PARADY, CAPT. RONALD': 3, 'RAZORBLADE II': 10, 'SCUZZ': 10, 'LUPE': 10, 'NAUDA': 1, 'SKOLL': 1, 'RASPUTINA, ILLYANA I': 5, 'GOOM': 1, 'CHALMERS, CYNTHIA': 5, 'GRID': 1, 'VIDAR': 1, 'MINDSTORM': 3, 'RAPTOR': 3, 'TALOS': 2, 'STORM DOPPELGANGER': 2, 'DANGOR': 2, 'OCCULUS': 2, 'LANDA': 2, 'WILD BLOOD': 2, 'MERENGUES, SMOOTH MA': 2, 'LEE, LITTLE LARRY': 2, 'RUIZ, RHYTHM': 2, 'LUBOWSKI, LUGWRENCH': 2, 'BOYD, TWO-FISTED TOM': 2, 'DAWSON, DICTIONARY': 2, 'DREADFACE': 2, 'JONES, RICARDO': 2, 'CHEMISTRO III': 3, 'CHEMISTRO': 3, 'SHOTGUN II': 3, 'FONDOZZI, MICKEY': 3, 'CARBONE, JULIUS': 3, 'CARBONE, SALVATORE': 3, 'CARBONE, ROSALIE': 3, 'CANE': 3, 'ROC': 3, 'STILETTO II': 3, 'TEQUILA': 3, 'COMBAT': 3, 'GAROTTE': 3, 'SILENCE': 3, 'ZOLA, ARNIM II': 3, 'JANSON, DR. ANDREA': 3, 'TAE': 1, 'STERIXIAN, LOATIA': 1, 'PENNSU': 1, 'STERIXIAN, ALMONNAS': 1, 'KRONITT': 1, 'DESAK': 1, 'SILENT ONE': 1, 'ASKANI': 5, 'TOSHI': 5, \"KO'ICHI\": 5, 'BOAK': 5, 'TANAKA, RITA': 5, \"KATSU'TA'RO\": 5, 'TANAKA, GEORGE': 5, 'LUCAS': 2, 'KREE GIANT MAN [KREE': 2, 'REDWING II': 2, 'KREE IRON MAN [KREE]': 2, 'KREE CAPTAIN AMERICA': 2, 'KREE SCARLET WITCH [': 2, 'AYESHA': 2, 'ROSETTA STONE': 26, 'DANTES, DR. EDWINA': 26, 'LOCKDOWN': 26, 'PRINCE BAYAN': 26, 'REDJEK': 26, 'CANDLEMAS': 26, 'BOLERO': 26, 'LEVIATHAN V': 10, 'CREED': 10, 'WOLF': 10, 'SKINNER': 10, 'STYGE, REV.': 10, 'STEEL WIND': 4, 'WOODS, TIMOTHY': 10, 'WOODS, MIRANDA': 10, 'SENTRY II': 2, 'REYNOLDS, LINDY': 2, 'WATCHDOG': 2, 'VOID': 2, 'FIREFIST II': 3, 'SPITE': 10, 'VEGA-SUPERIOR': 5, 'MCKENNA-DRAKE, MARLE': 10, 'MEATMARKET': 10, 'BELIAL': 10, 'MALPRACTICE': 10, 'ROTWRAP': 10, 'INNARDS': 10, 'PYRE': 10, 'BLACK WIDOW | MUTANT': 14, 'TYPHOID MARY | MUTAN': 14, 'HAWKEYE | MUTANT X-V': 14, 'IRON GIANT MAN | MUT': 14, 'DEATHLOK | MUTANT X-': 14, 'DR. DOOM | MUTANT X-': 14, 'IKARIS | MUTANT X-VE': 14, 'MEDUSA | MUTANT X-VE': 14, 'TRITON | MUTANT X-VE': 14, 'POLARIS | MUTANT X-V': 14, 'HULK | MUTANT X-VERS': 14, 'SERSI | MUTANT X-VER': 14, 'KARNAK | MUTANT X-VE': 14, 'MAN-SPIDER | MUTANT ': 14, 'BEYONDER | MUTANT X-': 14, 'BLACK BOLT | MUTANT ': 14, 'GORGON | MUTANT X-VE': 14, 'KARKAS | MUTANT X-VE': 14, 'WHISPER II': 3, 'WARFARE': 3, 'SWIFT': 3, 'PULSE II': 3, 'PULSE': 3, 'WHISPER': 3, 'DRAGONA': 1, 'METABO': 1, 'CUTTER': 13, 'DEVINE, ANTON': 13, 'TRI-SENTINEL': 3, 'MUNOZ, CARLOS': 3, 'DONALDSON, LINDA': 5, 'CAPTAIN AMERICA V': 4, 'LANCELOT, SIR': 3, 'STEIN, EMIL': 4, 'VILLA-LOBOS, GETULIO': 5, 'HATORI, DESMOND': 5, 'SUPREMOR': 0, 'MANGLER': 4, 'DEATHSTROKE': 4, 'BATTLEAXE': 4, 'IRON MAIDEN': 4, 'ICE PRINCESS': 4, 'MYSTERIA': 4, 'WRANGLER': 4, 'MINDBLAST': 4, 'SNAPDRAGON': 4, 'KNOCKOUT': 4, 'PEARSON, AUBREY': 3, 'KELLOG, SHERIFF L.B.': 5, 'IDUNA': 4, 'SMASHER V': 3, 'JAGRFELM [ASGARDIAN]': 1, \"X'HOSS\": 1, 'MILLENNIUM MONARCH': 1, 'GIRABOOR': 1, \"KRAY, D'VON\": 5, 'RIPPER': 5, 'ZEALOT': 5, 'CACTUS': 2, 'WEYING, ANN': 3, 'MAN-OF-WAR': 2, 'DOOMSDAY MAN II': 2, 'SMALLWOOD, DAN': 2, 'PROMETHEUS [OLYMPIAN': 1, 'ARTEMIS': 1, 'HEPHAESTUS': 1, 'WATANABE, EMMALINE B': 10, 'EXETER, LT.': 6, 'FLORES, SHANICE': 6, 'FLORES, DAHLIA': 6, 'MARISSA (OF GENE-TEC': 6, 'BATAL': 6, 'UNDERTAKER': 3, 'TORPEDO': 3, 'SKIN, NYLA': 3, 'MISFIT': 0, 'FAWN, FELICIA': 0, 'KANGAROO': 3, 'KHOON': 2, 'SUNTURION II': 3, 'SHAARA': 2, 'JUDE': 2, 'JANUS II': 2, 'QUAYLE, DAN': 0, 'CYCLOPS | MUTANT X-V': 14, 'SILVER SURFER | MUTA': 14, 'NOVA II | MUTANT X-V': 14, 'BINARY | MUTANT X-VE': 14, 'DUGAN, DUM DUM | MUT': 14, 'SHADOWCAT | MUTANT X': 14, 'CEREBRO MARK XIII | ': 14, 'ROGUE | MUTANT X-VER': 14, 'CREED, GRAYDON | MUT': 14, 'NIGHTCRAWLER | MUTAN': 14, 'FORGE | MUTANT X-VER': 14, 'LOCKHEED | MUTANT X-': 14, 'COLOSSUS II | MUTANT': 14, 'GRIMM, BEN | MUTANT ': 14, 'UATU | MUTANT X-VERS': 14, 'STACY, GWEN | MUTANT': 14, 'SELENE | MUTANT X-VE': 14, 'QUICKSILVER | MUTANT': 14, 'GREEN GOBLIN | MUTAN': 14, 'SUB-MARINER | MUTANT': 14, 'MYSTIQUE | MUTANT X-': 14, 'CALLISTO | MUTANT X-': 14, 'MOLE MAN | MUTANT X-': 14, 'KIRIN': 0, 'FROSTBITE': 0, 'WALTERS, CHAP': 4, 'DEGANN, KRIS': 4, 'MINOTAUR': 2, 'AGAMEMNON': 1, 'ACHILLES': 1, 'HECTOR': 1, 'ULYSSES': 1, 'SCARLET BEETLE': 2, 'COFFIN, WARDEN JOHNS': 5, 'DELACORTE, ARTHUR': 5, 'GANCE, TABITHA TABBY': 5, 'FIXX': 5, 'DE LA COURTE': 5, 'MONDO': 5, 'RAVENWOOD': 5, 'BAXTER': 5, 'SOMERS, JOHNATHAN': 5, 'GARNOK REBBAHN': 2, 'KLEB, ROSA': 4, 'SPETSBURO, GEN. YURI': 4, 'TERREL, DEBORAH': 4, \"D'ALEXIS, AMBER\": 5, 'SOMON': 5, 'KOLOMAQ': 5, 'TUNDRA': 5, 'ARLINGTON, DR. MARCU': 5, 'SEVILLE, STACY': 5, 'BARKER, MATTHEW T.': 5, 'JACKKNIFE': 5, 'BAILEY, JOEY': 5, 'BAILEY, GAILYN': 5, 'FIELDER': 0, 'RELAY': 0, 'PSIMON': 0, 'CHECK': 0, 'SAMSON': 5, 'CYPRESS': 5, 'PHANTOM': 6, 'GUARDIAN III': 6, 'CACHE': 4, 'STARK, MARIA CARBONE': 4, 'BAIRD, DR.': 0, 'DOC': 10, 'SCARLOTTI, MICHAEL J': 0, 'SCARLOTTI, MRS.': 0, 'HULK IV': 2, 'LANDERS, DR.': 2, 'GOLDFARB, AARON': 2, 'LEESHA': 5, 'IDRIS': 19, 'HASSAN': 19, 'TECHNOCRAT': 19, 'NIGHTFIGHTER': 19, 'WHITE BIRD': 19, 'ZONA': 5, 'STRANGLEHOLD': 5, 'PYRE II': 5, 'VEEG': 5, 'ARGOS': 5, 'INFINITY': 1, 'GRIFFIN': 10, 'PARETTI, TONY': 3, 'RYDER': 4, 'MOONSTOMP': 4, 'DICE': 4, 'RIOT': 4, 'BARTON, SEN.': 4, 'CATWALK': 4, 'KUROV, WASSILY': 4, 'WILLIS': 2, 'BENAZA': 2, 'WRECKER': 2, 'ALPHA': 2, 'RAKIM, SEN. KAMAL': 3, 'TAYLOR, JACK': 3, 'JIOMO': 3, 'RAMOS, MANUEL': 3, 'RICHMOND, DELROY': 3, 'MCPHAIL, NATALIE': 3, 'LEOPOLD, ARCHER': 2, 'VAZIR, DR.': 2, 'VISALIA': 15, 'BECKLEY, BENNY': 15, 'WENDIGO VI': 2, 'WENDIGO V': 2, 'JEFFRIES, MAGGIE ': 6, 'VOLX': 6, 'MOTHER OF PEARL': 6, 'STYGLUT': 5, 'AVATAR': 5, 'BULLET BIKER': 4, 'BOBCAT': 4, 'SHADOWKNIGHT': 3, 'PRINCESS NEPTHYS': 3, 'BLOODHOUND': 2, 'MODEM': 2, 'KRAFT, DONNA': 2, 'CACHES, FABIAN': 3, 'BLACK TARANTULA': 3, 'GUTHRIE, LUCINDA': 5, 'STACY, HELEN': 3, 'AZOR': 2, 'PAINTER': 6, 'BOGATYR': 2, 'SVYATOGOR': 2, 'DR. VOLKH': 2, 'MORNING STAR': 2, 'ANTRO': 0, 'ARACHNE': 0, 'SCINTILLA': 0, 'LAMBERT, WILSON': 0, 'MANIPULATOR II': 0, 'REILLY, MAVIS': 0, 'P': 3, 'Q': 3, 'VOR': 0, 'BENNING, VERONICA': 0, 'GRANT, PHILLIP': 0, 'RAVEN': 0, 'DRACCHISS': 2, 'WALKER, JILL': 2, 'ESSEX': 5, 'PILEDRIVER': 2, 'COLOSSUS': 2, 'DR. MIME': 12, 'ZANKOR': 12, 'INES, DR. DIDIER': 2, 'SNIPER': 3, 'RED SHIFT': 2, 'HOARD, JOSH': 4, 'RIDGEWAY, DAWN': 4, 'RAKKUS': 2, 'JONES, AUGUSTINE': 2, \"K'RIN\": 2, 'GODWULF': 10, 'INNOCENT': 5, 'MERRIAN': 5, 'FOLD': 5, 'SHAW, SAMARRA': 5, 'JERICHO, JUSTINA': 5, 'KALIN KARTH KITH': 5, 'JERICHO, DUNCAN': 5, 'TRICKSTER': 5, 'TULL': 5, 'WILLIAMS JOHN': 5, 'WARHAWK III': 5, 'RANGER II': 5, 'PISTON': 5, 'LIFELINE': 5, 'TIMEBOMB': 5, 'LONGBOW': 5, 'BLINDSIDE II': 5, 'NAMELESS ONE II': 10, 'TIAMAT': 5, 'BLACK CRANE': 5, 'LIPTON, LAURA': 2, 'LIPTON, MILES': 2, 'DARROW, MARISSA II': 2, 'PAM': 5, 'THAIS': 5, 'VARGAS': 5, 'SANDOVAL, DIEGO': 5, 'CORTES, MARIA PILAR': 5, 'REYNOLDS, DR.': 3, 'HANCOCK, CALISTA': 3, 'DEPALMA, MR.': 3, 'KYSA': 5, 'LORD YARU': 5, 'ECCE [WATCHER]': 1, 'BERNHARD, CLARICE': 3, 'GILBERT, PROFESSOR G': 2, 'VESTA': 1, 'SPECTRA': 10, 'FONG, DR. CHARLES WA': 10, 'NIGHTSTICK': 10, 'WIRETAP': 10, 'CUFFS': 10, 'SHERIDAN, LEAH': 10, 'COBWEB': 10, 'KWANNON': 5, 'HAZARD': 5, 'RYKING, ALEXANDER': 5, 'PIXIE II': 10, 'BERTRAM': 10, 'MEAGHER, TYLER': 10, 'MCCORMICK, FIONA': 10, 'TREVANI, DANIKA': 10, 'DELGADO, LUZ': 10, 'LIN, MEI': 10, 'DEWOLFF, MEREDITH': 3, 'FIREFLY II': 2, \"B'KOSA, GEN. JONATHA\": 3, 'ARSENAL II': 3, 'MONTANA II': 3, 'SIMMONS, ARCHIE': 3, 'NZAGA': 3, 'NAMELESS ONE': 3, 'SKUL': 4, 'SILICON': 4, 'KID': 4, 'NAILS II': 4, 'M-80': 4, 'BURGOS, CARL': 2, 'TOFIELD, FRANCESCA': 10, 'SCHEELE, STEPHANIE': 10, 'CAT IV': 4, 'SPARROW BEAR, MELLIS': 2, 'DAN-FARR': 0, 'DEMONSTAFF': 1, 'TYRUS': 1, 'HARDBALL': 0, 'KEMPLETON, PROFESSOR': 13, 'SKARLET': 13, 'MASTER TWELVE': 13, 'ARROW': 13, 'THOMAS, JEANIE': 5, 'WINDSTORM': 6, 'SNAKE-EYES': 6, 'VERSCHLAGEN, FRAU': 5, 'COLE, PRISCILLA': 5, 'PIERSON, FRED': 5, 'ANANASTASIA': 5, 'BLOODVESSEL, BUSTA': 5, 'RASPUTIN, LUCIFER': 5, 'MOSES': 2, 'ZARATHUSTRA': 2, 'SANDOR, PROFESSOR IS': 2, 'VIBRAVORE': 2, 'ALVAREZ, PAUL': 2, 'GRANT, SILAS II': 2, 'GO-DEVIL': 2, 'PO, KIM': 2, 'WOO, SONIA': 2, 'TECH-NOIR': 2, 'WILD CHILD DOPPELGAN': 2, 'AURORA DOPPELGANGER': 2, 'BILE': 2, 'STRONGARM': 2, 'MISS MASS': 2, 'FIREBUG': 2, 'SINEW': 2, 'TRITON DOPPELGANGER ': 2, 'ROK': 2, 'WYRE': 2, 'JACKAL II': 2, 'DIBBS, LIONEL': 2, 'BLACK TALON III': 5, 'KILLER CLOWN': 2, 'DEX': 3, 'MORLUN': 3, 'SIMS, EZEKIEL': 3, 'JACOBY, KYLE': 3, 'HARRINGTON, PRINCIPA': 3, 'CANDLER, OWEN': 2, 'PARKS, JUDITH': 2, 'PARKS, JOE': 2, 'LITTLETREE, LINDA': 10, 'DEVILLE, JENNIFER CR': 3, 'DEADMAKER': 3, 'TOLLIVER, EMMA': 2, 'SUNSET GRACE': 5, 'HARVEST II': 5, 'BLINK': 5, 'SUMMERS, DEBORAH': 5, 'SUMMERS, PHILIP': 5, 'GARGOYLE': 2, 'SCARLET SCARAB': 4, 'ASBESTOS LADY': 4, 'RAYMOND, FRED': 4, 'RAYMOND, NORA JONES': 4, 'STRUNK, BELLA': 10, 'SAINT, AMANDA': 3, 'BIGGERS, MELVIN': 13, 'ANTIQUARY': 5, 'RED RONIN': 0, 'STANFORD, DWIGHT ROL': 4, 'AGEE, DR. AUBREY': 5, 'MOON WOLF': 5, 'MURPHY, MELISSA': 5, 'MILLER, CHRIS': 5, 'AGEE, REBECCA': 5, 'MILLER, STACI MURPHY': 5, 'SOTO, BERNARD': 5, 'ERIC THE RED II': 5, 'STONE, MARGARET': 5, 'ENTITY II': 5, 'KAREL': 5, 'TU': 5, 'AYALA, NESTOR': 3, 'FAZE': 3, 'SCAR THE STALKER': 3, 'LOOP': 3, 'BLOWTORCH': 3, 'ARCHER': 5, 'GREYSTONE': 5, 'BLACK, RACHEL': 5, 'LEASH, MICAH': 5, 'STEWART, MARY': 5, 'YOUNG, AGNES': 5, 'BLACK, CAL': 5, 'YOUNG, MR.': 5, 'YOUNG, LOUISE': 5, 'DON, GAI NO': 6, 'SEERESS': 2, 'STORMER': 2, 'DETHSTRYK': 2, 'RAZORFIST': 3, 'WATERS, SETH': 5, 'BELGRADE, DR. HORATI': 5, 'GOYER, SAUL': 5, 'YOUNG, LAWRENCE': 5, 'KRYZEWSKI, LEONARD M': 6, 'ISLEY, LYNN': 6, 'MARTINEZ, CARMELLO': 6, 'EHMAN, HEIDI': 2, 'BERDITCHEV, ITZHAK': 2, 'DEVOURER': 13, 'WARR': 13, 'BROTHER AXE': 13, \"G'RATH\": 13, '24-HOUR MAN': 13, 'MOURNING PREY': 13, 'KEERG': 2, 'TILTON, ROLAND R.': 1, 'LOPEZ, JOSE': 10, 'GANNON, SGT. FRANK': 10, 'SAGE, HENRY': 10, 'LOPEZ, SALMA': 10, 'LOPEZ, ANTONIO': 10, 'LOPEZ, MARIA': 10, 'AUTHORITY': 3, 'DR. ZEUS': 3, 'MEDUSA II': 3, 'MINOTAUR III': 3, 'SPHINX III': 3, 'HARPY II': 3, 'CERBERUS II': 3, 'MAJOR LOVE': 5, 'OGADA, DR.': 5, 'BEAUMONT, SPENCER': 5, 'MINDMELD': 5, 'CLEARCUT': 5, \"O'DONNELL, EAMON\": 5, 'MUNROE, DAVID': 5, 'BLOOD-TIDE': 3, 'TANTRUM': 6, 'MADSDEN, TREVOR': 6, 'BALABAN': 5, 'INFERNO': 10, 'PARSONS, DR. DEREK': 5, 'WYNDHAM, LUCAS': 5, 'LOMENZO, NICOLE': 5, 'CARRION III': 3, 'KALI': 5, 'ST. CROIX, LOUIS': 5, 'BLOCKBUSTER II': 4, 'PRINCE, DIANA': 4, 'TREVOR, STEVE': 4, 'MR. LUCK': 3, 'POGUE, BARTON': 3, 'BARONESS ZEMO': 4, 'TOLLIVER, MELBA': 3, 'BELLADONNA': 3, 'PARRISH, MAX': 2, 'BRANDEIS, CAMMY': 2, 'ST. GERMAINE, COMTE': 2, 'KARYGMAX': 1, \"GRENDEL'S MOTHER\": 2, 'CAPTAIN RECTITUDE': 2, 'ABOMINATRIX': 2, 'THREE-FACE': 17, 'SURGE': 2, 'SISTER SOPHIA': 5, 'BROTHER CAESAR': 5, 'KEATON': 5, 'BLURRY': 5, 'GREASY': 5, 'LANIEGE, BIANCA': 5, 'BRAINY': 5, 'WINDY': 5, 'SPIKEY': 5, 'WARPY': 5, 'STINKY': 5, 'PARADOX II': 5, 'BANNERJEE, DR.': 5, 'SINGH, DR.': 5, 'SLAUGHTER II': 5, 'CAIRN, DET.': 3, 'THANADEMOS': 3, 'KERIVAK': 5, 'ARIA': 6, 'MARIK': 5, 'KHAN': 4, 'HOSEK, BULL': 5, 'VOLK': 5, 'SUKHAROV, DIMITRI': 5, 'SUKHAROV, VIKTORIA': 5, 'POWERHOUSE IV': 0, 'KOLE, MICHELLE': 11, 'HIGGINS, LINDA': 11, 'KOLE, JOHN': 11, 'HIGGINS, RICHIE': 11, 'HIGGINS, JANE': 11, 'LOWELL, DR.': 6, 'FIRESTRIKE': 6, 'SUTTON, JOHN': 6, 'ASHUR': 6, 'LOBO III': 6, 'BARRACUDA': 6, 'TRAYNOR, HARLEY': 6, 'STRONGHOLD': 6, 'ROLLINS, MRS.': 6, 'WARBOW': 6, 'RIOT II': 6, 'BLACKWING II': 6, 'BIOHAZARD II': 6, 'DECIBEL': 6, 'FAHE': 5, 'ROSELLINI, ROBERTA': 2, 'SPARK': 6, 'ENT': 3, 'PESTER': 3, 'MOTHER INFERIOR': 3, 'TWIT': 3, 'PRETTY LARRY': 3, 'SLAMBEAUX': 3, 'RIPSTER': 3, 'CLASS CLOWN': 6, 'SIMBUS': 1, 'URSON-WELLZ': 1, 'JOVAN': 1, 'IGOE, MAX': 3, 'SCARPETTI, ALPHONSE': 3, 'SILENCER': 3, 'STEEPLEJACK': 3, 'LONKARR': 1, 'TSERRON': 1, 'SEDNA': 1, 'ATLAS III': 1, 'DEADLY DORIS': 2, 'SEEKER III': 2, 'BRANNEX': 2, 'BARROWS, WALTER': 2, 'WU, SONIA': 2, 'LIN, PAULA': 0, 'SNOWBIRD | MUTANT X-': 14, 'SASQUATCH | MUTANT X': 14, 'SHAMAN | MUTANT X-VE': 14, 'PUCK | MUTANT X-VERS': 14, 'NORTHSTAR | MUTANT X': 14, 'GUARDIAN | MUTANT X-': 14, 'AURORA | MUTANT X-VE': 14, 'MOOT': 14, 'BULLSEYE | MUTANT X-': 14, 'DAREDEVIL | MUTANT X': 14, 'MAN-SPIDER CLONE | M': 14, 'SHREEVE': 3, 'MORETTI': 3, 'AINET': 5, 'KIKO': 5, 'ARMSTRONG, MYRA': 5, 'PILGRIMM': 5, 'MCKENZIE, LEONARD': 2, 'HYPNO-HUSTLER': 3, 'MILLENIUS': 6, 'STONE-FACE': 3, 'SAI': 3, 'LIONMANE': 3, 'PROSPERO, DR.': 5, 'MUSTANG': 5, 'MARTINEZ, MRS.': 3, 'HARRIGAN, CHESTER CH': 0, 'SKULLCRASHER': 0, 'BRANDEIS, LIZ PARRIS': 2, 'BRANDEIS, PROF. HENR': 2, 'ARGOSY, HERVE': 4, 'FONG, KATY': 4, 'SUPER-NOVA': 2, 'ABCISSA': 5, 'PLASMA WRAITH': 5, 'SHIVA': 5, 'KOJIRO': 5, 'REIKO': 5, 'CUEBALL': 5, 'WORM': 5, 'LANGSTROM, LIEUTENAN': 2, 'REMORA': 2, 'RAMAN': 2, 'MCKENZIE, LEON': 2, 'BLACK MORAY': 2, 'SILVER II': 13, 'PLUTONIUM': 13, 'CALIFORNIUM': 13, 'RADIUM': 13, 'GOLD': 13, 'NEPTUNIUM': 13, 'CESIUM': 13, 'URANIUM': 13, 'NAUTILUS': 3, 'SLIDE': 3, 'RAZORWIRE': 3, 'HO TI': 2, 'MINISTER TOME': 5, 'MINSTER HOARD': 5, \"HETH'SA\": 5, 'BOUDREAUX, MARIUS': 5, 'MASTIFF': 5, 'MASTIFF, MINNIE': 5, 'DUCRESTE, ABRIAN': 5, 'QUIET BILL': 5, 'MICHELLE': 0, 'CHAKA KHAN II': 3, 'FROST, DEACON': 10, 'CAULDER, SAFRON': 10, 'MOON KNIGHT | MUTANT': 14, 'DRAX | MUTANT X-VERS': 14, 'VOLSTAGG | MUTANT X-': 14, 'FIN FANG FOOM | MUTA': 14, 'NAMORITA | MUTANT X-': 14, 'HOGUN | MUTANT X-VER': 14, 'DEVIL DINOSAUR | MUT': 14, 'VALKYRIE II | MUTANT': 14, 'BROTHER VOODOO | MUT': 14, 'THOR | MUTANT X-VERS': 14, 'IRON FIST | MUTANT X': 14, 'ABSORBING MAN | MUTA': 14, 'ABOMINATION | MUTANT': 14, 'BLACK PANTHER | MUTA': 14, 'POWER MAN II | MUTAN': 14, 'DR. OCTOPUS | MUTANT': 14, 'STRONG GUY | MUTANT ': 14, 'GARGOYLE | MUTANT X-': 14, 'BETA RAY BILL | MUTA': 14, 'NOVA | MUTANT X-VERS': 14, 'FANDRAL | MUTANT X-V': 14, 'ANGEL II': 3, 'STINGER': 3, 'BLOOD SPIDER': 3, 'JAGGED BOW': 3, 'DEATHSHIELD': 3, 'FITZGERALD, KENNY': 3, 'COPPERHEAD IV': 3, 'ABBOTT, JACK': 3, 'VOID-EATER': 2, 'SHADOWOMAN': 2, 'CARMODY, MRS.': 5, 'CIRE, EYLA': 5, 'HAMID, SHEIK': 5, 'AZAZEL': 5, 'GAUNT II': 5, 'SECOND': 5, 'SHIN': 5, 'CIRE, MANUEL': 5, 'CIRE, EZRA': 5, 'GLEASON, KAREN': 5, 'CROSS, JASON': 5, 'KITAGOWA, DR. KITTY': 4, 'FRANKENSTEIN, BASIL': 4, 'DRAGONHEAD': 5, 'DAI-KUMO': 5, 'FRANKIE THE FISH': 3, 'GANNON, RICH': 3, 'CARR, DAN': 3, 'CARLY': 3, 'SCORPIA': 3, 'PROTO-GOBLIN': 3, 'BECKFORD, NOEL': 4, 'ANTORO': 4, 'MARLES, DR. THOMAS': 4, 'KELLEHER, MARY': 3, 'LOBO, LUCKY': 3, 'CARDENAS, PACO': 3, 'BEAR': 3, 'REMIPED': 5, 'BLUNT': 5, 'STUART, DR.': 5, 'EVILHAWK': 1, 'PARTRIDGE, STEVE': 3, 'GOULDING, DR.': 3, 'JARMAN, TOMMY': 2, 'SHRILL': 5, 'GRAVEMOSS': 5, 'AUTOLYCUS': 2, 'JUDGE KRAY-TOR': 2, 'ZEAKLAR': 2, 'TELLIS': 0, 'PRIMUS II': 0, 'COMMANDO': 0, 'BANSHEE 2013': 5, 'JARDINE, AMANDA': 5, 'WISDOM, HAROLD': 5, 'GANTRY': 3, 'VACUUM': 3, 'SATELLITE': 3, 'ORBIT': 3, 'BLISS, MISS': 2, 'DABOIA, RUSSELL': 2, 'GRANT, DONALD': 2, 'WOLFE, MR.': 2, 'HALE, TOM': 2, 'GRANT, MARY MEEKS': 2, 'HALE, NAN': 2, 'WALKER, MICKEY': 2, 'TETHERBLOOD': 5, 'VANDERGILL, GEORGE': 3, 'NIGHTWATCH': 3, 'MORELLE, NOLAN': 3, 'CROIX, ASHLEY': 3, 'RAPTAR': 3, 'HOLKAR, DR. SHYAM': 3, 'HAVERSHAW, JASON': 3, 'HAVERSHAW, ANDREA': 3, 'SKULL-JACKET': 3, 'MURPHY, SEAN': 3, 'CELLANOS, MARCELLA': 3, 'FROST, BYRON': 0, 'VANE, ROGER': 0, 'KAZAKI, SHINJI': 5, 'KAISHEK, YOLYN': 5, 'KAISHEK, GOM': 5, 'CURSON, LT. TARA': 3, 'FUGUE': 3, 'CARVER': 3, 'CHEN, JOANNA': 3, 'SAPIR, HERSCHEL': 3, 'WATSON, TOMMY': 3, 'DENNAGER, MICHAEL': 3, 'BRUKNER, DR. FRANK': 10, 'SIR BENEDICT': 5, 'MASTERMIND V': 5, 'COLE, LYNETTE': 4, 'CHIANG, PROF.': 3, 'WATKINS, MELODY': 5, 'WATKINS, STEVIE': 5, 'HURDLER, THOMAS': 5, 'HOO': 5, 'BERMAN, ADAM': 5, 'MAHONEY, GINNY': 5, 'FREAK QUINCY': 0, 'SAMURAI STEEL': 0, 'ARIANE': 0, 'MARVEL BOY': 13, 'CLEARWATER, JUDGE MA': 4, 'KITCHENER, CHIEF INS': 4, 'SHALAK': 4, 'PAYNE, EDWARD': 4, 'PAYNE, MICHAEL': 4, 'LEFLER, BOB': 0, 'COWAN, EARL': 0, 'BUMPKIN': 5, 'KO-GAR': 26, 'FISHER, PROF. FRANCE': 26, 'VAN NUYS, PROF. RODE': 26, 'LESTRADE, DR.': 26, 'LAO-TSE, GEN.': 26, 'RIFKIN, MARJORIE': 6, 'CADAVER': 6, 'CORDOVA, JUAN': 6, 'QUORUM': 3, 'MOSH': 3, 'GOLEM II': 2, 'JASMINE': 10, 'BELLE': 10, 'SUNSPYRE': 5, 'PROVENZANO, PAULIE': 5, 'WRAITH II': 5, 'MELLACE, TONY': 3, 'OLIVIER': 3, 'GADRIEL': 3, 'EZEKEEL': 3, 'AZAZEL II': 3, 'ARMAROS': 3, 'SARIEL': 3, 'STALKER': 3, 'KRYPT, DR.': 15, 'ECLIPTIC': 15, 'MOBIUS, DR.': 15, 'DIRECTOR X': 15, 'CHINOOK': 15, 'RON, DAN': 15, 'STARR, JACQUELINE': 15, 'VIENNEAU, JACQUES': 15, 'BIOHAZARD': 10, 'POWDERKEG': 10, 'ANGSTROM, EARL': 10, 'KELLY, SARA': 10, 'KIMBLE, DR.': 10, 'KELLY, KAREN': 10, 'DEATHLOK III DOPPELG': 10, 'WESTPHAL, SIMON': 5, 'UGLY JOHN': 5, 'MS. NOVA': 5, 'TRASK, DR. DONALD TR': 5, 'IREZUMI': 0, 'CYBERTOOTH': 0, 'PELE': 0, 'BIG ONE': 0, 'SHIGARU': 2, 'ANAMI, HIROSHI': 0, 'TITAN, TRISH': 0, 'HINKLEY, ADMIRAL': 0, 'AVATAR II': 2, 'CONRAD, LUTHER DUTCH': 4, 'SPELLBINDER': 5, 'FUTURIST': 2, 'SLASHER II': 2, 'RAZORBLADE': 2, 'DORREK II': 2, 'WATCHLORD': 3, 'STEEL SPIDER': 24, 'MASTER OF VENGEANCE': 24, 'SHELL': 3, 'ARMSTRONG, ?': 3, 'FLARE': 3, 'SHOT': 3, 'STAMPEDE': 3, 'BOMBADIER': 3, 'CLASH': 3, 'CORDITE': 3, 'HOTAMITANIO': 4, 'CALUMET': 4, 'NANABOZHO': 4, 'OWAYODATA': 4, 'VULTURE III': 3, 'SCOPE': 3, 'BLACKBIRD': 4, 'POMEROY, SYLVIA': 1, 'VISARA': 1, 'HAAG': 1, 'LORD OF LIGHT': 3, 'VERMIN II': 3, 'SPENCER, TRACY': 0, 'PAGAN': 0, 'DOMINEX': 13, 'GATES, JUNIOR': 6, 'STORM, CHILI': 2, 'KHATYLIS': 2, 'ZAKKA': 1, 'PONG, WU': 0, 'WANG, LI': 0, 'SHADOW KING | MUTANT': 14, 'MACTAGGART, MOIRA | ': 14, 'JUGGERNAUT | MUTANT ': 14, 'PANDEMONIA': 5, 'PELE II': 5, 'STYRAK': 5, 'BORAKU': 5, 'KROTOK': 5, 'WEAVER, ZEKE': 5, 'CISCERNOS, SELENA': 5, 'KRUELLA': 5, 'BENCHLEY': 5, 'LEONARD, DR.': 5, 'SAUNDERS, DABNEY': 5, 'SMITH, WANDA JO BIAL': 5, 'SILVERCLOUD, SAM': 10, 'TASHA': 5, 'ROULETTE': 10, 'COACH': 5, 'ORPHAN II': 5, 'BLOKE': 5, 'SAINT ANNA': 5, 'U-GO GIRL': 5, 'PHAT': 5, 'VIVISECTOR': 5, 'ANARCHIST': 5, 'DOOP': 5, 'PLAZM': 5, 'GIN GENIE': 5, 'BATTERING RAM': 5, 'ZEITGEIST II': 5, 'LA NUIT': 5, 'SLUK': 5, 'RYCHENKO, MAJ. VALEN': 5, 'RACAL, CONSTANTIN': 5, 'PROGENITOR': 5, 'WENTWORTH, JENNIFER': 5, 'TALISMAN III': 2, 'LLAN': 2, 'DREAM QUEEN': 2, 'FIDDLER, BARNEY': 3, \"D'WON\": 3, 'KONO': 3, 'BOSHLOVOR': 0, 'TABULA RASA': 2, 'ANTI-VISION': 2, 'JOCASTA II': 2, 'QUASAR': 0, 'MANNING, ERIKA': 4, 'ALBUQUERQUE, JEREMIA': 4, 'LEGS': 3, 'JUSTIN, GLORIA': 13, 'EPURER, GISCARD': 3, 'GAMBIT DOPPELGANGER ': 4, 'MITCHELL, ROBERT': 10, 'SLAVINSKI, SALLY': 10, 'DOGGEREL': 10, 'FAWKES': 0, 'QUISLING': 0, 'MONMOUTH': 0, 'BRUTUS II': 0, 'HAMILTON, MICKY': 3, 'POWER MAN III': 3, 'PACE, MICHAEL': 3, 'CINDER': 3, 'ANIMATOR II': 3, 'ANDERS, JOSHUA RICHI': 3, 'KICKBACK': 3, 'RAZOR': 3, 'GOLDIELOCKS': 3, 'BLASTING CAP': 3, 'LEGS II': 3, 'LUCAS, JAMES': 3, 'ANGELOPOULOS, ANGEL ': 3, 'BLOTT, BRIGADIER INK': 5, \"SA'TNEEN\": 5, 'DAMBALLAH II': 2, 'STERNBERG, DR. BERTH': 4, 'JOSTEN, LINDY': 13, 'JZEMLICO, WARDEN': 13, 'SHADOW QUEEN': 10, 'SILVER FOX': 10, 'PHARAOH KHAFRE': 26, 'BURNING PUDDLE': 5, 'KANE, SUGAR': 5, 'MISTER CLEAN': 5, 'MISS SACCHARINE': 5, 'CYCLOPS II': 5, 'HARMONY': 5, 'WARP SAVANT': 5, 'SVAROG': 2, 'ITZAMNA': 2, 'TEZCATLIPOCA': 2, 'MANITOU': 2, 'NUADA': 2, 'TERRAXIA': 2, 'KEREM': 0, 'CHANDLER, PEGGY': 0, 'BLOODWRAITH': 0, 'TEN-THIRTIFOR': 0, 'BARRANCO, MARIA ESME': 0, 'SMITHSON, T.B.': 0, 'MADAME MASQUE VI': 0, 'ICHIHARA, SHIGERU': 0, 'ICE WORM': 4, 'ULTRA-MAX': 0, 'STEEL COLLAR': 4, 'KILLOBYTE': 4, 'BITMAP': 4, 'SIEGE': 4, 'SPECTRUM, SINCLAIR': 3, 'TECHNOSPIKE': 4, 'INFOMORPH': 4, 'WIREHEAD': 4, 'PEACEKEEPER': 3, 'BLACKWULF': 3, 'JILLETE, RANDI': 3, 'JENKINS, WALTER': 3, 'WAGNER, ERNIE WHACK ': 3, 'DENNEHY, ROBERT': 3}\n"
     ]
    }
   ],
   "source": [
    "# 2.louvain算法\n",
    "import community\n",
    "\n",
    "#计时计算\n",
    "start_time = time.time()\n",
    "partition = community.best_partition(G) # compute communities\n",
    "end_time = time.time()\n",
    "t2 = end_time - start_time\n",
    "\n",
    "\n",
    "print(type(partition)) #返回类型是list\n",
    "print(partition)"
   ]
  },
  {
   "cell_type": "code",
   "execution_count": 12,
   "metadata": {},
   "outputs": [
    {
     "data": {
      "image/png": "[encoded data removed]",
      "text/plain": [
       "<Figure size 800x800 with 1 Axes>"
      ]
     },
     "metadata": {},
     "output_type": "display_data"
    }
   ],
   "source": [
    "# 2.可视化\n",
    "# 设置绘图参数\n",
    "node_size = 50  # 设置节点大小\n",
    "node_color = 'red'  # 设置节点颜色\n",
    "edge_color = 'blue'  # 设置边的颜色\n",
    "width = 1.0  # 设置边的宽度\n",
    "font_size = 10  # 设置标签字体的大小\n",
    "font_color = 'black'  # 设置标签字体的颜色\n",
    "pos = nx.spring_layout(G)  # 设置节点位置布局\n",
    "plt.figure(figsize=(8, 8)) # image is 8 x 8 inches\n",
    "plt.axis('off')\n",
    "nx.draw_networkx_nodes(G, pos, alpha=0.7,node_size=node_size, cmap=plt.cm.RdYlBu, node_color=list(partition.values()))\n",
    "nx.draw_networkx_edges(G, pos, alpha=0.3,edge_color=edge_color, width=width)\n",
    "labels = nx.get_node_attributes(G, 'label')\n",
    "nx.draw_networkx_labels(G, pos, labels,font_size=font_size, font_color=font_color)\n",
    "\n",
    "plt.savefig('bcsj_louvain_visualize.png',dpi=500)\n",
    "plt.show(G)"
   ]
  },
  {
   "cell_type": "code",
   "execution_count": 13,
   "metadata": {},
   "outputs": [
    {
     "name": "stderr",
     "output_type": "stream",
     "text": [
      "C:\\Users\\sty007\\AppData\\Local\\Temp\\ipykernel_8016\\3218785698.py:3: FutureWarning: adjacency_matrix will return a scipy.sparse array instead of a matrix in Networkx 3.0.\n",
      "  A = pd.DataFrame(nx.adjacency_matrix(G).todense())\n"
     ]
    }
   ],
   "source": [
    "from sklearn.cluster import KMeans\n",
    "# 3.K_means 划分\n",
    "A = pd.DataFrame(nx.adjacency_matrix(G).todense())\n",
    "node_list = list(G.nodes)\n",
    "\n",
    "#计时计算\n",
    "start_time = time.time()\n",
    "# k均值聚类法\n",
    "kmeans = KMeans(n_clusters=4, random_state=2018)\n",
    "# 训练聚类模型\n",
    "kmeans.fit(A)\n",
    "# 聚类结果\n",
    "y = kmeans.predict(A)\n",
    "\n",
    "end_time = time.time()\n",
    "t3 = end_time - start_time\n"
   ]
  },
  {
   "cell_type": "code",
   "execution_count": null,
   "metadata": {},
   "outputs": [],
   "source": [
    "print('Q贪婪函数运行时间:',t1,'秒')\n",
    "print('Louvain运行时间:',t2,'秒')\n",
    "print('Kmeans运行时间:',t3,'秒')"
   ]
  },
  {
   "attachments": {},
   "cell_type": "markdown",
   "metadata": {},
   "source": [
    "#### 网络传播动力学"
   ]
  },
  {
   "cell_type": "code",
   "execution_count": 25,
   "metadata": {},
   "outputs": [
    {
     "name": "stdout",
     "output_type": "stream",
     "text": [
      "{'Susceptible': 0, 'Infected': 1, 'Removed': 2}\n"
     ]
    }
   ],
   "source": [
    "#选择一个模型\n",
    "import ndlib\n",
    "import ndlib.models.epidemics as ep\n",
    "model = ep.SIRModel(G)\n",
    "#模型中数值对应的个体类别\n",
    "print(model.available_statuses)\n",
    "#模型参数 （对于不同模型需要配置的参数有所区别）\n",
    "import ndlib.models.ModelConfig as mc\n",
    "cfg = mc.Configuration()\n",
    "cfg.add_model_parameter('beta', 0.001) # infection rate\n",
    "cfg.add_model_parameter('gamma', 0.01) # recovery rate\n",
    "cfg.add_model_parameter(\"percentage_infected\", 0.01) # initial percentage of infected nodes\n",
    "model.set_initial_status(cfg)"
   ]
  },
  {
   "cell_type": "code",
   "execution_count": 26,
   "metadata": {},
   "outputs": [
    {
     "data": {
      "image/png": "[encoded data removed]",
      "text/plain": [
       "<Figure size 2000x1000 with 1 Axes>"
      ]
     },
     "metadata": {},
     "output_type": "display_data"
    }
   ],
   "source": [
    "# 传播的时间（迭代次数）\n",
    "iterations = model.iteration_bunch(200, node_status=True)\n",
    "# 传播的趋势（每次迭代后的传播结果）\n",
    "trends = model.build_trends(iterations)\n",
    "%matplotlib inline\n",
    "from ndlib.viz.mpl.DiffusionTrend import DiffusionTrend\n",
    "viz = DiffusionTrend(model, trends)\n",
    "viz.plot()\n"
   ]
  },
  {
   "cell_type": "code",
   "execution_count": 28,
   "metadata": {},
   "outputs": [
    {
     "data": {
      "image/png": "[encoded data removed]",
      "text/plain": [
       "<Figure size 2000x1000 with 1 Axes>"
      ]
     },
     "metadata": {},
     "output_type": "display_data"
    }
   ],
   "source": [
    "#SI模型的传播过程及结果\n",
    "model_si = ep.SIModel(G)\n",
    "cfg_si = mc.Configuration()\n",
    "cfg_si.add_model_parameter('beta', 0.001)\n",
    "cfg_si.add_model_parameter(\"percentage_infected\", 0.01)\n",
    "model_si.set_initial_status(cfg_si)\n",
    "iterations_si = model_si.iteration_bunch(200, node_status=True)\n",
    "trends_si = model_si.build_trends(iterations_si)\n",
    "#from ndlib.utils import multi_runs\n",
    "#trends1 = multi_runs(model1, execution_number=10, iteration_number=100, nprocesses=4)\n",
    "%matplotlib inline\n",
    "from ndlib.viz.mpl.DiffusionTrend import DiffusionTrend\n",
    "viz = DiffusionTrend(model_si, trends_si)\n",
    "viz.plot()\n"
   ]
  },
  {
   "cell_type": "code",
   "execution_count": 29,
   "metadata": {},
   "outputs": [
    {
     "data": {
      "image/png": "[encoded data removed]",
      "text/plain": [
       "<Figure size 640x480 with 1 Axes>"
      ]
     },
     "metadata": {},
     "output_type": "display_data"
    }
   ],
   "source": [
    "#对比SI和SIR的传播过程和结果\n",
    "from ndlib.viz.mpl.TrendComparison import DiffusionTrendComparison\n",
    "viz = DiffusionTrendComparison([model, model_si], [trends, trends_si], statuses=['Infected'])\n",
    "viz.plot()"
   ]
  },
  {
   "cell_type": "code",
   "execution_count": 41,
   "metadata": {},
   "outputs": [
    {
     "name": "stderr",
     "output_type": "stream",
     "text": [
      "No artists with labels found to put in legend.  Note that artists whose label start with an underscore are ignored when legend() is called with no argument.\n"
     ]
    }
   ],
   "source": [
    "import ndlib.models.opinions as op\n",
    "from ndlib.viz.mpl.OpinionEvolution import OpinionEvolution\n",
    "import networkx as nx\n",
    "g = nx.barabasi_albert_graph(1000,100)\n",
    "# Algorithmic Bias model\n",
    "model = op.AlgorithmicBiasModel(g)\n",
    "# Model configuration\n",
    "config = mc.Configuration()\n",
    "config.add_model_parameter(\"epsilon\", 0.3)\n",
    "config.add_model_parameter(\"gamma\", 5)\n",
    "model.set_initial_status(config)\n",
    "# Simulation execution\n",
    "iterations = model.iteration_bunch(100)\n",
    "viz = OpinionEvolution(model, iterations)\n",
    "viz.plot()\n",
    "#viz.savefig(\"image4.jpg\",dpi=500,bbox_inches = 'tight')\n"
   ]
  },
  {
   "cell_type": "code",
   "execution_count": null,
   "metadata": {},
   "outputs": [],
   "source": [
    "input = '叶文洁'\n",
    "words = ['基地', '大兴安岭', '红岸基地', '杨卫宁', '这天']\n",
    "similarities = [0.8850860731141718, 0.8751939702972178, 0.736888878503559, 0.716228264494318, 0.7011499984886618]"
   ]
  },
  {
   "cell_type": "code",
   "execution_count": 17,
   "metadata": {},
   "outputs": [
    {
     "data": {
      "image/png": "[encoded data removed]",
      "text/plain": [
       "<Figure size 640x480 with 1 Axes>"
      ]
     },
     "metadata": {},
     "output_type": "display_data"
    }
   ],
   "source": [
    "import matplotlib.pyplot as plt\n",
    "import numpy as np\n",
    "plt.rcParams['font.sans-serif'] = ['SimHei']  # 用来正常显示中文标签\n",
    "plt.rcParams['axes.unicode_minus'] = False  #\n",
    "\n",
    "input = '丁仪'\n",
    "words = ['客厅', '两人', '地板', '点上', '抬起']\n",
    "similarities = [0.8852704127574261, 0.7676858035394106, 0.6982972487551756, 0.6255579520098448, 0.6095579107524128]\n",
    "\n",
    "# 逆序排列相似度和词语列表\n",
    "words = list(reversed(words))\n",
    "similarities = list(reversed(similarities))\n",
    "\n",
    "colors = plt.cm.Blues(np.linspace(0.5, 1, len(words)))\n",
    "\n",
    "plt.barh(range(len(words)), similarities, color=colors, alpha=0.5)  # 调整透明度为0.7\n",
    "\n",
    "plt.yticks(range(len(words)), words)\n",
    "plt.xlabel('相似度')\n",
    "\n",
    "plt.savefig('yyx_report/figures/'+input + '词袋模型.png',dpi=500)\n",
    "plt.show()\n",
    "\n"
   ]
  },
  {
   "cell_type": "code",
   "execution_count": 35,
   "metadata": {},
   "outputs": [
    {
     "data": {
      "image/png": "[encoded data removed]",
      "text/plain": [
       "<Figure size 800x600 with 4 Axes>"
      ]
     },
     "metadata": {},
     "output_type": "display_data"
    }
   ],
   "source": [
    "data = {\n",
    "    '叶文洁': {'感到': 8, '杨卫宁': 7, '沉默': 6, '听到': 6, '审问者': 6},\n",
    "    '三体': {'世界': 86, '文明': 55, '游戏': 11, '信息': 10},\n",
    "    '汪淼': {'发现': 10, '感到': 9, '听到': 9, '看着': 8, '一个': 8},\n",
    "    '丁仪': {'汪淼': 6, '挥手': 2, '台球': 2, '黑白': 2}\n",
    "}\n",
    "\n",
    "inputs = ['叶文洁', '三体', '汪淼', '丁仪']\n",
    "\n",
    "fig, axs = plt.subplots(2, 2, figsize=(8, 6))\n",
    "\n",
    "colors = ['#9FB6CD', '#E8ADAA', '#D8E9C2', '#FFC0CB']\n",
    "\n",
    "for i, input_word in enumerate(inputs):\n",
    "    sorted_data = sorted(data[input_word].items(), key=lambda x: x[1], reverse=True)\n",
    "    labels, values = zip(*sorted_data)\n",
    "\n",
    "    row = i // 2\n",
    "    col = i % 2\n",
    "\n",
    "    axs[row, col].barh(labels, values, color=colors[i])\n",
    "    axs[row, col].invert_yaxis()  # 反转y轴，使条形图按降序排列\n",
    "\n",
    "    axs[row, col].set_xlabel('频次')\n",
    "    axs[row, col].set_ylabel('相关词语')\n",
    "    axs[row, col].set_title('与{}相关的词语频次'.format(input_word))\n",
    "\n",
    "plt.tight_layout()\n",
    "plt.show()"
   ]
  },
  {
   "cell_type": "code",
   "execution_count": 34,
   "metadata": {},
   "outputs": [
    {
     "data": {
      "image/png": "[encoded data removed]",
      "text/plain": [
       "<Figure size 1000x800 with 4 Axes>"
      ]
     },
     "metadata": {},
     "output_type": "display_data"
    }
   ],
   "source": [
    "import matplotlib.pyplot as plt\n",
    "\n",
    "data = {\n",
    "    '叶文洁': [('杨卫宁', 0.2820843756198883), ('红岸基地', 0.26571476459503174), ('雷志成', 0.2555736005306244), ('孩子', 0.21396596729755402), ('父亲', 0.1972087174654007)],\n",
    "    '三体': [('世界', 0.33000248670578003), ('文明', 0.31903573870658875), ('信息', 0.2698751986026764), ('毁灭', 0.2389594465494156), ('地球', 0.2299904078245163)],\n",
    "    '汪淼': [('科学边界', 0.16933922469615936), ('地平线', 0.15894894301891327), ('坐在', 0.1500173807144165), ('申玉菲', 0.14737334847450256), ('黑色', 0.1458636373281479)],\n",
    "    '丁仪': [('长时间', 0.1980382651090622), ('魏成', 0.1895202249288559), ('学者', 0.17900684475898743), ('台球桌', 0.17873504757881165), ('正确', 0.17649900913238525)]\n",
    "}\n",
    "\n",
    "input_words = ['叶文洁', '三体', '汪淼',  '丁仪']\n",
    "\n",
    "fig, axs = plt.subplots(2, 2, figsize=(10, 8))\n",
    "\n",
    "colors = ['#9FB6CD', '#E8ADAA', '#D8E9C2', '#FFC0CB']\n",
    "\n",
    "for i, input_word in enumerate(input_words):\n",
    "    row = i // 2\n",
    "    col = i % 2\n",
    "    similar_words, similarities = zip(*data[input_word])\n",
    "    y_pos = range(len(similar_words))\n",
    "\n",
    "    axs[row, col].barh(y_pos, similarities, align='center', color=colors[i % 4])\n",
    "    axs[row, col].set_yticks(y_pos)\n",
    "    axs[row, col].set_yticklabels(similar_words)\n",
    "    axs[row, col].invert_yaxis()\n",
    "    axs[row, col].set_xlabel('相似度')\n",
    "\n",
    "    axs[row, col].set_title('与{}最相似的词'.format(input_word))\n",
    "\n",
    "plt.tight_layout()\n",
    "plt.show()\n"
   ]
  },
  {
   "cell_type": "code",
   "execution_count": 44,
   "metadata": {},
   "outputs": [
    {
     "name": "stdout",
     "output_type": "stream",
     "text": [
      "正面情感得分为： 3 负面情感得分为： 4 句子情感倾向为： 负面情感\n"
     ]
    }
   ],
   "source": [
    "file_path = 'data/三体/清华大学李军中文褒贬义词典/'\n",
    "\n",
    "def load_sentiment_dictionary(file_path):\n",
    "    sentiment_dict = set()\n",
    "    with open(file_path, 'r', encoding='utf-8') as file:\n",
    "        for line in file:\n",
    "            word = line.strip()\n",
    "            sentiment_dict.add(word)\n",
    "    return sentiment_dict\n",
    "\n",
    "degrade_dict = load_sentiment_dictionary(file_path + 'degrade.txt')\n",
    "praise_dict = load_sentiment_dictionary(file_path + 'praise.txt')\n",
    "\n",
    "import jieba\n",
    "\n",
    "sentence = \"一时间，汪淼感到自己窒息了，不由发出一声低沉的惊叫。面对被惊醒的妻子恐慌的探问，他努力使自己镇定下来，安慰妻子说没什么，又躺回床上，闭上眼睛，在幽灵倒计时的照耀下艰难地度过了剩下的夜晚。\"\n",
    "words = jieba.lcut(sentence)\n",
    "\n",
    "degrade_score = 0\n",
    "praise_score = 0\n",
    "\n",
    "for word in words:\n",
    "    if word in degrade_dict:\n",
    "        degrade_score += 1\n",
    "    if word in praise_dict:\n",
    "        praise_score += 1\n",
    "\n",
    "if degrade_score > praise_score:\n",
    "    sentiment = \"负面情感\"\n",
    "elif degrade_score < praise_score:\n",
    "    sentiment = \"正面情感\"\n",
    "else:\n",
    "    sentiment = \"中性情感\"\n",
    "\n",
    "print(\"正面情感得分为：\",praise_score,\"负面情感得分为：\",degrade_score,\"句子情感倾向为：\", sentiment)\n"
   ]
  },
  {
   "cell_type": "code",
   "execution_count": 45,
   "metadata": {},
   "outputs": [
    {
     "name": "stdout",
     "output_type": "stream",
     "text": [
      "正面情感得分为： 2 负面情感得分为： 1 句子情感倾向为： 正面情感\n"
     ]
    }
   ],
   "source": [
    "file_path = 'data/三体/清华大学李军中文褒贬义词典/'\n",
    "\n",
    "def load_sentiment_dictionary(file_path):\n",
    "    sentiment_dict = set()\n",
    "    with open(file_path, 'r', encoding='utf-8') as file:\n",
    "        for line in file:\n",
    "            word = line.strip()\n",
    "            sentiment_dict.add(word)\n",
    "    return sentiment_dict\n",
    "\n",
    "degrade_dict = load_sentiment_dictionary(file_path + 'degrade.txt')\n",
    "praise_dict = load_sentiment_dictionary(file_path + 'praise.txt')\n",
    "\n",
    "import jieba\n",
    "\n",
    "sentence = \"　　杨母一个人在家，汪淼进去时她正坐在沙发上看书，他这才发现她的眼睛既老花又近视，看书和看远处时都要换戴眼镜。杨母见到汪淼很高兴，说他的气色看上去比上次好多了。\"\n",
    "words = jieba.lcut(sentence)\n",
    "\n",
    "degrade_score = 0\n",
    "praise_score = 0\n",
    "\n",
    "for word in words:\n",
    "    if word in degrade_dict:\n",
    "        degrade_score += 1\n",
    "    if word in praise_dict:\n",
    "        praise_score += 1\n",
    "\n",
    "if degrade_score > praise_score:\n",
    "    sentiment = \"负面情感\"\n",
    "elif degrade_score < praise_score:\n",
    "    sentiment = \"正面情感\"\n",
    "else:\n",
    "    sentiment = \"中性情感\"\n",
    "\n",
    "print(\"正面情感得分为：\",praise_score,\"负面情感得分为：\",degrade_score,\"句子情感倾向为：\", sentiment)\n"
   ]
  },
  {
   "cell_type": "code",
   "execution_count": 46,
   "metadata": {},
   "outputs": [
    {
     "name": "stdout",
     "output_type": "stream",
     "text": [
      "正面情感得分为： 2 负面情感得分为： 0 句子情感倾向为： 正面情感\n"
     ]
    }
   ],
   "source": [
    "file_path = 'data/三体/清华大学李军中文褒贬义词典/'\n",
    "\n",
    "def load_sentiment_dictionary(file_path):\n",
    "    sentiment_dict = set()\n",
    "    with open(file_path, 'r', encoding='utf-8') as file:\n",
    "        for line in file:\n",
    "            word = line.strip()\n",
    "            sentiment_dict.add(word)\n",
    "    return sentiment_dict\n",
    "\n",
    "degrade_dict = load_sentiment_dictionary(file_path + 'degrade.txt')\n",
    "praise_dict = load_sentiment_dictionary(file_path + 'praise.txt')\n",
    "\n",
    "import jieba\n",
    "\n",
    "sentence = \"“不错，它就是一台无线电发射机。”雷政委满意地点点头，“你知道微波炉吗？”\"\n",
    "words = jieba.lcut(sentence)\n",
    "\n",
    "degrade_score = 0\n",
    "praise_score = 0\n",
    "\n",
    "for word in words:\n",
    "    if word in degrade_dict:\n",
    "        degrade_score += 1\n",
    "    if word in praise_dict:\n",
    "        praise_score += 1\n",
    "\n",
    "if degrade_score > praise_score:\n",
    "    sentiment = \"负面情感\"\n",
    "elif degrade_score < praise_score:\n",
    "    sentiment = \"正面情感\"\n",
    "else:\n",
    "    sentiment = \"中性情感\"\n",
    "\n",
    "print(\"正面情感得分为：\",praise_score,\"负面情感得分为：\",degrade_score,\"句子情感倾向为：\", sentiment)\n"
   ]
  },
  {
   "attachments": {},
   "cell_type": "markdown",
   "metadata": {},
   "source": [
    "#### 25英雄网络"
   ]
  },
  {
   "cell_type": "code",
   "execution_count": 9,
   "metadata": {},
   "outputs": [
    {
     "data": {
      "text/html": [
       "<div>\n",
       "<style scoped>\n",
       "    .dataframe tbody tr th:only-of-type {\n",
       "        vertical-align: middle;\n",
       "    }\n",
       "\n",
       "    .dataframe tbody tr th {\n",
       "        vertical-align: top;\n",
       "    }\n",
       "\n",
       "    .dataframe thead th {\n",
       "        text-align: right;\n",
       "    }\n",
       "</style>\n",
       "<table border=\"1\" class=\"dataframe\">\n",
       "  <thead>\n",
       "    <tr style=\"text-align: right;\">\n",
       "      <th></th>\n",
       "      <th>H1</th>\n",
       "      <th>H2</th>\n",
       "      <th>CNT</th>\n",
       "    </tr>\n",
       "  </thead>\n",
       "  <tbody>\n",
       "    <tr>\n",
       "      <th>0</th>\n",
       "      <td>SPIDER-MAN</td>\n",
       "      <td>CAPTAIN AMERICA</td>\n",
       "      <td>145</td>\n",
       "    </tr>\n",
       "    <tr>\n",
       "      <th>1</th>\n",
       "      <td>SPIDER-MAN</td>\n",
       "      <td>IRON MAN</td>\n",
       "      <td>95</td>\n",
       "    </tr>\n",
       "    <tr>\n",
       "      <th>2</th>\n",
       "      <td>SPIDER-MAN</td>\n",
       "      <td>THING</td>\n",
       "      <td>125</td>\n",
       "    </tr>\n",
       "    <tr>\n",
       "      <th>3</th>\n",
       "      <td>SPIDER-MAN</td>\n",
       "      <td>THOR</td>\n",
       "      <td>96</td>\n",
       "    </tr>\n",
       "    <tr>\n",
       "      <th>4</th>\n",
       "      <td>SPIDER-MAN</td>\n",
       "      <td>HUMAN TORCH</td>\n",
       "      <td>147</td>\n",
       "    </tr>\n",
       "  </tbody>\n",
       "</table>\n",
       "</div>"
      ],
      "text/plain": [
       "           H1               H2  CNT\n",
       "0  SPIDER-MAN  CAPTAIN AMERICA  145\n",
       "1  SPIDER-MAN         IRON MAN   95\n",
       "2  SPIDER-MAN            THING  125\n",
       "3  SPIDER-MAN             THOR   96\n",
       "4  SPIDER-MAN      HUMAN TORCH  147"
      ]
     },
     "metadata": {},
     "output_type": "display_data"
    }
   ],
   "source": [
    "topn = 25\n",
    "topn_hero = edge_df.groupby(['hero'])[['comic']].count().sort_values(by=['comic'], ascending=False).head(topn).index\n",
    "\n",
    "h1_ = []; h2_ = []; cnt_ = [];\n",
    "for comb in list(combinations(topn_hero, 2)):    \n",
    "    temp1 = set(edge_df[edge_df['hero']==comb[0]]['comic'])\n",
    "    temp2 = set(edge_df[edge_df['hero']==comb[1]]['comic'])\n",
    "    cnt = len(temp1.intersection(temp2)) # 两位英雄在其出现的漫画中的交集数量    \n",
    "    h1_.append(comb[0]); h2_.append(comb[1]); cnt_.append(cnt);\n",
    "appto_df = pd.DataFrame({'H1':h1_, 'H2':h2_, 'CNT':cnt_})\n",
    "\n",
    "display(appto_df.head())"
   ]
  },
  {
   "cell_type": "code",
   "execution_count": 20,
   "metadata": {},
   "outputs": [
    {
     "data": {
      "application/vnd.plotly.v1+json": {
       "config": {
        "plotlyServerURL": "https://plot.ly"
       },
       "data": [
        {
         "hoverinfo": "text",
         "line": {
          "color": "lightgray",
          "width": 1.0013812154696131
         },
         "mode": "lines",
         "text": [
          null
         ],
         "type": "scatter",
         "x": [
          0.17932918915110413,
          0.01695818182761856,
          null
         ],
         "y": [
          -0.49109964523498817,
          0.13224311846215706,
          null
         ]
        },
        {
         "hoverinfo": "text",
         "line": {
          "color": "lightgray",
          "width": 0.6560773480662984
         },
         "mode": "lines",
         "text": [
          null
         ],
         "type": "scatter",
         "x": [
          0.17932918915110413,
          0.2261531781758647,
          null
         ],
         "y": [
          -0.49109964523498817,
          -0.01681913206180749,
          null
         ]
        },
        {
         "hoverinfo": "text",
         "line": {
          "color": "lightgray",
          "width": 0.8632596685082873
         },
         "mode": "lines",
         "text": [
          null
         ],
         "type": "scatter",
         "x": [
          0.17932918915110413,
          -0.1622422179065234,
          null
         ],
         "y": [
          -0.49109964523498817,
          0.03157460071272584,
          null
         ]
        },
        {
         "hoverinfo": "text",
         "line": {
          "color": "lightgray",
          "width": 0.6629834254143646
         },
         "mode": "lines",
         "text": [
          null
         ],
         "type": "scatter",
         "x": [
          0.17932918915110413,
          0.43996902047820025,
          null
         ],
         "y": [
          -0.49109964523498817,
          -0.04532153885137943,
          null
         ]
        },
        {
         "hoverinfo": "text",
         "line": {
          "color": "lightgray",
          "width": 1.0151933701657458
         },
         "mode": "lines",
         "text": [
          null
         ],
         "type": "scatter",
         "x": [
          0.17932918915110413,
          -0.17642964434986438,
          null
         ],
         "y": [
          -0.49109964523498817,
          -0.1241957269776414,
          null
         ]
        },
        {
         "hoverinfo": "text",
         "line": {
          "color": "lightgray",
          "width": 0.8287292817679558
         },
         "mode": "lines",
         "text": [
          null
         ],
         "type": "scatter",
         "x": [
          0.17932918915110413,
          -0.07727870299744441,
          null
         ],
         "y": [
          -0.49109964523498817,
          -0.3027290481547731,
          null
         ]
        },
        {
         "hoverinfo": "text",
         "line": {
          "color": "lightgray",
          "width": 0.6422651933701657
         },
         "mode": "lines",
         "text": [
          null
         ],
         "type": "scatter",
         "x": [
          0.17932918915110413,
          -0.28706229895684193,
          null
         ],
         "y": [
          -0.49109964523498817,
          0.18616900705929007,
          null
         ]
        },
        {
         "hoverinfo": "text",
         "line": {
          "color": "lightgray",
          "width": 0.4350828729281768
         },
         "mode": "lines",
         "text": [
          null
         ],
         "type": "scatter",
         "x": [
          0.17932918915110413,
          -0.5719710857398749,
          null
         ],
         "y": [
          -0.49109964523498817,
          0.27239188998547575,
          null
         ]
        },
        {
         "hoverinfo": "text",
         "line": {
          "color": "lightgray",
          "width": 0.6698895027624309
         },
         "mode": "lines",
         "text": [
          null
         ],
         "type": "scatter",
         "x": [
          0.17932918915110413,
          0.0766331659334106,
          null
         ],
         "y": [
          -0.49109964523498817,
          -0.17756851021576395,
          null
         ]
        },
        {
         "hoverinfo": "text",
         "line": {
          "color": "lightgray",
          "width": 0.462707182320442
         },
         "mode": "lines",
         "text": [
          null
         ],
         "type": "scatter",
         "x": [
          0.17932918915110413,
          0.17316218865244803,
          null
         ],
         "y": [
          -0.49109964523498817,
          0.3817059318334255,
          null
         ]
        },
        {
         "hoverinfo": "text",
         "line": {
          "color": "lightgray",
          "width": 0.3591160220994475
         },
         "mode": "lines",
         "text": [
          null
         ],
         "type": "scatter",
         "x": [
          0.17932918915110413,
          -0.029940516077777042,
          null
         ],
         "y": [
          -0.49109964523498817,
          0.49753635226688014,
          null
         ]
        },
        {
         "hoverinfo": "text",
         "line": {
          "color": "lightgray",
          "width": 0.49723756906077343
         },
         "mode": "lines",
         "text": [
          null
         ],
         "type": "scatter",
         "x": [
          0.17932918915110413,
          -0.43895768675591185,
          null
         ],
         "y": [
          -0.49109964523498817,
          -0.1329394685705638,
          null
         ]
        },
        {
         "hoverinfo": "text",
         "line": {
          "color": "lightgray",
          "width": 4.240331491712707
         },
         "mode": "lines",
         "text": [
          null
         ],
         "type": "scatter",
         "x": [
          0.17932918915110413,
          0.4311401860721642,
          null
         ],
         "y": [
          -0.49109964523498817,
          -1,
          null
         ]
        },
        {
         "hoverinfo": "text",
         "line": {
          "color": "lightgray",
          "width": 0.7113259668508287
         },
         "mode": "lines",
         "text": [
          null
         ],
         "type": "scatter",
         "x": [
          0.17932918915110413,
          0.49349672288283464,
          null
         ],
         "y": [
          -0.49109964523498817,
          -0.36558265195867734,
          null
         ]
        },
        {
         "hoverinfo": "text",
         "line": {
          "color": "lightgray",
          "width": 0.39364640883977897
         },
         "mode": "lines",
         "text": [
          null
         ],
         "type": "scatter",
         "x": [
          0.17932918915110413,
          0.39579338997437163,
          null
         ],
         "y": [
          -0.49109964523498817,
          0.4214427508023459,
          null
         ]
        },
        {
         "hoverinfo": "text",
         "line": {
          "color": "lightgray",
          "width": 0.511049723756906
         },
         "mode": "lines",
         "text": [
          null
         ],
         "type": "scatter",
         "x": [
          0.17932918915110413,
          0.3145388135024674,
          null
         ],
         "y": [
          -0.49109964523498817,
          0.0713904203833753,
          null
         ]
        },
        {
         "hoverinfo": "text",
         "line": {
          "color": "lightgray",
          "width": 0.35220994475138123
         },
         "mode": "lines",
         "text": [
          null
         ],
         "type": "scatter",
         "x": [
          0.17932918915110413,
          -0.19019617605644853,
          null
         ],
         "y": [
          -0.49109964523498817,
          0.6043844035234531,
          null
         ]
        },
        {
         "hoverinfo": "text",
         "line": {
          "color": "lightgray",
          "width": 0.5386740331491713
         },
         "mode": "lines",
         "text": [
          null
         ],
         "type": "scatter",
         "x": [
          0.17932918915110413,
          0.3334765799461546,
          null
         ],
         "y": [
          -0.49109964523498817,
          0.2427323978958677,
          null
         ]
        },
        {
         "hoverinfo": "text",
         "line": {
          "color": "lightgray",
          "width": 3.5497237569060776
         },
         "mode": "lines",
         "text": [
          null
         ],
         "type": "scatter",
         "x": [
          0.17932918915110413,
          0.1020246316150319,
          null
         ],
         "y": [
          -0.49109964523498817,
          -0.7972550267051448,
          null
         ]
        },
        {
         "hoverinfo": "text",
         "line": {
          "color": "lightgray",
          "width": 0.31767955801104975
         },
         "mode": "lines",
         "text": [
          null
         ],
         "type": "scatter",
         "x": [
          0.17932918915110413,
          0.5742805920521092,
          null
         ],
         "y": [
          -0.49109964523498817,
          0.24444376619632752,
          null
         ]
        },
        {
         "hoverinfo": "text",
         "line": {
          "color": "lightgray",
          "width": 0.3314917127071823
         },
         "mode": "lines",
         "text": [
          null
         ],
         "type": "scatter",
         "x": [
          0.17932918915110413,
          -0.22783132808966663,
          null
         ],
         "y": [
          -0.49109964523498817,
          -0.5068556748631202,
          null
         ]
        },
        {
         "hoverinfo": "text",
         "line": {
          "color": "lightgray",
          "width": 0.2900552486187845
         },
         "mode": "lines",
         "text": [
          null
         ],
         "type": "scatter",
         "x": [
          0.17932918915110413,
          -0.4190562452188107,
          null
         ],
         "y": [
          -0.49109964523498817,
          0.6347740869472913,
          null
         ]
        },
        {
         "hoverinfo": "text",
         "line": {
          "color": "lightgray",
          "width": 0.2900552486187845
         },
         "mode": "lines",
         "text": [
          null
         ],
         "type": "scatter",
         "x": [
          0.17932918915110413,
          -0.5525643775236404,
          null
         ],
         "y": [
          -0.49109964523498817,
          0.47794040149923195,
          null
         ]
        },
        {
         "hoverinfo": "text",
         "line": {
          "color": "lightgray",
          "width": 0.22790055248618785
         },
         "mode": "lines",
         "text": [
          null
         ],
         "type": "scatter",
         "x": [
          0.17932918915110413,
          -0.6234255605909875,
          null
         ],
         "y": [
          -0.49109964523498817,
          -0.23836270397398895,
          null
         ]
        },
        {
         "hoverinfo": "text",
         "line": {
          "color": "lightgray",
          "width": 3.0386740331491713
         },
         "mode": "lines",
         "text": [
          null
         ],
         "type": "scatter",
         "x": [
          0.01695818182761856,
          0.2261531781758647,
          null
         ],
         "y": [
          0.13224311846215706,
          -0.01681913206180749,
          null
         ]
        },
        {
         "hoverinfo": "text",
         "line": {
          "color": "lightgray",
          "width": 1.1740331491712708
         },
         "mode": "lines",
         "text": [
          null
         ],
         "type": "scatter",
         "x": [
          0.01695818182761856,
          -0.1622422179065234,
          null
         ],
         "y": [
          0.13224311846215706,
          0.03157460071272584,
          null
         ]
        },
        {
         "hoverinfo": "text",
         "line": {
          "color": "lightgray",
          "width": 2.6243093922651934
         },
         "mode": "lines",
         "text": [
          null
         ],
         "type": "scatter",
         "x": [
          0.01695818182761856,
          0.43996902047820025,
          null
         ],
         "y": [
          0.13224311846215706,
          -0.04532153885137943,
          null
         ]
        },
        {
         "hoverinfo": "text",
         "line": {
          "color": "lightgray",
          "width": 1.1187845303867403
         },
         "mode": "lines",
         "text": [
          null
         ],
         "type": "scatter",
         "x": [
          0.01695818182761856,
          -0.17642964434986438,
          null
         ],
         "y": [
          0.13224311846215706,
          -0.1241957269776414,
          null
         ]
        },
        {
         "hoverinfo": "text",
         "line": {
          "color": "lightgray",
          "width": 1.1533149171270718
         },
         "mode": "lines",
         "text": [
          null
         ],
         "type": "scatter",
         "x": [
          0.01695818182761856,
          -0.07727870299744441,
          null
         ],
         "y": [
          0.13224311846215706,
          -0.3027290481547731,
          null
         ]
        },
        {
         "hoverinfo": "text",
         "line": {
          "color": "lightgray",
          "width": 0.7803867403314917
         },
         "mode": "lines",
         "text": [
          null
         ],
         "type": "scatter",
         "x": [
          0.01695818182761856,
          -0.28706229895684193,
          null
         ],
         "y": [
          0.13224311846215706,
          0.18616900705929007,
          null
         ]
        },
        {
         "hoverinfo": "text",
         "line": {
          "color": "lightgray",
          "width": 0.5455801104972375
         },
         "mode": "lines",
         "text": [
          null
         ],
         "type": "scatter",
         "x": [
          0.01695818182761856,
          -0.5719710857398749,
          null
         ],
         "y": [
          0.13224311846215706,
          0.27239188998547575,
          null
         ]
        },
        {
         "hoverinfo": "text",
         "line": {
          "color": "lightgray",
          "width": 1.042817679558011
         },
         "mode": "lines",
         "text": [
          null
         ],
         "type": "scatter",
         "x": [
          0.01695818182761856,
          0.0766331659334106,
          null
         ],
         "y": [
          0.13224311846215706,
          -0.17756851021576395,
          null
         ]
        },
        {
         "hoverinfo": "text",
         "line": {
          "color": "lightgray",
          "width": 2.5759668508287294
         },
         "mode": "lines",
         "text": [
          null
         ],
         "type": "scatter",
         "x": [
          0.01695818182761856,
          0.17316218865244803,
          null
         ],
         "y": [
          0.13224311846215706,
          0.3817059318334255,
          null
         ]
        },
        {
         "hoverinfo": "text",
         "line": {
          "color": "lightgray",
          "width": 1.1671270718232043
         },
         "mode": "lines",
         "text": [
          null
         ],
         "type": "scatter",
         "x": [
          0.01695818182761856,
          -0.029940516077777042,
          null
         ],
         "y": [
          0.13224311846215706,
          0.49753635226688014,
          null
         ]
        },
        {
         "hoverinfo": "text",
         "line": {
          "color": "lightgray",
          "width": 0.46961325966850825
         },
         "mode": "lines",
         "text": [
          null
         ],
         "type": "scatter",
         "x": [
          0.01695818182761856,
          -0.43895768675591185,
          null
         ],
         "y": [
          0.13224311846215706,
          -0.1329394685705638,
          null
         ]
        },
        {
         "hoverinfo": "text",
         "line": {
          "color": "lightgray",
          "width": 0.12430939226519336
         },
         "mode": "lines",
         "text": [
          null
         ],
         "type": "scatter",
         "x": [
          0.01695818182761856,
          0.4311401860721642,
          null
         ],
         "y": [
          0.13224311846215706,
          -1,
          null
         ]
        },
        {
         "hoverinfo": "text",
         "line": {
          "color": "lightgray",
          "width": 0.49723756906077343
         },
         "mode": "lines",
         "text": [
          null
         ],
         "type": "scatter",
         "x": [
          0.01695818182761856,
          0.49349672288283464,
          null
         ],
         "y": [
          0.13224311846215706,
          -0.36558265195867734,
          null
         ]
        },
        {
         "hoverinfo": "text",
         "line": {
          "color": "lightgray",
          "width": 2.203038674033149
         },
         "mode": "lines",
         "text": [
          null
         ],
         "type": "scatter",
         "x": [
          0.01695818182761856,
          0.39579338997437163,
          null
         ],
         "y": [
          0.13224311846215706,
          0.4214427508023459,
          null
         ]
        },
        {
         "hoverinfo": "text",
         "line": {
          "color": "lightgray",
          "width": 2.6588397790055245
         },
         "mode": "lines",
         "text": [
          null
         ],
         "type": "scatter",
         "x": [
          0.01695818182761856,
          0.3145388135024674,
          null
         ],
         "y": [
          0.13224311846215706,
          0.0713904203833753,
          null
         ]
        },
        {
         "hoverinfo": "text",
         "line": {
          "color": "lightgray",
          "width": 0.4558011049723757
         },
         "mode": "lines",
         "text": [
          null
         ],
         "type": "scatter",
         "x": [
          0.01695818182761856,
          -0.19019617605644853,
          null
         ],
         "y": [
          0.13224311846215706,
          0.6043844035234531,
          null
         ]
        },
        {
         "hoverinfo": "text",
         "line": {
          "color": "lightgray",
          "width": 2.596685082872928
         },
         "mode": "lines",
         "text": [
          null
         ],
         "type": "scatter",
         "x": [
          0.01695818182761856,
          0.3334765799461546,
          null
         ],
         "y": [
          0.13224311846215706,
          0.2427323978958677,
          null
         ]
        },
        {
         "hoverinfo": "text",
         "line": {
          "color": "lightgray",
          "width": 0.22790055248618785
         },
         "mode": "lines",
         "text": [
          null
         ],
         "type": "scatter",
         "x": [
          0.01695818182761856,
          0.1020246316150319,
          null
         ],
         "y": [
          0.13224311846215706,
          -0.7972550267051448,
          null
         ]
        },
        {
         "hoverinfo": "text",
         "line": {
          "color": "lightgray",
          "width": 1.9958563535911602
         },
         "mode": "lines",
         "text": [
          null
         ],
         "type": "scatter",
         "x": [
          0.01695818182761856,
          0.5742805920521092,
          null
         ],
         "y": [
          0.13224311846215706,
          0.24444376619632752,
          null
         ]
        },
        {
         "hoverinfo": "text",
         "line": {
          "color": "lightgray",
          "width": 1.0980662983425413
         },
         "mode": "lines",
         "text": [
          null
         ],
         "type": "scatter",
         "x": [
          0.01695818182761856,
          -0.22783132808966663,
          null
         ],
         "y": [
          0.13224311846215706,
          -0.5068556748631202,
          null
         ]
        },
        {
         "hoverinfo": "text",
         "line": {
          "color": "lightgray",
          "width": 0.40055248618784534
         },
         "mode": "lines",
         "text": [
          null
         ],
         "type": "scatter",
         "x": [
          0.01695818182761856,
          -0.4190562452188107,
          null
         ],
         "y": [
          0.13224311846215706,
          0.6347740869472913,
          null
         ]
        },
        {
         "hoverinfo": "text",
         "line": {
          "color": "lightgray",
          "width": 0.4212707182320442
         },
         "mode": "lines",
         "text": [
          null
         ],
         "type": "scatter",
         "x": [
          0.01695818182761856,
          -0.5525643775236404,
          null
         ],
         "y": [
          0.13224311846215706,
          0.47794040149923195,
          null
         ]
        },
        {
         "hoverinfo": "text",
         "line": {
          "color": "lightgray",
          "width": 1.0773480662983426
         },
         "mode": "lines",
         "text": [
          null
         ],
         "type": "scatter",
         "x": [
          0.01695818182761856,
          -0.6234255605909875,
          null
         ],
         "y": [
          0.13224311846215706,
          -0.23836270397398895,
          null
         ]
        },
        {
         "hoverinfo": "text",
         "line": {
          "color": "lightgray",
          "width": 0.8977900552486189
         },
         "mode": "lines",
         "text": [
          null
         ],
         "type": "scatter",
         "x": [
          0.2261531781758647,
          -0.1622422179065234,
          null
         ],
         "y": [
          -0.01681913206180749,
          0.03157460071272584,
          null
         ]
        },
        {
         "hoverinfo": "text",
         "line": {
          "color": "lightgray",
          "width": 2.341160220994475
         },
         "mode": "lines",
         "text": [
          null
         ],
         "type": "scatter",
         "x": [
          0.2261531781758647,
          0.43996902047820025,
          null
         ],
         "y": [
          -0.01681913206180749,
          -0.04532153885137943,
          null
         ]
        },
        {
         "hoverinfo": "text",
         "line": {
          "color": "lightgray",
          "width": 0.7734806629834254
         },
         "mode": "lines",
         "text": [
          null
         ],
         "type": "scatter",
         "x": [
          0.2261531781758647,
          -0.17642964434986438,
          null
         ],
         "y": [
          -0.01681913206180749,
          -0.1241957269776414,
          null
         ]
        },
        {
         "hoverinfo": "text",
         "line": {
          "color": "lightgray",
          "width": 0.8977900552486189
         },
         "mode": "lines",
         "text": [
          null
         ],
         "type": "scatter",
         "x": [
          0.2261531781758647,
          -0.07727870299744441,
          null
         ],
         "y": [
          -0.01681913206180749,
          -0.3027290481547731,
          null
         ]
        },
        {
         "hoverinfo": "text",
         "line": {
          "color": "lightgray",
          "width": 0.5939226519337016
         },
         "mode": "lines",
         "text": [
          null
         ],
         "type": "scatter",
         "x": [
          0.2261531781758647,
          -0.28706229895684193,
          null
         ],
         "y": [
          -0.01681913206180749,
          0.18616900705929007,
          null
         ]
        },
        {
         "hoverinfo": "text",
         "line": {
          "color": "lightgray",
          "width": 0.23480662983425413
         },
         "mode": "lines",
         "text": [
          null
         ],
         "type": "scatter",
         "x": [
          0.2261531781758647,
          -0.5719710857398749,
          null
         ],
         "y": [
          -0.01681913206180749,
          0.27239188998547575,
          null
         ]
        },
        {
         "hoverinfo": "text",
         "line": {
          "color": "lightgray",
          "width": 0.8011049723756907
         },
         "mode": "lines",
         "text": [
          null
         ],
         "type": "scatter",
         "x": [
          0.2261531781758647,
          0.0766331659334106,
          null
         ],
         "y": [
          -0.01681913206180749,
          -0.17756851021576395,
          null
         ]
        },
        {
         "hoverinfo": "text",
         "line": {
          "color": "lightgray",
          "width": 2.589779005524862
         },
         "mode": "lines",
         "text": [
          null
         ],
         "type": "scatter",
         "x": [
          0.2261531781758647,
          0.17316218865244803,
          null
         ],
         "y": [
          -0.01681913206180749,
          0.3817059318334255,
          null
         ]
        },
        {
         "hoverinfo": "text",
         "line": {
          "color": "lightgray",
          "width": 0.9875690607734806
         },
         "mode": "lines",
         "text": [
          null
         ],
         "type": "scatter",
         "x": [
          0.2261531781758647,
          -0.029940516077777042,
          null
         ],
         "y": [
          -0.01681913206180749,
          0.49753635226688014,
          null
         ]
        },
        {
         "hoverinfo": "text",
         "line": {
          "color": "lightgray",
          "width": 0.3660220994475138
         },
         "mode": "lines",
         "text": [
          null
         ],
         "type": "scatter",
         "x": [
          0.2261531781758647,
          -0.43895768675591185,
          null
         ],
         "y": [
          -0.01681913206180749,
          -0.1329394685705638,
          null
         ]
        },
        {
         "hoverinfo": "text",
         "line": {
          "color": "lightgray",
          "width": 0.06906077348066297
         },
         "mode": "lines",
         "text": [
          null
         ],
         "type": "scatter",
         "x": [
          0.2261531781758647,
          0.4311401860721642,
          null
         ],
         "y": [
          -0.01681913206180749,
          -1,
          null
         ]
        },
        {
         "hoverinfo": "text",
         "line": {
          "color": "lightgray",
          "width": 0.3729281767955801
         },
         "mode": "lines",
         "text": [
          null
         ],
         "type": "scatter",
         "x": [
          0.2261531781758647,
          0.49349672288283464,
          null
         ],
         "y": [
          -0.01681913206180749,
          -0.36558265195867734,
          null
         ]
        },
        {
         "hoverinfo": "text",
         "line": {
          "color": "lightgray",
          "width": 2.0303867403314917
         },
         "mode": "lines",
         "text": [
          null
         ],
         "type": "scatter",
         "x": [
          0.2261531781758647,
          0.39579338997437163,
          null
         ],
         "y": [
          -0.01681913206180749,
          0.4214427508023459,
          null
         ]
        },
        {
         "hoverinfo": "text",
         "line": {
          "color": "lightgray",
          "width": 2.31353591160221
         },
         "mode": "lines",
         "text": [
          null
         ],
         "type": "scatter",
         "x": [
          0.2261531781758647,
          0.3145388135024674,
          null
         ],
         "y": [
          -0.01681913206180749,
          0.0713904203833753,
          null
         ]
        },
        {
         "hoverinfo": "text",
         "line": {
          "color": "lightgray",
          "width": 0.19337016574585636
         },
         "mode": "lines",
         "text": [
          null
         ],
         "type": "scatter",
         "x": [
          0.2261531781758647,
          -0.19019617605644853,
          null
         ],
         "y": [
          -0.01681913206180749,
          0.6043844035234531,
          null
         ]
        },
        {
         "hoverinfo": "text",
         "line": {
          "color": "lightgray",
          "width": 2.044198895027624
         },
         "mode": "lines",
         "text": [
          null
         ],
         "type": "scatter",
         "x": [
          0.2261531781758647,
          0.3334765799461546,
          null
         ],
         "y": [
          -0.01681913206180749,
          0.2427323978958677,
          null
         ]
        },
        {
         "hoverinfo": "text",
         "line": {
          "color": "lightgray",
          "width": 0.20027624309392267
         },
         "mode": "lines",
         "text": [
          null
         ],
         "type": "scatter",
         "x": [
          0.2261531781758647,
          0.1020246316150319,
          null
         ],
         "y": [
          -0.01681913206180749,
          -0.7972550267051448,
          null
         ]
        },
        {
         "hoverinfo": "text",
         "line": {
          "color": "lightgray",
          "width": 1.9751381215469612
         },
         "mode": "lines",
         "text": [
          null
         ],
         "type": "scatter",
         "x": [
          0.2261531781758647,
          0.5742805920521092,
          null
         ],
         "y": [
          -0.01681913206180749,
          0.24444376619632752,
          null
         ]
        },
        {
         "hoverinfo": "text",
         "line": {
          "color": "lightgray",
          "width": 0.5041436464088398
         },
         "mode": "lines",
         "text": [
          null
         ],
         "type": "scatter",
         "x": [
          0.2261531781758647,
          -0.22783132808966663,
          null
         ],
         "y": [
          -0.01681913206180749,
          -0.5068556748631202,
          null
         ]
        },
        {
         "hoverinfo": "text",
         "line": {
          "color": "lightgray",
          "width": 0.15883977900552487
         },
         "mode": "lines",
         "text": [
          null
         ],
         "type": "scatter",
         "x": [
          0.2261531781758647,
          -0.4190562452188107,
          null
         ],
         "y": [
          -0.01681913206180749,
          0.6347740869472913,
          null
         ]
        },
        {
         "hoverinfo": "text",
         "line": {
          "color": "lightgray",
          "width": 0.20027624309392267
         },
         "mode": "lines",
         "text": [
          null
         ],
         "type": "scatter",
         "x": [
          0.2261531781758647,
          -0.5525643775236404,
          null
         ],
         "y": [
          -0.01681913206180749,
          0.47794040149923195,
          null
         ]
        },
        {
         "hoverinfo": "text",
         "line": {
          "color": "lightgray",
          "width": 0.6215469613259669
         },
         "mode": "lines",
         "text": [
          null
         ],
         "type": "scatter",
         "x": [
          0.2261531781758647,
          -0.6234255605909875,
          null
         ],
         "y": [
          -0.01681913206180749,
          -0.23836270397398895,
          null
         ]
        },
        {
         "hoverinfo": "text",
         "line": {
          "color": "lightgray",
          "width": 0.8701657458563536
         },
         "mode": "lines",
         "text": [
          null
         ],
         "type": "scatter",
         "x": [
          -0.1622422179065234,
          0.43996902047820025,
          null
         ],
         "y": [
          0.03157460071272584,
          -0.04532153885137943,
          null
         ]
        },
        {
         "hoverinfo": "text",
         "line": {
          "color": "lightgray",
          "width": 5
         },
         "mode": "lines",
         "text": [
          null
         ],
         "type": "scatter",
         "x": [
          -0.1622422179065234,
          -0.17642964434986438,
          null
         ],
         "y": [
          0.03157460071272584,
          -0.1241957269776414,
          null
         ]
        },
        {
         "hoverinfo": "text",
         "line": {
          "color": "lightgray",
          "width": 4.765193370165745
         },
         "mode": "lines",
         "text": [
          null
         ],
         "type": "scatter",
         "x": [
          -0.1622422179065234,
          -0.07727870299744441,
          null
         ],
         "y": [
          0.03157460071272584,
          -0.3027290481547731,
          null
         ]
        },
        {
         "hoverinfo": "text",
         "line": {
          "color": "lightgray",
          "width": 0.7044198895027625
         },
         "mode": "lines",
         "text": [
          null
         ],
         "type": "scatter",
         "x": [
          -0.1622422179065234,
          -0.28706229895684193,
          null
         ],
         "y": [
          0.03157460071272584,
          0.18616900705929007,
          null
         ]
        },
        {
         "hoverinfo": "text",
         "line": {
          "color": "lightgray",
          "width": 0.531767955801105
         },
         "mode": "lines",
         "text": [
          null
         ],
         "type": "scatter",
         "x": [
          -0.1622422179065234,
          -0.5719710857398749,
          null
         ],
         "y": [
          0.03157460071272584,
          0.27239188998547575,
          null
         ]
        },
        {
         "hoverinfo": "text",
         "line": {
          "color": "lightgray",
          "width": 4.488950276243094
         },
         "mode": "lines",
         "text": [
          null
         ],
         "type": "scatter",
         "x": [
          -0.1622422179065234,
          0.0766331659334106,
          null
         ],
         "y": [
          0.03157460071272584,
          -0.17756851021576395,
          null
         ]
        },
        {
         "hoverinfo": "text",
         "line": {
          "color": "lightgray",
          "width": 0.7044198895027625
         },
         "mode": "lines",
         "text": [
          null
         ],
         "type": "scatter",
         "x": [
          -0.1622422179065234,
          0.17316218865244803,
          null
         ],
         "y": [
          0.03157460071272584,
          0.3817059318334255,
          null
         ]
        },
        {
         "hoverinfo": "text",
         "line": {
          "color": "lightgray",
          "width": 0.4765193370165746
         },
         "mode": "lines",
         "text": [
          null
         ],
         "type": "scatter",
         "x": [
          -0.1622422179065234,
          -0.029940516077777042,
          null
         ],
         "y": [
          0.03157460071272584,
          0.49753635226688014,
          null
         ]
        },
        {
         "hoverinfo": "text",
         "line": {
          "color": "lightgray",
          "width": 0.3867403314917127
         },
         "mode": "lines",
         "text": [
          null
         ],
         "type": "scatter",
         "x": [
          -0.1622422179065234,
          -0.43895768675591185,
          null
         ],
         "y": [
          0.03157460071272584,
          -0.1329394685705638,
          null
         ]
        },
        {
         "hoverinfo": "text",
         "line": {
          "color": "lightgray",
          "width": 0.09668508287292818
         },
         "mode": "lines",
         "text": [
          null
         ],
         "type": "scatter",
         "x": [
          -0.1622422179065234,
          0.4311401860721642,
          null
         ],
         "y": [
          0.03157460071272584,
          -1,
          null
         ]
        },
        {
         "hoverinfo": "text",
         "line": {
          "color": "lightgray",
          "width": 0.4281767955801105
         },
         "mode": "lines",
         "text": [
          null
         ],
         "type": "scatter",
         "x": [
          -0.1622422179065234,
          0.49349672288283464,
          null
         ],
         "y": [
          0.03157460071272584,
          -0.36558265195867734,
          null
         ]
        },
        {
         "hoverinfo": "text",
         "line": {
          "color": "lightgray",
          "width": 0.5662983425414365
         },
         "mode": "lines",
         "text": [
          null
         ],
         "type": "scatter",
         "x": [
          -0.1622422179065234,
          0.39579338997437163,
          null
         ],
         "y": [
          0.03157460071272584,
          0.4214427508023459,
          null
         ]
        },
        {
         "hoverinfo": "text",
         "line": {
          "color": "lightgray",
          "width": 0.7044198895027625
         },
         "mode": "lines",
         "text": [
          null
         ],
         "type": "scatter",
         "x": [
          -0.1622422179065234,
          0.3145388135024674,
          null
         ],
         "y": [
          0.03157460071272584,
          0.0713904203833753,
          null
         ]
        },
        {
         "hoverinfo": "text",
         "line": {
          "color": "lightgray",
          "width": 0.4903314917127072
         },
         "mode": "lines",
         "text": [
          null
         ],
         "type": "scatter",
         "x": [
          -0.1622422179065234,
          -0.19019617605644853,
          null
         ],
         "y": [
          0.03157460071272584,
          0.6043844035234531,
          null
         ]
        },
        {
         "hoverinfo": "text",
         "line": {
          "color": "lightgray",
          "width": 0.6215469613259669
         },
         "mode": "lines",
         "text": [
          null
         ],
         "type": "scatter",
         "x": [
          -0.1622422179065234,
          0.3334765799461546,
          null
         ],
         "y": [
          0.03157460071272584,
          0.2427323978958677,
          null
         ]
        },
        {
         "hoverinfo": "text",
         "line": {
          "color": "lightgray",
          "width": 0.21408839779005526
         },
         "mode": "lines",
         "text": [
          null
         ],
         "type": "scatter",
         "x": [
          -0.1622422179065234,
          0.1020246316150319,
          null
         ],
         "y": [
          0.03157460071272584,
          -0.7972550267051448,
          null
         ]
        },
        {
         "hoverinfo": "text",
         "line": {
          "color": "lightgray",
          "width": 0.511049723756906
         },
         "mode": "lines",
         "text": [
          null
         ],
         "type": "scatter",
         "x": [
          -0.1622422179065234,
          0.5742805920521092,
          null
         ],
         "y": [
          0.03157460071272584,
          0.24444376619632752,
          null
         ]
        },
        {
         "hoverinfo": "text",
         "line": {
          "color": "lightgray",
          "width": 0.7113259668508287
         },
         "mode": "lines",
         "text": [
          null
         ],
         "type": "scatter",
         "x": [
          -0.1622422179065234,
          -0.22783132808966663,
          null
         ],
         "y": [
          0.03157460071272584,
          -0.5068556748631202,
          null
         ]
        },
        {
         "hoverinfo": "text",
         "line": {
          "color": "lightgray",
          "width": 0.4765193370165746
         },
         "mode": "lines",
         "text": [
          null
         ],
         "type": "scatter",
         "x": [
          -0.1622422179065234,
          -0.4190562452188107,
          null
         ],
         "y": [
          0.03157460071272584,
          0.6347740869472913,
          null
         ]
        },
        {
         "hoverinfo": "text",
         "line": {
          "color": "lightgray",
          "width": 0.4419889502762431
         },
         "mode": "lines",
         "text": [
          null
         ],
         "type": "scatter",
         "x": [
          -0.1622422179065234,
          -0.5525643775236404,
          null
         ],
         "y": [
          0.03157460071272584,
          0.47794040149923195,
          null
         ]
        },
        {
         "hoverinfo": "text",
         "line": {
          "color": "lightgray",
          "width": 0.31077348066298344
         },
         "mode": "lines",
         "text": [
          null
         ],
         "type": "scatter",
         "x": [
          -0.1622422179065234,
          -0.6234255605909875,
          null
         ],
         "y": [
          0.03157460071272584,
          -0.23836270397398895,
          null
         ]
        },
        {
         "hoverinfo": "text",
         "line": {
          "color": "lightgray",
          "width": 0.8770718232044199
         },
         "mode": "lines",
         "text": [
          null
         ],
         "type": "scatter",
         "x": [
          0.43996902047820025,
          -0.17642964434986438,
          null
         ],
         "y": [
          -0.04532153885137943,
          -0.1241957269776414,
          null
         ]
        },
        {
         "hoverinfo": "text",
         "line": {
          "color": "lightgray",
          "width": 0.8908839779005524
         },
         "mode": "lines",
         "text": [
          null
         ],
         "type": "scatter",
         "x": [
          0.43996902047820025,
          -0.07727870299744441,
          null
         ],
         "y": [
          -0.04532153885137943,
          -0.3027290481547731,
          null
         ]
        },
        {
         "hoverinfo": "text",
         "line": {
          "color": "lightgray",
          "width": 0.5041436464088398
         },
         "mode": "lines",
         "text": [
          null
         ],
         "type": "scatter",
         "x": [
          0.43996902047820025,
          -0.28706229895684193,
          null
         ],
         "y": [
          -0.04532153885137943,
          0.18616900705929007,
          null
         ]
        },
        {
         "hoverinfo": "text",
         "line": {
          "color": "lightgray",
          "width": 0.20027624309392267
         },
         "mode": "lines",
         "text": [
          null
         ],
         "type": "scatter",
         "x": [
          0.43996902047820025,
          -0.5719710857398749,
          null
         ],
         "y": [
          -0.04532153885137943,
          0.27239188998547575,
          null
         ]
        },
        {
         "hoverinfo": "text",
         "line": {
          "color": "lightgray",
          "width": 0.7734806629834254
         },
         "mode": "lines",
         "text": [
          null
         ],
         "type": "scatter",
         "x": [
          0.43996902047820025,
          0.0766331659334106,
          null
         ],
         "y": [
          -0.04532153885137943,
          -0.17756851021576395,
          null
         ]
        },
        {
         "hoverinfo": "text",
         "line": {
          "color": "lightgray",
          "width": 1.7679558011049723
         },
         "mode": "lines",
         "text": [
          null
         ],
         "type": "scatter",
         "x": [
          0.43996902047820025,
          0.17316218865244803,
          null
         ],
         "y": [
          -0.04532153885137943,
          0.3817059318334255,
          null
         ]
        },
        {
         "hoverinfo": "text",
         "line": {
          "color": "lightgray",
          "width": 0.6284530386740332
         },
         "mode": "lines",
         "text": [
          null
         ],
         "type": "scatter",
         "x": [
          0.43996902047820025,
          -0.029940516077777042,
          null
         ],
         "y": [
          -0.04532153885137943,
          0.49753635226688014,
          null
         ]
        },
        {
         "hoverinfo": "text",
         "line": {
          "color": "lightgray",
          "width": 0.2900552486187845
         },
         "mode": "lines",
         "text": [
          null
         ],
         "type": "scatter",
         "x": [
          0.43996902047820025,
          -0.43895768675591185,
          null
         ],
         "y": [
          -0.04532153885137943,
          -0.1329394685705638,
          null
         ]
        },
        {
         "hoverinfo": "text",
         "line": {
          "color": "lightgray",
          "width": 0.055248618784530384
         },
         "mode": "lines",
         "text": [
          null
         ],
         "type": "scatter",
         "x": [
          0.43996902047820025,
          0.4311401860721642,
          null
         ],
         "y": [
          -0.04532153885137943,
          -1,
          null
         ]
        },
        {
         "hoverinfo": "text",
         "line": {
          "color": "lightgray",
          "width": 0.2969613259668508
         },
         "mode": "lines",
         "text": [
          null
         ],
         "type": "scatter",
         "x": [
          0.43996902047820025,
          0.49349672288283464,
          null
         ],
         "y": [
          -0.04532153885137943,
          -0.36558265195867734,
          null
         ]
        },
        {
         "hoverinfo": "text",
         "line": {
          "color": "lightgray",
          "width": 1.4640883977900552
         },
         "mode": "lines",
         "text": [
          null
         ],
         "type": "scatter",
         "x": [
          0.43996902047820025,
          0.39579338997437163,
          null
         ],
         "y": [
          -0.04532153885137943,
          0.4214427508023459,
          null
         ]
        },
        {
         "hoverinfo": "text",
         "line": {
          "color": "lightgray",
          "width": 1.7679558011049723
         },
         "mode": "lines",
         "text": [
          null
         ],
         "type": "scatter",
         "x": [
          0.43996902047820025,
          0.3145388135024674,
          null
         ],
         "y": [
          -0.04532153885137943,
          0.0713904203833753,
          null
         ]
        },
        {
         "hoverinfo": "text",
         "line": {
          "color": "lightgray",
          "width": 0.2762430939226519
         },
         "mode": "lines",
         "text": [
          null
         ],
         "type": "scatter",
         "x": [
          0.43996902047820025,
          -0.19019617605644853,
          null
         ],
         "y": [
          -0.04532153885137943,
          0.6043844035234531,
          null
         ]
        },
        {
         "hoverinfo": "text",
         "line": {
          "color": "lightgray",
          "width": 1.6091160220994474
         },
         "mode": "lines",
         "text": [
          null
         ],
         "type": "scatter",
         "x": [
          0.43996902047820025,
          0.3334765799461546,
          null
         ],
         "y": [
          -0.04532153885137943,
          0.2427323978958677,
          null
         ]
        },
        {
         "hoverinfo": "text",
         "line": {
          "color": "lightgray",
          "width": 0.17265193370165746
         },
         "mode": "lines",
         "text": [
          null
         ],
         "type": "scatter",
         "x": [
          0.43996902047820025,
          0.1020246316150319,
          null
         ],
         "y": [
          -0.04532153885137943,
          -0.7972550267051448,
          null
         ]
        },
        {
         "hoverinfo": "text",
         "line": {
          "color": "lightgray",
          "width": 1.277624309392265
         },
         "mode": "lines",
         "text": [
          null
         ],
         "type": "scatter",
         "x": [
          0.43996902047820025,
          0.5742805920521092,
          null
         ],
         "y": [
          -0.04532153885137943,
          0.24444376619632752,
          null
         ]
        },
        {
         "hoverinfo": "text",
         "line": {
          "color": "lightgray",
          "width": 0.4350828729281768
         },
         "mode": "lines",
         "text": [
          null
         ],
         "type": "scatter",
         "x": [
          0.43996902047820025,
          -0.22783132808966663,
          null
         ],
         "y": [
          -0.04532153885137943,
          -0.5068556748631202,
          null
         ]
        },
        {
         "hoverinfo": "text",
         "line": {
          "color": "lightgray",
          "width": 0.22099447513812154
         },
         "mode": "lines",
         "text": [
          null
         ],
         "type": "scatter",
         "x": [
          0.43996902047820025,
          -0.4190562452188107,
          null
         ],
         "y": [
          -0.04532153885137943,
          0.6347740869472913,
          null
         ]
        },
        {
         "hoverinfo": "text",
         "line": {
          "color": "lightgray",
          "width": 0.26933701657458564
         },
         "mode": "lines",
         "text": [
          null
         ],
         "type": "scatter",
         "x": [
          0.43996902047820025,
          -0.5525643775236404,
          null
         ],
         "y": [
          -0.04532153885137943,
          0.47794040149923195,
          null
         ]
        },
        {
         "hoverinfo": "text",
         "line": {
          "color": "lightgray",
          "width": 0.22790055248618785
         },
         "mode": "lines",
         "text": [
          null
         ],
         "type": "scatter",
         "x": [
          0.43996902047820025,
          -0.6234255605909875,
          null
         ],
         "y": [
          -0.04532153885137943,
          -0.23836270397398895,
          null
         ]
        },
        {
         "hoverinfo": "text",
         "line": {
          "color": "lightgray",
          "width": 4.792817679558011
         },
         "mode": "lines",
         "text": [
          null
         ],
         "type": "scatter",
         "x": [
          -0.17642964434986438,
          -0.07727870299744441,
          null
         ],
         "y": [
          -0.1241957269776414,
          -0.3027290481547731,
          null
         ]
        },
        {
         "hoverinfo": "text",
         "line": {
          "color": "lightgray",
          "width": 0.718232044198895
         },
         "mode": "lines",
         "text": [
          null
         ],
         "type": "scatter",
         "x": [
          -0.17642964434986438,
          -0.28706229895684193,
          null
         ],
         "y": [
          -0.1241957269776414,
          0.18616900705929007,
          null
         ]
        },
        {
         "hoverinfo": "text",
         "line": {
          "color": "lightgray",
          "width": 0.4765193370165746
         },
         "mode": "lines",
         "text": [
          null
         ],
         "type": "scatter",
         "x": [
          -0.17642964434986438,
          -0.5719710857398749,
          null
         ],
         "y": [
          -0.1241957269776414,
          0.27239188998547575,
          null
         ]
        },
        {
         "hoverinfo": "text",
         "line": {
          "color": "lightgray",
          "width": 4.661602209944752
         },
         "mode": "lines",
         "text": [
          null
         ],
         "type": "scatter",
         "x": [
          -0.17642964434986438,
          0.0766331659334106,
          null
         ],
         "y": [
          -0.1241957269776414,
          -0.17756851021576395,
          null
         ]
        },
        {
         "hoverinfo": "text",
         "line": {
          "color": "lightgray",
          "width": 0.6353591160220995
         },
         "mode": "lines",
         "text": [
          null
         ],
         "type": "scatter",
         "x": [
          -0.17642964434986438,
          0.17316218865244803,
          null
         ],
         "y": [
          -0.1241957269776414,
          0.3817059318334255,
          null
         ]
        },
        {
         "hoverinfo": "text",
         "line": {
          "color": "lightgray",
          "width": 0.4143646408839779
         },
         "mode": "lines",
         "text": [
          null
         ],
         "type": "scatter",
         "x": [
          -0.17642964434986438,
          -0.029940516077777042,
          null
         ],
         "y": [
          -0.1241957269776414,
          0.49753635226688014,
          null
         ]
        },
        {
         "hoverinfo": "text",
         "line": {
          "color": "lightgray",
          "width": 0.3591160220994475
         },
         "mode": "lines",
         "text": [
          null
         ],
         "type": "scatter",
         "x": [
          -0.17642964434986438,
          -0.43895768675591185,
          null
         ],
         "y": [
          -0.1241957269776414,
          -0.1329394685705638,
          null
         ]
        },
        {
         "hoverinfo": "text",
         "line": {
          "color": "lightgray",
          "width": 0.11740331491712706
         },
         "mode": "lines",
         "text": [
          null
         ],
         "type": "scatter",
         "x": [
          -0.17642964434986438,
          0.4311401860721642,
          null
         ],
         "y": [
          -0.1241957269776414,
          -1,
          null
         ]
        },
        {
         "hoverinfo": "text",
         "line": {
          "color": "lightgray",
          "width": 0.44889502762430944
         },
         "mode": "lines",
         "text": [
          null
         ],
         "type": "scatter",
         "x": [
          -0.17642964434986438,
          0.49349672288283464,
          null
         ],
         "y": [
          -0.1241957269776414,
          -0.36558265195867734,
          null
         ]
        },
        {
         "hoverinfo": "text",
         "line": {
          "color": "lightgray",
          "width": 0.4834254143646409
         },
         "mode": "lines",
         "text": [
          null
         ],
         "type": "scatter",
         "x": [
          -0.17642964434986438,
          0.39579338997437163,
          null
         ],
         "y": [
          -0.1241957269776414,
          0.4214427508023459,
          null
         ]
        },
        {
         "hoverinfo": "text",
         "line": {
          "color": "lightgray",
          "width": 0.6906077348066298
         },
         "mode": "lines",
         "text": [
          null
         ],
         "type": "scatter",
         "x": [
          -0.17642964434986438,
          0.3145388135024674,
          null
         ],
         "y": [
          -0.1241957269776414,
          0.0713904203833753,
          null
         ]
        },
        {
         "hoverinfo": "text",
         "line": {
          "color": "lightgray",
          "width": 0.4765193370165746
         },
         "mode": "lines",
         "text": [
          null
         ],
         "type": "scatter",
         "x": [
          -0.17642964434986438,
          -0.19019617605644853,
          null
         ],
         "y": [
          -0.1241957269776414,
          0.6043844035234531,
          null
         ]
        },
        {
         "hoverinfo": "text",
         "line": {
          "color": "lightgray",
          "width": 0.6284530386740332
         },
         "mode": "lines",
         "text": [
          null
         ],
         "type": "scatter",
         "x": [
          -0.17642964434986438,
          0.3334765799461546,
          null
         ],
         "y": [
          -0.1241957269776414,
          0.2427323978958677,
          null
         ]
        },
        {
         "hoverinfo": "text",
         "line": {
          "color": "lightgray",
          "width": 0.24171270718232046
         },
         "mode": "lines",
         "text": [
          null
         ],
         "type": "scatter",
         "x": [
          -0.17642964434986438,
          0.1020246316150319,
          null
         ],
         "y": [
          -0.1241957269776414,
          -0.7972550267051448,
          null
         ]
        },
        {
         "hoverinfo": "text",
         "line": {
          "color": "lightgray",
          "width": 0.4281767955801105
         },
         "mode": "lines",
         "text": [
          null
         ],
         "type": "scatter",
         "x": [
          -0.17642964434986438,
          0.5742805920521092,
          null
         ],
         "y": [
          -0.1241957269776414,
          0.24444376619632752,
          null
         ]
        },
        {
         "hoverinfo": "text",
         "line": {
          "color": "lightgray",
          "width": 0.6422651933701657
         },
         "mode": "lines",
         "text": [
          null
         ],
         "type": "scatter",
         "x": [
          -0.17642964434986438,
          -0.22783132808966663,
          null
         ],
         "y": [
          -0.1241957269776414,
          -0.5068556748631202,
          null
         ]
        },
        {
         "hoverinfo": "text",
         "line": {
          "color": "lightgray",
          "width": 0.4281767955801105
         },
         "mode": "lines",
         "text": [
          null
         ],
         "type": "scatter",
         "x": [
          -0.17642964434986438,
          -0.4190562452188107,
          null
         ],
         "y": [
          -0.1241957269776414,
          0.6347740869472913,
          null
         ]
        },
        {
         "hoverinfo": "text",
         "line": {
          "color": "lightgray",
          "width": 0.4281767955801105
         },
         "mode": "lines",
         "text": [
          null
         ],
         "type": "scatter",
         "x": [
          -0.17642964434986438,
          -0.5525643775236404,
          null
         ],
         "y": [
          -0.1241957269776414,
          0.47794040149923195,
          null
         ]
        },
        {
         "hoverinfo": "text",
         "line": {
          "color": "lightgray",
          "width": 0.22099447513812154
         },
         "mode": "lines",
         "text": [
          null
         ],
         "type": "scatter",
         "x": [
          -0.17642964434986438,
          -0.6234255605909875,
          null
         ],
         "y": [
          -0.1241957269776414,
          -0.23836270397398895,
          null
         ]
        },
        {
         "hoverinfo": "text",
         "line": {
          "color": "lightgray",
          "width": 0.6284530386740332
         },
         "mode": "lines",
         "text": [
          null
         ],
         "type": "scatter",
         "x": [
          -0.07727870299744441,
          -0.28706229895684193,
          null
         ],
         "y": [
          -0.3027290481547731,
          0.18616900705929007,
          null
         ]
        },
        {
         "hoverinfo": "text",
         "line": {
          "color": "lightgray",
          "width": 0.3660220994475138
         },
         "mode": "lines",
         "text": [
          null
         ],
         "type": "scatter",
         "x": [
          -0.07727870299744441,
          -0.5719710857398749,
          null
         ],
         "y": [
          -0.3027290481547731,
          0.27239188998547575,
          null
         ]
        },
        {
         "hoverinfo": "text",
         "line": {
          "color": "lightgray",
          "width": 4.709944751381215
         },
         "mode": "lines",
         "text": [
          null
         ],
         "type": "scatter",
         "x": [
          -0.07727870299744441,
          0.0766331659334106,
          null
         ],
         "y": [
          -0.3027290481547731,
          -0.17756851021576395,
          null
         ]
        },
        {
         "hoverinfo": "text",
         "line": {
          "color": "lightgray",
          "width": 0.6353591160220995
         },
         "mode": "lines",
         "text": [
          null
         ],
         "type": "scatter",
         "x": [
          -0.07727870299744441,
          0.17316218865244803,
          null
         ],
         "y": [
          -0.3027290481547731,
          0.3817059318334255,
          null
         ]
        },
        {
         "hoverinfo": "text",
         "line": {
          "color": "lightgray",
          "width": 0.4212707182320442
         },
         "mode": "lines",
         "text": [
          null
         ],
         "type": "scatter",
         "x": [
          -0.07727870299744441,
          -0.029940516077777042,
          null
         ],
         "y": [
          -0.3027290481547731,
          0.49753635226688014,
          null
         ]
        },
        {
         "hoverinfo": "text",
         "line": {
          "color": "lightgray",
          "width": 0.3453038674033149
         },
         "mode": "lines",
         "text": [
          null
         ],
         "type": "scatter",
         "x": [
          -0.07727870299744441,
          -0.43895768675591185,
          null
         ],
         "y": [
          -0.3027290481547731,
          -0.1329394685705638,
          null
         ]
        },
        {
         "hoverinfo": "text",
         "line": {
          "color": "lightgray",
          "width": 0.11740331491712706
         },
         "mode": "lines",
         "text": [
          null
         ],
         "type": "scatter",
         "x": [
          -0.07727870299744441,
          0.4311401860721642,
          null
         ],
         "y": [
          -0.3027290481547731,
          -1,
          null
         ]
        },
        {
         "hoverinfo": "text",
         "line": {
          "color": "lightgray",
          "width": 0.3591160220994475
         },
         "mode": "lines",
         "text": [
          null
         ],
         "type": "scatter",
         "x": [
          -0.07727870299744441,
          0.49349672288283464,
          null
         ],
         "y": [
          -0.3027290481547731,
          -0.36558265195867734,
          null
         ]
        },
        {
         "hoverinfo": "text",
         "line": {
          "color": "lightgray",
          "width": 0.5662983425414365
         },
         "mode": "lines",
         "text": [
          null
         ],
         "type": "scatter",
         "x": [
          -0.07727870299744441,
          0.39579338997437163,
          null
         ],
         "y": [
          -0.3027290481547731,
          0.4214427508023459,
          null
         ]
        },
        {
         "hoverinfo": "text",
         "line": {
          "color": "lightgray",
          "width": 0.6215469613259669
         },
         "mode": "lines",
         "text": [
          null
         ],
         "type": "scatter",
         "x": [
          -0.07727870299744441,
          0.3145388135024674,
          null
         ],
         "y": [
          -0.3027290481547731,
          0.0713904203833753,
          null
         ]
        },
        {
         "hoverinfo": "text",
         "line": {
          "color": "lightgray",
          "width": 0.40055248618784534
         },
         "mode": "lines",
         "text": [
          null
         ],
         "type": "scatter",
         "x": [
          -0.07727870299744441,
          -0.19019617605644853,
          null
         ],
         "y": [
          -0.3027290481547731,
          0.6043844035234531,
          null
         ]
        },
        {
         "hoverinfo": "text",
         "line": {
          "color": "lightgray",
          "width": 0.649171270718232
         },
         "mode": "lines",
         "text": [
          null
         ],
         "type": "scatter",
         "x": [
          -0.07727870299744441,
          0.3334765799461546,
          null
         ],
         "y": [
          -0.3027290481547731,
          0.2427323978958677,
          null
         ]
        },
        {
         "hoverinfo": "text",
         "line": {
          "color": "lightgray",
          "width": 0.20718232044198895
         },
         "mode": "lines",
         "text": [
          null
         ],
         "type": "scatter",
         "x": [
          -0.07727870299744441,
          0.1020246316150319,
          null
         ],
         "y": [
          -0.3027290481547731,
          -0.7972550267051448,
          null
         ]
        },
        {
         "hoverinfo": "text",
         "line": {
          "color": "lightgray",
          "width": 0.5041436464088398
         },
         "mode": "lines",
         "text": [
          null
         ],
         "type": "scatter",
         "x": [
          -0.07727870299744441,
          0.5742805920521092,
          null
         ],
         "y": [
          -0.3027290481547731,
          0.24444376619632752,
          null
         ]
        },
        {
         "hoverinfo": "text",
         "line": {
          "color": "lightgray",
          "width": 0.600828729281768
         },
         "mode": "lines",
         "text": [
          null
         ],
         "type": "scatter",
         "x": [
          -0.07727870299744441,
          -0.22783132808966663,
          null
         ],
         "y": [
          -0.3027290481547731,
          -0.5068556748631202,
          null
         ]
        },
        {
         "hoverinfo": "text",
         "line": {
          "color": "lightgray",
          "width": 0.35220994475138123
         },
         "mode": "lines",
         "text": [
          null
         ],
         "type": "scatter",
         "x": [
          -0.07727870299744441,
          -0.4190562452188107,
          null
         ],
         "y": [
          -0.3027290481547731,
          0.6347740869472913,
          null
         ]
        },
        {
         "hoverinfo": "text",
         "line": {
          "color": "lightgray",
          "width": 0.3729281767955801
         },
         "mode": "lines",
         "text": [
          null
         ],
         "type": "scatter",
         "x": [
          -0.07727870299744441,
          -0.5525643775236404,
          null
         ],
         "y": [
          -0.3027290481547731,
          0.47794040149923195,
          null
         ]
        },
        {
         "hoverinfo": "text",
         "line": {
          "color": "lightgray",
          "width": 0.2900552486187845
         },
         "mode": "lines",
         "text": [
          null
         ],
         "type": "scatter",
         "x": [
          -0.07727870299744441,
          -0.6234255605909875,
          null
         ],
         "y": [
          -0.3027290481547731,
          -0.23836270397398895,
          null
         ]
        },
        {
         "hoverinfo": "text",
         "line": {
          "color": "lightgray",
          "width": 0.4903314917127072
         },
         "mode": "lines",
         "text": [
          null
         ],
         "type": "scatter",
         "x": [
          -0.28706229895684193,
          -0.5719710857398749,
          null
         ],
         "y": [
          0.18616900705929007,
          0.27239188998547575,
          null
         ]
        },
        {
         "hoverinfo": "text",
         "line": {
          "color": "lightgray",
          "width": 0.5455801104972375
         },
         "mode": "lines",
         "text": [
          null
         ],
         "type": "scatter",
         "x": [
          -0.28706229895684193,
          0.0766331659334106,
          null
         ],
         "y": [
          0.18616900705929007,
          -0.17756851021576395,
          null
         ]
        },
        {
         "hoverinfo": "text",
         "line": {
          "color": "lightgray",
          "width": 0.4558011049723757
         },
         "mode": "lines",
         "text": [
          null
         ],
         "type": "scatter",
         "x": [
          -0.28706229895684193,
          0.17316218865244803,
          null
         ],
         "y": [
          0.18616900705929007,
          0.3817059318334255,
          null
         ]
        },
        {
         "hoverinfo": "text",
         "line": {
          "color": "lightgray",
          "width": 0.2969613259668508
         },
         "mode": "lines",
         "text": [
          null
         ],
         "type": "scatter",
         "x": [
          -0.28706229895684193,
          -0.029940516077777042,
          null
         ],
         "y": [
          0.18616900705929007,
          0.49753635226688014,
          null
         ]
        },
        {
         "hoverinfo": "text",
         "line": {
          "color": "lightgray",
          "width": 1.0704419889502763
         },
         "mode": "lines",
         "text": [
          null
         ],
         "type": "scatter",
         "x": [
          -0.28706229895684193,
          -0.43895768675591185,
          null
         ],
         "y": [
          0.18616900705929007,
          -0.1329394685705638,
          null
         ]
        },
        {
         "hoverinfo": "text",
         "line": {
          "color": "lightgray",
          "width": 0.04143646408839779
         },
         "mode": "lines",
         "text": [
          null
         ],
         "type": "scatter",
         "x": [
          -0.28706229895684193,
          0.4311401860721642,
          null
         ],
         "y": [
          0.18616900705929007,
          -1,
          null
         ]
        },
        {
         "hoverinfo": "text",
         "line": {
          "color": "lightgray",
          "width": 0.26243093922651933
         },
         "mode": "lines",
         "text": [
          null
         ],
         "type": "scatter",
         "x": [
          -0.28706229895684193,
          0.49349672288283464,
          null
         ],
         "y": [
          0.18616900705929007,
          -0.36558265195867734,
          null
         ]
        },
        {
         "hoverinfo": "text",
         "line": {
          "color": "lightgray",
          "width": 0.44889502762430944
         },
         "mode": "lines",
         "text": [
          null
         ],
         "type": "scatter",
         "x": [
          -0.28706229895684193,
          0.39579338997437163,
          null
         ],
         "y": [
          0.18616900705929007,
          0.4214427508023459,
          null
         ]
        },
        {
         "hoverinfo": "text",
         "line": {
          "color": "lightgray",
          "width": 0.4765193370165746
         },
         "mode": "lines",
         "text": [
          null
         ],
         "type": "scatter",
         "x": [
          -0.28706229895684193,
          0.3145388135024674,
          null
         ],
         "y": [
          0.18616900705929007,
          0.0713904203833753,
          null
         ]
        },
        {
         "hoverinfo": "text",
         "line": {
          "color": "lightgray",
          "width": 0.3660220994475138
         },
         "mode": "lines",
         "text": [
          null
         ],
         "type": "scatter",
         "x": [
          -0.28706229895684193,
          -0.19019617605644853,
          null
         ],
         "y": [
          0.18616900705929007,
          0.6043844035234531,
          null
         ]
        },
        {
         "hoverinfo": "text",
         "line": {
          "color": "lightgray",
          "width": 0.4834254143646409
         },
         "mode": "lines",
         "text": [
          null
         ],
         "type": "scatter",
         "x": [
          -0.28706229895684193,
          0.3334765799461546,
          null
         ],
         "y": [
          0.18616900705929007,
          0.2427323978958677,
          null
         ]
        },
        {
         "hoverinfo": "text",
         "line": {
          "color": "lightgray",
          "width": 0.13812154696132595
         },
         "mode": "lines",
         "text": [
          null
         ],
         "type": "scatter",
         "x": [
          -0.28706229895684193,
          0.1020246316150319,
          null
         ],
         "y": [
          0.18616900705929007,
          -0.7972550267051448,
          null
         ]
        },
        {
         "hoverinfo": "text",
         "line": {
          "color": "lightgray",
          "width": 0.3383977900552486
         },
         "mode": "lines",
         "text": [
          null
         ],
         "type": "scatter",
         "x": [
          -0.28706229895684193,
          0.5742805920521092,
          null
         ],
         "y": [
          0.18616900705929007,
          0.24444376619632752,
          null
         ]
        },
        {
         "hoverinfo": "text",
         "line": {
          "color": "lightgray",
          "width": 0.7251381215469612
         },
         "mode": "lines",
         "text": [
          null
         ],
         "type": "scatter",
         "x": [
          -0.28706229895684193,
          -0.22783132808966663,
          null
         ],
         "y": [
          0.18616900705929007,
          -0.5068556748631202,
          null
         ]
        },
        {
         "hoverinfo": "text",
         "line": {
          "color": "lightgray",
          "width": 0.31077348066298344
         },
         "mode": "lines",
         "text": [
          null
         ],
         "type": "scatter",
         "x": [
          -0.28706229895684193,
          -0.4190562452188107,
          null
         ],
         "y": [
          0.18616900705929007,
          0.6347740869472913,
          null
         ]
        },
        {
         "hoverinfo": "text",
         "line": {
          "color": "lightgray",
          "width": 0.30386740331491713
         },
         "mode": "lines",
         "text": [
          null
         ],
         "type": "scatter",
         "x": [
          -0.28706229895684193,
          -0.5525643775236404,
          null
         ],
         "y": [
          0.18616900705929007,
          0.47794040149923195,
          null
         ]
        },
        {
         "hoverinfo": "text",
         "line": {
          "color": "lightgray",
          "width": 0.23480662983425413
         },
         "mode": "lines",
         "text": [
          null
         ],
         "type": "scatter",
         "x": [
          -0.28706229895684193,
          -0.6234255605909875,
          null
         ],
         "y": [
          0.18616900705929007,
          -0.23836270397398895,
          null
         ]
        },
        {
         "hoverinfo": "text",
         "line": {
          "color": "lightgray",
          "width": 0.35220994475138123
         },
         "mode": "lines",
         "text": [
          null
         ],
         "type": "scatter",
         "x": [
          -0.5719710857398749,
          0.0766331659334106,
          null
         ],
         "y": [
          0.27239188998547575,
          -0.17756851021576395,
          null
         ]
        },
        {
         "hoverinfo": "text",
         "line": {
          "color": "lightgray",
          "width": 0.31077348066298344
         },
         "mode": "lines",
         "text": [
          null
         ],
         "type": "scatter",
         "x": [
          -0.5719710857398749,
          0.17316218865244803,
          null
         ],
         "y": [
          0.27239188998547575,
          0.3817059318334255,
          null
         ]
        },
        {
         "hoverinfo": "text",
         "line": {
          "color": "lightgray",
          "width": 1.0773480662983426
         },
         "mode": "lines",
         "text": [
          null
         ],
         "type": "scatter",
         "x": [
          -0.5719710857398749,
          -0.029940516077777042,
          null
         ],
         "y": [
          0.27239188998547575,
          0.49753635226688014,
          null
         ]
        },
        {
         "hoverinfo": "text",
         "line": {
          "color": "lightgray",
          "width": 0.22790055248618785
         },
         "mode": "lines",
         "text": [
          null
         ],
         "type": "scatter",
         "x": [
          -0.5719710857398749,
          -0.43895768675591185,
          null
         ],
         "y": [
          0.27239188998547575,
          -0.1329394685705638,
          null
         ]
        },
        {
         "hoverinfo": "text",
         "line": {
          "color": "lightgray",
          "width": 0.04834254143646409
         },
         "mode": "lines",
         "text": [
          null
         ],
         "type": "scatter",
         "x": [
          -0.5719710857398749,
          0.4311401860721642,
          null
         ],
         "y": [
          0.27239188998547575,
          -1,
          null
         ]
        },
        {
         "hoverinfo": "text",
         "line": {
          "color": "lightgray",
          "width": 0.17955801104972374
         },
         "mode": "lines",
         "text": [
          null
         ],
         "type": "scatter",
         "x": [
          -0.5719710857398749,
          0.49349672288283464,
          null
         ],
         "y": [
          0.27239188998547575,
          -0.36558265195867734,
          null
         ]
        },
        {
         "hoverinfo": "text",
         "line": {
          "color": "lightgray",
          "width": 0.22790055248618785
         },
         "mode": "lines",
         "text": [
          null
         ],
         "type": "scatter",
         "x": [
          -0.5719710857398749,
          0.39579338997437163,
          null
         ],
         "y": [
          0.27239188998547575,
          0.4214427508023459,
          null
         ]
        },
        {
         "hoverinfo": "text",
         "line": {
          "color": "lightgray",
          "width": 0.31767955801104975
         },
         "mode": "lines",
         "text": [
          null
         ],
         "type": "scatter",
         "x": [
          -0.5719710857398749,
          0.3145388135024674,
          null
         ],
         "y": [
          0.27239188998547575,
          0.0713904203833753,
          null
         ]
        },
        {
         "hoverinfo": "text",
         "line": {
          "color": "lightgray",
          "width": 1.9544198895027622
         },
         "mode": "lines",
         "text": [
          null
         ],
         "type": "scatter",
         "x": [
          -0.5719710857398749,
          -0.19019617605644853,
          null
         ],
         "y": [
          0.27239188998547575,
          0.6043844035234531,
          null
         ]
        },
        {
         "hoverinfo": "text",
         "line": {
          "color": "lightgray",
          "width": 0.24861878453038672
         },
         "mode": "lines",
         "text": [
          null
         ],
         "type": "scatter",
         "x": [
          -0.5719710857398749,
          0.3334765799461546,
          null
         ],
         "y": [
          0.27239188998547575,
          0.2427323978958677,
          null
         ]
        },
        {
         "hoverinfo": "text",
         "line": {
          "color": "lightgray",
          "width": 0.09668508287292818
         },
         "mode": "lines",
         "text": [
          null
         ],
         "type": "scatter",
         "x": [
          -0.5719710857398749,
          0.1020246316150319,
          null
         ],
         "y": [
          0.27239188998547575,
          -0.7972550267051448,
          null
         ]
        },
        {
         "hoverinfo": "text",
         "line": {
          "color": "lightgray",
          "width": 0.13812154696132595
         },
         "mode": "lines",
         "text": [
          null
         ],
         "type": "scatter",
         "x": [
          -0.5719710857398749,
          0.5742805920521092,
          null
         ],
         "y": [
          0.27239188998547575,
          0.24444376619632752,
          null
         ]
        },
        {
         "hoverinfo": "text",
         "line": {
          "color": "lightgray",
          "width": 0.17265193370165746
         },
         "mode": "lines",
         "text": [
          null
         ],
         "type": "scatter",
         "x": [
          -0.5719710857398749,
          -0.22783132808966663,
          null
         ],
         "y": [
          0.27239188998547575,
          -0.5068556748631202,
          null
         ]
        },
        {
         "hoverinfo": "text",
         "line": {
          "color": "lightgray",
          "width": 2.6864640883977904
         },
         "mode": "lines",
         "text": [
          null
         ],
         "type": "scatter",
         "x": [
          -0.5719710857398749,
          -0.4190562452188107,
          null
         ],
         "y": [
          0.27239188998547575,
          0.6347740869472913,
          null
         ]
        },
        {
         "hoverinfo": "text",
         "line": {
          "color": "lightgray",
          "width": 1.7610497237569063
         },
         "mode": "lines",
         "text": [
          null
         ],
         "type": "scatter",
         "x": [
          -0.5719710857398749,
          -0.5525643775236404,
          null
         ],
         "y": [
          0.27239188998547575,
          0.47794040149923195,
          null
         ]
        },
        {
         "hoverinfo": "text",
         "line": {
          "color": "lightgray",
          "width": 0.24171270718232046
         },
         "mode": "lines",
         "text": [
          null
         ],
         "type": "scatter",
         "x": [
          -0.5719710857398749,
          -0.6234255605909875,
          null
         ],
         "y": [
          0.27239188998547575,
          -0.23836270397398895,
          null
         ]
        },
        {
         "hoverinfo": "text",
         "line": {
          "color": "lightgray",
          "width": 0.6215469613259669
         },
         "mode": "lines",
         "text": [
          null
         ],
         "type": "scatter",
         "x": [
          0.0766331659334106,
          0.17316218865244803,
          null
         ],
         "y": [
          -0.17756851021576395,
          0.3817059318334255,
          null
         ]
        },
        {
         "hoverinfo": "text",
         "line": {
          "color": "lightgray",
          "width": 0.3867403314917127
         },
         "mode": "lines",
         "text": [
          null
         ],
         "type": "scatter",
         "x": [
          0.0766331659334106,
          -0.029940516077777042,
          null
         ],
         "y": [
          -0.17756851021576395,
          0.49753635226688014,
          null
         ]
        },
        {
         "hoverinfo": "text",
         "line": {
          "color": "lightgray",
          "width": 0.3314917127071823
         },
         "mode": "lines",
         "text": [
          null
         ],
         "type": "scatter",
         "x": [
          0.0766331659334106,
          -0.43895768675591185,
          null
         ],
         "y": [
          -0.17756851021576395,
          -0.1329394685705638,
          null
         ]
        },
        {
         "hoverinfo": "text",
         "line": {
          "color": "lightgray",
          "width": 0.055248618784530384
         },
         "mode": "lines",
         "text": [
          null
         ],
         "type": "scatter",
         "x": [
          0.0766331659334106,
          0.4311401860721642,
          null
         ],
         "y": [
          -0.17756851021576395,
          -1,
          null
         ]
        },
        {
         "hoverinfo": "text",
         "line": {
          "color": "lightgray",
          "width": 0.40055248618784534
         },
         "mode": "lines",
         "text": [
          null
         ],
         "type": "scatter",
         "x": [
          0.0766331659334106,
          0.49349672288283464,
          null
         ],
         "y": [
          -0.17756851021576395,
          -0.36558265195867734,
          null
         ]
        },
        {
         "hoverinfo": "text",
         "line": {
          "color": "lightgray",
          "width": 0.4419889502762431
         },
         "mode": "lines",
         "text": [
          null
         ],
         "type": "scatter",
         "x": [
          0.0766331659334106,
          0.39579338997437163,
          null
         ],
         "y": [
          -0.17756851021576395,
          0.4214427508023459,
          null
         ]
        },
        {
         "hoverinfo": "text",
         "line": {
          "color": "lightgray",
          "width": 0.6422651933701657
         },
         "mode": "lines",
         "text": [
          null
         ],
         "type": "scatter",
         "x": [
          0.0766331659334106,
          0.3145388135024674,
          null
         ],
         "y": [
          -0.17756851021576395,
          0.0713904203833753,
          null
         ]
        },
        {
         "hoverinfo": "text",
         "line": {
          "color": "lightgray",
          "width": 0.31767955801104975
         },
         "mode": "lines",
         "text": [
          null
         ],
         "type": "scatter",
         "x": [
          0.0766331659334106,
          -0.19019617605644853,
          null
         ],
         "y": [
          -0.17756851021576395,
          0.6043844035234531,
          null
         ]
        },
        {
         "hoverinfo": "text",
         "line": {
          "color": "lightgray",
          "width": 0.600828729281768
         },
         "mode": "lines",
         "text": [
          null
         ],
         "type": "scatter",
         "x": [
          0.0766331659334106,
          0.3334765799461546,
          null
         ],
         "y": [
          -0.17756851021576395,
          0.2427323978958677,
          null
         ]
        },
        {
         "hoverinfo": "text",
         "line": {
          "color": "lightgray",
          "width": 0.17955801104972374
         },
         "mode": "lines",
         "text": [
          null
         ],
         "type": "scatter",
         "x": [
          0.0766331659334106,
          0.1020246316150319,
          null
         ],
         "y": [
          -0.17756851021576395,
          -0.7972550267051448,
          null
         ]
        },
        {
         "hoverinfo": "text",
         "line": {
          "color": "lightgray",
          "width": 0.4765193370165746
         },
         "mode": "lines",
         "text": [
          null
         ],
         "type": "scatter",
         "x": [
          0.0766331659334106,
          0.5742805920521092,
          null
         ],
         "y": [
          -0.17756851021576395,
          0.24444376619632752,
          null
         ]
        },
        {
         "hoverinfo": "text",
         "line": {
          "color": "lightgray",
          "width": 0.7044198895027625
         },
         "mode": "lines",
         "text": [
          null
         ],
         "type": "scatter",
         "x": [
          0.0766331659334106,
          -0.22783132808966663,
          null
         ],
         "y": [
          -0.17756851021576395,
          -0.5068556748631202,
          null
         ]
        },
        {
         "hoverinfo": "text",
         "line": {
          "color": "lightgray",
          "width": 0.324585635359116
         },
         "mode": "lines",
         "text": [
          null
         ],
         "type": "scatter",
         "x": [
          0.0766331659334106,
          -0.4190562452188107,
          null
         ],
         "y": [
          -0.17756851021576395,
          0.6347740869472913,
          null
         ]
        },
        {
         "hoverinfo": "text",
         "line": {
          "color": "lightgray",
          "width": 0.31077348066298344
         },
         "mode": "lines",
         "text": [
          null
         ],
         "type": "scatter",
         "x": [
          0.0766331659334106,
          -0.5525643775236404,
          null
         ],
         "y": [
          -0.17756851021576395,
          0.47794040149923195,
          null
         ]
        },
        {
         "hoverinfo": "text",
         "line": {
          "color": "lightgray",
          "width": 0.17955801104972374
         },
         "mode": "lines",
         "text": [
          null
         ],
         "type": "scatter",
         "x": [
          0.0766331659334106,
          -0.6234255605909875,
          null
         ],
         "y": [
          -0.17756851021576395,
          -0.23836270397398895,
          null
         ]
        },
        {
         "hoverinfo": "text",
         "line": {
          "color": "lightgray",
          "width": 1.0082872928176796
         },
         "mode": "lines",
         "text": [
          null
         ],
         "type": "scatter",
         "x": [
          0.17316218865244803,
          -0.029940516077777042,
          null
         ],
         "y": [
          0.3817059318334255,
          0.49753635226688014,
          null
         ]
        },
        {
         "hoverinfo": "text",
         "line": {
          "color": "lightgray",
          "width": 0.44889502762430944
         },
         "mode": "lines",
         "text": [
          null
         ],
         "type": "scatter",
         "x": [
          0.17316218865244803,
          -0.43895768675591185,
          null
         ],
         "y": [
          0.3817059318334255,
          -0.1329394685705638,
          null
         ]
        },
        {
         "hoverinfo": "text",
         "line": {
          "color": "lightgray",
          "width": 0.013812154696132596
         },
         "mode": "lines",
         "text": [
          null
         ],
         "type": "scatter",
         "x": [
          0.17316218865244803,
          0.4311401860721642,
          null
         ],
         "y": [
          0.3817059318334255,
          -1,
          null
         ]
        },
        {
         "hoverinfo": "text",
         "line": {
          "color": "lightgray",
          "width": 0.255524861878453
         },
         "mode": "lines",
         "text": [
          null
         ],
         "type": "scatter",
         "x": [
          0.17316218865244803,
          0.49349672288283464,
          null
         ],
         "y": [
          0.3817059318334255,
          -0.36558265195867734,
          null
         ]
        },
        {
         "hoverinfo": "text",
         "line": {
          "color": "lightgray",
          "width": 2.0718232044198897
         },
         "mode": "lines",
         "text": [
          null
         ],
         "type": "scatter",
         "x": [
          0.17316218865244803,
          0.39579338997437163,
          null
         ],
         "y": [
          0.3817059318334255,
          0.4214427508023459,
          null
         ]
        },
        {
         "hoverinfo": "text",
         "line": {
          "color": "lightgray",
          "width": 2.941988950276243
         },
         "mode": "lines",
         "text": [
          null
         ],
         "type": "scatter",
         "x": [
          0.17316218865244803,
          0.3145388135024674,
          null
         ],
         "y": [
          0.3817059318334255,
          0.0713904203833753,
          null
         ]
        },
        {
         "hoverinfo": "text",
         "line": {
          "color": "lightgray",
          "width": 0.31077348066298344
         },
         "mode": "lines",
         "text": [
          null
         ],
         "type": "scatter",
         "x": [
          0.17316218865244803,
          -0.19019617605644853,
          null
         ],
         "y": [
          0.3817059318334255,
          0.6043844035234531,
          null
         ]
        },
        {
         "hoverinfo": "text",
         "line": {
          "color": "lightgray",
          "width": 1.9129834254143647
         },
         "mode": "lines",
         "text": [
          null
         ],
         "type": "scatter",
         "x": [
          0.17316218865244803,
          0.3334765799461546,
          null
         ],
         "y": [
          0.3817059318334255,
          0.2427323978958677,
          null
         ]
        },
        {
         "hoverinfo": "text",
         "line": {
          "color": "lightgray",
          "width": 0.08977900552486187
         },
         "mode": "lines",
         "text": [
          null
         ],
         "type": "scatter",
         "x": [
          0.17316218865244803,
          0.1020246316150319,
          null
         ],
         "y": [
          0.3817059318334255,
          -0.7972550267051448,
          null
         ]
        },
        {
         "hoverinfo": "text",
         "line": {
          "color": "lightgray",
          "width": 1.7196132596685083
         },
         "mode": "lines",
         "text": [
          null
         ],
         "type": "scatter",
         "x": [
          0.17316218865244803,
          0.5742805920521092,
          null
         ],
         "y": [
          0.3817059318334255,
          0.24444376619632752,
          null
         ]
        },
        {
         "hoverinfo": "text",
         "line": {
          "color": "lightgray",
          "width": 0.4143646408839779
         },
         "mode": "lines",
         "text": [
          null
         ],
         "type": "scatter",
         "x": [
          0.17316218865244803,
          -0.22783132808966663,
          null
         ],
         "y": [
          0.3817059318334255,
          -0.5068556748631202,
          null
         ]
        },
        {
         "hoverinfo": "text",
         "line": {
          "color": "lightgray",
          "width": 0.28314917127071826
         },
         "mode": "lines",
         "text": [
          null
         ],
         "type": "scatter",
         "x": [
          0.17316218865244803,
          -0.4190562452188107,
          null
         ],
         "y": [
          0.3817059318334255,
          0.6347740869472913,
          null
         ]
        },
        {
         "hoverinfo": "text",
         "line": {
          "color": "lightgray",
          "width": 0.28314917127071826
         },
         "mode": "lines",
         "text": [
          null
         ],
         "type": "scatter",
         "x": [
          0.17316218865244803,
          -0.5525643775236404,
          null
         ],
         "y": [
          0.3817059318334255,
          0.47794040149923195,
          null
         ]
        },
        {
         "hoverinfo": "text",
         "line": {
          "color": "lightgray",
          "width": 0.255524861878453
         },
         "mode": "lines",
         "text": [
          null
         ],
         "type": "scatter",
         "x": [
          0.17316218865244803,
          -0.6234255605909875,
          null
         ],
         "y": [
          0.3817059318334255,
          -0.23836270397398895,
          null
         ]
        },
        {
         "hoverinfo": "text",
         "line": {
          "color": "lightgray",
          "width": 0.3591160220994475
         },
         "mode": "lines",
         "text": [
          null
         ],
         "type": "scatter",
         "x": [
          -0.029940516077777042,
          -0.43895768675591185,
          null
         ],
         "y": [
          0.49753635226688014,
          -0.1329394685705638,
          null
         ]
        },
        {
         "hoverinfo": "text",
         "line": {
          "color": "lightgray",
          "width": 0.027624309392265192
         },
         "mode": "lines",
         "text": [
          null
         ],
         "type": "scatter",
         "x": [
          -0.029940516077777042,
          0.4311401860721642,
          null
         ],
         "y": [
          0.49753635226688014,
          -1,
          null
         ]
        },
        {
         "hoverinfo": "text",
         "line": {
          "color": "lightgray",
          "width": 0.26933701657458564
         },
         "mode": "lines",
         "text": [
          null
         ],
         "type": "scatter",
         "x": [
          -0.029940516077777042,
          0.49349672288283464,
          null
         ],
         "y": [
          0.49753635226688014,
          -0.36558265195867734,
          null
         ]
        },
        {
         "hoverinfo": "text",
         "line": {
          "color": "lightgray",
          "width": 0.4558011049723757
         },
         "mode": "lines",
         "text": [
          null
         ],
         "type": "scatter",
         "x": [
          -0.029940516077777042,
          0.39579338997437163,
          null
         ],
         "y": [
          0.49753635226688014,
          0.4214427508023459,
          null
         ]
        },
        {
         "hoverinfo": "text",
         "line": {
          "color": "lightgray",
          "width": 0.9944751381215469
         },
         "mode": "lines",
         "text": [
          null
         ],
         "type": "scatter",
         "x": [
          -0.029940516077777042,
          0.3145388135024674,
          null
         ],
         "y": [
          0.49753635226688014,
          0.0713904203833753,
          null
         ]
        },
        {
         "hoverinfo": "text",
         "line": {
          "color": "lightgray",
          "width": 2.1408839779005526
         },
         "mode": "lines",
         "text": [
          null
         ],
         "type": "scatter",
         "x": [
          -0.029940516077777042,
          -0.19019617605644853,
          null
         ],
         "y": [
          0.49753635226688014,
          0.6043844035234531,
          null
         ]
        },
        {
         "hoverinfo": "text",
         "line": {
          "color": "lightgray",
          "width": 0.8425414364640884
         },
         "mode": "lines",
         "text": [
          null
         ],
         "type": "scatter",
         "x": [
          -0.029940516077777042,
          0.3334765799461546,
          null
         ],
         "y": [
          0.49753635226688014,
          0.2427323978958677,
          null
         ]
        },
        {
         "hoverinfo": "text",
         "line": {
          "color": "lightgray",
          "width": 0.11049723756906077
         },
         "mode": "lines",
         "text": [
          null
         ],
         "type": "scatter",
         "x": [
          -0.029940516077777042,
          0.1020246316150319,
          null
         ],
         "y": [
          0.49753635226688014,
          -0.7972550267051448,
          null
         ]
        },
        {
         "hoverinfo": "text",
         "line": {
          "color": "lightgray",
          "width": 0.6767955801104972
         },
         "mode": "lines",
         "text": [
          null
         ],
         "type": "scatter",
         "x": [
          -0.029940516077777042,
          0.5742805920521092,
          null
         ],
         "y": [
          0.49753635226688014,
          0.24444376619632752,
          null
         ]
        },
        {
         "hoverinfo": "text",
         "line": {
          "color": "lightgray",
          "width": 0.28314917127071826
         },
         "mode": "lines",
         "text": [
          null
         ],
         "type": "scatter",
         "x": [
          -0.029940516077777042,
          -0.22783132808966663,
          null
         ],
         "y": [
          0.49753635226688014,
          -0.5068556748631202,
          null
         ]
        },
        {
         "hoverinfo": "text",
         "line": {
          "color": "lightgray",
          "width": 1.0359116022099448
         },
         "mode": "lines",
         "text": [
          null
         ],
         "type": "scatter",
         "x": [
          -0.029940516077777042,
          -0.4190562452188107,
          null
         ],
         "y": [
          0.49753635226688014,
          0.6347740869472913,
          null
         ]
        },
        {
         "hoverinfo": "text",
         "line": {
          "color": "lightgray",
          "width": 1.277624309392265
         },
         "mode": "lines",
         "text": [
          null
         ],
         "type": "scatter",
         "x": [
          -0.029940516077777042,
          -0.5525643775236404,
          null
         ],
         "y": [
          0.49753635226688014,
          0.47794040149923195,
          null
         ]
        },
        {
         "hoverinfo": "text",
         "line": {
          "color": "lightgray",
          "width": 0.20718232044198895
         },
         "mode": "lines",
         "text": [
          null
         ],
         "type": "scatter",
         "x": [
          -0.029940516077777042,
          -0.6234255605909875,
          null
         ],
         "y": [
          0.49753635226688014,
          -0.23836270397398895,
          null
         ]
        },
        {
         "hoverinfo": "text",
         "line": {
          "color": "lightgray",
          "width": 0.04834254143646409
         },
         "mode": "lines",
         "text": [
          null
         ],
         "type": "scatter",
         "x": [
          -0.43895768675591185,
          0.4311401860721642,
          null
         ],
         "y": [
          -0.1329394685705638,
          -1,
          null
         ]
        },
        {
         "hoverinfo": "text",
         "line": {
          "color": "lightgray",
          "width": 0.255524861878453
         },
         "mode": "lines",
         "text": [
          null
         ],
         "type": "scatter",
         "x": [
          -0.43895768675591185,
          0.49349672288283464,
          null
         ],
         "y": [
          -0.1329394685705638,
          -0.36558265195867734,
          null
         ]
        },
        {
         "hoverinfo": "text",
         "line": {
          "color": "lightgray",
          "width": 0.24861878453038672
         },
         "mode": "lines",
         "text": [
          null
         ],
         "type": "scatter",
         "x": [
          -0.43895768675591185,
          0.39579338997437163,
          null
         ],
         "y": [
          -0.1329394685705638,
          0.4214427508023459,
          null
         ]
        },
        {
         "hoverinfo": "text",
         "line": {
          "color": "lightgray",
          "width": 0.4074585635359116
         },
         "mode": "lines",
         "text": [
          null
         ],
         "type": "scatter",
         "x": [
          -0.43895768675591185,
          0.3145388135024674,
          null
         ],
         "y": [
          -0.1329394685705638,
          0.0713904203833753,
          null
         ]
        },
        {
         "hoverinfo": "text",
         "line": {
          "color": "lightgray",
          "width": 0.17955801104972374
         },
         "mode": "lines",
         "text": [
          null
         ],
         "type": "scatter",
         "x": [
          -0.43895768675591185,
          -0.19019617605644853,
          null
         ],
         "y": [
          -0.1329394685705638,
          0.6043844035234531,
          null
         ]
        },
        {
         "hoverinfo": "text",
         "line": {
          "color": "lightgray",
          "width": 0.26933701657458564
         },
         "mode": "lines",
         "text": [
          null
         ],
         "type": "scatter",
         "x": [
          -0.43895768675591185,
          0.3334765799461546,
          null
         ],
         "y": [
          -0.1329394685705638,
          0.2427323978958677,
          null
         ]
        },
        {
         "hoverinfo": "text",
         "line": {
          "color": "lightgray",
          "width": 0.08977900552486187
         },
         "mode": "lines",
         "text": [
          null
         ],
         "type": "scatter",
         "x": [
          -0.43895768675591185,
          0.1020246316150319,
          null
         ],
         "y": [
          -0.1329394685705638,
          -0.7972550267051448,
          null
         ]
        },
        {
         "hoverinfo": "text",
         "line": {
          "color": "lightgray",
          "width": 0.24171270718232046
         },
         "mode": "lines",
         "text": [
          null
         ],
         "type": "scatter",
         "x": [
          -0.43895768675591185,
          0.5742805920521092,
          null
         ],
         "y": [
          -0.1329394685705638,
          0.24444376619632752,
          null
         ]
        },
        {
         "hoverinfo": "text",
         "line": {
          "color": "lightgray",
          "width": 0.6422651933701657
         },
         "mode": "lines",
         "text": [
          null
         ],
         "type": "scatter",
         "x": [
          -0.43895768675591185,
          -0.22783132808966663,
          null
         ],
         "y": [
          -0.1329394685705638,
          -0.5068556748631202,
          null
         ]
        },
        {
         "hoverinfo": "text",
         "line": {
          "color": "lightgray",
          "width": 0.15883977900552487
         },
         "mode": "lines",
         "text": [
          null
         ],
         "type": "scatter",
         "x": [
          -0.43895768675591185,
          -0.4190562452188107,
          null
         ],
         "y": [
          -0.1329394685705638,
          0.6347740869472913,
          null
         ]
        },
        {
         "hoverinfo": "text",
         "line": {
          "color": "lightgray",
          "width": 0.18646408839779005
         },
         "mode": "lines",
         "text": [
          null
         ],
         "type": "scatter",
         "x": [
          -0.43895768675591185,
          -0.5525643775236404,
          null
         ],
         "y": [
          -0.1329394685705638,
          0.47794040149923195,
          null
         ]
        },
        {
         "hoverinfo": "text",
         "line": {
          "color": "lightgray",
          "width": 0.12430939226519336
         },
         "mode": "lines",
         "text": [
          null
         ],
         "type": "scatter",
         "x": [
          -0.43895768675591185,
          -0.6234255605909875,
          null
         ],
         "y": [
          -0.1329394685705638,
          -0.23836270397398895,
          null
         ]
        },
        {
         "hoverinfo": "text",
         "line": {
          "color": "lightgray",
          "width": 0.13121546961325967
         },
         "mode": "lines",
         "text": [
          null
         ],
         "type": "scatter",
         "x": [
          0.4311401860721642,
          0.49349672288283464,
          null
         ],
         "y": [
          -1,
          -0.36558265195867734,
          null
         ]
        },
        {
         "hoverinfo": "text",
         "line": {
          "color": "lightgray",
          "width": 0.020718232044198894
         },
         "mode": "lines",
         "text": [
          null
         ],
         "type": "scatter",
         "x": [
          0.4311401860721642,
          0.39579338997437163,
          null
         ],
         "y": [
          -1,
          0.4214427508023459,
          null
         ]
        },
        {
         "hoverinfo": "text",
         "line": {
          "color": "lightgray",
          "width": 0.027624309392265192
         },
         "mode": "lines",
         "text": [
          null
         ],
         "type": "scatter",
         "x": [
          0.4311401860721642,
          0.3145388135024674,
          null
         ],
         "y": [
          -1,
          0.0713904203833753,
          null
         ]
        },
        {
         "hoverinfo": "text",
         "line": {
          "color": "lightgray",
          "width": 0.020718232044198894
         },
         "mode": "lines",
         "text": [
          null
         ],
         "type": "scatter",
         "x": [
          0.4311401860721642,
          -0.19019617605644853,
          null
         ],
         "y": [
          -1,
          0.6043844035234531,
          null
         ]
        },
        {
         "hoverinfo": "text",
         "line": {
          "color": "lightgray",
          "width": 0.027624309392265192
         },
         "mode": "lines",
         "text": [
          null
         ],
         "type": "scatter",
         "x": [
          0.4311401860721642,
          0.3334765799461546,
          null
         ],
         "y": [
          -1,
          0.2427323978958677,
          null
         ]
        },
        {
         "hoverinfo": "text",
         "line": {
          "color": "lightgray",
          "width": 1.6505524861878453
         },
         "mode": "lines",
         "text": [
          null
         ],
         "type": "scatter",
         "x": [
          0.4311401860721642,
          0.1020246316150319,
          null
         ],
         "y": [
          -1,
          -0.7972550267051448,
          null
         ]
        },
        {
         "hoverinfo": "text",
         "line": {
          "color": "lightgray",
          "width": 0.020718232044198894
         },
         "mode": "lines",
         "text": [
          null
         ],
         "type": "scatter",
         "x": [
          0.4311401860721642,
          0.5742805920521092,
          null
         ],
         "y": [
          -1,
          0.24444376619632752,
          null
         ]
        },
        {
         "hoverinfo": "text",
         "line": {
          "color": "lightgray",
          "width": 0.03453038674033149
         },
         "mode": "lines",
         "text": [
          null
         ],
         "type": "scatter",
         "x": [
          0.4311401860721642,
          -0.22783132808966663,
          null
         ],
         "y": [
          -1,
          -0.5068556748631202,
          null
         ]
        },
        {
         "hoverinfo": "text",
         "line": {
          "color": "lightgray",
          "width": 0.013812154696132596
         },
         "mode": "lines",
         "text": [
          null
         ],
         "type": "scatter",
         "x": [
          0.4311401860721642,
          -0.4190562452188107,
          null
         ],
         "y": [
          -1,
          0.6347740869472913,
          null
         ]
        },
        {
         "hoverinfo": "text",
         "line": {
          "color": "lightgray",
          "width": 0.006906077348066298
         },
         "mode": "lines",
         "text": [
          null
         ],
         "type": "scatter",
         "x": [
          0.4311401860721642,
          -0.5525643775236404,
          null
         ],
         "y": [
          -1,
          0.47794040149923195,
          null
         ]
        },
        {
         "hoverinfo": "text",
         "line": {
          "color": "lightgray",
          "width": 0.006906077348066298
         },
         "mode": "lines",
         "text": [
          null
         ],
         "type": "scatter",
         "x": [
          0.4311401860721642,
          -0.6234255605909875,
          null
         ],
         "y": [
          -1,
          -0.23836270397398895,
          null
         ]
        },
        {
         "hoverinfo": "text",
         "line": {
          "color": "lightgray",
          "width": 0.18646408839779005
         },
         "mode": "lines",
         "text": [
          null
         ],
         "type": "scatter",
         "x": [
          0.49349672288283464,
          0.39579338997437163,
          null
         ],
         "y": [
          -0.36558265195867734,
          0.4214427508023459,
          null
         ]
        },
        {
         "hoverinfo": "text",
         "line": {
          "color": "lightgray",
          "width": 0.31077348066298344
         },
         "mode": "lines",
         "text": [
          null
         ],
         "type": "scatter",
         "x": [
          0.49349672288283464,
          0.3145388135024674,
          null
         ],
         "y": [
          -0.36558265195867734,
          0.0713904203833753,
          null
         ]
        },
        {
         "hoverinfo": "text",
         "line": {
          "color": "lightgray",
          "width": 0.16574585635359115
         },
         "mode": "lines",
         "text": [
          null
         ],
         "type": "scatter",
         "x": [
          0.49349672288283464,
          -0.19019617605644853,
          null
         ],
         "y": [
          -0.36558265195867734,
          0.6043844035234531,
          null
         ]
        },
        {
         "hoverinfo": "text",
         "line": {
          "color": "lightgray",
          "width": 0.255524861878453
         },
         "mode": "lines",
         "text": [
          null
         ],
         "type": "scatter",
         "x": [
          0.49349672288283464,
          0.3334765799461546,
          null
         ],
         "y": [
          -0.36558265195867734,
          0.2427323978958677,
          null
         ]
        },
        {
         "hoverinfo": "text",
         "line": {
          "color": "lightgray",
          "width": 0.3453038674033149
         },
         "mode": "lines",
         "text": [
          null
         ],
         "type": "scatter",
         "x": [
          0.49349672288283464,
          0.1020246316150319,
          null
         ],
         "y": [
          -0.36558265195867734,
          -0.7972550267051448,
          null
         ]
        },
        {
         "hoverinfo": "text",
         "line": {
          "color": "lightgray",
          "width": 0.20027624309392267
         },
         "mode": "lines",
         "text": [
          null
         ],
         "type": "scatter",
         "x": [
          0.49349672288283464,
          0.5742805920521092,
          null
         ],
         "y": [
          -0.36558265195867734,
          0.24444376619632752,
          null
         ]
        },
        {
         "hoverinfo": "text",
         "line": {
          "color": "lightgray",
          "width": 0.11049723756906077
         },
         "mode": "lines",
         "text": [
          null
         ],
         "type": "scatter",
         "x": [
          0.49349672288283464,
          -0.22783132808966663,
          null
         ],
         "y": [
          -0.36558265195867734,
          -0.5068556748631202,
          null
         ]
        },
        {
         "hoverinfo": "text",
         "line": {
          "color": "lightgray",
          "width": 0.13812154696132595
         },
         "mode": "lines",
         "text": [
          null
         ],
         "type": "scatter",
         "x": [
          0.49349672288283464,
          -0.4190562452188107,
          null
         ],
         "y": [
          -0.36558265195867734,
          0.6347740869472913,
          null
         ]
        },
        {
         "hoverinfo": "text",
         "line": {
          "color": "lightgray",
          "width": 0.12430939226519336
         },
         "mode": "lines",
         "text": [
          null
         ],
         "type": "scatter",
         "x": [
          0.49349672288283464,
          -0.5525643775236404,
          null
         ],
         "y": [
          -0.36558265195867734,
          0.47794040149923195,
          null
         ]
        },
        {
         "hoverinfo": "text",
         "line": {
          "color": "lightgray",
          "width": 0.20027624309392267
         },
         "mode": "lines",
         "text": [
          null
         ],
         "type": "scatter",
         "x": [
          0.49349672288283464,
          -0.6234255605909875,
          null
         ],
         "y": [
          -0.36558265195867734,
          -0.23836270397398895,
          null
         ]
        },
        {
         "hoverinfo": "text",
         "line": {
          "color": "lightgray",
          "width": 1.7610497237569063
         },
         "mode": "lines",
         "text": [
          null
         ],
         "type": "scatter",
         "x": [
          0.39579338997437163,
          0.3145388135024674,
          null
         ],
         "y": [
          0.4214427508023459,
          0.0713904203833753,
          null
         ]
        },
        {
         "hoverinfo": "text",
         "line": {
          "color": "lightgray",
          "width": 0.22099447513812154
         },
         "mode": "lines",
         "text": [
          null
         ],
         "type": "scatter",
         "x": [
          0.39579338997437163,
          -0.19019617605644853,
          null
         ],
         "y": [
          0.4214427508023459,
          0.6043844035234531,
          null
         ]
        },
        {
         "hoverinfo": "text",
         "line": {
          "color": "lightgray",
          "width": 1.8646408839779005
         },
         "mode": "lines",
         "text": [
          null
         ],
         "type": "scatter",
         "x": [
          0.39579338997437163,
          0.3334765799461546,
          null
         ],
         "y": [
          0.4214427508023459,
          0.2427323978958677,
          null
         ]
        },
        {
         "hoverinfo": "text",
         "line": {
          "color": "lightgray",
          "width": 0.06215469613259668
         },
         "mode": "lines",
         "text": [
          null
         ],
         "type": "scatter",
         "x": [
          0.39579338997437163,
          0.1020246316150319,
          null
         ],
         "y": [
          0.4214427508023459,
          -0.7972550267051448,
          null
         ]
        },
        {
         "hoverinfo": "text",
         "line": {
          "color": "lightgray",
          "width": 1.8232044198895028
         },
         "mode": "lines",
         "text": [
          null
         ],
         "type": "scatter",
         "x": [
          0.39579338997437163,
          0.5742805920521092,
          null
         ],
         "y": [
          0.4214427508023459,
          0.24444376619632752,
          null
         ]
        },
        {
         "hoverinfo": "text",
         "line": {
          "color": "lightgray",
          "width": 0.3383977900552486
         },
         "mode": "lines",
         "text": [
          null
         ],
         "type": "scatter",
         "x": [
          0.39579338997437163,
          -0.22783132808966663,
          null
         ],
         "y": [
          0.4214427508023459,
          -0.5068556748631202,
          null
         ]
        },
        {
         "hoverinfo": "text",
         "line": {
          "color": "lightgray",
          "width": 0.20027624309392267
         },
         "mode": "lines",
         "text": [
          null
         ],
         "type": "scatter",
         "x": [
          0.39579338997437163,
          -0.4190562452188107,
          null
         ],
         "y": [
          0.4214427508023459,
          0.6347740869472913,
          null
         ]
        },
        {
         "hoverinfo": "text",
         "line": {
          "color": "lightgray",
          "width": 0.21408839779005526
         },
         "mode": "lines",
         "text": [
          null
         ],
         "type": "scatter",
         "x": [
          0.39579338997437163,
          -0.5525643775236404,
          null
         ],
         "y": [
          0.4214427508023459,
          0.47794040149923195,
          null
         ]
        },
        {
         "hoverinfo": "text",
         "line": {
          "color": "lightgray",
          "width": 0.255524861878453
         },
         "mode": "lines",
         "text": [
          null
         ],
         "type": "scatter",
         "x": [
          0.39579338997437163,
          -0.6234255605909875,
          null
         ],
         "y": [
          0.4214427508023459,
          -0.23836270397398895,
          null
         ]
        },
        {
         "hoverinfo": "text",
         "line": {
          "color": "lightgray",
          "width": 0.2762430939226519
         },
         "mode": "lines",
         "text": [
          null
         ],
         "type": "scatter",
         "x": [
          0.3145388135024674,
          -0.19019617605644853,
          null
         ],
         "y": [
          0.0713904203833753,
          0.6043844035234531,
          null
         ]
        },
        {
         "hoverinfo": "text",
         "line": {
          "color": "lightgray",
          "width": 1.7748618784530388
         },
         "mode": "lines",
         "text": [
          null
         ],
         "type": "scatter",
         "x": [
          0.3145388135024674,
          0.3334765799461546,
          null
         ],
         "y": [
          0.0713904203833753,
          0.2427323978958677,
          null
         ]
        },
        {
         "hoverinfo": "text",
         "line": {
          "color": "lightgray",
          "width": 0.08287292817679558
         },
         "mode": "lines",
         "text": [
          null
         ],
         "type": "scatter",
         "x": [
          0.3145388135024674,
          0.1020246316150319,
          null
         ],
         "y": [
          0.0713904203833753,
          -0.7972550267051448,
          null
         ]
        },
        {
         "hoverinfo": "text",
         "line": {
          "color": "lightgray",
          "width": 1.671270718232044
         },
         "mode": "lines",
         "text": [
          null
         ],
         "type": "scatter",
         "x": [
          0.3145388135024674,
          0.5742805920521092,
          null
         ],
         "y": [
          0.0713904203833753,
          0.24444376619632752,
          null
         ]
        },
        {
         "hoverinfo": "text",
         "line": {
          "color": "lightgray",
          "width": 0.4074585635359116
         },
         "mode": "lines",
         "text": [
          null
         ],
         "type": "scatter",
         "x": [
          0.3145388135024674,
          -0.22783132808966663,
          null
         ],
         "y": [
          0.0713904203833753,
          -0.5068556748631202,
          null
         ]
        },
        {
         "hoverinfo": "text",
         "line": {
          "color": "lightgray",
          "width": 0.28314917127071826
         },
         "mode": "lines",
         "text": [
          null
         ],
         "type": "scatter",
         "x": [
          0.3145388135024674,
          -0.4190562452188107,
          null
         ],
         "y": [
          0.0713904203833753,
          0.6347740869472913,
          null
         ]
        },
        {
         "hoverinfo": "text",
         "line": {
          "color": "lightgray",
          "width": 0.23480662983425413
         },
         "mode": "lines",
         "text": [
          null
         ],
         "type": "scatter",
         "x": [
          0.3145388135024674,
          -0.5525643775236404,
          null
         ],
         "y": [
          0.0713904203833753,
          0.47794040149923195,
          null
         ]
        },
        {
         "hoverinfo": "text",
         "line": {
          "color": "lightgray",
          "width": 0.22790055248618785
         },
         "mode": "lines",
         "text": [
          null
         ],
         "type": "scatter",
         "x": [
          0.3145388135024674,
          -0.6234255605909875,
          null
         ],
         "y": [
          0.0713904203833753,
          -0.23836270397398895,
          null
         ]
        },
        {
         "hoverinfo": "text",
         "line": {
          "color": "lightgray",
          "width": 0.26243093922651933
         },
         "mode": "lines",
         "text": [
          null
         ],
         "type": "scatter",
         "x": [
          -0.19019617605644853,
          0.3334765799461546,
          null
         ],
         "y": [
          0.6043844035234531,
          0.2427323978958677,
          null
         ]
        },
        {
         "hoverinfo": "text",
         "line": {
          "color": "lightgray",
          "width": 0.07596685082872928
         },
         "mode": "lines",
         "text": [
          null
         ],
         "type": "scatter",
         "x": [
          -0.19019617605644853,
          0.1020246316150319,
          null
         ],
         "y": [
          0.6043844035234531,
          -0.7972550267051448,
          null
         ]
        },
        {
         "hoverinfo": "text",
         "line": {
          "color": "lightgray",
          "width": 0.18646408839779005
         },
         "mode": "lines",
         "text": [
          null
         ],
         "type": "scatter",
         "x": [
          -0.19019617605644853,
          0.5742805920521092,
          null
         ],
         "y": [
          0.6043844035234531,
          0.24444376619632752,
          null
         ]
        },
        {
         "hoverinfo": "text",
         "line": {
          "color": "lightgray",
          "width": 0.10359116022099447
         },
         "mode": "lines",
         "text": [
          null
         ],
         "type": "scatter",
         "x": [
          -0.19019617605644853,
          -0.22783132808966663,
          null
         ],
         "y": [
          0.6043844035234531,
          -0.5068556748631202,
          null
         ]
        },
        {
         "hoverinfo": "text",
         "line": {
          "color": "lightgray",
          "width": 1.8646408839779005
         },
         "mode": "lines",
         "text": [
          null
         ],
         "type": "scatter",
         "x": [
          -0.19019617605644853,
          -0.4190562452188107,
          null
         ],
         "y": [
          0.6043844035234531,
          0.6347740869472913,
          null
         ]
        },
        {
         "hoverinfo": "text",
         "line": {
          "color": "lightgray",
          "width": 2.113259668508287
         },
         "mode": "lines",
         "text": [
          null
         ],
         "type": "scatter",
         "x": [
          -0.19019617605644853,
          -0.5525643775236404,
          null
         ],
         "y": [
          0.6043844035234531,
          0.47794040149923195,
          null
         ]
        },
        {
         "hoverinfo": "text",
         "line": {
          "color": "lightgray",
          "width": 0.11740331491712706
         },
         "mode": "lines",
         "text": [
          null
         ],
         "type": "scatter",
         "x": [
          -0.19019617605644853,
          -0.6234255605909875,
          null
         ],
         "y": [
          0.6043844035234531,
          -0.23836270397398895,
          null
         ]
        },
        {
         "hoverinfo": "text",
         "line": {
          "color": "lightgray",
          "width": 0.12430939226519336
         },
         "mode": "lines",
         "text": [
          null
         ],
         "type": "scatter",
         "x": [
          0.3334765799461546,
          0.1020246316150319,
          null
         ],
         "y": [
          0.2427323978958677,
          -0.7972550267051448,
          null
         ]
        },
        {
         "hoverinfo": "text",
         "line": {
          "color": "lightgray",
          "width": 2.755524861878453
         },
         "mode": "lines",
         "text": [
          null
         ],
         "type": "scatter",
         "x": [
          0.3334765799461546,
          0.5742805920521092,
          null
         ],
         "y": [
          0.2427323978958677,
          0.24444376619632752,
          null
         ]
        },
        {
         "hoverinfo": "text",
         "line": {
          "color": "lightgray",
          "width": 0.4834254143646409
         },
         "mode": "lines",
         "text": [
          null
         ],
         "type": "scatter",
         "x": [
          0.3334765799461546,
          -0.22783132808966663,
          null
         ],
         "y": [
          0.2427323978958677,
          -0.5068556748631202,
          null
         ]
        },
        {
         "hoverinfo": "text",
         "line": {
          "color": "lightgray",
          "width": 0.26933701657458564
         },
         "mode": "lines",
         "text": [
          null
         ],
         "type": "scatter",
         "x": [
          0.3334765799461546,
          -0.4190562452188107,
          null
         ],
         "y": [
          0.2427323978958677,
          0.6347740869472913,
          null
         ]
        },
        {
         "hoverinfo": "text",
         "line": {
          "color": "lightgray",
          "width": 0.26933701657458564
         },
         "mode": "lines",
         "text": [
          null
         ],
         "type": "scatter",
         "x": [
          0.3334765799461546,
          -0.5525643775236404,
          null
         ],
         "y": [
          0.2427323978958677,
          0.47794040149923195,
          null
         ]
        },
        {
         "hoverinfo": "text",
         "line": {
          "color": "lightgray",
          "width": 0.18646408839779005
         },
         "mode": "lines",
         "text": [
          null
         ],
         "type": "scatter",
         "x": [
          0.3334765799461546,
          -0.6234255605909875,
          null
         ],
         "y": [
          0.2427323978958677,
          -0.23836270397398895,
          null
         ]
        },
        {
         "hoverinfo": "text",
         "line": {
          "color": "lightgray",
          "width": 0.09668508287292818
         },
         "mode": "lines",
         "text": [
          null
         ],
         "type": "scatter",
         "x": [
          0.1020246316150319,
          0.5742805920521092,
          null
         ],
         "y": [
          -0.7972550267051448,
          0.24444376619632752,
          null
         ]
        },
        {
         "hoverinfo": "text",
         "line": {
          "color": "lightgray",
          "width": 0.06906077348066297
         },
         "mode": "lines",
         "text": [
          null
         ],
         "type": "scatter",
         "x": [
          0.1020246316150319,
          -0.22783132808966663,
          null
         ],
         "y": [
          -0.7972550267051448,
          -0.5068556748631202,
          null
         ]
        },
        {
         "hoverinfo": "text",
         "line": {
          "color": "lightgray",
          "width": 0.055248618784530384
         },
         "mode": "lines",
         "text": [
          null
         ],
         "type": "scatter",
         "x": [
          0.1020246316150319,
          -0.4190562452188107,
          null
         ],
         "y": [
          -0.7972550267051448,
          0.6347740869472913,
          null
         ]
        },
        {
         "hoverinfo": "text",
         "line": {
          "color": "lightgray",
          "width": 0.055248618784530384
         },
         "mode": "lines",
         "text": [
          null
         ],
         "type": "scatter",
         "x": [
          0.1020246316150319,
          -0.5525643775236404,
          null
         ],
         "y": [
          -0.7972550267051448,
          0.47794040149923195,
          null
         ]
        },
        {
         "hoverinfo": "text",
         "line": {
          "color": "lightgray",
          "width": 0.08977900552486187
         },
         "mode": "lines",
         "text": [
          null
         ],
         "type": "scatter",
         "x": [
          0.1020246316150319,
          -0.6234255605909875,
          null
         ],
         "y": [
          -0.7972550267051448,
          -0.23836270397398895,
          null
         ]
        },
        {
         "hoverinfo": "text",
         "line": {
          "color": "lightgray",
          "width": 0.3660220994475138
         },
         "mode": "lines",
         "text": [
          null
         ],
         "type": "scatter",
         "x": [
          0.5742805920521092,
          -0.22783132808966663,
          null
         ],
         "y": [
          0.24444376619632752,
          -0.5068556748631202,
          null
         ]
        },
        {
         "hoverinfo": "text",
         "line": {
          "color": "lightgray",
          "width": 0.11740331491712706
         },
         "mode": "lines",
         "text": [
          null
         ],
         "type": "scatter",
         "x": [
          0.5742805920521092,
          -0.4190562452188107,
          null
         ],
         "y": [
          0.24444376619632752,
          0.6347740869472913,
          null
         ]
        },
        {
         "hoverinfo": "text",
         "line": {
          "color": "lightgray",
          "width": 0.17265193370165746
         },
         "mode": "lines",
         "text": [
          null
         ],
         "type": "scatter",
         "x": [
          0.5742805920521092,
          -0.5525643775236404,
          null
         ],
         "y": [
          0.24444376619632752,
          0.47794040149923195,
          null
         ]
        },
        {
         "hoverinfo": "text",
         "line": {
          "color": "lightgray",
          "width": 0.17265193370165746
         },
         "mode": "lines",
         "text": [
          null
         ],
         "type": "scatter",
         "x": [
          0.5742805920521092,
          -0.6234255605909875,
          null
         ],
         "y": [
          0.24444376619632752,
          -0.23836270397398895,
          null
         ]
        },
        {
         "hoverinfo": "text",
         "line": {
          "color": "lightgray",
          "width": 0.08287292817679558
         },
         "mode": "lines",
         "text": [
          null
         ],
         "type": "scatter",
         "x": [
          -0.22783132808966663,
          -0.4190562452188107,
          null
         ],
         "y": [
          -0.5068556748631202,
          0.6347740869472913,
          null
         ]
        },
        {
         "hoverinfo": "text",
         "line": {
          "color": "lightgray",
          "width": 0.07596685082872928
         },
         "mode": "lines",
         "text": [
          null
         ],
         "type": "scatter",
         "x": [
          -0.22783132808966663,
          -0.5525643775236404,
          null
         ],
         "y": [
          -0.5068556748631202,
          0.47794040149923195,
          null
         ]
        },
        {
         "hoverinfo": "text",
         "line": {
          "color": "lightgray",
          "width": 0.11049723756906077
         },
         "mode": "lines",
         "text": [
          null
         ],
         "type": "scatter",
         "x": [
          -0.22783132808966663,
          -0.6234255605909875,
          null
         ],
         "y": [
          -0.5068556748631202,
          -0.23836270397398895,
          null
         ]
        },
        {
         "hoverinfo": "text",
         "line": {
          "color": "lightgray",
          "width": 1.8577348066298343
         },
         "mode": "lines",
         "text": [
          null
         ],
         "type": "scatter",
         "x": [
          -0.4190562452188107,
          -0.5525643775236404,
          null
         ],
         "y": [
          0.6347740869472913,
          0.47794040149923195,
          null
         ]
        },
        {
         "hoverinfo": "text",
         "line": {
          "color": "lightgray",
          "width": 0.10359116022099447
         },
         "mode": "lines",
         "text": [
          null
         ],
         "type": "scatter",
         "x": [
          -0.4190562452188107,
          -0.6234255605909875,
          null
         ],
         "y": [
          0.6347740869472913,
          -0.23836270397398895,
          null
         ]
        },
        {
         "hoverinfo": "text",
         "line": {
          "color": "lightgray",
          "width": 0.11740331491712706
         },
         "mode": "lines",
         "text": [
          null
         ],
         "type": "scatter",
         "x": [
          -0.5525643775236404,
          -0.6234255605909875,
          null
         ],
         "y": [
          0.47794040149923195,
          -0.23836270397398895,
          null
         ]
        },
        {
         "hoverinfo": "none",
         "marker": {
          "color": [
           "darkred",
           "darkblue",
           "gold",
           "gray",
           "lightblue",
           "gray",
           "gray",
           "forestgreen",
           "gray",
           "gray",
           "gray",
           "gray",
           "purple",
           "gray",
           "gray",
           "gray",
           "gray",
           "gray",
           "gray",
           "gray",
           "gray",
           "gray",
           "gray",
           "gray",
           "gray"
          ],
          "line": {
           "color": [
            "black",
            "black",
            "black",
            "darkgray",
            "black",
            "darkgray",
            "darkgray",
            "black",
            "darkgray",
            "darkgray",
            "darkgray",
            "darkgray",
            "black",
            "darkgray",
            "darkgray",
            "darkgray",
            "darkgray",
            "darkgray",
            "darkgray",
            "darkgray",
            "darkgray",
            "darkgray",
            "darkgray",
            "darkgray",
            "darkgray"
           ],
           "width": [
            2,
            2,
            2,
            2,
            2,
            2,
            2,
            2,
            2,
            2,
            2,
            2,
            2,
            2,
            2,
            2,
            2,
            2,
            2,
            2,
            2,
            2,
            2,
            2,
            2
           ]
          },
          "size": [
           20,
           26,
           21,
           23,
           18,
           22,
           22,
           11,
           13,
           21,
           20,
           15,
           8,
           8,
           8,
           16,
           19,
           13,
           19,
           9,
           16,
           9,
           12,
           12,
           7
          ]
         },
         "mode": "markers+text",
         "text": [
          "SPIDER-MAN",
          "<b>CAPTAIN AMERICA</b>",
          "IRON MAN",
          "THING",
          "THOR",
          "HUMAN TORCH",
          "MR. FANTASTIC",
          "HULK",
          "WOLVERINE",
          "INVISIBLE WOMAN",
          "SCARLET WITCH",
          "BEAST",
          "DR. STRANGE",
          "WATSON-PARKER, MARY",
          "DAREDEVIL",
          "HAWK",
          "VISION",
          "CYCLOPS",
          "WASP",
          "JAMESON, J. JONAH",
          "ANT-MAN",
          "SUB-MARINER",
          "STORM",
          "PROFESSOR X",
          "FURY, COL. NICHOLAS"
         ],
         "textfont": {
          "size": 10
         },
         "textposition": "top center",
         "type": "scatter",
         "x": [
          0.17932918915110413,
          0.01695818182761856,
          0.2261531781758647,
          -0.1622422179065234,
          0.43996902047820025,
          -0.17642964434986438,
          -0.07727870299744441,
          -0.28706229895684193,
          -0.5719710857398749,
          0.0766331659334106,
          0.17316218865244803,
          -0.029940516077777042,
          -0.43895768675591185,
          0.4311401860721642,
          0.49349672288283464,
          0.39579338997437163,
          0.3145388135024674,
          -0.19019617605644853,
          0.3334765799461546,
          0.1020246316150319,
          0.5742805920521092,
          -0.22783132808966663,
          -0.4190562452188107,
          -0.5525643775236404,
          -0.6234255605909875
         ],
         "y": [
          -0.49109964523498817,
          0.13224311846215706,
          -0.01681913206180749,
          0.03157460071272584,
          -0.04532153885137943,
          -0.1241957269776414,
          -0.3027290481547731,
          0.18616900705929007,
          0.27239188998547575,
          -0.17756851021576395,
          0.3817059318334255,
          0.49753635226688014,
          -0.1329394685705638,
          -1,
          -0.36558265195867734,
          0.4214427508023459,
          0.0713904203833753,
          0.6043844035234531,
          0.2427323978958677,
          -0.7972550267051448,
          0.24444376619632752,
          -0.5068556748631202,
          0.6347740869472913,
          0.47794040149923195,
          -0.23836270397398895
         ]
        }
       ],
       "layout": {
        "paper_bgcolor": "rgba(0,0,0,0)",
        "plot_bgcolor": "rgba(0,0,0,0)",
        "showlegend": false,
        "template": {
         "data": {
          "bar": [
           {
            "error_x": {
             "color": "#2a3f5f"
            },
            "error_y": {
             "color": "#2a3f5f"
            },
            "marker": {
             "line": {
              "color": "#E5ECF6",
              "width": 0.5
             },
             "pattern": {
              "fillmode": "overlay",
              "size": 10,
              "solidity": 0.2
             }
            },
            "type": "bar"
           }
          ],
          "barpolar": [
           {
            "marker": {
             "line": {
              "color": "#E5ECF6",
              "width": 0.5
             },
             "pattern": {
              "fillmode": "overlay",
              "size": 10,
              "solidity": 0.2
             }
            },
            "type": "barpolar"
           }
          ],
          "carpet": [
           {
            "aaxis": {
             "endlinecolor": "#2a3f5f",
             "gridcolor": "white",
             "linecolor": "white",
             "minorgridcolor": "white",
             "startlinecolor": "#2a3f5f"
            },
            "baxis": {
             "endlinecolor": "#2a3f5f",
             "gridcolor": "white",
             "linecolor": "white",
             "minorgridcolor": "white",
             "startlinecolor": "#2a3f5f"
            },
            "type": "carpet"
           }
          ],
          "choropleth": [
           {
            "colorbar": {
             "outlinewidth": 0,
             "ticks": ""
            },
            "type": "choropleth"
           }
          ],
          "contour": [
           {
            "colorbar": {
             "outlinewidth": 0,
             "ticks": ""
            },
            "colorscale": [
             [
              0,
              "#0d0887"
             ],
             [
              0.1111111111111111,
              "#46039f"
             ],
             [
              0.2222222222222222,
              "#7201a8"
             ],
             [
              0.3333333333333333,
              "#9c179e"
             ],
             [
              0.4444444444444444,
              "#bd3786"
             ],
             [
              0.5555555555555556,
              "#d8576b"
             ],
             [
              0.6666666666666666,
              "#ed7953"
             ],
             [
              0.7777777777777778,
              "#fb9f3a"
             ],
             [
              0.8888888888888888,
              "#fdca26"
             ],
             [
              1,
              "#f0f921"
             ]
            ],
            "type": "contour"
           }
          ],
          "contourcarpet": [
           {
            "colorbar": {
             "outlinewidth": 0,
             "ticks": ""
            },
            "type": "contourcarpet"
           }
          ],
          "heatmap": [
           {
            "colorbar": {
             "outlinewidth": 0,
             "ticks": ""
            },
            "colorscale": [
             [
              0,
              "#0d0887"
             ],
             [
              0.1111111111111111,
              "#46039f"
             ],
             [
              0.2222222222222222,
              "#7201a8"
             ],
             [
              0.3333333333333333,
              "#9c179e"
             ],
             [
              0.4444444444444444,
              "#bd3786"
             ],
             [
              0.5555555555555556,
              "#d8576b"
             ],
             [
              0.6666666666666666,
              "#ed7953"
             ],
             [
              0.7777777777777778,
              "#fb9f3a"
             ],
             [
              0.8888888888888888,
              "#fdca26"
             ],
             [
              1,
              "#f0f921"
             ]
            ],
            "type": "heatmap"
           }
          ],
          "heatmapgl": [
           {
            "colorbar": {
             "outlinewidth": 0,
             "ticks": ""
            },
            "colorscale": [
             [
              0,
              "#0d0887"
             ],
             [
              0.1111111111111111,
              "#46039f"
             ],
             [
              0.2222222222222222,
              "#7201a8"
             ],
             [
              0.3333333333333333,
              "#9c179e"
             ],
             [
              0.4444444444444444,
              "#bd3786"
             ],
             [
              0.5555555555555556,
              "#d8576b"
             ],
             [
              0.6666666666666666,
              "#ed7953"
             ],
             [
              0.7777777777777778,
              "#fb9f3a"
             ],
             [
              0.8888888888888888,
              "#fdca26"
             ],
             [
              1,
              "#f0f921"
             ]
            ],
            "type": "heatmapgl"
           }
          ],
          "histogram": [
           {
            "marker": {
             "pattern": {
              "fillmode": "overlay",
              "size": 10,
              "solidity": 0.2
             }
            },
            "type": "histogram"
           }
          ],
          "histogram2d": [
           {
            "colorbar": {
             "outlinewidth": 0,
             "ticks": ""
            },
            "colorscale": [
             [
              0,
              "#0d0887"
             ],
             [
              0.1111111111111111,
              "#46039f"
             ],
             [
              0.2222222222222222,
              "#7201a8"
             ],
             [
              0.3333333333333333,
              "#9c179e"
             ],
             [
              0.4444444444444444,
              "#bd3786"
             ],
             [
              0.5555555555555556,
              "#d8576b"
             ],
             [
              0.6666666666666666,
              "#ed7953"
             ],
             [
              0.7777777777777778,
              "#fb9f3a"
             ],
             [
              0.8888888888888888,
              "#fdca26"
             ],
             [
              1,
              "#f0f921"
             ]
            ],
            "type": "histogram2d"
           }
          ],
          "histogram2dcontour": [
           {
            "colorbar": {
             "outlinewidth": 0,
             "ticks": ""
            },
            "colorscale": [
             [
              0,
              "#0d0887"
             ],
             [
              0.1111111111111111,
              "#46039f"
             ],
             [
              0.2222222222222222,
              "#7201a8"
             ],
             [
              0.3333333333333333,
              "#9c179e"
             ],
             [
              0.4444444444444444,
              "#bd3786"
             ],
             [
              0.5555555555555556,
              "#d8576b"
             ],
             [
              0.6666666666666666,
              "#ed7953"
             ],
             [
              0.7777777777777778,
              "#fb9f3a"
             ],
             [
              0.8888888888888888,
              "#fdca26"
             ],
             [
              1,
              "#f0f921"
             ]
            ],
            "type": "histogram2dcontour"
           }
          ],
          "mesh3d": [
           {
            "colorbar": {
             "outlinewidth": 0,
             "ticks": ""
            },
            "type": "mesh3d"
           }
          ],
          "parcoords": [
           {
            "line": {
             "colorbar": {
              "outlinewidth": 0,
              "ticks": ""
             }
            },
            "type": "parcoords"
           }
          ],
          "pie": [
           {
            "automargin": true,
            "type": "pie"
           }
          ],
          "scatter": [
           {
            "fillpattern": {
             "fillmode": "overlay",
             "size": 10,
             "solidity": 0.2
            },
            "type": "scatter"
           }
          ],
          "scatter3d": [
           {
            "line": {
             "colorbar": {
              "outlinewidth": 0,
              "ticks": ""
             }
            },
            "marker": {
             "colorbar": {
              "outlinewidth": 0,
              "ticks": ""
             }
            },
            "type": "scatter3d"
           }
          ],
          "scattercarpet": [
           {
            "marker": {
             "colorbar": {
              "outlinewidth": 0,
              "ticks": ""
             }
            },
            "type": "scattercarpet"
           }
          ],
          "scattergeo": [
           {
            "marker": {
             "colorbar": {
              "outlinewidth": 0,
              "ticks": ""
             }
            },
            "type": "scattergeo"
           }
          ],
          "scattergl": [
           {
            "marker": {
             "colorbar": {
              "outlinewidth": 0,
              "ticks": ""
             }
            },
            "type": "scattergl"
           }
          ],
          "scattermapbox": [
           {
            "marker": {
             "colorbar": {
              "outlinewidth": 0,
              "ticks": ""
             }
            },
            "type": "scattermapbox"
           }
          ],
          "scatterpolar": [
           {
            "marker": {
             "colorbar": {
              "outlinewidth": 0,
              "ticks": ""
             }
            },
            "type": "scatterpolar"
           }
          ],
          "scatterpolargl": [
           {
            "marker": {
             "colorbar": {
              "outlinewidth": 0,
              "ticks": ""
             }
            },
            "type": "scatterpolargl"
           }
          ],
          "scatterternary": [
           {
            "marker": {
             "colorbar": {
              "outlinewidth": 0,
              "ticks": ""
             }
            },
            "type": "scatterternary"
           }
          ],
          "surface": [
           {
            "colorbar": {
             "outlinewidth": 0,
             "ticks": ""
            },
            "colorscale": [
             [
              0,
              "#0d0887"
             ],
             [
              0.1111111111111111,
              "#46039f"
             ],
             [
              0.2222222222222222,
              "#7201a8"
             ],
             [
              0.3333333333333333,
              "#9c179e"
             ],
             [
              0.4444444444444444,
              "#bd3786"
             ],
             [
              0.5555555555555556,
              "#d8576b"
             ],
             [
              0.6666666666666666,
              "#ed7953"
             ],
             [
              0.7777777777777778,
              "#fb9f3a"
             ],
             [
              0.8888888888888888,
              "#fdca26"
             ],
             [
              1,
              "#f0f921"
             ]
            ],
            "type": "surface"
           }
          ],
          "table": [
           {
            "cells": {
             "fill": {
              "color": "#EBF0F8"
             },
             "line": {
              "color": "white"
             }
            },
            "header": {
             "fill": {
              "color": "#C8D4E3"
             },
             "line": {
              "color": "white"
             }
            },
            "type": "table"
           }
          ]
         },
         "layout": {
          "annotationdefaults": {
           "arrowcolor": "#2a3f5f",
           "arrowhead": 0,
           "arrowwidth": 1
          },
          "autotypenumbers": "strict",
          "coloraxis": {
           "colorbar": {
            "outlinewidth": 0,
            "ticks": ""
           }
          },
          "colorscale": {
           "diverging": [
            [
             0,
             "#8e0152"
            ],
            [
             0.1,
             "#c51b7d"
            ],
            [
             0.2,
             "#de77ae"
            ],
            [
             0.3,
             "#f1b6da"
            ],
            [
             0.4,
             "#fde0ef"
            ],
            [
             0.5,
             "#f7f7f7"
            ],
            [
             0.6,
             "#e6f5d0"
            ],
            [
             0.7,
             "#b8e186"
            ],
            [
             0.8,
             "#7fbc41"
            ],
            [
             0.9,
             "#4d9221"
            ],
            [
             1,
             "#276419"
            ]
           ],
           "sequential": [
            [
             0,
             "#0d0887"
            ],
            [
             0.1111111111111111,
             "#46039f"
            ],
            [
             0.2222222222222222,
             "#7201a8"
            ],
            [
             0.3333333333333333,
             "#9c179e"
            ],
            [
             0.4444444444444444,
             "#bd3786"
            ],
            [
             0.5555555555555556,
             "#d8576b"
            ],
            [
             0.6666666666666666,
             "#ed7953"
            ],
            [
             0.7777777777777778,
             "#fb9f3a"
            ],
            [
             0.8888888888888888,
             "#fdca26"
            ],
            [
             1,
             "#f0f921"
            ]
           ],
           "sequentialminus": [
            [
             0,
             "#0d0887"
            ],
            [
             0.1111111111111111,
             "#46039f"
            ],
            [
             0.2222222222222222,
             "#7201a8"
            ],
            [
             0.3333333333333333,
             "#9c179e"
            ],
            [
             0.4444444444444444,
             "#bd3786"
            ],
            [
             0.5555555555555556,
             "#d8576b"
            ],
            [
             0.6666666666666666,
             "#ed7953"
            ],
            [
             0.7777777777777778,
             "#fb9f3a"
            ],
            [
             0.8888888888888888,
             "#fdca26"
            ],
            [
             1,
             "#f0f921"
            ]
           ]
          },
          "colorway": [
           "#636efa",
           "#EF553B",
           "#00cc96",
           "#ab63fa",
           "#FFA15A",
           "#19d3f3",
           "#FF6692",
           "#B6E880",
           "#FF97FF",
           "#FECB52"
          ],
          "font": {
           "color": "#2a3f5f"
          },
          "geo": {
           "bgcolor": "white",
           "lakecolor": "white",
           "landcolor": "#E5ECF6",
           "showlakes": true,
           "showland": true,
           "subunitcolor": "white"
          },
          "hoverlabel": {
           "align": "left"
          },
          "hovermode": "closest",
          "mapbox": {
           "style": "light"
          },
          "paper_bgcolor": "white",
          "plot_bgcolor": "#E5ECF6",
          "polar": {
           "angularaxis": {
            "gridcolor": "white",
            "linecolor": "white",
            "ticks": ""
           },
           "bgcolor": "#E5ECF6",
           "radialaxis": {
            "gridcolor": "white",
            "linecolor": "white",
            "ticks": ""
           }
          },
          "scene": {
           "xaxis": {
            "backgroundcolor": "#E5ECF6",
            "gridcolor": "white",
            "gridwidth": 2,
            "linecolor": "white",
            "showbackground": true,
            "ticks": "",
            "zerolinecolor": "white"
           },
           "yaxis": {
            "backgroundcolor": "#E5ECF6",
            "gridcolor": "white",
            "gridwidth": 2,
            "linecolor": "white",
            "showbackground": true,
            "ticks": "",
            "zerolinecolor": "white"
           },
           "zaxis": {
            "backgroundcolor": "#E5ECF6",
            "gridcolor": "white",
            "gridwidth": 2,
            "linecolor": "white",
            "showbackground": true,
            "ticks": "",
            "zerolinecolor": "white"
           }
          },
          "shapedefaults": {
           "line": {
            "color": "#2a3f5f"
           }
          },
          "ternary": {
           "aaxis": {
            "gridcolor": "white",
            "linecolor": "white",
            "ticks": ""
           },
           "baxis": {
            "gridcolor": "white",
            "linecolor": "white",
            "ticks": ""
           },
           "bgcolor": "#E5ECF6",
           "caxis": {
            "gridcolor": "white",
            "linecolor": "white",
            "ticks": ""
           }
          },
          "title": {
           "x": 0.05
          },
          "xaxis": {
           "automargin": true,
           "gridcolor": "white",
           "linecolor": "white",
           "ticks": "",
           "title": {
            "standoff": 15
           },
           "zerolinecolor": "white",
           "zerolinewidth": 2
          },
          "yaxis": {
           "automargin": true,
           "gridcolor": "white",
           "linecolor": "white",
           "ticks": "",
           "title": {
            "standoff": 15
           },
           "zerolinecolor": "white",
           "zerolinewidth": 2
          }
         }
        },
        "title": {
         "text": "<b>Top 25 Heroes Network</b>"
        },
        "xaxis": {
         "showgrid": false,
         "showticklabels": false,
         "zeroline": false
        },
        "yaxis": {
         "showgrid": false,
         "showticklabels": false,
         "zeroline": false
        }
       }
      }
     },
     "metadata": {},
     "output_type": "display_data"
    }
   ],
   "source": [
    "\n",
    "HERO_COLOR = {\n",
    "    'CAPTAIN AMERICA':'darkblue',\n",
    "    'IRON MAN':'gold',\n",
    "    'SPIDER-MAN':'darkred',\n",
    "    'HULK':'forestgreen',\n",
    "    'THOR':'lightblue',\n",
    "    'DR. STRANGE':'purple'\n",
    "}\n",
    "\n",
    "# Make network\n",
    "## Initialize graph\n",
    "## - https://towardsdatascience.com/tutorial-network-visualization-basics-with-networkx-and-plotly-and-a-little-nlp-57c9bbb55bb9\n",
    "marvel_net = nx.Graph() \n",
    "for i, row in appto_df.iterrows():\n",
    "    marvel_net.add_edge(row['H1'], row['H2'], weight=row['CNT'])  # specify edge data\n",
    "\n",
    "## - Inference\n",
    "# aspl = nx.average_shortest_path_length(marvel_net) # no weight\n",
    "# adgr = sum(dict(marvel_net.degree()).values())/float(len(marvel_net)) # no weight\n",
    "        \n",
    "# Visualization\n",
    "## Get positions for the nodes in network\n",
    "# pos_ = nx.kamada_kawai_layout(marvel_net) # sample layout : spring_layout ...\n",
    "pos_ = nx.spring_layout(marvel_net, seed=11)\n",
    "cent_ = nx.pagerank(marvel_net, weight='weight') # page rank\n",
    "cent_top = sorted(cent_.items(), key=lambda item: item[1], reverse=True)[:1] # page rank top 1\n",
    "\n",
    "## Custom function to create an edge between node x and node y, with a given text and width\n",
    "def make_edge(x, y, text, width):\n",
    "    return  go.Scatter(x=x, y=y, line=dict(width=width, color='lightgray'), hoverinfo='text', text=([text]), mode='lines')\n",
    "\n",
    "## For each edge, make an edge_trace, append to list\n",
    "edge_trace = []\n",
    "for edge in marvel_net.edges():    \n",
    "    if marvel_net.edges()[edge]['weight'] > 0:\n",
    "        char_1 = edge[0]\n",
    "        char_2 = edge[1]\n",
    "        x0, y0 = pos_[char_1]\n",
    "        x1, y1 = pos_[char_2]\n",
    "        trace  = make_edge([x0, x1, None], [y0, y1, None], None, width=5*(marvel_net.edges()[edge]['weight']/appto_df['CNT'].max()))\n",
    "        edge_trace.append(trace)\n",
    "                \n",
    "## Make a node trace\n",
    "node_trace = go.Scatter(x=[], y=[], text=[], textposition=\"top center\", textfont_size=10, mode='markers+text', hoverinfo='none',\n",
    "                        marker=dict(color=[], size=[], line_width=[], line_color=[]))\n",
    "\n",
    "## For each node in network, get the position and size and add to the node_trace\n",
    "for node in marvel_net.nodes():\n",
    "    x, y = pos_[node]\n",
    "    node_trace['x'] += tuple([x])\n",
    "    node_trace['y'] += tuple([y])\n",
    "    color = 'gray'\n",
    "    line_width = 2\n",
    "    line_color = 'darkgray'\n",
    "    name_text = node\n",
    "    \n",
    "    if node in HERO_COLOR:\n",
    "        color = HERO_COLOR[node]; line_color='black';\n",
    "        \n",
    "    if node in [v[0] for v in cent_top]:\n",
    "        name_text = '<b>' + node + '</b>'\n",
    "        \n",
    "    node_trace['marker']['color'] += tuple([color])\n",
    "    node_trace['marker']['size'] += tuple([int(400*cent_[node])]) # node size is proportional to page rank\n",
    "    node_trace['marker']['line_width'] += tuple([line_width])\n",
    "    node_trace['marker']['line_color'] += tuple([line_color])\n",
    "    node_trace['text'] += tuple([name_text])\n",
    "    \n",
    "    \n",
    "## Customize layout\n",
    "layout = go.Layout(\n",
    "    paper_bgcolor='rgba(0,0,0,0)', # transparent background\n",
    "    plot_bgcolor='rgba(0,0,0,0)', # transparent 2nd background\n",
    "    xaxis =  {'showgrid': False, 'zeroline': False}, # no gridlines\n",
    "    yaxis = {'showgrid': False, 'zeroline': False}, # no gridlines\n",
    ")\n",
    "\n",
    "## Create figure\n",
    "fig = go.Figure(layout = layout)\n",
    "## Add all edge traces\n",
    "for trace in edge_trace:\n",
    "    fig.add_trace(trace)\n",
    "fig.add_trace(node_trace)\n",
    "fig.update_layout(showlegend = False)\n",
    "fig.update_xaxes(showticklabels = False)\n",
    "fig.update_yaxes(showticklabels = False)\n",
    "fig.update_layout(title=f\"<b>Top {topn} Heroes Network</b>\")\n",
    "fig.show()"
   ]
  },
  {
   "cell_type": "code",
   "execution_count": null,
   "metadata": {},
   "outputs": [],
   "source": []
  }
 ],
 "metadata": {
  "kernelspec": {
   "display_name": "base",
   "language": "python",
   "name": "python3"
  },
  "language_info": {
   "codemirror_mode": {
    "name": "ipython",
    "version": 3
   },
   "file_extension": ".py",
   "mimetype": "text/x-python",
   "name": "python",
   "nbconvert_exporter": "python",
   "pygments_lexer": "ipython3",
   "version": "3.9.13"
  },
  "orig_nbformat": 4
 },
 "nbformat": 4,
 "nbformat_minor": 2
}
